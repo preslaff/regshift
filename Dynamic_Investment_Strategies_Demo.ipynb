{
 "cells": [
  {
   "cell_type": "markdown",
   "metadata": {},
   "source": [
    "# Dynamic Investment Strategies with Market Regimes\n",
    "\n",
    "## Overview\n",
    "\n",
    "This notebook demonstrates a comprehensive Python-based solution for **Dynamic Investment Strategies with Market Regimes**. The system dynamically adjusts portfolio allocations based on predicted market regimes, improving upon traditional Modern Portfolio Theory (MPT) by addressing its sensitivity to static input assumptions.\n",
    "\n",
    "### Key Features\n",
    "\n",
    "- **Regime Identification**: Automatically identifies market regimes using economic indicators\n",
    "- **Regime Forecasting**: Predicts future market regimes using machine learning\n",
    "- **Dynamic Portfolio Optimization**: Adjusts allocations based on regime predictions\n",
    "- **Multi-Horizon Analysis**: Tests strategy robustness across different time periods\n",
    "- **Real Economic Data**: Integrates with FRED API for authentic economic indicators\n",
    "\n",
    "### Architecture Overview\n",
    "\n",
    "The system follows a 5-stage architecture:\n",
    "\n",
    "1. **Historical Regime Identification** (Unsupervised Learning)\n",
    "2. **Regime Forecasting** (Supervised Learning)\n",
    "3. **Regime-Conditional Capital Market Assumptions**\n",
    "4. **Portfolio Optimization** (Modern Portfolio Theory)\n",
    "5. **Strategy Simulation** (Backtesting & Evaluation)"
   ]
  },
  {
   "cell_type": "markdown",
   "metadata": {},
   "source": [
    "## Setup and Installation\n",
    "\n",
    "First, let's import the necessary libraries and initialize our system:"
   ]
  },
  {
   "cell_type": "code",
   "execution_count": 1,
   "metadata": {},
   "outputs": [
    {
     "name": "stdout",
     "output_type": "stream",
     "text": [
      "✓ Libraries imported successfully\n",
      "Ready to demonstrate Dynamic Investment Strategies!\n"
     ]
    }
   ],
   "source": [
    "# Core imports\n",
    "import pandas as pd\n",
    "import numpy as np\n",
    "from datetime import datetime, timedelta\n",
    "import warnings\n",
    "warnings.filterwarnings('ignore')\n",
    "\n",
    "# Visualization\n",
    "import matplotlib.pyplot as plt\n",
    "import plotly.graph_objects as go\n",
    "from plotly.subplots import make_subplots\n",
    "import plotly.express as px\n",
    "\n",
    "# Our regime strategy system\n",
    "from src.regime_strategies.main import RegimeStrategyApp\n",
    "from src.regime_strategies.backtesting.visualization import PerformanceVisualizer\n",
    "\n",
    "print(\"✓ Libraries imported successfully\")\n",
    "print(\"Ready to demonstrate Dynamic Investment Strategies!\")"
   ]
  },
  {
   "cell_type": "markdown",
   "metadata": {},
   "source": [
    "## 1. Basic System Initialization\n",
    "\n",
    "Let's start by initializing our regime strategy application:"
   ]
  },
  {
   "cell_type": "code",
   "execution_count": 2,
   "metadata": {},
   "outputs": [
    {
     "name": "stderr",
     "output_type": "stream",
     "text": [
      "\u001b[32m2025-09-12 18:05:24\u001b[0m | \u001b[1mINFO    \u001b[0m | \u001b[36msrc.regime_strategies.utils.logger\u001b[0m:\u001b[36msetup_logger\u001b[0m:\u001b[36m60\u001b[0m - \u001b[1mLogger initialized with level: INFO\u001b[0m\n",
      "\u001b[32m2025-09-12 18:05:24\u001b[0m | \u001b[1mINFO    \u001b[0m | \u001b[36msrc.regime_strategies.main\u001b[0m:\u001b[36m__init__\u001b[0m:\u001b[36m45\u001b[0m - \u001b[1mInitialized Regime Strategy App - development mode\u001b[0m\n",
      "\u001b[32m2025-09-12 18:05:24\u001b[0m | \u001b[1mINFO    \u001b[0m | \u001b[36msrc.regime_strategies.models.regime_forecaster\u001b[0m:\u001b[36m_initialize_models\u001b[0m:\u001b[36m173\u001b[0m - \u001b[1mInitialized 2 forecasting models\u001b[0m\n"
     ]
    },
    {
     "name": "stdout",
     "output_type": "stream",
     "text": [
      "System Configuration:\n",
      "- Regime Identification Method: investment_clock\n",
      "- Default Optimization Method: max_sharpe\n",
      "- Forecasting Models: ['random_forest', 'logistic_regression']\n",
      "- FRED API Configured: No (using synthetic data)\n"
     ]
    }
   ],
   "source": [
    "# Initialize the regime strategy system\n",
    "app = RegimeStrategyApp()\n",
    "\n",
    "print(\"System Configuration:\")\n",
    "print(f\"- Regime Identification Method: {app.config.regime.regime_method}\")\n",
    "print(f\"- Default Optimization Method: {app.config.optimization.default_method}\")\n",
    "print(f\"- Forecasting Models: {app.config.regime.forecasting_models}\")\n",
    "print(f\"- FRED API Configured: {'Yes' if app.config.data.fred_api_key else 'No (using synthetic data)'}\")"
   ]
  },
  {
   "cell_type": "markdown",
   "metadata": {},
   "source": [
    "## 2. Regime-Aware Strategy Backtest\n",
    "\n",
    "Now let's run a comprehensive backtest using our regime-aware strategy. This example demonstrates how the system:\n",
    "\n",
    "1. Identifies historical market regimes using economic indicators\n",
    "2. Trains machine learning models to forecast future regimes  \n",
    "3. Dynamically optimizes portfolio weights based on regime predictions\n",
    "4. Compares performance against static MPT benchmarks"
   ]
  },
  {
   "cell_type": "code",
   "execution_count": 3,
   "metadata": {},
   "outputs": [
    {
     "name": "stderr",
     "output_type": "stream",
     "text": [
      "\u001b[32m2025-09-12 18:05:24\u001b[0m | \u001b[1mINFO    \u001b[0m | \u001b[36msrc.regime_strategies.main\u001b[0m:\u001b[36mrun_backtest\u001b[0m:\u001b[36m82\u001b[0m - \u001b[1mStarting backtest: 2022-01-01 to 2022-12-31\u001b[0m\n",
      "\u001b[32m2025-09-12 18:05:24\u001b[0m | \u001b[1mINFO    \u001b[0m | \u001b[36msrc.regime_strategies.backtesting.backtest_engine\u001b[0m:\u001b[36mrun_backtest\u001b[0m:\u001b[36m116\u001b[0m - \u001b[1mStarting backtest: 2022-01-01 00:00:00 to 2022-12-31 00:00:00\u001b[0m\n",
      "\u001b[32m2025-09-12 18:05:24\u001b[0m | \u001b[1mINFO    \u001b[0m | \u001b[36msrc.regime_strategies.backtesting.backtest_engine\u001b[0m:\u001b[36m_load_backtest_data\u001b[0m:\u001b[36m147\u001b[0m - \u001b[1mLoading backtest data\u001b[0m\n",
      "\u001b[32m2025-09-12 18:05:24\u001b[0m | \u001b[1mINFO    \u001b[0m | \u001b[36msrc.regime_strategies.data.data_loader\u001b[0m:\u001b[36mload_market_data\u001b[0m:\u001b[36m139\u001b[0m - \u001b[1mLoading market data for 3 assets from 2020-01-02 to 2022-12-31\u001b[0m\n",
      "\u001b[32m2025-09-12 18:05:24\u001b[0m | \u001b[1mINFO    \u001b[0m | \u001b[36msrc.regime_strategies.data.market_data\u001b[0m:\u001b[36mget_price_data\u001b[0m:\u001b[36m72\u001b[0m - \u001b[1mLoading price data for 3 symbols from 2020-01-02 to 2022-12-31\u001b[0m\n"
     ]
    },
    {
     "name": "stdout",
     "output_type": "stream",
     "text": [
      "Running regime-aware backtest...\n",
      "Assets: ['SPY', 'TLT', 'GLD']\n",
      "Period: 2022-01-01 to 2022-12-31\n",
      "\n"
     ]
    },
    {
     "name": "stderr",
     "output_type": "stream",
     "text": [
      "[*********************100%***********************]  3 of 3 completed\n",
      "\u001b[32m2025-09-12 18:05:26\u001b[0m | \u001b[1mINFO    \u001b[0m | \u001b[36msrc.regime_strategies.data.market_data\u001b[0m:\u001b[36mget_price_data\u001b[0m:\u001b[36m80\u001b[0m - \u001b[1mLoaded price data from Yahoo Finance. Shape: (756, 3)\u001b[0m\n",
      "\u001b[32m2025-09-12 18:05:26\u001b[0m | \u001b[1mINFO    \u001b[0m | \u001b[36msrc.regime_strategies.utils.data_utils\u001b[0m:\u001b[36mclean_returns\u001b[0m:\u001b[36m138\u001b[0m - \u001b[1mWinsorized 16 extreme values\u001b[0m\n",
      "\u001b[32m2025-09-12 18:05:26\u001b[0m | \u001b[1mINFO    \u001b[0m | \u001b[36msrc.regime_strategies.utils.data_utils\u001b[0m:\u001b[36mclean_returns\u001b[0m:\u001b[36m138\u001b[0m - \u001b[1mWinsorized 16 extreme values\u001b[0m\n",
      "\u001b[32m2025-09-12 18:05:26\u001b[0m | \u001b[1mINFO    \u001b[0m | \u001b[36msrc.regime_strategies.utils.data_utils\u001b[0m:\u001b[36mclean_returns\u001b[0m:\u001b[36m138\u001b[0m - \u001b[1mWinsorized 16 extreme values\u001b[0m\n",
      "\u001b[32m2025-09-12 18:05:26\u001b[0m | \u001b[1mINFO    \u001b[0m | \u001b[36msrc.regime_strategies.data.market_data\u001b[0m:\u001b[36mcalculate_returns\u001b[0m:\u001b[36m136\u001b[0m - \u001b[1mCalculated simple returns. Shape: (755, 3)\u001b[0m\n",
      "\u001b[32m2025-09-12 18:05:26\u001b[0m | \u001b[1mINFO    \u001b[0m | \u001b[36msrc.regime_strategies.data.market_data\u001b[0m:\u001b[36mget_vix_data\u001b[0m:\u001b[36m170\u001b[0m - \u001b[1mLoading VIX data from 2020-01-02 to 2022-12-31\u001b[0m\n",
      "\u001b[32m2025-09-12 18:05:26\u001b[0m | \u001b[1mINFO    \u001b[0m | \u001b[36msrc.regime_strategies.data.market_data\u001b[0m:\u001b[36mget_vix_data\u001b[0m:\u001b[36m186\u001b[0m - \u001b[1mLoaded VIX data from Yahoo Finance. Shape: (756, 1)\u001b[0m\n",
      "\u001b[32m2025-09-12 18:05:26\u001b[0m | \u001b[1mINFO    \u001b[0m | \u001b[36msrc.regime_strategies.utils.data_utils\u001b[0m:\u001b[36mvalidate_data\u001b[0m:\u001b[36m50\u001b[0m - \u001b[1mData validation completed. Shape: (755, 4)\u001b[0m\n",
      "\u001b[32m2025-09-12 18:05:26\u001b[0m | \u001b[1mINFO    \u001b[0m | \u001b[36msrc.regime_strategies.data.data_loader\u001b[0m:\u001b[36mload_market_data\u001b[0m:\u001b[36m163\u001b[0m - \u001b[1mLoaded market data. Shape: (755, 4)\u001b[0m\n",
      "\u001b[32m2025-09-12 18:05:26\u001b[0m | \u001b[1mINFO    \u001b[0m | \u001b[36msrc.regime_strategies.data.data_loader\u001b[0m:\u001b[36mload_economic_indicators\u001b[0m:\u001b[36m73\u001b[0m - \u001b[1mLoading economic indicators from 2020-01-02 to 2022-12-31\u001b[0m\n",
      "\u001b[32m2025-09-12 18:05:26\u001b[0m | \u001b[1mINFO    \u001b[0m | \u001b[36msrc.regime_strategies.data.economic_data\u001b[0m:\u001b[36mget_cpi_data\u001b[0m:\u001b[36m79\u001b[0m - \u001b[1mLoading CPI data from 2020-01-02 to 2022-12-31\u001b[0m\n",
      "\u001b[32m2025-09-12 18:05:26\u001b[0m | \u001b[33m\u001b[1mWARNING \u001b[0m | \u001b[36msrc.regime_strategies.data.economic_data\u001b[0m:\u001b[36m_generate_synthetic_cpi_data\u001b[0m:\u001b[36m265\u001b[0m - \u001b[33m\u001b[1mGenerating synthetic CPI data - for testing only!\u001b[0m\n",
      "\u001b[32m2025-09-12 18:05:26\u001b[0m | \u001b[1mINFO    \u001b[0m | \u001b[36msrc.regime_strategies.data.economic_data\u001b[0m:\u001b[36mget_cli_data\u001b[0m:\u001b[36m140\u001b[0m - \u001b[1mLoading CLI data from 2020-01-02 to 2022-12-31\u001b[0m\n",
      "\u001b[32m2025-09-12 18:05:26\u001b[0m | \u001b[33m\u001b[1mWARNING \u001b[0m | \u001b[36msrc.regime_strategies.data.economic_data\u001b[0m:\u001b[36m_generate_synthetic_cli_data\u001b[0m:\u001b[36m288\u001b[0m - \u001b[33m\u001b[1mGenerating synthetic CLI data - for testing only!\u001b[0m\n",
      "\u001b[32m2025-09-12 18:05:26\u001b[0m | \u001b[1mINFO    \u001b[0m | \u001b[36msrc.regime_strategies.utils.data_utils\u001b[0m:\u001b[36malign_data\u001b[0m:\u001b[36m93\u001b[0m - \u001b[1mAligned 2 dataframes using inner join. Result shape: (36, 1)\u001b[0m\n",
      "\u001b[32m2025-09-12 18:05:26\u001b[0m | \u001b[33m\u001b[1mWARNING \u001b[0m | \u001b[36msrc.regime_strategies.utils.data_utils\u001b[0m:\u001b[36mvalidate_data\u001b[0m:\u001b[36m40\u001b[0m - \u001b[33m\u001b[1mData contains NaN values\u001b[0m\n",
      "\u001b[32m2025-09-12 18:05:26\u001b[0m | \u001b[33m\u001b[1mWARNING \u001b[0m | \u001b[36msrc.regime_strategies.utils.data_utils\u001b[0m:\u001b[36mvalidate_data\u001b[0m:\u001b[36m43\u001b[0m - \u001b[33m\u001b[1mNaN counts by column: {'CPI_quarterly': 3, 'CPI_ma36': 35, 'CPI_signal': 36, 'CLI_change3m': 3, 'CLI_signal': 3}\u001b[0m\n",
      "\u001b[32m2025-09-12 18:05:26\u001b[0m | \u001b[1mINFO    \u001b[0m | \u001b[36msrc.regime_strategies.utils.data_utils\u001b[0m:\u001b[36mvalidate_data\u001b[0m:\u001b[36m50\u001b[0m - \u001b[1mData validation completed. Shape: (36, 7)\u001b[0m\n",
      "\u001b[32m2025-09-12 18:05:26\u001b[0m | \u001b[1mINFO    \u001b[0m | \u001b[36msrc.regime_strategies.data.data_loader\u001b[0m:\u001b[36mload_economic_indicators\u001b[0m:\u001b[36m101\u001b[0m - \u001b[1mLoaded economic indicators. Shape: (36, 7)\u001b[0m\n",
      "\u001b[32m2025-09-12 18:05:26\u001b[0m | \u001b[1mINFO    \u001b[0m | \u001b[36msrc.regime_strategies.data.market_data\u001b[0m:\u001b[36mget_price_data\u001b[0m:\u001b[36m72\u001b[0m - \u001b[1mLoading price data for 1 symbols from 2020-01-02 to 2022-12-31\u001b[0m\n",
      "[*********************100%***********************]  1 of 1 completed\n",
      "\u001b[32m2025-09-12 18:05:26\u001b[0m | \u001b[1mINFO    \u001b[0m | \u001b[36msrc.regime_strategies.data.market_data\u001b[0m:\u001b[36mget_price_data\u001b[0m:\u001b[36m80\u001b[0m - \u001b[1mLoaded price data from Yahoo Finance. Shape: (756, 1)\u001b[0m\n",
      "\u001b[32m2025-09-12 18:05:26\u001b[0m | \u001b[1mINFO    \u001b[0m | \u001b[36msrc.regime_strategies.utils.data_utils\u001b[0m:\u001b[36mclean_returns\u001b[0m:\u001b[36m138\u001b[0m - \u001b[1mWinsorized 16 extreme values\u001b[0m\n",
      "\u001b[32m2025-09-12 18:05:26\u001b[0m | \u001b[1mINFO    \u001b[0m | \u001b[36msrc.regime_strategies.data.market_data\u001b[0m:\u001b[36mcalculate_returns\u001b[0m:\u001b[36m136\u001b[0m - \u001b[1mCalculated simple returns. Shape: (755, 1)\u001b[0m\n",
      "\u001b[32m2025-09-12 18:05:26\u001b[0m | \u001b[1mINFO    \u001b[0m | \u001b[36msrc.regime_strategies.optimization.portfolio_optimizer\u001b[0m:\u001b[36moptimize\u001b[0m:\u001b[36m640\u001b[0m - \u001b[1mOptimizing portfolio using max_sharpe method\u001b[0m\n",
      "\u001b[32m2025-09-12 18:05:26\u001b[0m | \u001b[33m\u001b[1mWARNING \u001b[0m | \u001b[36msrc.regime_strategies.optimization.portfolio_optimizer\u001b[0m:\u001b[36m_optimize_cvxpy\u001b[0m:\u001b[36m149\u001b[0m - \u001b[33m\u001b[1mAll CVXPY solvers failed, falling back to scipy\u001b[0m\n",
      "\u001b[32m2025-09-12 18:05:26\u001b[0m | \u001b[1mINFO    \u001b[0m | \u001b[36msrc.regime_strategies.optimization.portfolio_optimizer\u001b[0m:\u001b[36m_log_optimization_results\u001b[0m:\u001b[36m744\u001b[0m - \u001b[1mOptimization completed: max_sharpe_scipy | Status: optimal | Return: 0.0540 | Vol: 0.1190 | Sharpe: 0.2859\u001b[0m\n",
      "\u001b[32m2025-09-12 18:05:26\u001b[0m | \u001b[1mINFO    \u001b[0m | \u001b[36msrc.regime_strategies.backtesting.backtest_engine\u001b[0m:\u001b[36m_calculate_static_mpt_weights\u001b[0m:\u001b[36m541\u001b[0m - \u001b[1mStatic MPT benchmark weights calculated: Return=0.054, Vol=0.119, Sharpe=0.286\u001b[0m\n",
      "\u001b[32m2025-09-12 18:05:26\u001b[0m | \u001b[1mINFO    \u001b[0m | \u001b[36msrc.regime_strategies.backtesting.backtest_engine\u001b[0m:\u001b[36m_load_backtest_data\u001b[0m:\u001b[36m184\u001b[0m - \u001b[1mLoaded data: 755 market observations, 36 economic observations\u001b[0m\n",
      "\u001b[32m2025-09-12 18:05:26\u001b[0m | \u001b[1mINFO    \u001b[0m | \u001b[36msrc.regime_strategies.backtesting.backtest_engine\u001b[0m:\u001b[36m_fit_regime_models\u001b[0m:\u001b[36m189\u001b[0m - \u001b[1mFitting regime models\u001b[0m\n",
      "\u001b[32m2025-09-12 18:05:26\u001b[0m | \u001b[1mINFO    \u001b[0m | \u001b[36msrc.regime_strategies.models.regime_identifier\u001b[0m:\u001b[36mfit\u001b[0m:\u001b[36m353\u001b[0m - \u001b[1mFitting regime identifier using investment_clock method\u001b[0m\n",
      "\u001b[32m2025-09-12 18:05:26\u001b[0m | \u001b[1mINFO    \u001b[0m | \u001b[36msrc.regime_strategies.models.regime_identifier\u001b[0m:\u001b[36midentify_regimes\u001b[0m:\u001b[36m62\u001b[0m - \u001b[1mIdentifying regimes using Investment Clock methodology\u001b[0m\n",
      "\u001b[32m2025-09-12 18:05:26\u001b[0m | \u001b[1mINFO    \u001b[0m | \u001b[36msrc.regime_strategies.models.regime_identifier\u001b[0m:\u001b[36midentify_regimes\u001b[0m:\u001b[36m98\u001b[0m - \u001b[1mSlowing: 26 periods (72.2%)\u001b[0m\n",
      "\u001b[32m2025-09-12 18:05:26\u001b[0m | \u001b[1mINFO    \u001b[0m | \u001b[36msrc.regime_strategies.models.regime_identifier\u001b[0m:\u001b[36midentify_regimes\u001b[0m:\u001b[36m98\u001b[0m - \u001b[1mGrowing: 10 periods (27.8%)\u001b[0m\n",
      "\u001b[32m2025-09-12 18:05:26\u001b[0m | \u001b[1mINFO    \u001b[0m | \u001b[36msrc.regime_strategies.models.regime_identifier\u001b[0m:\u001b[36mfit\u001b[0m:\u001b[36m378\u001b[0m - \u001b[1mRegime identification completed. Total regimes identified: 36\u001b[0m\n",
      "\u001b[32m2025-09-12 18:05:26\u001b[0m | \u001b[1mINFO    \u001b[0m | \u001b[36msrc.regime_strategies.models.cma_calculator\u001b[0m:\u001b[36mfit\u001b[0m:\u001b[36m67\u001b[0m - \u001b[1mFitting regime-conditional CMAs\u001b[0m\n",
      "\u001b[32m2025-09-12 18:05:26\u001b[0m | \u001b[1mINFO    \u001b[0m | \u001b[36msrc.regime_strategies.utils.data_utils\u001b[0m:\u001b[36mclean_returns\u001b[0m:\u001b[36m138\u001b[0m - \u001b[1mWinsorized 2 extreme values\u001b[0m\n",
      "\u001b[32m2025-09-12 18:05:26\u001b[0m | \u001b[1mINFO    \u001b[0m | \u001b[36msrc.regime_strategies.utils.data_utils\u001b[0m:\u001b[36mclean_returns\u001b[0m:\u001b[36m138\u001b[0m - \u001b[1mWinsorized 2 extreme values\u001b[0m\n",
      "\u001b[32m2025-09-12 18:05:26\u001b[0m | \u001b[1mINFO    \u001b[0m | \u001b[36msrc.regime_strategies.utils.data_utils\u001b[0m:\u001b[36mclean_returns\u001b[0m:\u001b[36m138\u001b[0m - \u001b[1mWinsorized 2 extreme values\u001b[0m\n",
      "\u001b[32m2025-09-12 18:05:26\u001b[0m | \u001b[33m\u001b[1mWARNING \u001b[0m | \u001b[36msrc.regime_strategies.models.cma_calculator\u001b[0m:\u001b[36mfit\u001b[0m:\u001b[36m92\u001b[0m - \u001b[33m\u001b[1mInsufficient observations for regime 0.0: 18 < 30. Using unconditional CMA.\u001b[0m\n",
      "\u001b[32m2025-09-12 18:05:26\u001b[0m | \u001b[33m\u001b[1mWARNING \u001b[0m | \u001b[36msrc.regime_strategies.models.cma_calculator\u001b[0m:\u001b[36mfit\u001b[0m:\u001b[36m92\u001b[0m - \u001b[33m\u001b[1mInsufficient observations for regime 2.0: 7 < 30. Using unconditional CMA.\u001b[0m\n",
      "\u001b[32m2025-09-12 18:05:26\u001b[0m | \u001b[33m\u001b[1mWARNING \u001b[0m | \u001b[36msrc.regime_strategies.models.cma_calculator\u001b[0m:\u001b[36m_validate_cmas\u001b[0m:\u001b[36m394\u001b[0m - \u001b[33m\u001b[1mRegime 0.0: Unrealistic expected returns\u001b[0m\n",
      "\u001b[32m2025-09-12 18:05:26\u001b[0m | \u001b[33m\u001b[1mWARNING \u001b[0m | \u001b[36msrc.regime_strategies.models.cma_calculator\u001b[0m:\u001b[36m_validate_cmas\u001b[0m:\u001b[36m394\u001b[0m - \u001b[33m\u001b[1mRegime 2.0: Unrealistic expected returns\u001b[0m\n",
      "\u001b[32m2025-09-12 18:05:26\u001b[0m | \u001b[1mINFO    \u001b[0m | \u001b[36msrc.regime_strategies.models.cma_calculator\u001b[0m:\u001b[36m_log_cma_summary\u001b[0m:\u001b[36m400\u001b[0m - \u001b[1mCalculated CMAs for 2 regimes\u001b[0m\n",
      "\u001b[32m2025-09-12 18:05:26\u001b[0m | \u001b[1mINFO    \u001b[0m | \u001b[36msrc.regime_strategies.models.cma_calculator\u001b[0m:\u001b[36m_log_cma_summary\u001b[0m:\u001b[36m410\u001b[0m - \u001b[1mRegime 0.0: Avg return -30.79%, Avg volatility 16.14%, Observations: 18\u001b[0m\n",
      "\u001b[32m2025-09-12 18:05:26\u001b[0m | \u001b[1mINFO    \u001b[0m | \u001b[36msrc.regime_strategies.models.cma_calculator\u001b[0m:\u001b[36m_log_cma_summary\u001b[0m:\u001b[36m410\u001b[0m - \u001b[1mRegime 2.0: Avg return -30.79%, Avg volatility 16.14%, Observations: 7\u001b[0m\n",
      "\u001b[32m2025-09-12 18:05:26\u001b[0m | \u001b[1mINFO    \u001b[0m | \u001b[36msrc.regime_strategies.models.regime_forecaster\u001b[0m:\u001b[36mfit\u001b[0m:\u001b[36m196\u001b[0m - \u001b[1mFitting regime forecasting models\u001b[0m\n",
      "\u001b[32m2025-09-12 18:05:26\u001b[0m | \u001b[1mINFO    \u001b[0m | \u001b[36msrc.regime_strategies.models.regime_forecaster\u001b[0m:\u001b[36m_prepare_training_data\u001b[0m:\u001b[36m456\u001b[0m - \u001b[1mPrepared training data: 23 samples, 14 features\u001b[0m\n",
      "\u001b[32m2025-09-12 18:05:26\u001b[0m | \u001b[1mINFO    \u001b[0m | \u001b[36msrc.regime_strategies.models.regime_forecaster\u001b[0m:\u001b[36mfit\u001b[0m:\u001b[36m220\u001b[0m - \u001b[1mFitting random_forest model\u001b[0m\n",
      "\u001b[32m2025-09-12 18:05:27\u001b[0m | \u001b[1mINFO    \u001b[0m | \u001b[36msrc.regime_strategies.models.regime_forecaster\u001b[0m:\u001b[36mfit\u001b[0m:\u001b[36m236\u001b[0m - \u001b[1mrandom_forest validation accuracy: 0.800\u001b[0m\n",
      "\u001b[32m2025-09-12 18:05:27\u001b[0m | \u001b[1mINFO    \u001b[0m | \u001b[36msrc.regime_strategies.models.regime_forecaster\u001b[0m:\u001b[36mfit\u001b[0m:\u001b[36m220\u001b[0m - \u001b[1mFitting logistic_regression model\u001b[0m\n",
      "\u001b[32m2025-09-12 18:05:27\u001b[0m | \u001b[1mINFO    \u001b[0m | \u001b[36msrc.regime_strategies.models.regime_forecaster\u001b[0m:\u001b[36mfit\u001b[0m:\u001b[36m236\u001b[0m - \u001b[1mlogistic_regression validation accuracy: 0.800\u001b[0m\n",
      "\u001b[32m2025-09-12 18:05:27\u001b[0m | \u001b[1mINFO    \u001b[0m | \u001b[36msrc.regime_strategies.models.regime_forecaster\u001b[0m:\u001b[36mfit\u001b[0m:\u001b[36m65\u001b[0m - \u001b[1mNaive predictor fitted\u001b[0m\n",
      "\u001b[32m2025-09-12 18:05:27\u001b[0m | \u001b[1mINFO    \u001b[0m | \u001b[36msrc.regime_strategies.models.regime_forecaster\u001b[0m:\u001b[36mfit\u001b[0m:\u001b[36m248\u001b[0m - \u001b[1mNaive predictor validation accuracy: 0.800\u001b[0m\n",
      "\u001b[32m2025-09-12 18:05:27\u001b[0m | \u001b[1mINFO    \u001b[0m | \u001b[36msrc.regime_strategies.models.regime_forecaster\u001b[0m:\u001b[36m_create_ensemble_model\u001b[0m:\u001b[36m525\u001b[0m - \u001b[1mCreated ensemble model using voting method\u001b[0m\n",
      "\u001b[32m2025-09-12 18:05:27\u001b[0m | \u001b[1mINFO    \u001b[0m | \u001b[36msrc.regime_strategies.models.regime_forecaster\u001b[0m:\u001b[36mfit\u001b[0m:\u001b[36m259\u001b[0m - \u001b[1mEnsemble validation accuracy: 0.800\u001b[0m\n",
      "\u001b[32m2025-09-12 18:05:27\u001b[0m | \u001b[1mINFO    \u001b[0m | \u001b[36msrc.regime_strategies.models.regime_forecaster\u001b[0m:\u001b[36m_perform_cross_validation\u001b[0m:\u001b[36m558\u001b[0m - \u001b[1mrandom_forest CV accuracy: 0.667 (+/- 0.596)\u001b[0m\n",
      "\u001b[32m2025-09-12 18:05:27\u001b[0m | \u001b[1mINFO    \u001b[0m | \u001b[36msrc.regime_strategies.models.regime_forecaster\u001b[0m:\u001b[36m_perform_cross_validation\u001b[0m:\u001b[36m558\u001b[0m - \u001b[1mlogistic_regression CV accuracy: 0.800 (+/- 0.533)\u001b[0m\n",
      "\u001b[32m2025-09-12 18:05:27\u001b[0m | \u001b[1mINFO    \u001b[0m | \u001b[36msrc.regime_strategies.models.regime_forecaster\u001b[0m:\u001b[36mfit\u001b[0m:\u001b[36m264\u001b[0m - \u001b[1mRegime forecasting models fitted successfully\u001b[0m\n",
      "\u001b[32m2025-09-12 18:05:27\u001b[0m | \u001b[1mINFO    \u001b[0m | \u001b[36msrc.regime_strategies.backtesting.backtest_engine\u001b[0m:\u001b[36m_fit_regime_models\u001b[0m:\u001b[36m216\u001b[0m - \u001b[1mRegime models fitted successfully\u001b[0m\n",
      "\u001b[32m2025-09-12 18:05:27\u001b[0m | \u001b[1mINFO    \u001b[0m | \u001b[36msrc.regime_strategies.backtesting.backtest_engine\u001b[0m:\u001b[36m_run_simulation_loop\u001b[0m:\u001b[36m224\u001b[0m - \u001b[1mStarting simulation loop\u001b[0m\n",
      "\u001b[32m2025-09-12 18:05:27\u001b[0m | \u001b[1mINFO    \u001b[0m | \u001b[36msrc.regime_strategies.data.data_loader\u001b[0m:\u001b[36mload_forecasting_features\u001b[0m:\u001b[36m191\u001b[0m - \u001b[1mLoading forecasting features for 2022-01-31 00:00:00\u001b[0m\n",
      "\u001b[32m2025-09-12 18:05:27\u001b[0m | \u001b[1mINFO    \u001b[0m | \u001b[36msrc.regime_strategies.data.data_loader\u001b[0m:\u001b[36mload_market_data\u001b[0m:\u001b[36m139\u001b[0m - \u001b[1mLoading market data for 5 assets from 2000-01-01 to 2022-01-31\u001b[0m\n",
      "\u001b[32m2025-09-12 18:05:27\u001b[0m | \u001b[1mINFO    \u001b[0m | \u001b[36msrc.regime_strategies.data.market_data\u001b[0m:\u001b[36mget_price_data\u001b[0m:\u001b[36m72\u001b[0m - \u001b[1mLoading price data for 5 symbols from 2000-01-01 to 2022-01-31\u001b[0m\n",
      "[*********************100%***********************]  5 of 5 completed\n",
      "\u001b[32m2025-09-12 18:05:28\u001b[0m | \u001b[1mINFO    \u001b[0m | \u001b[36msrc.regime_strategies.data.market_data\u001b[0m:\u001b[36mget_price_data\u001b[0m:\u001b[36m80\u001b[0m - \u001b[1mLoaded price data from Yahoo Finance. Shape: (5555, 5)\u001b[0m\n",
      "\u001b[32m2025-09-12 18:05:28\u001b[0m | \u001b[1mINFO    \u001b[0m | \u001b[36msrc.regime_strategies.utils.data_utils\u001b[0m:\u001b[36mclean_returns\u001b[0m:\u001b[36m138\u001b[0m - \u001b[1mWinsorized 88 extreme values\u001b[0m\n",
      "\u001b[32m2025-09-12 18:05:28\u001b[0m | \u001b[1mINFO    \u001b[0m | \u001b[36msrc.regime_strategies.utils.data_utils\u001b[0m:\u001b[36mclean_returns\u001b[0m:\u001b[36m138\u001b[0m - \u001b[1mWinsorized 88 extreme values\u001b[0m\n",
      "\u001b[32m2025-09-12 18:05:28\u001b[0m | \u001b[1mINFO    \u001b[0m | \u001b[36msrc.regime_strategies.utils.data_utils\u001b[0m:\u001b[36mclean_returns\u001b[0m:\u001b[36m138\u001b[0m - \u001b[1mWinsorized 88 extreme values\u001b[0m\n",
      "\u001b[32m2025-09-12 18:05:28\u001b[0m | \u001b[1mINFO    \u001b[0m | \u001b[36msrc.regime_strategies.utils.data_utils\u001b[0m:\u001b[36mclean_returns\u001b[0m:\u001b[36m138\u001b[0m - \u001b[1mWinsorized 88 extreme values\u001b[0m\n",
      "\u001b[32m2025-09-12 18:05:28\u001b[0m | \u001b[1mINFO    \u001b[0m | \u001b[36msrc.regime_strategies.utils.data_utils\u001b[0m:\u001b[36mclean_returns\u001b[0m:\u001b[36m138\u001b[0m - \u001b[1mWinsorized 88 extreme values\u001b[0m\n",
      "\u001b[32m2025-09-12 18:05:28\u001b[0m | \u001b[1mINFO    \u001b[0m | \u001b[36msrc.regime_strategies.data.market_data\u001b[0m:\u001b[36mcalculate_returns\u001b[0m:\u001b[36m136\u001b[0m - \u001b[1mCalculated simple returns. Shape: (4328, 5)\u001b[0m\n",
      "\u001b[32m2025-09-12 18:05:28\u001b[0m | \u001b[1mINFO    \u001b[0m | \u001b[36msrc.regime_strategies.data.market_data\u001b[0m:\u001b[36mget_vix_data\u001b[0m:\u001b[36m170\u001b[0m - \u001b[1mLoading VIX data from 2000-01-01 to 2022-01-31\u001b[0m\n",
      "\u001b[32m2025-09-12 18:05:29\u001b[0m | \u001b[1mINFO    \u001b[0m | \u001b[36msrc.regime_strategies.data.market_data\u001b[0m:\u001b[36mget_vix_data\u001b[0m:\u001b[36m186\u001b[0m - \u001b[1mLoaded VIX data from Yahoo Finance. Shape: (5555, 1)\u001b[0m\n",
      "\u001b[32m2025-09-12 18:05:29\u001b[0m | \u001b[1mINFO    \u001b[0m | \u001b[36msrc.regime_strategies.utils.data_utils\u001b[0m:\u001b[36mvalidate_data\u001b[0m:\u001b[36m50\u001b[0m - \u001b[1mData validation completed. Shape: (4328, 6)\u001b[0m\n",
      "\u001b[32m2025-09-12 18:05:29\u001b[0m | \u001b[1mINFO    \u001b[0m | \u001b[36msrc.regime_strategies.data.data_loader\u001b[0m:\u001b[36mload_market_data\u001b[0m:\u001b[36m163\u001b[0m - \u001b[1mLoaded market data. Shape: (4328, 6)\u001b[0m\n",
      "\u001b[32m2025-09-12 18:05:29\u001b[0m | \u001b[1mINFO    \u001b[0m | \u001b[36msrc.regime_strategies.data.data_loader\u001b[0m:\u001b[36mload_forecasting_features\u001b[0m:\u001b[36m230\u001b[0m - \u001b[1mLoaded forecasting features. Shape: (4328, 9)\u001b[0m\n",
      "\u001b[32m2025-09-12 18:05:29\u001b[0m | \u001b[1mINFO    \u001b[0m | \u001b[36msrc.regime_strategies.models.regime_forecaster\u001b[0m:\u001b[36mforecast_regime\u001b[0m:\u001b[36m368\u001b[0m - \u001b[1mForecasting regime for 2022-01-31 00:00:00 (horizon: 1)\u001b[0m\n",
      "\u001b[32m2025-09-12 18:05:29\u001b[0m | \u001b[33m\u001b[1mWARNING \u001b[0m | \u001b[36msrc.regime_strategies.models.regime_forecaster\u001b[0m:\u001b[36m_prepare_prediction_features\u001b[0m:\u001b[36m481\u001b[0m - \u001b[33m\u001b[1mFeature mismatch detected. Training: 14, Prediction: 9\u001b[0m\n",
      "\u001b[32m2025-09-12 18:05:29\u001b[0m | \u001b[33m\u001b[1mWARNING \u001b[0m | \u001b[36msrc.regime_strategies.models.regime_forecaster\u001b[0m:\u001b[36m_prepare_prediction_features\u001b[0m:\u001b[36m481\u001b[0m - \u001b[33m\u001b[1mFeature mismatch detected. Training: 14, Prediction: 9\u001b[0m\n",
      "\u001b[32m2025-09-12 18:05:29\u001b[0m | \u001b[1mINFO    \u001b[0m | \u001b[36msrc.regime_strategies.optimization.portfolio_optimizer\u001b[0m:\u001b[36moptimize\u001b[0m:\u001b[36m640\u001b[0m - \u001b[1mOptimizing portfolio using max_sharpe method\u001b[0m\n",
      "\u001b[32m2025-09-12 18:05:29\u001b[0m | \u001b[33m\u001b[1mWARNING \u001b[0m | \u001b[36msrc.regime_strategies.optimization.portfolio_optimizer\u001b[0m:\u001b[36m_optimize_cvxpy\u001b[0m:\u001b[36m149\u001b[0m - \u001b[33m\u001b[1mAll CVXPY solvers failed, falling back to scipy\u001b[0m\n",
      "\u001b[32m2025-09-12 18:05:29\u001b[0m | \u001b[1mINFO    \u001b[0m | \u001b[36msrc.regime_strategies.optimization.portfolio_optimizer\u001b[0m:\u001b[36m_log_optimization_results\u001b[0m:\u001b[36m744\u001b[0m - \u001b[1mOptimization completed: max_sharpe_scipy | Status: optimal | Return: -0.2287 | Vol: 0.1046 | Sharpe: -2.3784\u001b[0m\n",
      "\u001b[32m2025-09-12 18:05:29\u001b[0m | \u001b[1mINFO    \u001b[0m | \u001b[36msrc.regime_strategies.data.data_loader\u001b[0m:\u001b[36mload_forecasting_features\u001b[0m:\u001b[36m191\u001b[0m - \u001b[1mLoading forecasting features for 2022-02-28 00:00:00\u001b[0m\n",
      "\u001b[32m2025-09-12 18:05:29\u001b[0m | \u001b[1mINFO    \u001b[0m | \u001b[36msrc.regime_strategies.data.data_loader\u001b[0m:\u001b[36mload_market_data\u001b[0m:\u001b[36m139\u001b[0m - \u001b[1mLoading market data for 5 assets from 2000-01-01 to 2022-02-28\u001b[0m\n",
      "\u001b[32m2025-09-12 18:05:29\u001b[0m | \u001b[1mINFO    \u001b[0m | \u001b[36msrc.regime_strategies.data.market_data\u001b[0m:\u001b[36mget_price_data\u001b[0m:\u001b[36m72\u001b[0m - \u001b[1mLoading price data for 5 symbols from 2000-01-01 to 2022-02-28\u001b[0m\n",
      "[*********************100%***********************]  5 of 5 completed\n",
      "\u001b[32m2025-09-12 18:05:31\u001b[0m | \u001b[1mINFO    \u001b[0m | \u001b[36msrc.regime_strategies.data.market_data\u001b[0m:\u001b[36mget_price_data\u001b[0m:\u001b[36m80\u001b[0m - \u001b[1mLoaded price data from Yahoo Finance. Shape: (5574, 5)\u001b[0m\n",
      "\u001b[32m2025-09-12 18:05:31\u001b[0m | \u001b[1mINFO    \u001b[0m | \u001b[36msrc.regime_strategies.utils.data_utils\u001b[0m:\u001b[36mclean_returns\u001b[0m:\u001b[36m138\u001b[0m - \u001b[1mWinsorized 88 extreme values\u001b[0m\n",
      "\u001b[32m2025-09-12 18:05:31\u001b[0m | \u001b[1mINFO    \u001b[0m | \u001b[36msrc.regime_strategies.utils.data_utils\u001b[0m:\u001b[36mclean_returns\u001b[0m:\u001b[36m138\u001b[0m - \u001b[1mWinsorized 88 extreme values\u001b[0m\n",
      "\u001b[32m2025-09-12 18:05:31\u001b[0m | \u001b[1mINFO    \u001b[0m | \u001b[36msrc.regime_strategies.utils.data_utils\u001b[0m:\u001b[36mclean_returns\u001b[0m:\u001b[36m138\u001b[0m - \u001b[1mWinsorized 88 extreme values\u001b[0m\n",
      "\u001b[32m2025-09-12 18:05:31\u001b[0m | \u001b[1mINFO    \u001b[0m | \u001b[36msrc.regime_strategies.utils.data_utils\u001b[0m:\u001b[36mclean_returns\u001b[0m:\u001b[36m138\u001b[0m - \u001b[1mWinsorized 88 extreme values\u001b[0m\n",
      "\u001b[32m2025-09-12 18:05:31\u001b[0m | \u001b[1mINFO    \u001b[0m | \u001b[36msrc.regime_strategies.utils.data_utils\u001b[0m:\u001b[36mclean_returns\u001b[0m:\u001b[36m138\u001b[0m - \u001b[1mWinsorized 88 extreme values\u001b[0m\n",
      "\u001b[32m2025-09-12 18:05:31\u001b[0m | \u001b[1mINFO    \u001b[0m | \u001b[36msrc.regime_strategies.data.market_data\u001b[0m:\u001b[36mcalculate_returns\u001b[0m:\u001b[36m136\u001b[0m - \u001b[1mCalculated simple returns. Shape: (4347, 5)\u001b[0m\n",
      "\u001b[32m2025-09-12 18:05:31\u001b[0m | \u001b[1mINFO    \u001b[0m | \u001b[36msrc.regime_strategies.data.market_data\u001b[0m:\u001b[36mget_vix_data\u001b[0m:\u001b[36m170\u001b[0m - \u001b[1mLoading VIX data from 2000-01-01 to 2022-02-28\u001b[0m\n",
      "\u001b[32m2025-09-12 18:05:31\u001b[0m | \u001b[1mINFO    \u001b[0m | \u001b[36msrc.regime_strategies.data.market_data\u001b[0m:\u001b[36mget_vix_data\u001b[0m:\u001b[36m186\u001b[0m - \u001b[1mLoaded VIX data from Yahoo Finance. Shape: (5574, 1)\u001b[0m\n",
      "\u001b[32m2025-09-12 18:05:31\u001b[0m | \u001b[1mINFO    \u001b[0m | \u001b[36msrc.regime_strategies.utils.data_utils\u001b[0m:\u001b[36mvalidate_data\u001b[0m:\u001b[36m50\u001b[0m - \u001b[1mData validation completed. Shape: (4347, 6)\u001b[0m\n",
      "\u001b[32m2025-09-12 18:05:31\u001b[0m | \u001b[1mINFO    \u001b[0m | \u001b[36msrc.regime_strategies.data.data_loader\u001b[0m:\u001b[36mload_market_data\u001b[0m:\u001b[36m163\u001b[0m - \u001b[1mLoaded market data. Shape: (4347, 6)\u001b[0m\n",
      "\u001b[32m2025-09-12 18:05:31\u001b[0m | \u001b[1mINFO    \u001b[0m | \u001b[36msrc.regime_strategies.data.data_loader\u001b[0m:\u001b[36mload_forecasting_features\u001b[0m:\u001b[36m230\u001b[0m - \u001b[1mLoaded forecasting features. Shape: (4347, 9)\u001b[0m\n",
      "\u001b[32m2025-09-12 18:05:31\u001b[0m | \u001b[1mINFO    \u001b[0m | \u001b[36msrc.regime_strategies.models.regime_forecaster\u001b[0m:\u001b[36mforecast_regime\u001b[0m:\u001b[36m368\u001b[0m - \u001b[1mForecasting regime for 2022-02-28 00:00:00 (horizon: 1)\u001b[0m\n",
      "\u001b[32m2025-09-12 18:05:31\u001b[0m | \u001b[33m\u001b[1mWARNING \u001b[0m | \u001b[36msrc.regime_strategies.models.regime_forecaster\u001b[0m:\u001b[36m_prepare_prediction_features\u001b[0m:\u001b[36m481\u001b[0m - \u001b[33m\u001b[1mFeature mismatch detected. Training: 14, Prediction: 9\u001b[0m\n",
      "\u001b[32m2025-09-12 18:05:31\u001b[0m | \u001b[33m\u001b[1mWARNING \u001b[0m | \u001b[36msrc.regime_strategies.models.regime_forecaster\u001b[0m:\u001b[36m_prepare_prediction_features\u001b[0m:\u001b[36m481\u001b[0m - \u001b[33m\u001b[1mFeature mismatch detected. Training: 14, Prediction: 9\u001b[0m\n",
      "\u001b[32m2025-09-12 18:05:31\u001b[0m | \u001b[1mINFO    \u001b[0m | \u001b[36msrc.regime_strategies.optimization.portfolio_optimizer\u001b[0m:\u001b[36moptimize\u001b[0m:\u001b[36m640\u001b[0m - \u001b[1mOptimizing portfolio using max_sharpe method\u001b[0m\n",
      "\u001b[32m2025-09-12 18:05:31\u001b[0m | \u001b[33m\u001b[1mWARNING \u001b[0m | \u001b[36msrc.regime_strategies.optimization.portfolio_optimizer\u001b[0m:\u001b[36m_optimize_cvxpy\u001b[0m:\u001b[36m149\u001b[0m - \u001b[33m\u001b[1mAll CVXPY solvers failed, falling back to scipy\u001b[0m\n",
      "\u001b[32m2025-09-12 18:05:31\u001b[0m | \u001b[1mINFO    \u001b[0m | \u001b[36msrc.regime_strategies.optimization.portfolio_optimizer\u001b[0m:\u001b[36m_log_optimization_results\u001b[0m:\u001b[36m744\u001b[0m - \u001b[1mOptimization completed: max_sharpe_scipy | Status: optimal | Return: -0.2287 | Vol: 0.1046 | Sharpe: -2.3784\u001b[0m\n",
      "\u001b[32m2025-09-12 18:05:31\u001b[0m | \u001b[1mINFO    \u001b[0m | \u001b[36msrc.regime_strategies.data.data_loader\u001b[0m:\u001b[36mload_forecasting_features\u001b[0m:\u001b[36m191\u001b[0m - \u001b[1mLoading forecasting features for 2022-03-31 00:00:00\u001b[0m\n",
      "\u001b[32m2025-09-12 18:05:31\u001b[0m | \u001b[1mINFO    \u001b[0m | \u001b[36msrc.regime_strategies.data.data_loader\u001b[0m:\u001b[36mload_market_data\u001b[0m:\u001b[36m139\u001b[0m - \u001b[1mLoading market data for 5 assets from 2000-01-01 to 2022-03-31\u001b[0m\n",
      "\u001b[32m2025-09-12 18:05:31\u001b[0m | \u001b[1mINFO    \u001b[0m | \u001b[36msrc.regime_strategies.data.market_data\u001b[0m:\u001b[36mget_price_data\u001b[0m:\u001b[36m72\u001b[0m - \u001b[1mLoading price data for 5 symbols from 2000-01-01 to 2022-03-31\u001b[0m\n",
      "[*********************100%***********************]  5 of 5 completed\n",
      "\u001b[32m2025-09-12 18:05:33\u001b[0m | \u001b[1mINFO    \u001b[0m | \u001b[36msrc.regime_strategies.data.market_data\u001b[0m:\u001b[36mget_price_data\u001b[0m:\u001b[36m80\u001b[0m - \u001b[1mLoaded price data from Yahoo Finance. Shape: (5597, 5)\u001b[0m\n",
      "\u001b[32m2025-09-12 18:05:33\u001b[0m | \u001b[1mINFO    \u001b[0m | \u001b[36msrc.regime_strategies.utils.data_utils\u001b[0m:\u001b[36mclean_returns\u001b[0m:\u001b[36m138\u001b[0m - \u001b[1mWinsorized 88 extreme values\u001b[0m\n",
      "\u001b[32m2025-09-12 18:05:33\u001b[0m | \u001b[1mINFO    \u001b[0m | \u001b[36msrc.regime_strategies.utils.data_utils\u001b[0m:\u001b[36mclean_returns\u001b[0m:\u001b[36m138\u001b[0m - \u001b[1mWinsorized 88 extreme values\u001b[0m\n",
      "\u001b[32m2025-09-12 18:05:33\u001b[0m | \u001b[1mINFO    \u001b[0m | \u001b[36msrc.regime_strategies.utils.data_utils\u001b[0m:\u001b[36mclean_returns\u001b[0m:\u001b[36m138\u001b[0m - \u001b[1mWinsorized 88 extreme values\u001b[0m\n",
      "\u001b[32m2025-09-12 18:05:33\u001b[0m | \u001b[1mINFO    \u001b[0m | \u001b[36msrc.regime_strategies.utils.data_utils\u001b[0m:\u001b[36mclean_returns\u001b[0m:\u001b[36m138\u001b[0m - \u001b[1mWinsorized 88 extreme values\u001b[0m\n",
      "\u001b[32m2025-09-12 18:05:33\u001b[0m | \u001b[1mINFO    \u001b[0m | \u001b[36msrc.regime_strategies.utils.data_utils\u001b[0m:\u001b[36mclean_returns\u001b[0m:\u001b[36m138\u001b[0m - \u001b[1mWinsorized 88 extreme values\u001b[0m\n",
      "\u001b[32m2025-09-12 18:05:33\u001b[0m | \u001b[1mINFO    \u001b[0m | \u001b[36msrc.regime_strategies.data.market_data\u001b[0m:\u001b[36mcalculate_returns\u001b[0m:\u001b[36m136\u001b[0m - \u001b[1mCalculated simple returns. Shape: (4370, 5)\u001b[0m\n",
      "\u001b[32m2025-09-12 18:05:33\u001b[0m | \u001b[1mINFO    \u001b[0m | \u001b[36msrc.regime_strategies.data.market_data\u001b[0m:\u001b[36mget_vix_data\u001b[0m:\u001b[36m170\u001b[0m - \u001b[1mLoading VIX data from 2000-01-01 to 2022-03-31\u001b[0m\n",
      "\u001b[32m2025-09-12 18:05:33\u001b[0m | \u001b[1mINFO    \u001b[0m | \u001b[36msrc.regime_strategies.data.market_data\u001b[0m:\u001b[36mget_vix_data\u001b[0m:\u001b[36m186\u001b[0m - \u001b[1mLoaded VIX data from Yahoo Finance. Shape: (5597, 1)\u001b[0m\n",
      "\u001b[32m2025-09-12 18:05:33\u001b[0m | \u001b[1mINFO    \u001b[0m | \u001b[36msrc.regime_strategies.utils.data_utils\u001b[0m:\u001b[36mvalidate_data\u001b[0m:\u001b[36m50\u001b[0m - \u001b[1mData validation completed. Shape: (4370, 6)\u001b[0m\n",
      "\u001b[32m2025-09-12 18:05:33\u001b[0m | \u001b[1mINFO    \u001b[0m | \u001b[36msrc.regime_strategies.data.data_loader\u001b[0m:\u001b[36mload_market_data\u001b[0m:\u001b[36m163\u001b[0m - \u001b[1mLoaded market data. Shape: (4370, 6)\u001b[0m\n",
      "\u001b[32m2025-09-12 18:05:33\u001b[0m | \u001b[1mINFO    \u001b[0m | \u001b[36msrc.regime_strategies.data.data_loader\u001b[0m:\u001b[36mload_forecasting_features\u001b[0m:\u001b[36m230\u001b[0m - \u001b[1mLoaded forecasting features. Shape: (4370, 9)\u001b[0m\n",
      "\u001b[32m2025-09-12 18:05:33\u001b[0m | \u001b[1mINFO    \u001b[0m | \u001b[36msrc.regime_strategies.models.regime_forecaster\u001b[0m:\u001b[36mforecast_regime\u001b[0m:\u001b[36m368\u001b[0m - \u001b[1mForecasting regime for 2022-03-31 00:00:00 (horizon: 1)\u001b[0m\n",
      "\u001b[32m2025-09-12 18:05:33\u001b[0m | \u001b[33m\u001b[1mWARNING \u001b[0m | \u001b[36msrc.regime_strategies.models.regime_forecaster\u001b[0m:\u001b[36m_prepare_prediction_features\u001b[0m:\u001b[36m481\u001b[0m - \u001b[33m\u001b[1mFeature mismatch detected. Training: 14, Prediction: 9\u001b[0m\n",
      "\u001b[32m2025-09-12 18:05:33\u001b[0m | \u001b[33m\u001b[1mWARNING \u001b[0m | \u001b[36msrc.regime_strategies.models.regime_forecaster\u001b[0m:\u001b[36m_prepare_prediction_features\u001b[0m:\u001b[36m481\u001b[0m - \u001b[33m\u001b[1mFeature mismatch detected. Training: 14, Prediction: 9\u001b[0m\n",
      "\u001b[32m2025-09-12 18:05:33\u001b[0m | \u001b[1mINFO    \u001b[0m | \u001b[36msrc.regime_strategies.optimization.portfolio_optimizer\u001b[0m:\u001b[36moptimize\u001b[0m:\u001b[36m640\u001b[0m - \u001b[1mOptimizing portfolio using max_sharpe method\u001b[0m\n",
      "\u001b[32m2025-09-12 18:05:33\u001b[0m | \u001b[33m\u001b[1mWARNING \u001b[0m | \u001b[36msrc.regime_strategies.optimization.portfolio_optimizer\u001b[0m:\u001b[36m_optimize_cvxpy\u001b[0m:\u001b[36m149\u001b[0m - \u001b[33m\u001b[1mAll CVXPY solvers failed, falling back to scipy\u001b[0m\n",
      "\u001b[32m2025-09-12 18:05:33\u001b[0m | \u001b[1mINFO    \u001b[0m | \u001b[36msrc.regime_strategies.optimization.portfolio_optimizer\u001b[0m:\u001b[36m_log_optimization_results\u001b[0m:\u001b[36m744\u001b[0m - \u001b[1mOptimization completed: max_sharpe_scipy | Status: optimal | Return: -0.2287 | Vol: 0.1046 | Sharpe: -2.3784\u001b[0m\n",
      "\u001b[32m2025-09-12 18:05:33\u001b[0m | \u001b[1mINFO    \u001b[0m | \u001b[36msrc.regime_strategies.data.data_loader\u001b[0m:\u001b[36mload_forecasting_features\u001b[0m:\u001b[36m191\u001b[0m - \u001b[1mLoading forecasting features for 2022-04-30 00:00:00\u001b[0m\n",
      "\u001b[32m2025-09-12 18:05:33\u001b[0m | \u001b[1mINFO    \u001b[0m | \u001b[36msrc.regime_strategies.data.data_loader\u001b[0m:\u001b[36mload_market_data\u001b[0m:\u001b[36m139\u001b[0m - \u001b[1mLoading market data for 5 assets from 2000-01-01 to 2022-04-30\u001b[0m\n",
      "\u001b[32m2025-09-12 18:05:33\u001b[0m | \u001b[1mINFO    \u001b[0m | \u001b[36msrc.regime_strategies.data.market_data\u001b[0m:\u001b[36mget_price_data\u001b[0m:\u001b[36m72\u001b[0m - \u001b[1mLoading price data for 5 symbols from 2000-01-01 to 2022-04-30\u001b[0m\n",
      "[*********************100%***********************]  5 of 5 completed\n",
      "\u001b[32m2025-09-12 18:05:35\u001b[0m | \u001b[1mINFO    \u001b[0m | \u001b[36msrc.regime_strategies.data.market_data\u001b[0m:\u001b[36mget_price_data\u001b[0m:\u001b[36m80\u001b[0m - \u001b[1mLoaded price data from Yahoo Finance. Shape: (5618, 5)\u001b[0m\n",
      "\u001b[32m2025-09-12 18:05:35\u001b[0m | \u001b[1mINFO    \u001b[0m | \u001b[36msrc.regime_strategies.utils.data_utils\u001b[0m:\u001b[36mclean_returns\u001b[0m:\u001b[36m138\u001b[0m - \u001b[1mWinsorized 88 extreme values\u001b[0m\n",
      "\u001b[32m2025-09-12 18:05:35\u001b[0m | \u001b[1mINFO    \u001b[0m | \u001b[36msrc.regime_strategies.utils.data_utils\u001b[0m:\u001b[36mclean_returns\u001b[0m:\u001b[36m138\u001b[0m - \u001b[1mWinsorized 88 extreme values\u001b[0m\n",
      "\u001b[32m2025-09-12 18:05:35\u001b[0m | \u001b[1mINFO    \u001b[0m | \u001b[36msrc.regime_strategies.utils.data_utils\u001b[0m:\u001b[36mclean_returns\u001b[0m:\u001b[36m138\u001b[0m - \u001b[1mWinsorized 88 extreme values\u001b[0m\n",
      "\u001b[32m2025-09-12 18:05:35\u001b[0m | \u001b[1mINFO    \u001b[0m | \u001b[36msrc.regime_strategies.utils.data_utils\u001b[0m:\u001b[36mclean_returns\u001b[0m:\u001b[36m138\u001b[0m - \u001b[1mWinsorized 88 extreme values\u001b[0m\n",
      "\u001b[32m2025-09-12 18:05:35\u001b[0m | \u001b[1mINFO    \u001b[0m | \u001b[36msrc.regime_strategies.utils.data_utils\u001b[0m:\u001b[36mclean_returns\u001b[0m:\u001b[36m138\u001b[0m - \u001b[1mWinsorized 88 extreme values\u001b[0m\n",
      "\u001b[32m2025-09-12 18:05:35\u001b[0m | \u001b[1mINFO    \u001b[0m | \u001b[36msrc.regime_strategies.data.market_data\u001b[0m:\u001b[36mcalculate_returns\u001b[0m:\u001b[36m136\u001b[0m - \u001b[1mCalculated simple returns. Shape: (4391, 5)\u001b[0m\n",
      "\u001b[32m2025-09-12 18:05:35\u001b[0m | \u001b[1mINFO    \u001b[0m | \u001b[36msrc.regime_strategies.data.market_data\u001b[0m:\u001b[36mget_vix_data\u001b[0m:\u001b[36m170\u001b[0m - \u001b[1mLoading VIX data from 2000-01-01 to 2022-04-30\u001b[0m\n",
      "\u001b[32m2025-09-12 18:05:35\u001b[0m | \u001b[1mINFO    \u001b[0m | \u001b[36msrc.regime_strategies.data.market_data\u001b[0m:\u001b[36mget_vix_data\u001b[0m:\u001b[36m186\u001b[0m - \u001b[1mLoaded VIX data from Yahoo Finance. Shape: (5618, 1)\u001b[0m\n",
      "\u001b[32m2025-09-12 18:05:35\u001b[0m | \u001b[1mINFO    \u001b[0m | \u001b[36msrc.regime_strategies.utils.data_utils\u001b[0m:\u001b[36mvalidate_data\u001b[0m:\u001b[36m50\u001b[0m - \u001b[1mData validation completed. Shape: (4391, 6)\u001b[0m\n",
      "\u001b[32m2025-09-12 18:05:35\u001b[0m | \u001b[1mINFO    \u001b[0m | \u001b[36msrc.regime_strategies.data.data_loader\u001b[0m:\u001b[36mload_market_data\u001b[0m:\u001b[36m163\u001b[0m - \u001b[1mLoaded market data. Shape: (4391, 6)\u001b[0m\n",
      "\u001b[32m2025-09-12 18:05:35\u001b[0m | \u001b[1mINFO    \u001b[0m | \u001b[36msrc.regime_strategies.data.data_loader\u001b[0m:\u001b[36mload_forecasting_features\u001b[0m:\u001b[36m230\u001b[0m - \u001b[1mLoaded forecasting features. Shape: (4391, 9)\u001b[0m\n",
      "\u001b[32m2025-09-12 18:05:35\u001b[0m | \u001b[1mINFO    \u001b[0m | \u001b[36msrc.regime_strategies.models.regime_forecaster\u001b[0m:\u001b[36mforecast_regime\u001b[0m:\u001b[36m368\u001b[0m - \u001b[1mForecasting regime for 2022-04-30 00:00:00 (horizon: 1)\u001b[0m\n",
      "\u001b[32m2025-09-12 18:05:35\u001b[0m | \u001b[33m\u001b[1mWARNING \u001b[0m | \u001b[36msrc.regime_strategies.models.regime_forecaster\u001b[0m:\u001b[36m_prepare_prediction_features\u001b[0m:\u001b[36m481\u001b[0m - \u001b[33m\u001b[1mFeature mismatch detected. Training: 14, Prediction: 9\u001b[0m\n",
      "\u001b[32m2025-09-12 18:05:35\u001b[0m | \u001b[33m\u001b[1mWARNING \u001b[0m | \u001b[36msrc.regime_strategies.models.regime_forecaster\u001b[0m:\u001b[36m_prepare_prediction_features\u001b[0m:\u001b[36m481\u001b[0m - \u001b[33m\u001b[1mFeature mismatch detected. Training: 14, Prediction: 9\u001b[0m\n",
      "\u001b[32m2025-09-12 18:05:35\u001b[0m | \u001b[1mINFO    \u001b[0m | \u001b[36msrc.regime_strategies.optimization.portfolio_optimizer\u001b[0m:\u001b[36moptimize\u001b[0m:\u001b[36m640\u001b[0m - \u001b[1mOptimizing portfolio using max_sharpe method\u001b[0m\n",
      "\u001b[32m2025-09-12 18:05:36\u001b[0m | \u001b[33m\u001b[1mWARNING \u001b[0m | \u001b[36msrc.regime_strategies.optimization.portfolio_optimizer\u001b[0m:\u001b[36m_optimize_cvxpy\u001b[0m:\u001b[36m149\u001b[0m - \u001b[33m\u001b[1mAll CVXPY solvers failed, falling back to scipy\u001b[0m\n",
      "\u001b[32m2025-09-12 18:05:36\u001b[0m | \u001b[1mINFO    \u001b[0m | \u001b[36msrc.regime_strategies.optimization.portfolio_optimizer\u001b[0m:\u001b[36m_log_optimization_results\u001b[0m:\u001b[36m744\u001b[0m - \u001b[1mOptimization completed: max_sharpe_scipy | Status: optimal | Return: -0.2287 | Vol: 0.1046 | Sharpe: -2.3784\u001b[0m\n",
      "\u001b[32m2025-09-12 18:05:36\u001b[0m | \u001b[1mINFO    \u001b[0m | \u001b[36msrc.regime_strategies.data.data_loader\u001b[0m:\u001b[36mload_forecasting_features\u001b[0m:\u001b[36m191\u001b[0m - \u001b[1mLoading forecasting features for 2022-05-31 00:00:00\u001b[0m\n",
      "\u001b[32m2025-09-12 18:05:36\u001b[0m | \u001b[1mINFO    \u001b[0m | \u001b[36msrc.regime_strategies.data.data_loader\u001b[0m:\u001b[36mload_market_data\u001b[0m:\u001b[36m139\u001b[0m - \u001b[1mLoading market data for 5 assets from 2000-01-01 to 2022-05-31\u001b[0m\n",
      "\u001b[32m2025-09-12 18:05:36\u001b[0m | \u001b[1mINFO    \u001b[0m | \u001b[36msrc.regime_strategies.data.market_data\u001b[0m:\u001b[36mget_price_data\u001b[0m:\u001b[36m72\u001b[0m - \u001b[1mLoading price data for 5 symbols from 2000-01-01 to 2022-05-31\u001b[0m\n",
      "[*********************100%***********************]  5 of 5 completed\n",
      "\u001b[32m2025-09-12 18:05:37\u001b[0m | \u001b[1mINFO    \u001b[0m | \u001b[36msrc.regime_strategies.data.market_data\u001b[0m:\u001b[36mget_price_data\u001b[0m:\u001b[36m80\u001b[0m - \u001b[1mLoaded price data from Yahoo Finance. Shape: (5638, 5)\u001b[0m\n",
      "\u001b[32m2025-09-12 18:05:38\u001b[0m | \u001b[1mINFO    \u001b[0m | \u001b[36msrc.regime_strategies.utils.data_utils\u001b[0m:\u001b[36mclean_returns\u001b[0m:\u001b[36m138\u001b[0m - \u001b[1mWinsorized 90 extreme values\u001b[0m\n",
      "\u001b[32m2025-09-12 18:05:38\u001b[0m | \u001b[1mINFO    \u001b[0m | \u001b[36msrc.regime_strategies.utils.data_utils\u001b[0m:\u001b[36mclean_returns\u001b[0m:\u001b[36m138\u001b[0m - \u001b[1mWinsorized 90 extreme values\u001b[0m\n",
      "\u001b[32m2025-09-12 18:05:38\u001b[0m | \u001b[1mINFO    \u001b[0m | \u001b[36msrc.regime_strategies.utils.data_utils\u001b[0m:\u001b[36mclean_returns\u001b[0m:\u001b[36m138\u001b[0m - \u001b[1mWinsorized 90 extreme values\u001b[0m\n",
      "\u001b[32m2025-09-12 18:05:38\u001b[0m | \u001b[1mINFO    \u001b[0m | \u001b[36msrc.regime_strategies.utils.data_utils\u001b[0m:\u001b[36mclean_returns\u001b[0m:\u001b[36m138\u001b[0m - \u001b[1mWinsorized 90 extreme values\u001b[0m\n",
      "\u001b[32m2025-09-12 18:05:38\u001b[0m | \u001b[1mINFO    \u001b[0m | \u001b[36msrc.regime_strategies.utils.data_utils\u001b[0m:\u001b[36mclean_returns\u001b[0m:\u001b[36m138\u001b[0m - \u001b[1mWinsorized 90 extreme values\u001b[0m\n",
      "\u001b[32m2025-09-12 18:05:38\u001b[0m | \u001b[1mINFO    \u001b[0m | \u001b[36msrc.regime_strategies.data.market_data\u001b[0m:\u001b[36mcalculate_returns\u001b[0m:\u001b[36m136\u001b[0m - \u001b[1mCalculated simple returns. Shape: (4411, 5)\u001b[0m\n",
      "\u001b[32m2025-09-12 18:05:38\u001b[0m | \u001b[1mINFO    \u001b[0m | \u001b[36msrc.regime_strategies.data.market_data\u001b[0m:\u001b[36mget_vix_data\u001b[0m:\u001b[36m170\u001b[0m - \u001b[1mLoading VIX data from 2000-01-01 to 2022-05-31\u001b[0m\n",
      "\u001b[32m2025-09-12 18:05:38\u001b[0m | \u001b[1mINFO    \u001b[0m | \u001b[36msrc.regime_strategies.data.market_data\u001b[0m:\u001b[36mget_vix_data\u001b[0m:\u001b[36m186\u001b[0m - \u001b[1mLoaded VIX data from Yahoo Finance. Shape: (5638, 1)\u001b[0m\n",
      "\u001b[32m2025-09-12 18:05:38\u001b[0m | \u001b[1mINFO    \u001b[0m | \u001b[36msrc.regime_strategies.utils.data_utils\u001b[0m:\u001b[36mvalidate_data\u001b[0m:\u001b[36m50\u001b[0m - \u001b[1mData validation completed. Shape: (4411, 6)\u001b[0m\n",
      "\u001b[32m2025-09-12 18:05:38\u001b[0m | \u001b[1mINFO    \u001b[0m | \u001b[36msrc.regime_strategies.data.data_loader\u001b[0m:\u001b[36mload_market_data\u001b[0m:\u001b[36m163\u001b[0m - \u001b[1mLoaded market data. Shape: (4411, 6)\u001b[0m\n",
      "\u001b[32m2025-09-12 18:05:38\u001b[0m | \u001b[1mINFO    \u001b[0m | \u001b[36msrc.regime_strategies.data.data_loader\u001b[0m:\u001b[36mload_forecasting_features\u001b[0m:\u001b[36m230\u001b[0m - \u001b[1mLoaded forecasting features. Shape: (4411, 9)\u001b[0m\n",
      "\u001b[32m2025-09-12 18:05:38\u001b[0m | \u001b[1mINFO    \u001b[0m | \u001b[36msrc.regime_strategies.models.regime_forecaster\u001b[0m:\u001b[36mforecast_regime\u001b[0m:\u001b[36m368\u001b[0m - \u001b[1mForecasting regime for 2022-05-31 00:00:00 (horizon: 1)\u001b[0m\n",
      "\u001b[32m2025-09-12 18:05:38\u001b[0m | \u001b[33m\u001b[1mWARNING \u001b[0m | \u001b[36msrc.regime_strategies.models.regime_forecaster\u001b[0m:\u001b[36m_prepare_prediction_features\u001b[0m:\u001b[36m481\u001b[0m - \u001b[33m\u001b[1mFeature mismatch detected. Training: 14, Prediction: 9\u001b[0m\n",
      "\u001b[32m2025-09-12 18:05:38\u001b[0m | \u001b[33m\u001b[1mWARNING \u001b[0m | \u001b[36msrc.regime_strategies.models.regime_forecaster\u001b[0m:\u001b[36m_prepare_prediction_features\u001b[0m:\u001b[36m481\u001b[0m - \u001b[33m\u001b[1mFeature mismatch detected. Training: 14, Prediction: 9\u001b[0m\n",
      "\u001b[32m2025-09-12 18:05:38\u001b[0m | \u001b[1mINFO    \u001b[0m | \u001b[36msrc.regime_strategies.optimization.portfolio_optimizer\u001b[0m:\u001b[36moptimize\u001b[0m:\u001b[36m640\u001b[0m - \u001b[1mOptimizing portfolio using max_sharpe method\u001b[0m\n",
      "\u001b[32m2025-09-12 18:05:38\u001b[0m | \u001b[33m\u001b[1mWARNING \u001b[0m | \u001b[36msrc.regime_strategies.optimization.portfolio_optimizer\u001b[0m:\u001b[36m_optimize_cvxpy\u001b[0m:\u001b[36m149\u001b[0m - \u001b[33m\u001b[1mAll CVXPY solvers failed, falling back to scipy\u001b[0m\n",
      "\u001b[32m2025-09-12 18:05:38\u001b[0m | \u001b[1mINFO    \u001b[0m | \u001b[36msrc.regime_strategies.optimization.portfolio_optimizer\u001b[0m:\u001b[36m_log_optimization_results\u001b[0m:\u001b[36m744\u001b[0m - \u001b[1mOptimization completed: max_sharpe_scipy | Status: optimal | Return: -0.2287 | Vol: 0.1046 | Sharpe: -2.3784\u001b[0m\n",
      "\u001b[32m2025-09-12 18:05:38\u001b[0m | \u001b[1mINFO    \u001b[0m | \u001b[36msrc.regime_strategies.data.data_loader\u001b[0m:\u001b[36mload_forecasting_features\u001b[0m:\u001b[36m191\u001b[0m - \u001b[1mLoading forecasting features for 2022-06-30 00:00:00\u001b[0m\n",
      "\u001b[32m2025-09-12 18:05:38\u001b[0m | \u001b[1mINFO    \u001b[0m | \u001b[36msrc.regime_strategies.data.data_loader\u001b[0m:\u001b[36mload_market_data\u001b[0m:\u001b[36m139\u001b[0m - \u001b[1mLoading market data for 5 assets from 2000-01-01 to 2022-06-30\u001b[0m\n",
      "\u001b[32m2025-09-12 18:05:38\u001b[0m | \u001b[1mINFO    \u001b[0m | \u001b[36msrc.regime_strategies.data.market_data\u001b[0m:\u001b[36mget_price_data\u001b[0m:\u001b[36m72\u001b[0m - \u001b[1mLoading price data for 5 symbols from 2000-01-01 to 2022-06-30\u001b[0m\n",
      "[*********************100%***********************]  5 of 5 completed\n",
      "\u001b[32m2025-09-12 18:05:39\u001b[0m | \u001b[1mINFO    \u001b[0m | \u001b[36msrc.regime_strategies.data.market_data\u001b[0m:\u001b[36mget_price_data\u001b[0m:\u001b[36m80\u001b[0m - \u001b[1mLoaded price data from Yahoo Finance. Shape: (5659, 5)\u001b[0m\n",
      "\u001b[32m2025-09-12 18:05:39\u001b[0m | \u001b[1mINFO    \u001b[0m | \u001b[36msrc.regime_strategies.utils.data_utils\u001b[0m:\u001b[36mclean_returns\u001b[0m:\u001b[36m138\u001b[0m - \u001b[1mWinsorized 90 extreme values\u001b[0m\n",
      "\u001b[32m2025-09-12 18:05:39\u001b[0m | \u001b[1mINFO    \u001b[0m | \u001b[36msrc.regime_strategies.utils.data_utils\u001b[0m:\u001b[36mclean_returns\u001b[0m:\u001b[36m138\u001b[0m - \u001b[1mWinsorized 90 extreme values\u001b[0m\n",
      "\u001b[32m2025-09-12 18:05:39\u001b[0m | \u001b[1mINFO    \u001b[0m | \u001b[36msrc.regime_strategies.utils.data_utils\u001b[0m:\u001b[36mclean_returns\u001b[0m:\u001b[36m138\u001b[0m - \u001b[1mWinsorized 90 extreme values\u001b[0m\n",
      "\u001b[32m2025-09-12 18:05:39\u001b[0m | \u001b[1mINFO    \u001b[0m | \u001b[36msrc.regime_strategies.utils.data_utils\u001b[0m:\u001b[36mclean_returns\u001b[0m:\u001b[36m138\u001b[0m - \u001b[1mWinsorized 90 extreme values\u001b[0m\n",
      "\u001b[32m2025-09-12 18:05:39\u001b[0m | \u001b[1mINFO    \u001b[0m | \u001b[36msrc.regime_strategies.utils.data_utils\u001b[0m:\u001b[36mclean_returns\u001b[0m:\u001b[36m138\u001b[0m - \u001b[1mWinsorized 90 extreme values\u001b[0m\n",
      "\u001b[32m2025-09-12 18:05:39\u001b[0m | \u001b[1mINFO    \u001b[0m | \u001b[36msrc.regime_strategies.data.market_data\u001b[0m:\u001b[36mcalculate_returns\u001b[0m:\u001b[36m136\u001b[0m - \u001b[1mCalculated simple returns. Shape: (4432, 5)\u001b[0m\n",
      "\u001b[32m2025-09-12 18:05:39\u001b[0m | \u001b[1mINFO    \u001b[0m | \u001b[36msrc.regime_strategies.data.market_data\u001b[0m:\u001b[36mget_vix_data\u001b[0m:\u001b[36m170\u001b[0m - \u001b[1mLoading VIX data from 2000-01-01 to 2022-06-30\u001b[0m\n",
      "\u001b[32m2025-09-12 18:05:40\u001b[0m | \u001b[1mINFO    \u001b[0m | \u001b[36msrc.regime_strategies.data.market_data\u001b[0m:\u001b[36mget_vix_data\u001b[0m:\u001b[36m186\u001b[0m - \u001b[1mLoaded VIX data from Yahoo Finance. Shape: (5659, 1)\u001b[0m\n",
      "\u001b[32m2025-09-12 18:05:40\u001b[0m | \u001b[1mINFO    \u001b[0m | \u001b[36msrc.regime_strategies.utils.data_utils\u001b[0m:\u001b[36mvalidate_data\u001b[0m:\u001b[36m50\u001b[0m - \u001b[1mData validation completed. Shape: (4432, 6)\u001b[0m\n",
      "\u001b[32m2025-09-12 18:05:40\u001b[0m | \u001b[1mINFO    \u001b[0m | \u001b[36msrc.regime_strategies.data.data_loader\u001b[0m:\u001b[36mload_market_data\u001b[0m:\u001b[36m163\u001b[0m - \u001b[1mLoaded market data. Shape: (4432, 6)\u001b[0m\n",
      "\u001b[32m2025-09-12 18:05:40\u001b[0m | \u001b[1mINFO    \u001b[0m | \u001b[36msrc.regime_strategies.data.data_loader\u001b[0m:\u001b[36mload_forecasting_features\u001b[0m:\u001b[36m230\u001b[0m - \u001b[1mLoaded forecasting features. Shape: (4432, 9)\u001b[0m\n",
      "\u001b[32m2025-09-12 18:05:40\u001b[0m | \u001b[1mINFO    \u001b[0m | \u001b[36msrc.regime_strategies.models.regime_forecaster\u001b[0m:\u001b[36mforecast_regime\u001b[0m:\u001b[36m368\u001b[0m - \u001b[1mForecasting regime for 2022-06-30 00:00:00 (horizon: 1)\u001b[0m\n",
      "\u001b[32m2025-09-12 18:05:40\u001b[0m | \u001b[33m\u001b[1mWARNING \u001b[0m | \u001b[36msrc.regime_strategies.models.regime_forecaster\u001b[0m:\u001b[36m_prepare_prediction_features\u001b[0m:\u001b[36m481\u001b[0m - \u001b[33m\u001b[1mFeature mismatch detected. Training: 14, Prediction: 9\u001b[0m\n",
      "\u001b[32m2025-09-12 18:05:40\u001b[0m | \u001b[33m\u001b[1mWARNING \u001b[0m | \u001b[36msrc.regime_strategies.models.regime_forecaster\u001b[0m:\u001b[36m_prepare_prediction_features\u001b[0m:\u001b[36m481\u001b[0m - \u001b[33m\u001b[1mFeature mismatch detected. Training: 14, Prediction: 9\u001b[0m\n",
      "\u001b[32m2025-09-12 18:05:40\u001b[0m | \u001b[1mINFO    \u001b[0m | \u001b[36msrc.regime_strategies.optimization.portfolio_optimizer\u001b[0m:\u001b[36moptimize\u001b[0m:\u001b[36m640\u001b[0m - \u001b[1mOptimizing portfolio using max_sharpe method\u001b[0m\n",
      "\u001b[32m2025-09-12 18:05:40\u001b[0m | \u001b[33m\u001b[1mWARNING \u001b[0m | \u001b[36msrc.regime_strategies.optimization.portfolio_optimizer\u001b[0m:\u001b[36m_optimize_cvxpy\u001b[0m:\u001b[36m149\u001b[0m - \u001b[33m\u001b[1mAll CVXPY solvers failed, falling back to scipy\u001b[0m\n",
      "\u001b[32m2025-09-12 18:05:40\u001b[0m | \u001b[1mINFO    \u001b[0m | \u001b[36msrc.regime_strategies.optimization.portfolio_optimizer\u001b[0m:\u001b[36m_log_optimization_results\u001b[0m:\u001b[36m744\u001b[0m - \u001b[1mOptimization completed: max_sharpe_scipy | Status: optimal | Return: -0.2287 | Vol: 0.1046 | Sharpe: -2.3784\u001b[0m\n",
      "\u001b[32m2025-09-12 18:05:40\u001b[0m | \u001b[1mINFO    \u001b[0m | \u001b[36msrc.regime_strategies.data.data_loader\u001b[0m:\u001b[36mload_forecasting_features\u001b[0m:\u001b[36m191\u001b[0m - \u001b[1mLoading forecasting features for 2022-07-31 00:00:00\u001b[0m\n",
      "\u001b[32m2025-09-12 18:05:40\u001b[0m | \u001b[1mINFO    \u001b[0m | \u001b[36msrc.regime_strategies.data.data_loader\u001b[0m:\u001b[36mload_market_data\u001b[0m:\u001b[36m139\u001b[0m - \u001b[1mLoading market data for 5 assets from 2000-01-01 to 2022-07-31\u001b[0m\n",
      "\u001b[32m2025-09-12 18:05:40\u001b[0m | \u001b[1mINFO    \u001b[0m | \u001b[36msrc.regime_strategies.data.market_data\u001b[0m:\u001b[36mget_price_data\u001b[0m:\u001b[36m72\u001b[0m - \u001b[1mLoading price data for 5 symbols from 2000-01-01 to 2022-07-31\u001b[0m\n",
      "[*********************100%***********************]  5 of 5 completed\n",
      "\u001b[32m2025-09-12 18:05:42\u001b[0m | \u001b[1mINFO    \u001b[0m | \u001b[36msrc.regime_strategies.data.market_data\u001b[0m:\u001b[36mget_price_data\u001b[0m:\u001b[36m80\u001b[0m - \u001b[1mLoaded price data from Yahoo Finance. Shape: (5680, 5)\u001b[0m\n",
      "\u001b[32m2025-09-12 18:05:42\u001b[0m | \u001b[1mINFO    \u001b[0m | \u001b[36msrc.regime_strategies.utils.data_utils\u001b[0m:\u001b[36mclean_returns\u001b[0m:\u001b[36m138\u001b[0m - \u001b[1mWinsorized 90 extreme values\u001b[0m\n",
      "\u001b[32m2025-09-12 18:05:42\u001b[0m | \u001b[1mINFO    \u001b[0m | \u001b[36msrc.regime_strategies.utils.data_utils\u001b[0m:\u001b[36mclean_returns\u001b[0m:\u001b[36m138\u001b[0m - \u001b[1mWinsorized 90 extreme values\u001b[0m\n",
      "\u001b[32m2025-09-12 18:05:42\u001b[0m | \u001b[1mINFO    \u001b[0m | \u001b[36msrc.regime_strategies.utils.data_utils\u001b[0m:\u001b[36mclean_returns\u001b[0m:\u001b[36m138\u001b[0m - \u001b[1mWinsorized 90 extreme values\u001b[0m\n",
      "\u001b[32m2025-09-12 18:05:42\u001b[0m | \u001b[1mINFO    \u001b[0m | \u001b[36msrc.regime_strategies.utils.data_utils\u001b[0m:\u001b[36mclean_returns\u001b[0m:\u001b[36m138\u001b[0m - \u001b[1mWinsorized 90 extreme values\u001b[0m\n",
      "\u001b[32m2025-09-12 18:05:42\u001b[0m | \u001b[1mINFO    \u001b[0m | \u001b[36msrc.regime_strategies.utils.data_utils\u001b[0m:\u001b[36mclean_returns\u001b[0m:\u001b[36m138\u001b[0m - \u001b[1mWinsorized 90 extreme values\u001b[0m\n",
      "\u001b[32m2025-09-12 18:05:42\u001b[0m | \u001b[1mINFO    \u001b[0m | \u001b[36msrc.regime_strategies.data.market_data\u001b[0m:\u001b[36mcalculate_returns\u001b[0m:\u001b[36m136\u001b[0m - \u001b[1mCalculated simple returns. Shape: (4453, 5)\u001b[0m\n",
      "\u001b[32m2025-09-12 18:05:42\u001b[0m | \u001b[1mINFO    \u001b[0m | \u001b[36msrc.regime_strategies.data.market_data\u001b[0m:\u001b[36mget_vix_data\u001b[0m:\u001b[36m170\u001b[0m - \u001b[1mLoading VIX data from 2000-01-01 to 2022-07-31\u001b[0m\n",
      "\u001b[32m2025-09-12 18:05:42\u001b[0m | \u001b[1mINFO    \u001b[0m | \u001b[36msrc.regime_strategies.data.market_data\u001b[0m:\u001b[36mget_vix_data\u001b[0m:\u001b[36m186\u001b[0m - \u001b[1mLoaded VIX data from Yahoo Finance. Shape: (5680, 1)\u001b[0m\n",
      "\u001b[32m2025-09-12 18:05:42\u001b[0m | \u001b[1mINFO    \u001b[0m | \u001b[36msrc.regime_strategies.utils.data_utils\u001b[0m:\u001b[36mvalidate_data\u001b[0m:\u001b[36m50\u001b[0m - \u001b[1mData validation completed. Shape: (4453, 6)\u001b[0m\n",
      "\u001b[32m2025-09-12 18:05:42\u001b[0m | \u001b[1mINFO    \u001b[0m | \u001b[36msrc.regime_strategies.data.data_loader\u001b[0m:\u001b[36mload_market_data\u001b[0m:\u001b[36m163\u001b[0m - \u001b[1mLoaded market data. Shape: (4453, 6)\u001b[0m\n",
      "\u001b[32m2025-09-12 18:05:42\u001b[0m | \u001b[1mINFO    \u001b[0m | \u001b[36msrc.regime_strategies.data.data_loader\u001b[0m:\u001b[36mload_forecasting_features\u001b[0m:\u001b[36m230\u001b[0m - \u001b[1mLoaded forecasting features. Shape: (4453, 9)\u001b[0m\n",
      "\u001b[32m2025-09-12 18:05:42\u001b[0m | \u001b[1mINFO    \u001b[0m | \u001b[36msrc.regime_strategies.models.regime_forecaster\u001b[0m:\u001b[36mforecast_regime\u001b[0m:\u001b[36m368\u001b[0m - \u001b[1mForecasting regime for 2022-07-31 00:00:00 (horizon: 1)\u001b[0m\n",
      "\u001b[32m2025-09-12 18:05:42\u001b[0m | \u001b[33m\u001b[1mWARNING \u001b[0m | \u001b[36msrc.regime_strategies.models.regime_forecaster\u001b[0m:\u001b[36m_prepare_prediction_features\u001b[0m:\u001b[36m481\u001b[0m - \u001b[33m\u001b[1mFeature mismatch detected. Training: 14, Prediction: 9\u001b[0m\n",
      "\u001b[32m2025-09-12 18:05:42\u001b[0m | \u001b[33m\u001b[1mWARNING \u001b[0m | \u001b[36msrc.regime_strategies.models.regime_forecaster\u001b[0m:\u001b[36m_prepare_prediction_features\u001b[0m:\u001b[36m481\u001b[0m - \u001b[33m\u001b[1mFeature mismatch detected. Training: 14, Prediction: 9\u001b[0m\n",
      "\u001b[32m2025-09-12 18:05:42\u001b[0m | \u001b[1mINFO    \u001b[0m | \u001b[36msrc.regime_strategies.optimization.portfolio_optimizer\u001b[0m:\u001b[36moptimize\u001b[0m:\u001b[36m640\u001b[0m - \u001b[1mOptimizing portfolio using max_sharpe method\u001b[0m\n",
      "\u001b[32m2025-09-12 18:05:42\u001b[0m | \u001b[33m\u001b[1mWARNING \u001b[0m | \u001b[36msrc.regime_strategies.optimization.portfolio_optimizer\u001b[0m:\u001b[36m_optimize_cvxpy\u001b[0m:\u001b[36m149\u001b[0m - \u001b[33m\u001b[1mAll CVXPY solvers failed, falling back to scipy\u001b[0m\n",
      "\u001b[32m2025-09-12 18:05:42\u001b[0m | \u001b[1mINFO    \u001b[0m | \u001b[36msrc.regime_strategies.optimization.portfolio_optimizer\u001b[0m:\u001b[36m_log_optimization_results\u001b[0m:\u001b[36m744\u001b[0m - \u001b[1mOptimization completed: max_sharpe_scipy | Status: optimal | Return: -0.2287 | Vol: 0.1046 | Sharpe: -2.3784\u001b[0m\n",
      "\u001b[32m2025-09-12 18:05:42\u001b[0m | \u001b[1mINFO    \u001b[0m | \u001b[36msrc.regime_strategies.data.data_loader\u001b[0m:\u001b[36mload_forecasting_features\u001b[0m:\u001b[36m191\u001b[0m - \u001b[1mLoading forecasting features for 2022-08-31 00:00:00\u001b[0m\n",
      "\u001b[32m2025-09-12 18:05:42\u001b[0m | \u001b[1mINFO    \u001b[0m | \u001b[36msrc.regime_strategies.data.data_loader\u001b[0m:\u001b[36mload_market_data\u001b[0m:\u001b[36m139\u001b[0m - \u001b[1mLoading market data for 5 assets from 2000-01-01 to 2022-08-31\u001b[0m\n",
      "\u001b[32m2025-09-12 18:05:42\u001b[0m | \u001b[1mINFO    \u001b[0m | \u001b[36msrc.regime_strategies.data.market_data\u001b[0m:\u001b[36mget_price_data\u001b[0m:\u001b[36m72\u001b[0m - \u001b[1mLoading price data for 5 symbols from 2000-01-01 to 2022-08-31\u001b[0m\n",
      "[*********************100%***********************]  5 of 5 completed\n",
      "\u001b[32m2025-09-12 18:05:44\u001b[0m | \u001b[1mINFO    \u001b[0m | \u001b[36msrc.regime_strategies.data.market_data\u001b[0m:\u001b[36mget_price_data\u001b[0m:\u001b[36m80\u001b[0m - \u001b[1mLoaded price data from Yahoo Finance. Shape: (5702, 5)\u001b[0m\n",
      "\u001b[32m2025-09-12 18:05:44\u001b[0m | \u001b[1mINFO    \u001b[0m | \u001b[36msrc.regime_strategies.utils.data_utils\u001b[0m:\u001b[36mclean_returns\u001b[0m:\u001b[36m138\u001b[0m - \u001b[1mWinsorized 90 extreme values\u001b[0m\n",
      "\u001b[32m2025-09-12 18:05:44\u001b[0m | \u001b[1mINFO    \u001b[0m | \u001b[36msrc.regime_strategies.utils.data_utils\u001b[0m:\u001b[36mclean_returns\u001b[0m:\u001b[36m138\u001b[0m - \u001b[1mWinsorized 90 extreme values\u001b[0m\n",
      "\u001b[32m2025-09-12 18:05:44\u001b[0m | \u001b[1mINFO    \u001b[0m | \u001b[36msrc.regime_strategies.utils.data_utils\u001b[0m:\u001b[36mclean_returns\u001b[0m:\u001b[36m138\u001b[0m - \u001b[1mWinsorized 90 extreme values\u001b[0m\n",
      "\u001b[32m2025-09-12 18:05:44\u001b[0m | \u001b[1mINFO    \u001b[0m | \u001b[36msrc.regime_strategies.utils.data_utils\u001b[0m:\u001b[36mclean_returns\u001b[0m:\u001b[36m138\u001b[0m - \u001b[1mWinsorized 90 extreme values\u001b[0m\n",
      "\u001b[32m2025-09-12 18:05:44\u001b[0m | \u001b[1mINFO    \u001b[0m | \u001b[36msrc.regime_strategies.utils.data_utils\u001b[0m:\u001b[36mclean_returns\u001b[0m:\u001b[36m138\u001b[0m - \u001b[1mWinsorized 90 extreme values\u001b[0m\n",
      "\u001b[32m2025-09-12 18:05:44\u001b[0m | \u001b[1mINFO    \u001b[0m | \u001b[36msrc.regime_strategies.data.market_data\u001b[0m:\u001b[36mcalculate_returns\u001b[0m:\u001b[36m136\u001b[0m - \u001b[1mCalculated simple returns. Shape: (4475, 5)\u001b[0m\n",
      "\u001b[32m2025-09-12 18:05:44\u001b[0m | \u001b[1mINFO    \u001b[0m | \u001b[36msrc.regime_strategies.data.market_data\u001b[0m:\u001b[36mget_vix_data\u001b[0m:\u001b[36m170\u001b[0m - \u001b[1mLoading VIX data from 2000-01-01 to 2022-08-31\u001b[0m\n",
      "\u001b[32m2025-09-12 18:05:44\u001b[0m | \u001b[1mINFO    \u001b[0m | \u001b[36msrc.regime_strategies.data.market_data\u001b[0m:\u001b[36mget_vix_data\u001b[0m:\u001b[36m186\u001b[0m - \u001b[1mLoaded VIX data from Yahoo Finance. Shape: (5702, 1)\u001b[0m\n",
      "\u001b[32m2025-09-12 18:05:44\u001b[0m | \u001b[1mINFO    \u001b[0m | \u001b[36msrc.regime_strategies.utils.data_utils\u001b[0m:\u001b[36mvalidate_data\u001b[0m:\u001b[36m50\u001b[0m - \u001b[1mData validation completed. Shape: (4475, 6)\u001b[0m\n",
      "\u001b[32m2025-09-12 18:05:44\u001b[0m | \u001b[1mINFO    \u001b[0m | \u001b[36msrc.regime_strategies.data.data_loader\u001b[0m:\u001b[36mload_market_data\u001b[0m:\u001b[36m163\u001b[0m - \u001b[1mLoaded market data. Shape: (4475, 6)\u001b[0m\n",
      "\u001b[32m2025-09-12 18:05:44\u001b[0m | \u001b[1mINFO    \u001b[0m | \u001b[36msrc.regime_strategies.data.data_loader\u001b[0m:\u001b[36mload_forecasting_features\u001b[0m:\u001b[36m230\u001b[0m - \u001b[1mLoaded forecasting features. Shape: (4475, 9)\u001b[0m\n",
      "\u001b[32m2025-09-12 18:05:44\u001b[0m | \u001b[1mINFO    \u001b[0m | \u001b[36msrc.regime_strategies.models.regime_forecaster\u001b[0m:\u001b[36mforecast_regime\u001b[0m:\u001b[36m368\u001b[0m - \u001b[1mForecasting regime for 2022-08-31 00:00:00 (horizon: 1)\u001b[0m\n",
      "\u001b[32m2025-09-12 18:05:44\u001b[0m | \u001b[33m\u001b[1mWARNING \u001b[0m | \u001b[36msrc.regime_strategies.models.regime_forecaster\u001b[0m:\u001b[36m_prepare_prediction_features\u001b[0m:\u001b[36m481\u001b[0m - \u001b[33m\u001b[1mFeature mismatch detected. Training: 14, Prediction: 9\u001b[0m\n",
      "\u001b[32m2025-09-12 18:05:44\u001b[0m | \u001b[33m\u001b[1mWARNING \u001b[0m | \u001b[36msrc.regime_strategies.models.regime_forecaster\u001b[0m:\u001b[36m_prepare_prediction_features\u001b[0m:\u001b[36m481\u001b[0m - \u001b[33m\u001b[1mFeature mismatch detected. Training: 14, Prediction: 9\u001b[0m\n",
      "\u001b[32m2025-09-12 18:05:44\u001b[0m | \u001b[1mINFO    \u001b[0m | \u001b[36msrc.regime_strategies.optimization.portfolio_optimizer\u001b[0m:\u001b[36moptimize\u001b[0m:\u001b[36m640\u001b[0m - \u001b[1mOptimizing portfolio using max_sharpe method\u001b[0m\n",
      "\u001b[32m2025-09-12 18:05:44\u001b[0m | \u001b[33m\u001b[1mWARNING \u001b[0m | \u001b[36msrc.regime_strategies.optimization.portfolio_optimizer\u001b[0m:\u001b[36m_optimize_cvxpy\u001b[0m:\u001b[36m149\u001b[0m - \u001b[33m\u001b[1mAll CVXPY solvers failed, falling back to scipy\u001b[0m\n",
      "\u001b[32m2025-09-12 18:05:44\u001b[0m | \u001b[1mINFO    \u001b[0m | \u001b[36msrc.regime_strategies.optimization.portfolio_optimizer\u001b[0m:\u001b[36m_log_optimization_results\u001b[0m:\u001b[36m744\u001b[0m - \u001b[1mOptimization completed: max_sharpe_scipy | Status: optimal | Return: -0.2287 | Vol: 0.1046 | Sharpe: -2.3784\u001b[0m\n",
      "\u001b[32m2025-09-12 18:05:44\u001b[0m | \u001b[1mINFO    \u001b[0m | \u001b[36msrc.regime_strategies.data.data_loader\u001b[0m:\u001b[36mload_forecasting_features\u001b[0m:\u001b[36m191\u001b[0m - \u001b[1mLoading forecasting features for 2022-09-30 00:00:00\u001b[0m\n",
      "\u001b[32m2025-09-12 18:05:44\u001b[0m | \u001b[1mINFO    \u001b[0m | \u001b[36msrc.regime_strategies.data.data_loader\u001b[0m:\u001b[36mload_market_data\u001b[0m:\u001b[36m139\u001b[0m - \u001b[1mLoading market data for 5 assets from 2000-01-01 to 2022-09-30\u001b[0m\n",
      "\u001b[32m2025-09-12 18:05:44\u001b[0m | \u001b[1mINFO    \u001b[0m | \u001b[36msrc.regime_strategies.data.market_data\u001b[0m:\u001b[36mget_price_data\u001b[0m:\u001b[36m72\u001b[0m - \u001b[1mLoading price data for 5 symbols from 2000-01-01 to 2022-09-30\u001b[0m\n",
      "[*********************100%***********************]  5 of 5 completed\n",
      "\u001b[32m2025-09-12 18:05:46\u001b[0m | \u001b[1mINFO    \u001b[0m | \u001b[36msrc.regime_strategies.data.market_data\u001b[0m:\u001b[36mget_price_data\u001b[0m:\u001b[36m80\u001b[0m - \u001b[1mLoaded price data from Yahoo Finance. Shape: (5723, 5)\u001b[0m\n",
      "\u001b[32m2025-09-12 18:05:46\u001b[0m | \u001b[1mINFO    \u001b[0m | \u001b[36msrc.regime_strategies.utils.data_utils\u001b[0m:\u001b[36mclean_returns\u001b[0m:\u001b[36m138\u001b[0m - \u001b[1mWinsorized 90 extreme values\u001b[0m\n",
      "\u001b[32m2025-09-12 18:05:46\u001b[0m | \u001b[1mINFO    \u001b[0m | \u001b[36msrc.regime_strategies.utils.data_utils\u001b[0m:\u001b[36mclean_returns\u001b[0m:\u001b[36m138\u001b[0m - \u001b[1mWinsorized 90 extreme values\u001b[0m\n",
      "\u001b[32m2025-09-12 18:05:46\u001b[0m | \u001b[1mINFO    \u001b[0m | \u001b[36msrc.regime_strategies.utils.data_utils\u001b[0m:\u001b[36mclean_returns\u001b[0m:\u001b[36m138\u001b[0m - \u001b[1mWinsorized 90 extreme values\u001b[0m\n",
      "\u001b[32m2025-09-12 18:05:46\u001b[0m | \u001b[1mINFO    \u001b[0m | \u001b[36msrc.regime_strategies.utils.data_utils\u001b[0m:\u001b[36mclean_returns\u001b[0m:\u001b[36m138\u001b[0m - \u001b[1mWinsorized 90 extreme values\u001b[0m\n",
      "\u001b[32m2025-09-12 18:05:46\u001b[0m | \u001b[1mINFO    \u001b[0m | \u001b[36msrc.regime_strategies.utils.data_utils\u001b[0m:\u001b[36mclean_returns\u001b[0m:\u001b[36m138\u001b[0m - \u001b[1mWinsorized 90 extreme values\u001b[0m\n",
      "\u001b[32m2025-09-12 18:05:46\u001b[0m | \u001b[1mINFO    \u001b[0m | \u001b[36msrc.regime_strategies.data.market_data\u001b[0m:\u001b[36mcalculate_returns\u001b[0m:\u001b[36m136\u001b[0m - \u001b[1mCalculated simple returns. Shape: (4496, 5)\u001b[0m\n",
      "\u001b[32m2025-09-12 18:05:46\u001b[0m | \u001b[1mINFO    \u001b[0m | \u001b[36msrc.regime_strategies.data.market_data\u001b[0m:\u001b[36mget_vix_data\u001b[0m:\u001b[36m170\u001b[0m - \u001b[1mLoading VIX data from 2000-01-01 to 2022-09-30\u001b[0m\n",
      "\u001b[32m2025-09-12 18:05:46\u001b[0m | \u001b[1mINFO    \u001b[0m | \u001b[36msrc.regime_strategies.data.market_data\u001b[0m:\u001b[36mget_vix_data\u001b[0m:\u001b[36m186\u001b[0m - \u001b[1mLoaded VIX data from Yahoo Finance. Shape: (5723, 1)\u001b[0m\n",
      "\u001b[32m2025-09-12 18:05:46\u001b[0m | \u001b[1mINFO    \u001b[0m | \u001b[36msrc.regime_strategies.utils.data_utils\u001b[0m:\u001b[36mvalidate_data\u001b[0m:\u001b[36m50\u001b[0m - \u001b[1mData validation completed. Shape: (4496, 6)\u001b[0m\n",
      "\u001b[32m2025-09-12 18:05:46\u001b[0m | \u001b[1mINFO    \u001b[0m | \u001b[36msrc.regime_strategies.data.data_loader\u001b[0m:\u001b[36mload_market_data\u001b[0m:\u001b[36m163\u001b[0m - \u001b[1mLoaded market data. Shape: (4496, 6)\u001b[0m\n",
      "\u001b[32m2025-09-12 18:05:46\u001b[0m | \u001b[1mINFO    \u001b[0m | \u001b[36msrc.regime_strategies.data.data_loader\u001b[0m:\u001b[36mload_forecasting_features\u001b[0m:\u001b[36m230\u001b[0m - \u001b[1mLoaded forecasting features. Shape: (4496, 9)\u001b[0m\n",
      "\u001b[32m2025-09-12 18:05:46\u001b[0m | \u001b[1mINFO    \u001b[0m | \u001b[36msrc.regime_strategies.models.regime_forecaster\u001b[0m:\u001b[36mforecast_regime\u001b[0m:\u001b[36m368\u001b[0m - \u001b[1mForecasting regime for 2022-09-30 00:00:00 (horizon: 1)\u001b[0m\n",
      "\u001b[32m2025-09-12 18:05:46\u001b[0m | \u001b[33m\u001b[1mWARNING \u001b[0m | \u001b[36msrc.regime_strategies.models.regime_forecaster\u001b[0m:\u001b[36m_prepare_prediction_features\u001b[0m:\u001b[36m481\u001b[0m - \u001b[33m\u001b[1mFeature mismatch detected. Training: 14, Prediction: 9\u001b[0m\n",
      "\u001b[32m2025-09-12 18:05:46\u001b[0m | \u001b[33m\u001b[1mWARNING \u001b[0m | \u001b[36msrc.regime_strategies.models.regime_forecaster\u001b[0m:\u001b[36m_prepare_prediction_features\u001b[0m:\u001b[36m481\u001b[0m - \u001b[33m\u001b[1mFeature mismatch detected. Training: 14, Prediction: 9\u001b[0m\n",
      "\u001b[32m2025-09-12 18:05:46\u001b[0m | \u001b[1mINFO    \u001b[0m | \u001b[36msrc.regime_strategies.optimization.portfolio_optimizer\u001b[0m:\u001b[36moptimize\u001b[0m:\u001b[36m640\u001b[0m - \u001b[1mOptimizing portfolio using max_sharpe method\u001b[0m\n",
      "\u001b[32m2025-09-12 18:05:47\u001b[0m | \u001b[33m\u001b[1mWARNING \u001b[0m | \u001b[36msrc.regime_strategies.optimization.portfolio_optimizer\u001b[0m:\u001b[36m_optimize_cvxpy\u001b[0m:\u001b[36m149\u001b[0m - \u001b[33m\u001b[1mAll CVXPY solvers failed, falling back to scipy\u001b[0m\n",
      "\u001b[32m2025-09-12 18:05:47\u001b[0m | \u001b[1mINFO    \u001b[0m | \u001b[36msrc.regime_strategies.optimization.portfolio_optimizer\u001b[0m:\u001b[36m_log_optimization_results\u001b[0m:\u001b[36m744\u001b[0m - \u001b[1mOptimization completed: max_sharpe_scipy | Status: optimal | Return: -0.2287 | Vol: 0.1046 | Sharpe: -2.3784\u001b[0m\n",
      "\u001b[32m2025-09-12 18:05:47\u001b[0m | \u001b[1mINFO    \u001b[0m | \u001b[36msrc.regime_strategies.data.data_loader\u001b[0m:\u001b[36mload_forecasting_features\u001b[0m:\u001b[36m191\u001b[0m - \u001b[1mLoading forecasting features for 2022-10-31 00:00:00\u001b[0m\n",
      "\u001b[32m2025-09-12 18:05:47\u001b[0m | \u001b[1mINFO    \u001b[0m | \u001b[36msrc.regime_strategies.data.data_loader\u001b[0m:\u001b[36mload_market_data\u001b[0m:\u001b[36m139\u001b[0m - \u001b[1mLoading market data for 5 assets from 2000-01-01 to 2022-10-31\u001b[0m\n",
      "\u001b[32m2025-09-12 18:05:47\u001b[0m | \u001b[1mINFO    \u001b[0m | \u001b[36msrc.regime_strategies.data.market_data\u001b[0m:\u001b[36mget_price_data\u001b[0m:\u001b[36m72\u001b[0m - \u001b[1mLoading price data for 5 symbols from 2000-01-01 to 2022-10-31\u001b[0m\n",
      "[*********************100%***********************]  5 of 5 completed\n",
      "\u001b[32m2025-09-12 18:05:48\u001b[0m | \u001b[1mINFO    \u001b[0m | \u001b[36msrc.regime_strategies.data.market_data\u001b[0m:\u001b[36mget_price_data\u001b[0m:\u001b[36m80\u001b[0m - \u001b[1mLoaded price data from Yahoo Finance. Shape: (5744, 5)\u001b[0m\n",
      "\u001b[32m2025-09-12 18:05:48\u001b[0m | \u001b[1mINFO    \u001b[0m | \u001b[36msrc.regime_strategies.utils.data_utils\u001b[0m:\u001b[36mclean_returns\u001b[0m:\u001b[36m138\u001b[0m - \u001b[1mWinsorized 92 extreme values\u001b[0m\n",
      "\u001b[32m2025-09-12 18:05:48\u001b[0m | \u001b[1mINFO    \u001b[0m | \u001b[36msrc.regime_strategies.utils.data_utils\u001b[0m:\u001b[36mclean_returns\u001b[0m:\u001b[36m138\u001b[0m - \u001b[1mWinsorized 92 extreme values\u001b[0m\n",
      "\u001b[32m2025-09-12 18:05:48\u001b[0m | \u001b[1mINFO    \u001b[0m | \u001b[36msrc.regime_strategies.utils.data_utils\u001b[0m:\u001b[36mclean_returns\u001b[0m:\u001b[36m138\u001b[0m - \u001b[1mWinsorized 92 extreme values\u001b[0m\n",
      "\u001b[32m2025-09-12 18:05:48\u001b[0m | \u001b[1mINFO    \u001b[0m | \u001b[36msrc.regime_strategies.utils.data_utils\u001b[0m:\u001b[36mclean_returns\u001b[0m:\u001b[36m138\u001b[0m - \u001b[1mWinsorized 92 extreme values\u001b[0m\n",
      "\u001b[32m2025-09-12 18:05:48\u001b[0m | \u001b[1mINFO    \u001b[0m | \u001b[36msrc.regime_strategies.utils.data_utils\u001b[0m:\u001b[36mclean_returns\u001b[0m:\u001b[36m138\u001b[0m - \u001b[1mWinsorized 92 extreme values\u001b[0m\n",
      "\u001b[32m2025-09-12 18:05:48\u001b[0m | \u001b[1mINFO    \u001b[0m | \u001b[36msrc.regime_strategies.data.market_data\u001b[0m:\u001b[36mcalculate_returns\u001b[0m:\u001b[36m136\u001b[0m - \u001b[1mCalculated simple returns. Shape: (4517, 5)\u001b[0m\n",
      "\u001b[32m2025-09-12 18:05:48\u001b[0m | \u001b[1mINFO    \u001b[0m | \u001b[36msrc.regime_strategies.data.market_data\u001b[0m:\u001b[36mget_vix_data\u001b[0m:\u001b[36m170\u001b[0m - \u001b[1mLoading VIX data from 2000-01-01 to 2022-10-31\u001b[0m\n",
      "\u001b[32m2025-09-12 18:05:49\u001b[0m | \u001b[1mINFO    \u001b[0m | \u001b[36msrc.regime_strategies.data.market_data\u001b[0m:\u001b[36mget_vix_data\u001b[0m:\u001b[36m186\u001b[0m - \u001b[1mLoaded VIX data from Yahoo Finance. Shape: (5744, 1)\u001b[0m\n",
      "\u001b[32m2025-09-12 18:05:49\u001b[0m | \u001b[1mINFO    \u001b[0m | \u001b[36msrc.regime_strategies.utils.data_utils\u001b[0m:\u001b[36mvalidate_data\u001b[0m:\u001b[36m50\u001b[0m - \u001b[1mData validation completed. Shape: (4517, 6)\u001b[0m\n",
      "\u001b[32m2025-09-12 18:05:49\u001b[0m | \u001b[1mINFO    \u001b[0m | \u001b[36msrc.regime_strategies.data.data_loader\u001b[0m:\u001b[36mload_market_data\u001b[0m:\u001b[36m163\u001b[0m - \u001b[1mLoaded market data. Shape: (4517, 6)\u001b[0m\n",
      "\u001b[32m2025-09-12 18:05:49\u001b[0m | \u001b[1mINFO    \u001b[0m | \u001b[36msrc.regime_strategies.data.data_loader\u001b[0m:\u001b[36mload_forecasting_features\u001b[0m:\u001b[36m230\u001b[0m - \u001b[1mLoaded forecasting features. Shape: (4517, 9)\u001b[0m\n",
      "\u001b[32m2025-09-12 18:05:49\u001b[0m | \u001b[1mINFO    \u001b[0m | \u001b[36msrc.regime_strategies.models.regime_forecaster\u001b[0m:\u001b[36mforecast_regime\u001b[0m:\u001b[36m368\u001b[0m - \u001b[1mForecasting regime for 2022-10-31 00:00:00 (horizon: 1)\u001b[0m\n",
      "\u001b[32m2025-09-12 18:05:49\u001b[0m | \u001b[33m\u001b[1mWARNING \u001b[0m | \u001b[36msrc.regime_strategies.models.regime_forecaster\u001b[0m:\u001b[36m_prepare_prediction_features\u001b[0m:\u001b[36m481\u001b[0m - \u001b[33m\u001b[1mFeature mismatch detected. Training: 14, Prediction: 9\u001b[0m\n",
      "\u001b[32m2025-09-12 18:05:49\u001b[0m | \u001b[33m\u001b[1mWARNING \u001b[0m | \u001b[36msrc.regime_strategies.models.regime_forecaster\u001b[0m:\u001b[36m_prepare_prediction_features\u001b[0m:\u001b[36m481\u001b[0m - \u001b[33m\u001b[1mFeature mismatch detected. Training: 14, Prediction: 9\u001b[0m\n",
      "\u001b[32m2025-09-12 18:05:49\u001b[0m | \u001b[1mINFO    \u001b[0m | \u001b[36msrc.regime_strategies.optimization.portfolio_optimizer\u001b[0m:\u001b[36moptimize\u001b[0m:\u001b[36m640\u001b[0m - \u001b[1mOptimizing portfolio using max_sharpe method\u001b[0m\n",
      "\u001b[32m2025-09-12 18:05:49\u001b[0m | \u001b[33m\u001b[1mWARNING \u001b[0m | \u001b[36msrc.regime_strategies.optimization.portfolio_optimizer\u001b[0m:\u001b[36m_optimize_cvxpy\u001b[0m:\u001b[36m149\u001b[0m - \u001b[33m\u001b[1mAll CVXPY solvers failed, falling back to scipy\u001b[0m\n",
      "\u001b[32m2025-09-12 18:05:49\u001b[0m | \u001b[1mINFO    \u001b[0m | \u001b[36msrc.regime_strategies.optimization.portfolio_optimizer\u001b[0m:\u001b[36m_log_optimization_results\u001b[0m:\u001b[36m744\u001b[0m - \u001b[1mOptimization completed: max_sharpe_scipy | Status: optimal | Return: -0.2287 | Vol: 0.1046 | Sharpe: -2.3784\u001b[0m\n",
      "\u001b[32m2025-09-12 18:05:49\u001b[0m | \u001b[1mINFO    \u001b[0m | \u001b[36msrc.regime_strategies.data.data_loader\u001b[0m:\u001b[36mload_forecasting_features\u001b[0m:\u001b[36m191\u001b[0m - \u001b[1mLoading forecasting features for 2022-11-30 00:00:00\u001b[0m\n",
      "\u001b[32m2025-09-12 18:05:49\u001b[0m | \u001b[1mINFO    \u001b[0m | \u001b[36msrc.regime_strategies.data.data_loader\u001b[0m:\u001b[36mload_market_data\u001b[0m:\u001b[36m139\u001b[0m - \u001b[1mLoading market data for 5 assets from 2000-01-01 to 2022-11-30\u001b[0m\n",
      "\u001b[32m2025-09-12 18:05:49\u001b[0m | \u001b[1mINFO    \u001b[0m | \u001b[36msrc.regime_strategies.data.market_data\u001b[0m:\u001b[36mget_price_data\u001b[0m:\u001b[36m72\u001b[0m - \u001b[1mLoading price data for 5 symbols from 2000-01-01 to 2022-11-30\u001b[0m\n",
      "[*********************100%***********************]  5 of 5 completed\n",
      "\u001b[32m2025-09-12 18:05:50\u001b[0m | \u001b[1mINFO    \u001b[0m | \u001b[36msrc.regime_strategies.data.market_data\u001b[0m:\u001b[36mget_price_data\u001b[0m:\u001b[36m80\u001b[0m - \u001b[1mLoaded price data from Yahoo Finance. Shape: (5765, 5)\u001b[0m\n",
      "\u001b[32m2025-09-12 18:05:50\u001b[0m | \u001b[1mINFO    \u001b[0m | \u001b[36msrc.regime_strategies.utils.data_utils\u001b[0m:\u001b[36mclean_returns\u001b[0m:\u001b[36m138\u001b[0m - \u001b[1mWinsorized 92 extreme values\u001b[0m\n",
      "\u001b[32m2025-09-12 18:05:50\u001b[0m | \u001b[1mINFO    \u001b[0m | \u001b[36msrc.regime_strategies.utils.data_utils\u001b[0m:\u001b[36mclean_returns\u001b[0m:\u001b[36m138\u001b[0m - \u001b[1mWinsorized 92 extreme values\u001b[0m\n",
      "\u001b[32m2025-09-12 18:05:50\u001b[0m | \u001b[1mINFO    \u001b[0m | \u001b[36msrc.regime_strategies.utils.data_utils\u001b[0m:\u001b[36mclean_returns\u001b[0m:\u001b[36m138\u001b[0m - \u001b[1mWinsorized 92 extreme values\u001b[0m\n",
      "\u001b[32m2025-09-12 18:05:50\u001b[0m | \u001b[1mINFO    \u001b[0m | \u001b[36msrc.regime_strategies.utils.data_utils\u001b[0m:\u001b[36mclean_returns\u001b[0m:\u001b[36m138\u001b[0m - \u001b[1mWinsorized 92 extreme values\u001b[0m\n",
      "\u001b[32m2025-09-12 18:05:50\u001b[0m | \u001b[1mINFO    \u001b[0m | \u001b[36msrc.regime_strategies.utils.data_utils\u001b[0m:\u001b[36mclean_returns\u001b[0m:\u001b[36m138\u001b[0m - \u001b[1mWinsorized 92 extreme values\u001b[0m\n",
      "\u001b[32m2025-09-12 18:05:50\u001b[0m | \u001b[1mINFO    \u001b[0m | \u001b[36msrc.regime_strategies.data.market_data\u001b[0m:\u001b[36mcalculate_returns\u001b[0m:\u001b[36m136\u001b[0m - \u001b[1mCalculated simple returns. Shape: (4538, 5)\u001b[0m\n",
      "\u001b[32m2025-09-12 18:05:50\u001b[0m | \u001b[1mINFO    \u001b[0m | \u001b[36msrc.regime_strategies.data.market_data\u001b[0m:\u001b[36mget_vix_data\u001b[0m:\u001b[36m170\u001b[0m - \u001b[1mLoading VIX data from 2000-01-01 to 2022-11-30\u001b[0m\n",
      "\u001b[32m2025-09-12 18:05:51\u001b[0m | \u001b[1mINFO    \u001b[0m | \u001b[36msrc.regime_strategies.data.market_data\u001b[0m:\u001b[36mget_vix_data\u001b[0m:\u001b[36m186\u001b[0m - \u001b[1mLoaded VIX data from Yahoo Finance. Shape: (5765, 1)\u001b[0m\n",
      "\u001b[32m2025-09-12 18:05:51\u001b[0m | \u001b[1mINFO    \u001b[0m | \u001b[36msrc.regime_strategies.utils.data_utils\u001b[0m:\u001b[36mvalidate_data\u001b[0m:\u001b[36m50\u001b[0m - \u001b[1mData validation completed. Shape: (4538, 6)\u001b[0m\n",
      "\u001b[32m2025-09-12 18:05:51\u001b[0m | \u001b[1mINFO    \u001b[0m | \u001b[36msrc.regime_strategies.data.data_loader\u001b[0m:\u001b[36mload_market_data\u001b[0m:\u001b[36m163\u001b[0m - \u001b[1mLoaded market data. Shape: (4538, 6)\u001b[0m\n",
      "\u001b[32m2025-09-12 18:05:51\u001b[0m | \u001b[1mINFO    \u001b[0m | \u001b[36msrc.regime_strategies.data.data_loader\u001b[0m:\u001b[36mload_forecasting_features\u001b[0m:\u001b[36m230\u001b[0m - \u001b[1mLoaded forecasting features. Shape: (4538, 9)\u001b[0m\n",
      "\u001b[32m2025-09-12 18:05:51\u001b[0m | \u001b[1mINFO    \u001b[0m | \u001b[36msrc.regime_strategies.models.regime_forecaster\u001b[0m:\u001b[36mforecast_regime\u001b[0m:\u001b[36m368\u001b[0m - \u001b[1mForecasting regime for 2022-11-30 00:00:00 (horizon: 1)\u001b[0m\n",
      "\u001b[32m2025-09-12 18:05:51\u001b[0m | \u001b[33m\u001b[1mWARNING \u001b[0m | \u001b[36msrc.regime_strategies.models.regime_forecaster\u001b[0m:\u001b[36m_prepare_prediction_features\u001b[0m:\u001b[36m481\u001b[0m - \u001b[33m\u001b[1mFeature mismatch detected. Training: 14, Prediction: 9\u001b[0m\n",
      "\u001b[32m2025-09-12 18:05:51\u001b[0m | \u001b[33m\u001b[1mWARNING \u001b[0m | \u001b[36msrc.regime_strategies.models.regime_forecaster\u001b[0m:\u001b[36m_prepare_prediction_features\u001b[0m:\u001b[36m481\u001b[0m - \u001b[33m\u001b[1mFeature mismatch detected. Training: 14, Prediction: 9\u001b[0m\n",
      "\u001b[32m2025-09-12 18:05:51\u001b[0m | \u001b[1mINFO    \u001b[0m | \u001b[36msrc.regime_strategies.optimization.portfolio_optimizer\u001b[0m:\u001b[36moptimize\u001b[0m:\u001b[36m640\u001b[0m - \u001b[1mOptimizing portfolio using max_sharpe method\u001b[0m\n",
      "\u001b[32m2025-09-12 18:05:51\u001b[0m | \u001b[33m\u001b[1mWARNING \u001b[0m | \u001b[36msrc.regime_strategies.optimization.portfolio_optimizer\u001b[0m:\u001b[36m_optimize_cvxpy\u001b[0m:\u001b[36m149\u001b[0m - \u001b[33m\u001b[1mAll CVXPY solvers failed, falling back to scipy\u001b[0m\n",
      "\u001b[32m2025-09-12 18:05:51\u001b[0m | \u001b[1mINFO    \u001b[0m | \u001b[36msrc.regime_strategies.optimization.portfolio_optimizer\u001b[0m:\u001b[36m_log_optimization_results\u001b[0m:\u001b[36m744\u001b[0m - \u001b[1mOptimization completed: max_sharpe_scipy | Status: optimal | Return: -0.2287 | Vol: 0.1046 | Sharpe: -2.3784\u001b[0m\n",
      "\u001b[32m2025-09-12 18:05:51\u001b[0m | \u001b[1mINFO    \u001b[0m | \u001b[36msrc.regime_strategies.data.data_loader\u001b[0m:\u001b[36mload_forecasting_features\u001b[0m:\u001b[36m191\u001b[0m - \u001b[1mLoading forecasting features for 2022-12-31 00:00:00\u001b[0m\n",
      "\u001b[32m2025-09-12 18:05:51\u001b[0m | \u001b[1mINFO    \u001b[0m | \u001b[36msrc.regime_strategies.data.data_loader\u001b[0m:\u001b[36mload_market_data\u001b[0m:\u001b[36m139\u001b[0m - \u001b[1mLoading market data for 5 assets from 2000-01-01 to 2022-12-31\u001b[0m\n",
      "\u001b[32m2025-09-12 18:05:51\u001b[0m | \u001b[1mINFO    \u001b[0m | \u001b[36msrc.regime_strategies.data.market_data\u001b[0m:\u001b[36mget_price_data\u001b[0m:\u001b[36m72\u001b[0m - \u001b[1mLoading price data for 5 symbols from 2000-01-01 to 2022-12-31\u001b[0m\n",
      "[*********************100%***********************]  5 of 5 completed\n",
      "\u001b[32m2025-09-12 18:05:53\u001b[0m | \u001b[1mINFO    \u001b[0m | \u001b[36msrc.regime_strategies.data.market_data\u001b[0m:\u001b[36mget_price_data\u001b[0m:\u001b[36m80\u001b[0m - \u001b[1mLoaded price data from Yahoo Finance. Shape: (5787, 5)\u001b[0m\n",
      "\u001b[32m2025-09-12 18:05:53\u001b[0m | \u001b[1mINFO    \u001b[0m | \u001b[36msrc.regime_strategies.utils.data_utils\u001b[0m:\u001b[36mclean_returns\u001b[0m:\u001b[36m138\u001b[0m - \u001b[1mWinsorized 92 extreme values\u001b[0m\n",
      "\u001b[32m2025-09-12 18:05:53\u001b[0m | \u001b[1mINFO    \u001b[0m | \u001b[36msrc.regime_strategies.utils.data_utils\u001b[0m:\u001b[36mclean_returns\u001b[0m:\u001b[36m138\u001b[0m - \u001b[1mWinsorized 92 extreme values\u001b[0m\n",
      "\u001b[32m2025-09-12 18:05:53\u001b[0m | \u001b[1mINFO    \u001b[0m | \u001b[36msrc.regime_strategies.utils.data_utils\u001b[0m:\u001b[36mclean_returns\u001b[0m:\u001b[36m138\u001b[0m - \u001b[1mWinsorized 92 extreme values\u001b[0m\n",
      "\u001b[32m2025-09-12 18:05:53\u001b[0m | \u001b[1mINFO    \u001b[0m | \u001b[36msrc.regime_strategies.utils.data_utils\u001b[0m:\u001b[36mclean_returns\u001b[0m:\u001b[36m138\u001b[0m - \u001b[1mWinsorized 92 extreme values\u001b[0m\n",
      "\u001b[32m2025-09-12 18:05:53\u001b[0m | \u001b[1mINFO    \u001b[0m | \u001b[36msrc.regime_strategies.utils.data_utils\u001b[0m:\u001b[36mclean_returns\u001b[0m:\u001b[36m138\u001b[0m - \u001b[1mWinsorized 92 extreme values\u001b[0m\n",
      "\u001b[32m2025-09-12 18:05:53\u001b[0m | \u001b[1mINFO    \u001b[0m | \u001b[36msrc.regime_strategies.data.market_data\u001b[0m:\u001b[36mcalculate_returns\u001b[0m:\u001b[36m136\u001b[0m - \u001b[1mCalculated simple returns. Shape: (4560, 5)\u001b[0m\n",
      "\u001b[32m2025-09-12 18:05:53\u001b[0m | \u001b[1mINFO    \u001b[0m | \u001b[36msrc.regime_strategies.data.market_data\u001b[0m:\u001b[36mget_vix_data\u001b[0m:\u001b[36m170\u001b[0m - \u001b[1mLoading VIX data from 2000-01-01 to 2022-12-31\u001b[0m\n",
      "\u001b[32m2025-09-12 18:05:53\u001b[0m | \u001b[1mINFO    \u001b[0m | \u001b[36msrc.regime_strategies.data.market_data\u001b[0m:\u001b[36mget_vix_data\u001b[0m:\u001b[36m186\u001b[0m - \u001b[1mLoaded VIX data from Yahoo Finance. Shape: (5787, 1)\u001b[0m\n",
      "\u001b[32m2025-09-12 18:05:53\u001b[0m | \u001b[1mINFO    \u001b[0m | \u001b[36msrc.regime_strategies.utils.data_utils\u001b[0m:\u001b[36mvalidate_data\u001b[0m:\u001b[36m50\u001b[0m - \u001b[1mData validation completed. Shape: (4560, 6)\u001b[0m\n",
      "\u001b[32m2025-09-12 18:05:53\u001b[0m | \u001b[1mINFO    \u001b[0m | \u001b[36msrc.regime_strategies.data.data_loader\u001b[0m:\u001b[36mload_market_data\u001b[0m:\u001b[36m163\u001b[0m - \u001b[1mLoaded market data. Shape: (4560, 6)\u001b[0m\n",
      "\u001b[32m2025-09-12 18:05:53\u001b[0m | \u001b[1mINFO    \u001b[0m | \u001b[36msrc.regime_strategies.data.data_loader\u001b[0m:\u001b[36mload_forecasting_features\u001b[0m:\u001b[36m230\u001b[0m - \u001b[1mLoaded forecasting features. Shape: (4560, 9)\u001b[0m\n",
      "\u001b[32m2025-09-12 18:05:53\u001b[0m | \u001b[1mINFO    \u001b[0m | \u001b[36msrc.regime_strategies.models.regime_forecaster\u001b[0m:\u001b[36mforecast_regime\u001b[0m:\u001b[36m368\u001b[0m - \u001b[1mForecasting regime for 2022-12-31 00:00:00 (horizon: 1)\u001b[0m\n",
      "\u001b[32m2025-09-12 18:05:53\u001b[0m | \u001b[33m\u001b[1mWARNING \u001b[0m | \u001b[36msrc.regime_strategies.models.regime_forecaster\u001b[0m:\u001b[36m_prepare_prediction_features\u001b[0m:\u001b[36m481\u001b[0m - \u001b[33m\u001b[1mFeature mismatch detected. Training: 14, Prediction: 9\u001b[0m\n",
      "\u001b[32m2025-09-12 18:05:53\u001b[0m | \u001b[33m\u001b[1mWARNING \u001b[0m | \u001b[36msrc.regime_strategies.models.regime_forecaster\u001b[0m:\u001b[36m_prepare_prediction_features\u001b[0m:\u001b[36m481\u001b[0m - \u001b[33m\u001b[1mFeature mismatch detected. Training: 14, Prediction: 9\u001b[0m\n",
      "\u001b[32m2025-09-12 18:05:53\u001b[0m | \u001b[1mINFO    \u001b[0m | \u001b[36msrc.regime_strategies.optimization.portfolio_optimizer\u001b[0m:\u001b[36moptimize\u001b[0m:\u001b[36m640\u001b[0m - \u001b[1mOptimizing portfolio using max_sharpe method\u001b[0m\n",
      "\u001b[32m2025-09-12 18:05:53\u001b[0m | \u001b[33m\u001b[1mWARNING \u001b[0m | \u001b[36msrc.regime_strategies.optimization.portfolio_optimizer\u001b[0m:\u001b[36m_optimize_cvxpy\u001b[0m:\u001b[36m149\u001b[0m - \u001b[33m\u001b[1mAll CVXPY solvers failed, falling back to scipy\u001b[0m\n",
      "\u001b[32m2025-09-12 18:05:53\u001b[0m | \u001b[1mINFO    \u001b[0m | \u001b[36msrc.regime_strategies.optimization.portfolio_optimizer\u001b[0m:\u001b[36m_log_optimization_results\u001b[0m:\u001b[36m744\u001b[0m - \u001b[1mOptimization completed: max_sharpe_scipy | Status: optimal | Return: -0.2287 | Vol: 0.1046 | Sharpe: -2.3784\u001b[0m\n",
      "\u001b[32m2025-09-12 18:05:53\u001b[0m | \u001b[1mINFO    \u001b[0m | \u001b[36msrc.regime_strategies.backtesting.backtest_engine\u001b[0m:\u001b[36m_run_simulation_loop\u001b[0m:\u001b[36m359\u001b[0m - \u001b[1mSimulation completed: 12 rebalancing periods\u001b[0m\n",
      "\u001b[32m2025-09-12 18:05:53\u001b[0m | \u001b[1mINFO    \u001b[0m | \u001b[36msrc.regime_strategies.backtesting.backtest_engine\u001b[0m:\u001b[36m_calculate_final_metrics\u001b[0m:\u001b[36m584\u001b[0m - \u001b[1mCalculating final performance metrics\u001b[0m\n",
      "\u001b[32m2025-09-12 18:05:53\u001b[0m | \u001b[1mINFO    \u001b[0m | \u001b[36msrc.regime_strategies.utils.metrics\u001b[0m:\u001b[36mcalculate_metrics\u001b[0m:\u001b[36m302\u001b[0m - \u001b[1mCalculated 17 performance metrics\u001b[0m\n",
      "\u001b[32m2025-09-12 18:05:53\u001b[0m | \u001b[1mINFO    \u001b[0m | \u001b[36msrc.regime_strategies.utils.metrics\u001b[0m:\u001b[36mcalculate_metrics\u001b[0m:\u001b[36m302\u001b[0m - \u001b[1mCalculated 13 performance metrics\u001b[0m\n",
      "\u001b[32m2025-09-12 18:05:53\u001b[0m | \u001b[1mINFO    \u001b[0m | \u001b[36msrc.regime_strategies.utils.metrics\u001b[0m:\u001b[36mcalculate_metrics\u001b[0m:\u001b[36m302\u001b[0m - \u001b[1mCalculated 13 performance metrics\u001b[0m\n",
      "\u001b[32m2025-09-12 18:05:53\u001b[0m | \u001b[1mINFO    \u001b[0m | \u001b[36msrc.regime_strategies.backtesting.backtest_engine\u001b[0m:\u001b[36m_calculate_final_metrics\u001b[0m:\u001b[36m602\u001b[0m - \u001b[1mPerformance metrics calculated: Total return: -14.52%, Sharpe ratio: -5.635, Regime accuracy: 83.33%\u001b[0m\n",
      "\u001b[32m2025-09-12 18:05:53\u001b[0m | \u001b[1mINFO    \u001b[0m | \u001b[36msrc.regime_strategies.backtesting.backtest_engine\u001b[0m:\u001b[36mrun_backtest\u001b[0m:\u001b[36m137\u001b[0m - \u001b[1mBacktest completed successfully\u001b[0m\n",
      "\u001b[32m2025-09-12 18:05:53\u001b[0m | \u001b[1mINFO    \u001b[0m | \u001b[36msrc.regime_strategies.backtesting.performance_evaluator\u001b[0m:\u001b[36mevaluate_strategy\u001b[0m:\u001b[36m48\u001b[0m - \u001b[1mStarting comprehensive strategy evaluation\u001b[0m\n",
      "\u001b[32m2025-09-12 18:05:53\u001b[0m | \u001b[1mINFO    \u001b[0m | \u001b[36msrc.regime_strategies.utils.metrics\u001b[0m:\u001b[36mcalculate_metrics\u001b[0m:\u001b[36m302\u001b[0m - \u001b[1mCalculated 17 performance metrics\u001b[0m\n",
      "\u001b[32m2025-09-12 18:05:53\u001b[0m | \u001b[1mINFO    \u001b[0m | \u001b[36msrc.regime_strategies.utils.metrics\u001b[0m:\u001b[36mcalculate_metrics\u001b[0m:\u001b[36m302\u001b[0m - \u001b[1mCalculated 13 performance metrics\u001b[0m\n",
      "\u001b[32m2025-09-12 18:05:53\u001b[0m | \u001b[1mINFO    \u001b[0m | \u001b[36msrc.regime_strategies.utils.metrics\u001b[0m:\u001b[36mcalculate_metrics\u001b[0m:\u001b[36m302\u001b[0m - \u001b[1mCalculated 13 performance metrics\u001b[0m\n",
      "\u001b[32m2025-09-12 18:05:53\u001b[0m | \u001b[1mINFO    \u001b[0m | \u001b[36msrc.regime_strategies.utils.metrics\u001b[0m:\u001b[36mcalculate_metrics\u001b[0m:\u001b[36m302\u001b[0m - \u001b[1mCalculated 13 performance metrics\u001b[0m\n",
      "\u001b[32m2025-09-12 18:05:53\u001b[0m | \u001b[1mINFO    \u001b[0m | \u001b[36msrc.regime_strategies.utils.metrics\u001b[0m:\u001b[36mcalculate_metrics\u001b[0m:\u001b[36m302\u001b[0m - \u001b[1mCalculated 13 performance metrics\u001b[0m\n",
      "\u001b[32m2025-09-12 18:05:53\u001b[0m | \u001b[1mINFO    \u001b[0m | \u001b[36msrc.regime_strategies.utils.metrics\u001b[0m:\u001b[36mcalculate_metrics\u001b[0m:\u001b[36m302\u001b[0m - \u001b[1mCalculated 13 performance metrics\u001b[0m\n",
      "\u001b[32m2025-09-12 18:05:53\u001b[0m | \u001b[1mINFO    \u001b[0m | \u001b[36msrc.regime_strategies.utils.metrics\u001b[0m:\u001b[36mcalculate_metrics\u001b[0m:\u001b[36m302\u001b[0m - \u001b[1mCalculated 13 performance metrics\u001b[0m\n",
      "\u001b[32m2025-09-12 18:05:53\u001b[0m | \u001b[1mINFO    \u001b[0m | \u001b[36msrc.regime_strategies.utils.metrics\u001b[0m:\u001b[36mcalculate_metrics\u001b[0m:\u001b[36m302\u001b[0m - \u001b[1mCalculated 13 performance metrics\u001b[0m\n",
      "\u001b[32m2025-09-12 18:05:53\u001b[0m | \u001b[1mINFO    \u001b[0m | \u001b[36msrc.regime_strategies.backtesting.performance_evaluator\u001b[0m:\u001b[36mevaluate_strategy\u001b[0m:\u001b[36m72\u001b[0m - \u001b[1mStrategy evaluation completed\u001b[0m\n",
      "\u001b[32m2025-09-12 18:05:53\u001b[0m | \u001b[1mINFO    \u001b[0m | \u001b[36msrc.regime_strategies.backtesting.visualization\u001b[0m:\u001b[36mcreate_performance_dashboard\u001b[0m:\u001b[36m81\u001b[0m - \u001b[1mCreating performance dashboard\u001b[0m\n",
      "\u001b[32m2025-09-12 18:05:54\u001b[0m | \u001b[1mINFO    \u001b[0m | \u001b[36msrc.regime_strategies.main\u001b[0m:\u001b[36mrun_backtest\u001b[0m:\u001b[36m147\u001b[0m - \u001b[1mBacktest completed successfully: {'strategy_name': 'demo_strategy', 'backtest_period': '2022-01-01 to 2022-12-31', 'total_return': np.float64(-0.1451677375753293), 'annualized_return': np.float64(-3.128713088628833), 'annualized_volatility': np.float64(0.5588137634741669), 'sharpe_ratio': np.float64(-5.634637681529462), 'maximum_drawdown': np.float64(-0.19740541166346565), 'regime_prediction_accuracy': np.float64(0.8333333333333334), 'overall_rating': 'Poor', 'static_mpt_outperformance': np.float64(0.5), 'regime_advantage_return': np.float64(-0.031109666323177465), 'regime_advantage_sharpe': np.float64(-1.6223130178984952)}\u001b[0m\n"
     ]
    },
    {
     "name": "stdout",
     "output_type": "stream",
     "text": [
      "\n",
      "============================================================\n",
      "REGIME-AWARE STRATEGY RESULTS\n",
      "============================================================\n",
      "Strategy Name: demo_strategy\n",
      "Backtest Period: 2022-01-01 to 2022-12-31\n",
      "Total Return: -14.52%\n",
      "Annualized Return: -312.87%\n",
      "Volatility: 55.88%\n",
      "Sharpe Ratio: -5.635\n",
      "Maximum Drawdown: -19.74%\n",
      "Regime Prediction Accuracy: 83.3%\n",
      "\n",
      "Benchmark Comparison:\n",
      "Static MPT Outperformance: 50.00%\n",
      "Regime Return Advantage: -3.11%\n",
      "Regime Sharpe Advantage: -1.622\n"
     ]
    }
   ],
   "source": [
    "# Define our investment universe\n",
    "assets = ['SPY', 'TLT', 'GLD']  # S&P 500, Treasury Bonds, Gold\n",
    "start_date = '2022-01-01'\n",
    "end_date = '2022-12-31'\n",
    "\n",
    "print(f\"Running regime-aware backtest...\")\n",
    "print(f\"Assets: {assets}\")\n",
    "print(f\"Period: {start_date} to {end_date}\")\n",
    "print()\n",
    "\n",
    "# Run the backtest\n",
    "result = app.run_backtest(\n",
    "    start_date=start_date,\n",
    "    end_date=end_date,\n",
    "    assets=assets,\n",
    "    strategy_name='demo_strategy',\n",
    "    save_results=False\n",
    ")\n",
    "\n",
    "print(\"\\n\" + \"=\"*60)\n",
    "print(\"REGIME-AWARE STRATEGY RESULTS\")\n",
    "print(\"=\"*60)\n",
    "print(f\"Strategy Name: {result['strategy_name']}\")\n",
    "print(f\"Backtest Period: {result['backtest_period']}\")\n",
    "print(f\"Total Return: {result['total_return']:.2%}\")\n",
    "print(f\"Annualized Return: {result['annualized_return']:.2%}\")\n",
    "print(f\"Volatility: {result['annualized_volatility']:.2%}\")  # Fixed key name\n",
    "print(f\"Sharpe Ratio: {result['sharpe_ratio']:.3f}\")\n",
    "print(f\"Maximum Drawdown: {result['maximum_drawdown']:.2%}\")\n",
    "print(f\"Regime Prediction Accuracy: {result['regime_prediction_accuracy']:.1%}\")\n",
    "\n",
    "print(f\"\\nBenchmark Comparison:\")\n",
    "print(f\"Static MPT Outperformance: {result.get('static_mpt_outperformance', 0):.2%}\")\n",
    "print(f\"Regime Return Advantage: {result.get('regime_advantage_return', 0):+.2%}\")\n",
    "print(f\"Regime Sharpe Advantage: {result.get('regime_advantage_sharpe', 0):+.3f}\")"
   ]
  },
  {
   "cell_type": "markdown",
   "metadata": {},
   "source": [
    "## 3. Portfolio Weight Evolution Visualization\n",
    "\n",
    "Let's visualize how the portfolio weights evolved over time based on regime predictions:"
   ]
  },
  {
   "cell_type": "code",
   "execution_count": 4,
   "metadata": {},
   "outputs": [
    {
     "data": {
      "application/vnd.plotly.v1+json": {
       "config": {
        "plotlyServerURL": "https://plot.ly"
       },
       "data": [
        {
         "hovertemplate": "SPY: %{y:.1f}%<extra></extra>",
         "line": {
          "color": "#1f77b4",
          "width": 2
         },
         "mode": "lines",
         "name": "SPY",
         "type": "scatter",
         "x": [
          "2022-01-31T00:00:00.000000000",
          "2022-02-28T00:00:00.000000000",
          "2022-03-31T00:00:00.000000000",
          "2022-04-30T00:00:00.000000000",
          "2022-05-31T00:00:00.000000000",
          "2022-06-30T00:00:00.000000000",
          "2022-07-31T00:00:00.000000000",
          "2022-08-31T00:00:00.000000000",
          "2022-09-30T00:00:00.000000000",
          "2022-10-31T00:00:00.000000000",
          "2022-11-30T00:00:00.000000000",
          "2022-12-31T00:00:00.000000000"
         ],
         "y": {
          "bdata": "HgEAAAAANEAeAQAAAAA0QB4BAAAAADRAHgEAAAAANEAeAQAAAAA0QB4BAAAAADRAHgEAAAAANEAeAQAAAAA0QB4BAAAAADRAHgEAAAAANEAeAQAAAAA0QB4BAAAAADRA",
          "dtype": "f8"
         }
        },
        {
         "hovertemplate": "TLT: %{y:.1f}%<extra></extra>",
         "line": {
          "color": "#ff7f0e",
          "width": 2
         },
         "mode": "lines",
         "name": "TLT",
         "type": "scatter",
         "x": [
          "2022-01-31T00:00:00.000000000",
          "2022-02-28T00:00:00.000000000",
          "2022-03-31T00:00:00.000000000",
          "2022-04-30T00:00:00.000000000",
          "2022-05-31T00:00:00.000000000",
          "2022-06-30T00:00:00.000000000",
          "2022-07-31T00:00:00.000000000",
          "2022-08-31T00:00:00.000000000",
          "2022-09-30T00:00:00.000000000",
          "2022-10-31T00:00:00.000000000",
          "2022-11-30T00:00:00.000000000",
          "2022-12-31T00:00:00.000000000"
         ],
         "y": {
          "bdata": "BQAAAAAAREAFAAAAAABEQAUAAAAAAERABQAAAAAAREAFAAAAAABEQAUAAAAAAERABQAAAAAAREAFAAAAAABEQAUAAAAAAERABQAAAAAAREAFAAAAAABEQAUAAAAAAERA",
          "dtype": "f8"
         }
        },
        {
         "hovertemplate": "GLD: %{y:.1f}%<extra></extra>",
         "line": {
          "color": "#2ca02c",
          "width": 2
         },
         "mode": "lines",
         "name": "GLD",
         "type": "scatter",
         "x": [
          "2022-01-31T00:00:00.000000000",
          "2022-02-28T00:00:00.000000000",
          "2022-03-31T00:00:00.000000000",
          "2022-04-30T00:00:00.000000000",
          "2022-05-31T00:00:00.000000000",
          "2022-06-30T00:00:00.000000000",
          "2022-07-31T00:00:00.000000000",
          "2022-08-31T00:00:00.000000000",
          "2022-09-30T00:00:00.000000000",
          "2022-10-31T00:00:00.000000000",
          "2022-11-30T00:00:00.000000000",
          "2022-12-31T00:00:00.000000000"
         ],
         "y": {
          "bdata": "bP//////Q0Bs//////9DQGz//////0NAbP//////Q0Bs//////9DQGz//////0NAbP//////Q0Bs//////9DQGz//////0NAbP//////Q0Bs//////9DQGz//////0NA",
          "dtype": "f8"
         }
        }
       ],
       "layout": {
        "height": 500,
        "hovermode": "x unified",
        "template": {
         "data": {
          "bar": [
           {
            "error_x": {
             "color": "#2a3f5f"
            },
            "error_y": {
             "color": "#2a3f5f"
            },
            "marker": {
             "line": {
              "color": "#E5ECF6",
              "width": 0.5
             },
             "pattern": {
              "fillmode": "overlay",
              "size": 10,
              "solidity": 0.2
             }
            },
            "type": "bar"
           }
          ],
          "barpolar": [
           {
            "marker": {
             "line": {
              "color": "#E5ECF6",
              "width": 0.5
             },
             "pattern": {
              "fillmode": "overlay",
              "size": 10,
              "solidity": 0.2
             }
            },
            "type": "barpolar"
           }
          ],
          "carpet": [
           {
            "aaxis": {
             "endlinecolor": "#2a3f5f",
             "gridcolor": "white",
             "linecolor": "white",
             "minorgridcolor": "white",
             "startlinecolor": "#2a3f5f"
            },
            "baxis": {
             "endlinecolor": "#2a3f5f",
             "gridcolor": "white",
             "linecolor": "white",
             "minorgridcolor": "white",
             "startlinecolor": "#2a3f5f"
            },
            "type": "carpet"
           }
          ],
          "choropleth": [
           {
            "colorbar": {
             "outlinewidth": 0,
             "ticks": ""
            },
            "type": "choropleth"
           }
          ],
          "contour": [
           {
            "colorbar": {
             "outlinewidth": 0,
             "ticks": ""
            },
            "colorscale": [
             [
              0,
              "#0d0887"
             ],
             [
              0.1111111111111111,
              "#46039f"
             ],
             [
              0.2222222222222222,
              "#7201a8"
             ],
             [
              0.3333333333333333,
              "#9c179e"
             ],
             [
              0.4444444444444444,
              "#bd3786"
             ],
             [
              0.5555555555555556,
              "#d8576b"
             ],
             [
              0.6666666666666666,
              "#ed7953"
             ],
             [
              0.7777777777777778,
              "#fb9f3a"
             ],
             [
              0.8888888888888888,
              "#fdca26"
             ],
             [
              1,
              "#f0f921"
             ]
            ],
            "type": "contour"
           }
          ],
          "contourcarpet": [
           {
            "colorbar": {
             "outlinewidth": 0,
             "ticks": ""
            },
            "type": "contourcarpet"
           }
          ],
          "heatmap": [
           {
            "colorbar": {
             "outlinewidth": 0,
             "ticks": ""
            },
            "colorscale": [
             [
              0,
              "#0d0887"
             ],
             [
              0.1111111111111111,
              "#46039f"
             ],
             [
              0.2222222222222222,
              "#7201a8"
             ],
             [
              0.3333333333333333,
              "#9c179e"
             ],
             [
              0.4444444444444444,
              "#bd3786"
             ],
             [
              0.5555555555555556,
              "#d8576b"
             ],
             [
              0.6666666666666666,
              "#ed7953"
             ],
             [
              0.7777777777777778,
              "#fb9f3a"
             ],
             [
              0.8888888888888888,
              "#fdca26"
             ],
             [
              1,
              "#f0f921"
             ]
            ],
            "type": "heatmap"
           }
          ],
          "histogram": [
           {
            "marker": {
             "pattern": {
              "fillmode": "overlay",
              "size": 10,
              "solidity": 0.2
             }
            },
            "type": "histogram"
           }
          ],
          "histogram2d": [
           {
            "colorbar": {
             "outlinewidth": 0,
             "ticks": ""
            },
            "colorscale": [
             [
              0,
              "#0d0887"
             ],
             [
              0.1111111111111111,
              "#46039f"
             ],
             [
              0.2222222222222222,
              "#7201a8"
             ],
             [
              0.3333333333333333,
              "#9c179e"
             ],
             [
              0.4444444444444444,
              "#bd3786"
             ],
             [
              0.5555555555555556,
              "#d8576b"
             ],
             [
              0.6666666666666666,
              "#ed7953"
             ],
             [
              0.7777777777777778,
              "#fb9f3a"
             ],
             [
              0.8888888888888888,
              "#fdca26"
             ],
             [
              1,
              "#f0f921"
             ]
            ],
            "type": "histogram2d"
           }
          ],
          "histogram2dcontour": [
           {
            "colorbar": {
             "outlinewidth": 0,
             "ticks": ""
            },
            "colorscale": [
             [
              0,
              "#0d0887"
             ],
             [
              0.1111111111111111,
              "#46039f"
             ],
             [
              0.2222222222222222,
              "#7201a8"
             ],
             [
              0.3333333333333333,
              "#9c179e"
             ],
             [
              0.4444444444444444,
              "#bd3786"
             ],
             [
              0.5555555555555556,
              "#d8576b"
             ],
             [
              0.6666666666666666,
              "#ed7953"
             ],
             [
              0.7777777777777778,
              "#fb9f3a"
             ],
             [
              0.8888888888888888,
              "#fdca26"
             ],
             [
              1,
              "#f0f921"
             ]
            ],
            "type": "histogram2dcontour"
           }
          ],
          "mesh3d": [
           {
            "colorbar": {
             "outlinewidth": 0,
             "ticks": ""
            },
            "type": "mesh3d"
           }
          ],
          "parcoords": [
           {
            "line": {
             "colorbar": {
              "outlinewidth": 0,
              "ticks": ""
             }
            },
            "type": "parcoords"
           }
          ],
          "pie": [
           {
            "automargin": true,
            "type": "pie"
           }
          ],
          "scatter": [
           {
            "fillpattern": {
             "fillmode": "overlay",
             "size": 10,
             "solidity": 0.2
            },
            "type": "scatter"
           }
          ],
          "scatter3d": [
           {
            "line": {
             "colorbar": {
              "outlinewidth": 0,
              "ticks": ""
             }
            },
            "marker": {
             "colorbar": {
              "outlinewidth": 0,
              "ticks": ""
             }
            },
            "type": "scatter3d"
           }
          ],
          "scattercarpet": [
           {
            "marker": {
             "colorbar": {
              "outlinewidth": 0,
              "ticks": ""
             }
            },
            "type": "scattercarpet"
           }
          ],
          "scattergeo": [
           {
            "marker": {
             "colorbar": {
              "outlinewidth": 0,
              "ticks": ""
             }
            },
            "type": "scattergeo"
           }
          ],
          "scattergl": [
           {
            "marker": {
             "colorbar": {
              "outlinewidth": 0,
              "ticks": ""
             }
            },
            "type": "scattergl"
           }
          ],
          "scattermap": [
           {
            "marker": {
             "colorbar": {
              "outlinewidth": 0,
              "ticks": ""
             }
            },
            "type": "scattermap"
           }
          ],
          "scattermapbox": [
           {
            "marker": {
             "colorbar": {
              "outlinewidth": 0,
              "ticks": ""
             }
            },
            "type": "scattermapbox"
           }
          ],
          "scatterpolar": [
           {
            "marker": {
             "colorbar": {
              "outlinewidth": 0,
              "ticks": ""
             }
            },
            "type": "scatterpolar"
           }
          ],
          "scatterpolargl": [
           {
            "marker": {
             "colorbar": {
              "outlinewidth": 0,
              "ticks": ""
             }
            },
            "type": "scatterpolargl"
           }
          ],
          "scatterternary": [
           {
            "marker": {
             "colorbar": {
              "outlinewidth": 0,
              "ticks": ""
             }
            },
            "type": "scatterternary"
           }
          ],
          "surface": [
           {
            "colorbar": {
             "outlinewidth": 0,
             "ticks": ""
            },
            "colorscale": [
             [
              0,
              "#0d0887"
             ],
             [
              0.1111111111111111,
              "#46039f"
             ],
             [
              0.2222222222222222,
              "#7201a8"
             ],
             [
              0.3333333333333333,
              "#9c179e"
             ],
             [
              0.4444444444444444,
              "#bd3786"
             ],
             [
              0.5555555555555556,
              "#d8576b"
             ],
             [
              0.6666666666666666,
              "#ed7953"
             ],
             [
              0.7777777777777778,
              "#fb9f3a"
             ],
             [
              0.8888888888888888,
              "#fdca26"
             ],
             [
              1,
              "#f0f921"
             ]
            ],
            "type": "surface"
           }
          ],
          "table": [
           {
            "cells": {
             "fill": {
              "color": "#EBF0F8"
             },
             "line": {
              "color": "white"
             }
            },
            "header": {
             "fill": {
              "color": "#C8D4E3"
             },
             "line": {
              "color": "white"
             }
            },
            "type": "table"
           }
          ]
         },
         "layout": {
          "annotationdefaults": {
           "arrowcolor": "#2a3f5f",
           "arrowhead": 0,
           "arrowwidth": 1
          },
          "autotypenumbers": "strict",
          "coloraxis": {
           "colorbar": {
            "outlinewidth": 0,
            "ticks": ""
           }
          },
          "colorscale": {
           "diverging": [
            [
             0,
             "#8e0152"
            ],
            [
             0.1,
             "#c51b7d"
            ],
            [
             0.2,
             "#de77ae"
            ],
            [
             0.3,
             "#f1b6da"
            ],
            [
             0.4,
             "#fde0ef"
            ],
            [
             0.5,
             "#f7f7f7"
            ],
            [
             0.6,
             "#e6f5d0"
            ],
            [
             0.7,
             "#b8e186"
            ],
            [
             0.8,
             "#7fbc41"
            ],
            [
             0.9,
             "#4d9221"
            ],
            [
             1,
             "#276419"
            ]
           ],
           "sequential": [
            [
             0,
             "#0d0887"
            ],
            [
             0.1111111111111111,
             "#46039f"
            ],
            [
             0.2222222222222222,
             "#7201a8"
            ],
            [
             0.3333333333333333,
             "#9c179e"
            ],
            [
             0.4444444444444444,
             "#bd3786"
            ],
            [
             0.5555555555555556,
             "#d8576b"
            ],
            [
             0.6666666666666666,
             "#ed7953"
            ],
            [
             0.7777777777777778,
             "#fb9f3a"
            ],
            [
             0.8888888888888888,
             "#fdca26"
            ],
            [
             1,
             "#f0f921"
            ]
           ],
           "sequentialminus": [
            [
             0,
             "#0d0887"
            ],
            [
             0.1111111111111111,
             "#46039f"
            ],
            [
             0.2222222222222222,
             "#7201a8"
            ],
            [
             0.3333333333333333,
             "#9c179e"
            ],
            [
             0.4444444444444444,
             "#bd3786"
            ],
            [
             0.5555555555555556,
             "#d8576b"
            ],
            [
             0.6666666666666666,
             "#ed7953"
            ],
            [
             0.7777777777777778,
             "#fb9f3a"
            ],
            [
             0.8888888888888888,
             "#fdca26"
            ],
            [
             1,
             "#f0f921"
            ]
           ]
          },
          "colorway": [
           "#636efa",
           "#EF553B",
           "#00cc96",
           "#ab63fa",
           "#FFA15A",
           "#19d3f3",
           "#FF6692",
           "#B6E880",
           "#FF97FF",
           "#FECB52"
          ],
          "font": {
           "color": "#2a3f5f"
          },
          "geo": {
           "bgcolor": "white",
           "lakecolor": "white",
           "landcolor": "#E5ECF6",
           "showlakes": true,
           "showland": true,
           "subunitcolor": "white"
          },
          "hoverlabel": {
           "align": "left"
          },
          "hovermode": "closest",
          "mapbox": {
           "style": "light"
          },
          "paper_bgcolor": "white",
          "plot_bgcolor": "#E5ECF6",
          "polar": {
           "angularaxis": {
            "gridcolor": "white",
            "linecolor": "white",
            "ticks": ""
           },
           "bgcolor": "#E5ECF6",
           "radialaxis": {
            "gridcolor": "white",
            "linecolor": "white",
            "ticks": ""
           }
          },
          "scene": {
           "xaxis": {
            "backgroundcolor": "#E5ECF6",
            "gridcolor": "white",
            "gridwidth": 2,
            "linecolor": "white",
            "showbackground": true,
            "ticks": "",
            "zerolinecolor": "white"
           },
           "yaxis": {
            "backgroundcolor": "#E5ECF6",
            "gridcolor": "white",
            "gridwidth": 2,
            "linecolor": "white",
            "showbackground": true,
            "ticks": "",
            "zerolinecolor": "white"
           },
           "zaxis": {
            "backgroundcolor": "#E5ECF6",
            "gridcolor": "white",
            "gridwidth": 2,
            "linecolor": "white",
            "showbackground": true,
            "ticks": "",
            "zerolinecolor": "white"
           }
          },
          "shapedefaults": {
           "line": {
            "color": "#2a3f5f"
           }
          },
          "ternary": {
           "aaxis": {
            "gridcolor": "white",
            "linecolor": "white",
            "ticks": ""
           },
           "baxis": {
            "gridcolor": "white",
            "linecolor": "white",
            "ticks": ""
           },
           "bgcolor": "#E5ECF6",
           "caxis": {
            "gridcolor": "white",
            "linecolor": "white",
            "ticks": ""
           }
          },
          "title": {
           "x": 0.05
          },
          "xaxis": {
           "automargin": true,
           "gridcolor": "white",
           "linecolor": "white",
           "ticks": "",
           "title": {
            "standoff": 15
           },
           "zerolinecolor": "white",
           "zerolinewidth": 2
          },
          "yaxis": {
           "automargin": true,
           "gridcolor": "white",
           "linecolor": "white",
           "ticks": "",
           "title": {
            "standoff": 15
           },
           "zerolinecolor": "white",
           "zerolinewidth": 2
          }
         }
        },
        "title": {
         "text": "Portfolio Weight Evolution Over Time"
        },
        "xaxis": {
         "title": {
          "text": "Date"
         }
        },
        "yaxis": {
         "title": {
          "text": "Weight (%)"
         }
        }
       }
      }
     },
     "metadata": {},
     "output_type": "display_data"
    },
    {
     "name": "stdout",
     "output_type": "stream",
     "text": [
      "Portfolio allocation changes based on regime predictions:\n",
      "        SPY   TLT           GLD\n",
      "count  12.0  12.0  1.200000e+01\n",
      "mean    0.2   0.4  4.000000e-01\n",
      "std     0.0   0.0  5.797951e-17\n",
      "min     0.2   0.4  4.000000e-01\n",
      "25%     0.2   0.4  4.000000e-01\n",
      "50%     0.2   0.4  4.000000e-01\n",
      "75%     0.2   0.4  4.000000e-01\n",
      "max     0.2   0.4  4.000000e-01\n"
     ]
    }
   ],
   "source": [
    "# Get the backtest results for visualization\n",
    "backtest_result = app.backtest_engine.results\n",
    "visualizer = PerformanceVisualizer(app.config)\n",
    "\n",
    "# Create weight evolution plot\n",
    "if hasattr(backtest_result, 'portfolio_weights'):\n",
    "    weights_df = backtest_result.portfolio_weights\n",
    "    \n",
    "    # Create interactive plot\n",
    "    fig = go.Figure()\n",
    "    \n",
    "    colors = ['#1f77b4', '#ff7f0e', '#2ca02c', '#d62728', '#9467bd']\n",
    "    \n",
    "    for i, asset in enumerate(weights_df.columns):\n",
    "        fig.add_trace(go.Scatter(\n",
    "            x=weights_df.index,\n",
    "            y=weights_df[asset] * 100,  # Convert to percentage\n",
    "            mode='lines',\n",
    "            name=asset,\n",
    "            line=dict(width=2, color=colors[i % len(colors)]),\n",
    "            hovertemplate=f'{asset}: %{{y:.1f}}%<extra></extra>'\n",
    "        ))\n",
    "    \n",
    "    fig.update_layout(\n",
    "        title=\"Portfolio Weight Evolution Over Time\",\n",
    "        xaxis_title=\"Date\",\n",
    "        yaxis_title=\"Weight (%)\",\n",
    "        hovermode='x unified',\n",
    "        height=500\n",
    "    )\n",
    "    \n",
    "    fig.show()\n",
    "    \n",
    "    print(\"Portfolio allocation changes based on regime predictions:\")\n",
    "    print(weights_df.describe())\n",
    "else:\n",
    "    print(\"Portfolio weights data not available\")"
   ]
  },
  {
   "cell_type": "markdown",
   "metadata": {},
   "source": [
    "## 4. Regime Transition Analysis\n",
    "\n",
    "Let's examine how market regimes were identified and predicted during our backtest period:"
   ]
  },
  {
   "cell_type": "code",
   "execution_count": 5,
   "metadata": {},
   "outputs": [
    {
     "data": {
      "application/vnd.plotly.v1+json": {
       "config": {
        "plotlyServerURL": "https://plot.ly"
       },
       "data": [
        {
         "line": {
          "color": "blue",
          "width": 2
         },
         "marker": {
          "color": "blue",
          "size": 8
         },
         "mode": "markers+lines",
         "name": "Predicted Regimes",
         "type": "scatter",
         "x": [
          "2022-01-31T00:00:00.000000000",
          "2022-02-28T00:00:00.000000000",
          "2022-03-31T00:00:00.000000000",
          "2022-04-30T00:00:00.000000000",
          "2022-05-31T00:00:00.000000000",
          "2022-06-30T00:00:00.000000000",
          "2022-07-31T00:00:00.000000000",
          "2022-08-31T00:00:00.000000000",
          "2022-09-30T00:00:00.000000000",
          "2022-10-31T00:00:00.000000000",
          "2022-11-30T00:00:00.000000000",
          "2022-12-31T00:00:00.000000000"
         ],
         "xaxis": "x",
         "y": {
          "bdata": "AAAAAAAAAAAAAAAA",
          "dtype": "i1"
         },
         "yaxis": "y"
        },
        {
         "line": {
          "color": "red",
          "dash": "dash",
          "width": 2
         },
         "marker": {
          "color": "red",
          "size": 8,
          "symbol": "x"
         },
         "mode": "markers+lines",
         "name": "Actual Regimes",
         "type": "scatter",
         "x": [
          "2022-01-31T00:00:00.000000000",
          "2022-02-28T00:00:00.000000000",
          "2022-03-31T00:00:00.000000000",
          "2022-04-30T00:00:00.000000000",
          "2022-05-31T00:00:00.000000000",
          "2022-06-30T00:00:00.000000000",
          "2022-07-31T00:00:00.000000000",
          "2022-08-31T00:00:00.000000000",
          "2022-09-30T00:00:00.000000000",
          "2022-10-31T00:00:00.000000000",
          "2022-11-30T00:00:00.000000000",
          "2022-12-31T00:00:00.000000000"
         ],
         "xaxis": "x",
         "y": {
          "bdata": "AAAAAAAAAAAAAAAAAAAAAAAAAAAAAAAAAAAAAAAAAAAAAAAAAAAAAAAAAAAAAAAAAAAAAAAAAAAAAAAAAAAAAAAAAAAAAAAAAAAAAAAAAEAAAAAAAAAAAAAAAAAAAABA",
          "dtype": "f8"
         },
         "yaxis": "y"
        },
        {
         "marker": {
          "color": "lightblue"
         },
         "name": "Regime Frequency",
         "type": "bar",
         "x": [
          "Regime 0"
         ],
         "xaxis": "x2",
         "y": {
          "bdata": "DA==",
          "dtype": "i1"
         },
         "yaxis": "y2"
        }
       ],
       "layout": {
        "annotations": [
         {
          "font": {
           "size": 16
          },
          "showarrow": false,
          "text": "Predicted vs Actual Regimes",
          "x": 0.5,
          "xanchor": "center",
          "xref": "paper",
          "y": 1,
          "yanchor": "bottom",
          "yref": "paper"
         },
         {
          "font": {
           "size": 16
          },
          "showarrow": false,
          "text": "Regime Distribution",
          "x": 0.5,
          "xanchor": "center",
          "xref": "paper",
          "y": 0.425,
          "yanchor": "bottom",
          "yref": "paper"
         }
        ],
        "height": 700,
        "template": {
         "data": {
          "bar": [
           {
            "error_x": {
             "color": "#2a3f5f"
            },
            "error_y": {
             "color": "#2a3f5f"
            },
            "marker": {
             "line": {
              "color": "#E5ECF6",
              "width": 0.5
             },
             "pattern": {
              "fillmode": "overlay",
              "size": 10,
              "solidity": 0.2
             }
            },
            "type": "bar"
           }
          ],
          "barpolar": [
           {
            "marker": {
             "line": {
              "color": "#E5ECF6",
              "width": 0.5
             },
             "pattern": {
              "fillmode": "overlay",
              "size": 10,
              "solidity": 0.2
             }
            },
            "type": "barpolar"
           }
          ],
          "carpet": [
           {
            "aaxis": {
             "endlinecolor": "#2a3f5f",
             "gridcolor": "white",
             "linecolor": "white",
             "minorgridcolor": "white",
             "startlinecolor": "#2a3f5f"
            },
            "baxis": {
             "endlinecolor": "#2a3f5f",
             "gridcolor": "white",
             "linecolor": "white",
             "minorgridcolor": "white",
             "startlinecolor": "#2a3f5f"
            },
            "type": "carpet"
           }
          ],
          "choropleth": [
           {
            "colorbar": {
             "outlinewidth": 0,
             "ticks": ""
            },
            "type": "choropleth"
           }
          ],
          "contour": [
           {
            "colorbar": {
             "outlinewidth": 0,
             "ticks": ""
            },
            "colorscale": [
             [
              0,
              "#0d0887"
             ],
             [
              0.1111111111111111,
              "#46039f"
             ],
             [
              0.2222222222222222,
              "#7201a8"
             ],
             [
              0.3333333333333333,
              "#9c179e"
             ],
             [
              0.4444444444444444,
              "#bd3786"
             ],
             [
              0.5555555555555556,
              "#d8576b"
             ],
             [
              0.6666666666666666,
              "#ed7953"
             ],
             [
              0.7777777777777778,
              "#fb9f3a"
             ],
             [
              0.8888888888888888,
              "#fdca26"
             ],
             [
              1,
              "#f0f921"
             ]
            ],
            "type": "contour"
           }
          ],
          "contourcarpet": [
           {
            "colorbar": {
             "outlinewidth": 0,
             "ticks": ""
            },
            "type": "contourcarpet"
           }
          ],
          "heatmap": [
           {
            "colorbar": {
             "outlinewidth": 0,
             "ticks": ""
            },
            "colorscale": [
             [
              0,
              "#0d0887"
             ],
             [
              0.1111111111111111,
              "#46039f"
             ],
             [
              0.2222222222222222,
              "#7201a8"
             ],
             [
              0.3333333333333333,
              "#9c179e"
             ],
             [
              0.4444444444444444,
              "#bd3786"
             ],
             [
              0.5555555555555556,
              "#d8576b"
             ],
             [
              0.6666666666666666,
              "#ed7953"
             ],
             [
              0.7777777777777778,
              "#fb9f3a"
             ],
             [
              0.8888888888888888,
              "#fdca26"
             ],
             [
              1,
              "#f0f921"
             ]
            ],
            "type": "heatmap"
           }
          ],
          "histogram": [
           {
            "marker": {
             "pattern": {
              "fillmode": "overlay",
              "size": 10,
              "solidity": 0.2
             }
            },
            "type": "histogram"
           }
          ],
          "histogram2d": [
           {
            "colorbar": {
             "outlinewidth": 0,
             "ticks": ""
            },
            "colorscale": [
             [
              0,
              "#0d0887"
             ],
             [
              0.1111111111111111,
              "#46039f"
             ],
             [
              0.2222222222222222,
              "#7201a8"
             ],
             [
              0.3333333333333333,
              "#9c179e"
             ],
             [
              0.4444444444444444,
              "#bd3786"
             ],
             [
              0.5555555555555556,
              "#d8576b"
             ],
             [
              0.6666666666666666,
              "#ed7953"
             ],
             [
              0.7777777777777778,
              "#fb9f3a"
             ],
             [
              0.8888888888888888,
              "#fdca26"
             ],
             [
              1,
              "#f0f921"
             ]
            ],
            "type": "histogram2d"
           }
          ],
          "histogram2dcontour": [
           {
            "colorbar": {
             "outlinewidth": 0,
             "ticks": ""
            },
            "colorscale": [
             [
              0,
              "#0d0887"
             ],
             [
              0.1111111111111111,
              "#46039f"
             ],
             [
              0.2222222222222222,
              "#7201a8"
             ],
             [
              0.3333333333333333,
              "#9c179e"
             ],
             [
              0.4444444444444444,
              "#bd3786"
             ],
             [
              0.5555555555555556,
              "#d8576b"
             ],
             [
              0.6666666666666666,
              "#ed7953"
             ],
             [
              0.7777777777777778,
              "#fb9f3a"
             ],
             [
              0.8888888888888888,
              "#fdca26"
             ],
             [
              1,
              "#f0f921"
             ]
            ],
            "type": "histogram2dcontour"
           }
          ],
          "mesh3d": [
           {
            "colorbar": {
             "outlinewidth": 0,
             "ticks": ""
            },
            "type": "mesh3d"
           }
          ],
          "parcoords": [
           {
            "line": {
             "colorbar": {
              "outlinewidth": 0,
              "ticks": ""
             }
            },
            "type": "parcoords"
           }
          ],
          "pie": [
           {
            "automargin": true,
            "type": "pie"
           }
          ],
          "scatter": [
           {
            "fillpattern": {
             "fillmode": "overlay",
             "size": 10,
             "solidity": 0.2
            },
            "type": "scatter"
           }
          ],
          "scatter3d": [
           {
            "line": {
             "colorbar": {
              "outlinewidth": 0,
              "ticks": ""
             }
            },
            "marker": {
             "colorbar": {
              "outlinewidth": 0,
              "ticks": ""
             }
            },
            "type": "scatter3d"
           }
          ],
          "scattercarpet": [
           {
            "marker": {
             "colorbar": {
              "outlinewidth": 0,
              "ticks": ""
             }
            },
            "type": "scattercarpet"
           }
          ],
          "scattergeo": [
           {
            "marker": {
             "colorbar": {
              "outlinewidth": 0,
              "ticks": ""
             }
            },
            "type": "scattergeo"
           }
          ],
          "scattergl": [
           {
            "marker": {
             "colorbar": {
              "outlinewidth": 0,
              "ticks": ""
             }
            },
            "type": "scattergl"
           }
          ],
          "scattermap": [
           {
            "marker": {
             "colorbar": {
              "outlinewidth": 0,
              "ticks": ""
             }
            },
            "type": "scattermap"
           }
          ],
          "scattermapbox": [
           {
            "marker": {
             "colorbar": {
              "outlinewidth": 0,
              "ticks": ""
             }
            },
            "type": "scattermapbox"
           }
          ],
          "scatterpolar": [
           {
            "marker": {
             "colorbar": {
              "outlinewidth": 0,
              "ticks": ""
             }
            },
            "type": "scatterpolar"
           }
          ],
          "scatterpolargl": [
           {
            "marker": {
             "colorbar": {
              "outlinewidth": 0,
              "ticks": ""
             }
            },
            "type": "scatterpolargl"
           }
          ],
          "scatterternary": [
           {
            "marker": {
             "colorbar": {
              "outlinewidth": 0,
              "ticks": ""
             }
            },
            "type": "scatterternary"
           }
          ],
          "surface": [
           {
            "colorbar": {
             "outlinewidth": 0,
             "ticks": ""
            },
            "colorscale": [
             [
              0,
              "#0d0887"
             ],
             [
              0.1111111111111111,
              "#46039f"
             ],
             [
              0.2222222222222222,
              "#7201a8"
             ],
             [
              0.3333333333333333,
              "#9c179e"
             ],
             [
              0.4444444444444444,
              "#bd3786"
             ],
             [
              0.5555555555555556,
              "#d8576b"
             ],
             [
              0.6666666666666666,
              "#ed7953"
             ],
             [
              0.7777777777777778,
              "#fb9f3a"
             ],
             [
              0.8888888888888888,
              "#fdca26"
             ],
             [
              1,
              "#f0f921"
             ]
            ],
            "type": "surface"
           }
          ],
          "table": [
           {
            "cells": {
             "fill": {
              "color": "#EBF0F8"
             },
             "line": {
              "color": "white"
             }
            },
            "header": {
             "fill": {
              "color": "#C8D4E3"
             },
             "line": {
              "color": "white"
             }
            },
            "type": "table"
           }
          ]
         },
         "layout": {
          "annotationdefaults": {
           "arrowcolor": "#2a3f5f",
           "arrowhead": 0,
           "arrowwidth": 1
          },
          "autotypenumbers": "strict",
          "coloraxis": {
           "colorbar": {
            "outlinewidth": 0,
            "ticks": ""
           }
          },
          "colorscale": {
           "diverging": [
            [
             0,
             "#8e0152"
            ],
            [
             0.1,
             "#c51b7d"
            ],
            [
             0.2,
             "#de77ae"
            ],
            [
             0.3,
             "#f1b6da"
            ],
            [
             0.4,
             "#fde0ef"
            ],
            [
             0.5,
             "#f7f7f7"
            ],
            [
             0.6,
             "#e6f5d0"
            ],
            [
             0.7,
             "#b8e186"
            ],
            [
             0.8,
             "#7fbc41"
            ],
            [
             0.9,
             "#4d9221"
            ],
            [
             1,
             "#276419"
            ]
           ],
           "sequential": [
            [
             0,
             "#0d0887"
            ],
            [
             0.1111111111111111,
             "#46039f"
            ],
            [
             0.2222222222222222,
             "#7201a8"
            ],
            [
             0.3333333333333333,
             "#9c179e"
            ],
            [
             0.4444444444444444,
             "#bd3786"
            ],
            [
             0.5555555555555556,
             "#d8576b"
            ],
            [
             0.6666666666666666,
             "#ed7953"
            ],
            [
             0.7777777777777778,
             "#fb9f3a"
            ],
            [
             0.8888888888888888,
             "#fdca26"
            ],
            [
             1,
             "#f0f921"
            ]
           ],
           "sequentialminus": [
            [
             0,
             "#0d0887"
            ],
            [
             0.1111111111111111,
             "#46039f"
            ],
            [
             0.2222222222222222,
             "#7201a8"
            ],
            [
             0.3333333333333333,
             "#9c179e"
            ],
            [
             0.4444444444444444,
             "#bd3786"
            ],
            [
             0.5555555555555556,
             "#d8576b"
            ],
            [
             0.6666666666666666,
             "#ed7953"
            ],
            [
             0.7777777777777778,
             "#fb9f3a"
            ],
            [
             0.8888888888888888,
             "#fdca26"
            ],
            [
             1,
             "#f0f921"
            ]
           ]
          },
          "colorway": [
           "#636efa",
           "#EF553B",
           "#00cc96",
           "#ab63fa",
           "#FFA15A",
           "#19d3f3",
           "#FF6692",
           "#B6E880",
           "#FF97FF",
           "#FECB52"
          ],
          "font": {
           "color": "#2a3f5f"
          },
          "geo": {
           "bgcolor": "white",
           "lakecolor": "white",
           "landcolor": "#E5ECF6",
           "showlakes": true,
           "showland": true,
           "subunitcolor": "white"
          },
          "hoverlabel": {
           "align": "left"
          },
          "hovermode": "closest",
          "mapbox": {
           "style": "light"
          },
          "paper_bgcolor": "white",
          "plot_bgcolor": "#E5ECF6",
          "polar": {
           "angularaxis": {
            "gridcolor": "white",
            "linecolor": "white",
            "ticks": ""
           },
           "bgcolor": "#E5ECF6",
           "radialaxis": {
            "gridcolor": "white",
            "linecolor": "white",
            "ticks": ""
           }
          },
          "scene": {
           "xaxis": {
            "backgroundcolor": "#E5ECF6",
            "gridcolor": "white",
            "gridwidth": 2,
            "linecolor": "white",
            "showbackground": true,
            "ticks": "",
            "zerolinecolor": "white"
           },
           "yaxis": {
            "backgroundcolor": "#E5ECF6",
            "gridcolor": "white",
            "gridwidth": 2,
            "linecolor": "white",
            "showbackground": true,
            "ticks": "",
            "zerolinecolor": "white"
           },
           "zaxis": {
            "backgroundcolor": "#E5ECF6",
            "gridcolor": "white",
            "gridwidth": 2,
            "linecolor": "white",
            "showbackground": true,
            "ticks": "",
            "zerolinecolor": "white"
           }
          },
          "shapedefaults": {
           "line": {
            "color": "#2a3f5f"
           }
          },
          "ternary": {
           "aaxis": {
            "gridcolor": "white",
            "linecolor": "white",
            "ticks": ""
           },
           "baxis": {
            "gridcolor": "white",
            "linecolor": "white",
            "ticks": ""
           },
           "bgcolor": "#E5ECF6",
           "caxis": {
            "gridcolor": "white",
            "linecolor": "white",
            "ticks": ""
           }
          },
          "title": {
           "x": 0.05
          },
          "xaxis": {
           "automargin": true,
           "gridcolor": "white",
           "linecolor": "white",
           "ticks": "",
           "title": {
            "standoff": 15
           },
           "zerolinecolor": "white",
           "zerolinewidth": 2
          },
          "yaxis": {
           "automargin": true,
           "gridcolor": "white",
           "linecolor": "white",
           "ticks": "",
           "title": {
            "standoff": 15
           },
           "zerolinecolor": "white",
           "zerolinewidth": 2
          }
         }
        },
        "title": {
         "text": "Market Regime Analysis"
        },
        "xaxis": {
         "anchor": "y",
         "domain": [
          0,
          1
         ],
         "title": {
          "text": "Date"
         }
        },
        "xaxis2": {
         "anchor": "y2",
         "domain": [
          0,
          1
         ]
        },
        "yaxis": {
         "anchor": "x",
         "domain": [
          0.575,
          1
         ],
         "title": {
          "text": "Regime"
         }
        },
        "yaxis2": {
         "anchor": "x2",
         "domain": [
          0,
          0.425
         ],
         "title": {
          "text": "Frequency"
         }
        }
       }
      }
     },
     "metadata": {},
     "output_type": "display_data"
    },
    {
     "name": "stdout",
     "output_type": "stream",
     "text": [
      "\n",
      "Regime Prediction Accuracy: 83.3%\n",
      "\n",
      "Regime Interpretation (Investment Clock):\n",
      "  Regime 0: Slowing (Low Growth, Low Inflation)\n"
     ]
    }
   ],
   "source": [
    "# Analyze regime transitions\n",
    "if hasattr(backtest_result, 'predicted_regimes') and hasattr(backtest_result, 'actual_regimes'):\n",
    "    predicted_regimes = backtest_result.predicted_regimes\n",
    "    actual_regimes = backtest_result.actual_regimes\n",
    "    \n",
    "    # Create regime transition plot\n",
    "    fig = make_subplots(\n",
    "        rows=2, cols=1,\n",
    "        subplot_titles=['Predicted vs Actual Regimes', 'Regime Distribution'],\n",
    "        vertical_spacing=0.15\n",
    "    )\n",
    "    \n",
    "    # Regime transitions plot\n",
    "    fig.add_trace(\n",
    "        go.Scatter(\n",
    "            x=predicted_regimes.index,\n",
    "            y=predicted_regimes,\n",
    "            mode='markers+lines',\n",
    "            name='Predicted Regimes',\n",
    "            marker=dict(size=8, color='blue'),\n",
    "            line=dict(width=2, color='blue')\n",
    "        ),\n",
    "        row=1, col=1\n",
    "    )\n",
    "    \n",
    "    fig.add_trace(\n",
    "        go.Scatter(\n",
    "            x=actual_regimes.index,\n",
    "            y=actual_regimes,\n",
    "            mode='markers+lines',\n",
    "            name='Actual Regimes',\n",
    "            marker=dict(size=8, color='red', symbol='x'),\n",
    "            line=dict(width=2, color='red', dash='dash')\n",
    "        ),\n",
    "        row=1, col=1\n",
    "    )\n",
    "    \n",
    "    # Regime distribution histogram\n",
    "    regime_counts = predicted_regimes.value_counts().sort_index()\n",
    "    regime_labels = [f'Regime {int(r)}' for r in regime_counts.index]\n",
    "    \n",
    "    fig.add_trace(\n",
    "        go.Bar(\n",
    "            x=regime_labels,\n",
    "            y=regime_counts.values,\n",
    "            name='Regime Frequency',\n",
    "            marker_color='lightblue'\n",
    "        ),\n",
    "        row=2, col=1\n",
    "    )\n",
    "    \n",
    "    fig.update_layout(\n",
    "        title=\"Market Regime Analysis\",\n",
    "        height=700\n",
    "    )\n",
    "    \n",
    "    fig.update_yaxes(title_text=\"Regime\", row=1, col=1)\n",
    "    fig.update_yaxes(title_text=\"Frequency\", row=2, col=1)\n",
    "    fig.update_xaxes(title_text=\"Date\", row=1, col=1)\n",
    "    \n",
    "    fig.show()\n",
    "    \n",
    "    # Calculate prediction accuracy\n",
    "    accuracy = (predicted_regimes == actual_regimes).mean()\n",
    "    print(f\"\\nRegime Prediction Accuracy: {accuracy:.1%}\")\n",
    "    \n",
    "    # Show regime mapping\n",
    "    regime_mapping = {\n",
    "        0: \"Slowing (Low Growth, Low Inflation)\",\n",
    "        1: \"Heating (High Growth, High Inflation)\", \n",
    "        2: \"Growing (High Growth, Low Inflation)\",\n",
    "        3: \"Stagflation (Low Growth, High Inflation)\"\n",
    "    }\n",
    "    \n",
    "    print(\"\\nRegime Interpretation (Investment Clock):\")\n",
    "    for regime_id, description in regime_mapping.items():\n",
    "        if regime_id in regime_counts.index:\n",
    "            print(f\"  Regime {regime_id}: {description}\")\n",
    "else:\n",
    "    print(\"Regime data not available for visualization\")"
   ]
  },
  {
   "cell_type": "markdown",
   "metadata": {},
   "source": [
    "## 5. Strategy Comparison: Max Sharpe vs Risk Parity\n",
    "\n",
    "Let's compare different optimization methods within our regime-aware framework:"
   ]
  },
  {
   "cell_type": "code",
   "execution_count": 6,
   "metadata": {},
   "outputs": [
    {
     "name": "stderr",
     "output_type": "stream",
     "text": [
      "\u001b[32m2025-09-12 18:05:55\u001b[0m | \u001b[1mINFO    \u001b[0m | \u001b[36msrc.regime_strategies.main\u001b[0m:\u001b[36mrun_backtest\u001b[0m:\u001b[36m82\u001b[0m - \u001b[1mStarting backtest: 2022-01-01 to 2022-12-31\u001b[0m\n",
      "\u001b[32m2025-09-12 18:05:55\u001b[0m | \u001b[1mINFO    \u001b[0m | \u001b[36msrc.regime_strategies.backtesting.backtest_engine\u001b[0m:\u001b[36mrun_backtest\u001b[0m:\u001b[36m116\u001b[0m - \u001b[1mStarting backtest: 2022-01-01 00:00:00 to 2022-12-31 00:00:00\u001b[0m\n",
      "\u001b[32m2025-09-12 18:05:55\u001b[0m | \u001b[1mINFO    \u001b[0m | \u001b[36msrc.regime_strategies.backtesting.backtest_engine\u001b[0m:\u001b[36m_load_backtest_data\u001b[0m:\u001b[36m147\u001b[0m - \u001b[1mLoading backtest data\u001b[0m\n",
      "\u001b[32m2025-09-12 18:05:55\u001b[0m | \u001b[1mINFO    \u001b[0m | \u001b[36msrc.regime_strategies.utils.data_utils\u001b[0m:\u001b[36mclean_returns\u001b[0m:\u001b[36m138\u001b[0m - \u001b[1mWinsorized 16 extreme values\u001b[0m\n",
      "\u001b[32m2025-09-12 18:05:55\u001b[0m | \u001b[1mINFO    \u001b[0m | \u001b[36msrc.regime_strategies.data.market_data\u001b[0m:\u001b[36mcalculate_returns\u001b[0m:\u001b[36m136\u001b[0m - \u001b[1mCalculated simple returns. Shape: (755, 1)\u001b[0m\n",
      "\u001b[32m2025-09-12 18:05:55\u001b[0m | \u001b[1mINFO    \u001b[0m | \u001b[36msrc.regime_strategies.optimization.portfolio_optimizer\u001b[0m:\u001b[36moptimize\u001b[0m:\u001b[36m640\u001b[0m - \u001b[1mOptimizing portfolio using max_sharpe method\u001b[0m\n",
      "\u001b[32m2025-09-12 18:05:55\u001b[0m | \u001b[33m\u001b[1mWARNING \u001b[0m | \u001b[36msrc.regime_strategies.optimization.portfolio_optimizer\u001b[0m:\u001b[36m_optimize_cvxpy\u001b[0m:\u001b[36m149\u001b[0m - \u001b[33m\u001b[1mAll CVXPY solvers failed, falling back to scipy\u001b[0m\n",
      "\u001b[32m2025-09-12 18:05:55\u001b[0m | \u001b[1mINFO    \u001b[0m | \u001b[36msrc.regime_strategies.optimization.portfolio_optimizer\u001b[0m:\u001b[36m_log_optimization_results\u001b[0m:\u001b[36m744\u001b[0m - \u001b[1mOptimization completed: max_sharpe_scipy | Status: optimal | Return: 0.0540 | Vol: 0.1190 | Sharpe: 0.2859\u001b[0m\n",
      "\u001b[32m2025-09-12 18:05:55\u001b[0m | \u001b[1mINFO    \u001b[0m | \u001b[36msrc.regime_strategies.backtesting.backtest_engine\u001b[0m:\u001b[36m_calculate_static_mpt_weights\u001b[0m:\u001b[36m541\u001b[0m - \u001b[1mStatic MPT benchmark weights calculated: Return=0.054, Vol=0.119, Sharpe=0.286\u001b[0m\n",
      "\u001b[32m2025-09-12 18:05:55\u001b[0m | \u001b[1mINFO    \u001b[0m | \u001b[36msrc.regime_strategies.backtesting.backtest_engine\u001b[0m:\u001b[36m_load_backtest_data\u001b[0m:\u001b[36m184\u001b[0m - \u001b[1mLoaded data: 755 market observations, 36 economic observations\u001b[0m\n",
      "\u001b[32m2025-09-12 18:05:55\u001b[0m | \u001b[1mINFO    \u001b[0m | \u001b[36msrc.regime_strategies.backtesting.backtest_engine\u001b[0m:\u001b[36m_fit_regime_models\u001b[0m:\u001b[36m189\u001b[0m - \u001b[1mFitting regime models\u001b[0m\n",
      "\u001b[32m2025-09-12 18:05:55\u001b[0m | \u001b[1mINFO    \u001b[0m | \u001b[36msrc.regime_strategies.models.regime_identifier\u001b[0m:\u001b[36mfit\u001b[0m:\u001b[36m353\u001b[0m - \u001b[1mFitting regime identifier using investment_clock method\u001b[0m\n",
      "\u001b[32m2025-09-12 18:05:55\u001b[0m | \u001b[1mINFO    \u001b[0m | \u001b[36msrc.regime_strategies.models.regime_identifier\u001b[0m:\u001b[36midentify_regimes\u001b[0m:\u001b[36m62\u001b[0m - \u001b[1mIdentifying regimes using Investment Clock methodology\u001b[0m\n",
      "\u001b[32m2025-09-12 18:05:55\u001b[0m | \u001b[1mINFO    \u001b[0m | \u001b[36msrc.regime_strategies.models.regime_identifier\u001b[0m:\u001b[36midentify_regimes\u001b[0m:\u001b[36m98\u001b[0m - \u001b[1mSlowing: 26 periods (72.2%)\u001b[0m\n",
      "\u001b[32m2025-09-12 18:05:55\u001b[0m | \u001b[1mINFO    \u001b[0m | \u001b[36msrc.regime_strategies.models.regime_identifier\u001b[0m:\u001b[36midentify_regimes\u001b[0m:\u001b[36m98\u001b[0m - \u001b[1mGrowing: 10 periods (27.8%)\u001b[0m\n",
      "\u001b[32m2025-09-12 18:05:55\u001b[0m | \u001b[1mINFO    \u001b[0m | \u001b[36msrc.regime_strategies.models.regime_identifier\u001b[0m:\u001b[36mfit\u001b[0m:\u001b[36m378\u001b[0m - \u001b[1mRegime identification completed. Total regimes identified: 36\u001b[0m\n",
      "\u001b[32m2025-09-12 18:05:55\u001b[0m | \u001b[1mINFO    \u001b[0m | \u001b[36msrc.regime_strategies.models.cma_calculator\u001b[0m:\u001b[36mfit\u001b[0m:\u001b[36m67\u001b[0m - \u001b[1mFitting regime-conditional CMAs\u001b[0m\n",
      "\u001b[32m2025-09-12 18:05:55\u001b[0m | \u001b[1mINFO    \u001b[0m | \u001b[36msrc.regime_strategies.utils.data_utils\u001b[0m:\u001b[36mclean_returns\u001b[0m:\u001b[36m138\u001b[0m - \u001b[1mWinsorized 2 extreme values\u001b[0m\n",
      "\u001b[32m2025-09-12 18:05:55\u001b[0m | \u001b[1mINFO    \u001b[0m | \u001b[36msrc.regime_strategies.utils.data_utils\u001b[0m:\u001b[36mclean_returns\u001b[0m:\u001b[36m138\u001b[0m - \u001b[1mWinsorized 2 extreme values\u001b[0m\n",
      "\u001b[32m2025-09-12 18:05:55\u001b[0m | \u001b[1mINFO    \u001b[0m | \u001b[36msrc.regime_strategies.utils.data_utils\u001b[0m:\u001b[36mclean_returns\u001b[0m:\u001b[36m138\u001b[0m - \u001b[1mWinsorized 2 extreme values\u001b[0m\n",
      "\u001b[32m2025-09-12 18:05:55\u001b[0m | \u001b[33m\u001b[1mWARNING \u001b[0m | \u001b[36msrc.regime_strategies.models.cma_calculator\u001b[0m:\u001b[36mfit\u001b[0m:\u001b[36m92\u001b[0m - \u001b[33m\u001b[1mInsufficient observations for regime 0.0: 18 < 30. Using unconditional CMA.\u001b[0m\n",
      "\u001b[32m2025-09-12 18:05:55\u001b[0m | \u001b[33m\u001b[1mWARNING \u001b[0m | \u001b[36msrc.regime_strategies.models.cma_calculator\u001b[0m:\u001b[36mfit\u001b[0m:\u001b[36m92\u001b[0m - \u001b[33m\u001b[1mInsufficient observations for regime 2.0: 7 < 30. Using unconditional CMA.\u001b[0m\n",
      "\u001b[32m2025-09-12 18:05:55\u001b[0m | \u001b[33m\u001b[1mWARNING \u001b[0m | \u001b[36msrc.regime_strategies.models.cma_calculator\u001b[0m:\u001b[36m_validate_cmas\u001b[0m:\u001b[36m394\u001b[0m - \u001b[33m\u001b[1mRegime 0.0: Unrealistic expected returns\u001b[0m\n",
      "\u001b[32m2025-09-12 18:05:55\u001b[0m | \u001b[33m\u001b[1mWARNING \u001b[0m | \u001b[36msrc.regime_strategies.models.cma_calculator\u001b[0m:\u001b[36m_validate_cmas\u001b[0m:\u001b[36m394\u001b[0m - \u001b[33m\u001b[1mRegime 2.0: Unrealistic expected returns\u001b[0m\n",
      "\u001b[32m2025-09-12 18:05:55\u001b[0m | \u001b[1mINFO    \u001b[0m | \u001b[36msrc.regime_strategies.models.cma_calculator\u001b[0m:\u001b[36m_log_cma_summary\u001b[0m:\u001b[36m400\u001b[0m - \u001b[1mCalculated CMAs for 2 regimes\u001b[0m\n",
      "\u001b[32m2025-09-12 18:05:55\u001b[0m | \u001b[1mINFO    \u001b[0m | \u001b[36msrc.regime_strategies.models.cma_calculator\u001b[0m:\u001b[36m_log_cma_summary\u001b[0m:\u001b[36m410\u001b[0m - \u001b[1mRegime 0.0: Avg return -30.79%, Avg volatility 16.14%, Observations: 18\u001b[0m\n",
      "\u001b[32m2025-09-12 18:05:55\u001b[0m | \u001b[1mINFO    \u001b[0m | \u001b[36msrc.regime_strategies.models.cma_calculator\u001b[0m:\u001b[36m_log_cma_summary\u001b[0m:\u001b[36m410\u001b[0m - \u001b[1mRegime 2.0: Avg return -30.79%, Avg volatility 16.14%, Observations: 7\u001b[0m\n",
      "\u001b[32m2025-09-12 18:05:55\u001b[0m | \u001b[1mINFO    \u001b[0m | \u001b[36msrc.regime_strategies.models.regime_forecaster\u001b[0m:\u001b[36mfit\u001b[0m:\u001b[36m196\u001b[0m - \u001b[1mFitting regime forecasting models\u001b[0m\n",
      "\u001b[32m2025-09-12 18:05:55\u001b[0m | \u001b[1mINFO    \u001b[0m | \u001b[36msrc.regime_strategies.models.regime_forecaster\u001b[0m:\u001b[36m_prepare_training_data\u001b[0m:\u001b[36m456\u001b[0m - \u001b[1mPrepared training data: 23 samples, 14 features\u001b[0m\n",
      "\u001b[32m2025-09-12 18:05:55\u001b[0m | \u001b[1mINFO    \u001b[0m | \u001b[36msrc.regime_strategies.models.regime_forecaster\u001b[0m:\u001b[36mfit\u001b[0m:\u001b[36m220\u001b[0m - \u001b[1mFitting random_forest model\u001b[0m\n"
     ]
    },
    {
     "name": "stdout",
     "output_type": "stream",
     "text": [
      "\n",
      "Running Max Sharpe strategy...\n"
     ]
    },
    {
     "name": "stderr",
     "output_type": "stream",
     "text": [
      "\u001b[32m2025-09-12 18:05:55\u001b[0m | \u001b[1mINFO    \u001b[0m | \u001b[36msrc.regime_strategies.models.regime_forecaster\u001b[0m:\u001b[36mfit\u001b[0m:\u001b[36m236\u001b[0m - \u001b[1mrandom_forest validation accuracy: 0.800\u001b[0m\n",
      "\u001b[32m2025-09-12 18:05:55\u001b[0m | \u001b[1mINFO    \u001b[0m | \u001b[36msrc.regime_strategies.models.regime_forecaster\u001b[0m:\u001b[36mfit\u001b[0m:\u001b[36m220\u001b[0m - \u001b[1mFitting logistic_regression model\u001b[0m\n",
      "\u001b[32m2025-09-12 18:05:55\u001b[0m | \u001b[1mINFO    \u001b[0m | \u001b[36msrc.regime_strategies.models.regime_forecaster\u001b[0m:\u001b[36mfit\u001b[0m:\u001b[36m236\u001b[0m - \u001b[1mlogistic_regression validation accuracy: 0.800\u001b[0m\n",
      "\u001b[32m2025-09-12 18:05:55\u001b[0m | \u001b[1mINFO    \u001b[0m | \u001b[36msrc.regime_strategies.models.regime_forecaster\u001b[0m:\u001b[36mfit\u001b[0m:\u001b[36m65\u001b[0m - \u001b[1mNaive predictor fitted\u001b[0m\n",
      "\u001b[32m2025-09-12 18:05:55\u001b[0m | \u001b[1mINFO    \u001b[0m | \u001b[36msrc.regime_strategies.models.regime_forecaster\u001b[0m:\u001b[36mfit\u001b[0m:\u001b[36m248\u001b[0m - \u001b[1mNaive predictor validation accuracy: 0.800\u001b[0m\n",
      "\u001b[32m2025-09-12 18:05:55\u001b[0m | \u001b[1mINFO    \u001b[0m | \u001b[36msrc.regime_strategies.models.regime_forecaster\u001b[0m:\u001b[36m_create_ensemble_model\u001b[0m:\u001b[36m525\u001b[0m - \u001b[1mCreated ensemble model using voting method\u001b[0m\n",
      "\u001b[32m2025-09-12 18:05:55\u001b[0m | \u001b[1mINFO    \u001b[0m | \u001b[36msrc.regime_strategies.models.regime_forecaster\u001b[0m:\u001b[36mfit\u001b[0m:\u001b[36m259\u001b[0m - \u001b[1mEnsemble validation accuracy: 0.800\u001b[0m\n",
      "\u001b[32m2025-09-12 18:05:56\u001b[0m | \u001b[1mINFO    \u001b[0m | \u001b[36msrc.regime_strategies.models.regime_forecaster\u001b[0m:\u001b[36m_perform_cross_validation\u001b[0m:\u001b[36m558\u001b[0m - \u001b[1mrandom_forest CV accuracy: 0.667 (+/- 0.596)\u001b[0m\n",
      "\u001b[32m2025-09-12 18:05:56\u001b[0m | \u001b[1mINFO    \u001b[0m | \u001b[36msrc.regime_strategies.models.regime_forecaster\u001b[0m:\u001b[36m_perform_cross_validation\u001b[0m:\u001b[36m558\u001b[0m - \u001b[1mlogistic_regression CV accuracy: 0.800 (+/- 0.533)\u001b[0m\n",
      "\u001b[32m2025-09-12 18:05:56\u001b[0m | \u001b[1mINFO    \u001b[0m | \u001b[36msrc.regime_strategies.models.regime_forecaster\u001b[0m:\u001b[36mfit\u001b[0m:\u001b[36m264\u001b[0m - \u001b[1mRegime forecasting models fitted successfully\u001b[0m\n",
      "\u001b[32m2025-09-12 18:05:56\u001b[0m | \u001b[1mINFO    \u001b[0m | \u001b[36msrc.regime_strategies.backtesting.backtest_engine\u001b[0m:\u001b[36m_fit_regime_models\u001b[0m:\u001b[36m216\u001b[0m - \u001b[1mRegime models fitted successfully\u001b[0m\n",
      "\u001b[32m2025-09-12 18:05:56\u001b[0m | \u001b[1mINFO    \u001b[0m | \u001b[36msrc.regime_strategies.backtesting.backtest_engine\u001b[0m:\u001b[36m_run_simulation_loop\u001b[0m:\u001b[36m224\u001b[0m - \u001b[1mStarting simulation loop\u001b[0m\n",
      "\u001b[32m2025-09-12 18:05:56\u001b[0m | \u001b[1mINFO    \u001b[0m | \u001b[36msrc.regime_strategies.models.regime_forecaster\u001b[0m:\u001b[36mforecast_regime\u001b[0m:\u001b[36m368\u001b[0m - \u001b[1mForecasting regime for 2022-01-31 00:00:00 (horizon: 1)\u001b[0m\n",
      "\u001b[32m2025-09-12 18:05:56\u001b[0m | \u001b[33m\u001b[1mWARNING \u001b[0m | \u001b[36msrc.regime_strategies.models.regime_forecaster\u001b[0m:\u001b[36m_prepare_prediction_features\u001b[0m:\u001b[36m481\u001b[0m - \u001b[33m\u001b[1mFeature mismatch detected. Training: 14, Prediction: 9\u001b[0m\n",
      "\u001b[32m2025-09-12 18:05:56\u001b[0m | \u001b[33m\u001b[1mWARNING \u001b[0m | \u001b[36msrc.regime_strategies.models.regime_forecaster\u001b[0m:\u001b[36m_prepare_prediction_features\u001b[0m:\u001b[36m481\u001b[0m - \u001b[33m\u001b[1mFeature mismatch detected. Training: 14, Prediction: 9\u001b[0m\n",
      "\u001b[32m2025-09-12 18:05:56\u001b[0m | \u001b[1mINFO    \u001b[0m | \u001b[36msrc.regime_strategies.optimization.portfolio_optimizer\u001b[0m:\u001b[36moptimize\u001b[0m:\u001b[36m640\u001b[0m - \u001b[1mOptimizing portfolio using max_sharpe method\u001b[0m\n",
      "\u001b[32m2025-09-12 18:05:56\u001b[0m | \u001b[33m\u001b[1mWARNING \u001b[0m | \u001b[36msrc.regime_strategies.optimization.portfolio_optimizer\u001b[0m:\u001b[36m_optimize_cvxpy\u001b[0m:\u001b[36m149\u001b[0m - \u001b[33m\u001b[1mAll CVXPY solvers failed, falling back to scipy\u001b[0m\n",
      "\u001b[32m2025-09-12 18:05:56\u001b[0m | \u001b[1mINFO    \u001b[0m | \u001b[36msrc.regime_strategies.optimization.portfolio_optimizer\u001b[0m:\u001b[36m_log_optimization_results\u001b[0m:\u001b[36m744\u001b[0m - \u001b[1mOptimization completed: max_sharpe_scipy | Status: optimal | Return: -0.2287 | Vol: 0.1046 | Sharpe: -2.3784\u001b[0m\n",
      "\u001b[32m2025-09-12 18:05:56\u001b[0m | \u001b[1mINFO    \u001b[0m | \u001b[36msrc.regime_strategies.models.regime_forecaster\u001b[0m:\u001b[36mforecast_regime\u001b[0m:\u001b[36m368\u001b[0m - \u001b[1mForecasting regime for 2022-02-28 00:00:00 (horizon: 1)\u001b[0m\n",
      "\u001b[32m2025-09-12 18:05:56\u001b[0m | \u001b[33m\u001b[1mWARNING \u001b[0m | \u001b[36msrc.regime_strategies.models.regime_forecaster\u001b[0m:\u001b[36m_prepare_prediction_features\u001b[0m:\u001b[36m481\u001b[0m - \u001b[33m\u001b[1mFeature mismatch detected. Training: 14, Prediction: 9\u001b[0m\n",
      "\u001b[32m2025-09-12 18:05:56\u001b[0m | \u001b[33m\u001b[1mWARNING \u001b[0m | \u001b[36msrc.regime_strategies.models.regime_forecaster\u001b[0m:\u001b[36m_prepare_prediction_features\u001b[0m:\u001b[36m481\u001b[0m - \u001b[33m\u001b[1mFeature mismatch detected. Training: 14, Prediction: 9\u001b[0m\n",
      "\u001b[32m2025-09-12 18:05:56\u001b[0m | \u001b[1mINFO    \u001b[0m | \u001b[36msrc.regime_strategies.optimization.portfolio_optimizer\u001b[0m:\u001b[36moptimize\u001b[0m:\u001b[36m640\u001b[0m - \u001b[1mOptimizing portfolio using max_sharpe method\u001b[0m\n",
      "\u001b[32m2025-09-12 18:05:56\u001b[0m | \u001b[33m\u001b[1mWARNING \u001b[0m | \u001b[36msrc.regime_strategies.optimization.portfolio_optimizer\u001b[0m:\u001b[36m_optimize_cvxpy\u001b[0m:\u001b[36m149\u001b[0m - \u001b[33m\u001b[1mAll CVXPY solvers failed, falling back to scipy\u001b[0m\n",
      "\u001b[32m2025-09-12 18:05:56\u001b[0m | \u001b[1mINFO    \u001b[0m | \u001b[36msrc.regime_strategies.optimization.portfolio_optimizer\u001b[0m:\u001b[36m_log_optimization_results\u001b[0m:\u001b[36m744\u001b[0m - \u001b[1mOptimization completed: max_sharpe_scipy | Status: optimal | Return: -0.2287 | Vol: 0.1046 | Sharpe: -2.3784\u001b[0m\n",
      "\u001b[32m2025-09-12 18:05:56\u001b[0m | \u001b[1mINFO    \u001b[0m | \u001b[36msrc.regime_strategies.models.regime_forecaster\u001b[0m:\u001b[36mforecast_regime\u001b[0m:\u001b[36m368\u001b[0m - \u001b[1mForecasting regime for 2022-03-31 00:00:00 (horizon: 1)\u001b[0m\n",
      "\u001b[32m2025-09-12 18:05:56\u001b[0m | \u001b[33m\u001b[1mWARNING \u001b[0m | \u001b[36msrc.regime_strategies.models.regime_forecaster\u001b[0m:\u001b[36m_prepare_prediction_features\u001b[0m:\u001b[36m481\u001b[0m - \u001b[33m\u001b[1mFeature mismatch detected. Training: 14, Prediction: 9\u001b[0m\n",
      "\u001b[32m2025-09-12 18:05:56\u001b[0m | \u001b[33m\u001b[1mWARNING \u001b[0m | \u001b[36msrc.regime_strategies.models.regime_forecaster\u001b[0m:\u001b[36m_prepare_prediction_features\u001b[0m:\u001b[36m481\u001b[0m - \u001b[33m\u001b[1mFeature mismatch detected. Training: 14, Prediction: 9\u001b[0m\n",
      "\u001b[32m2025-09-12 18:05:56\u001b[0m | \u001b[1mINFO    \u001b[0m | \u001b[36msrc.regime_strategies.optimization.portfolio_optimizer\u001b[0m:\u001b[36moptimize\u001b[0m:\u001b[36m640\u001b[0m - \u001b[1mOptimizing portfolio using max_sharpe method\u001b[0m\n",
      "\u001b[32m2025-09-12 18:05:56\u001b[0m | \u001b[33m\u001b[1mWARNING \u001b[0m | \u001b[36msrc.regime_strategies.optimization.portfolio_optimizer\u001b[0m:\u001b[36m_optimize_cvxpy\u001b[0m:\u001b[36m149\u001b[0m - \u001b[33m\u001b[1mAll CVXPY solvers failed, falling back to scipy\u001b[0m\n",
      "\u001b[32m2025-09-12 18:05:56\u001b[0m | \u001b[1mINFO    \u001b[0m | \u001b[36msrc.regime_strategies.optimization.portfolio_optimizer\u001b[0m:\u001b[36m_log_optimization_results\u001b[0m:\u001b[36m744\u001b[0m - \u001b[1mOptimization completed: max_sharpe_scipy | Status: optimal | Return: -0.2287 | Vol: 0.1046 | Sharpe: -2.3784\u001b[0m\n",
      "\u001b[32m2025-09-12 18:05:56\u001b[0m | \u001b[1mINFO    \u001b[0m | \u001b[36msrc.regime_strategies.models.regime_forecaster\u001b[0m:\u001b[36mforecast_regime\u001b[0m:\u001b[36m368\u001b[0m - \u001b[1mForecasting regime for 2022-04-30 00:00:00 (horizon: 1)\u001b[0m\n",
      "\u001b[32m2025-09-12 18:05:56\u001b[0m | \u001b[33m\u001b[1mWARNING \u001b[0m | \u001b[36msrc.regime_strategies.models.regime_forecaster\u001b[0m:\u001b[36m_prepare_prediction_features\u001b[0m:\u001b[36m481\u001b[0m - \u001b[33m\u001b[1mFeature mismatch detected. Training: 14, Prediction: 9\u001b[0m\n",
      "\u001b[32m2025-09-12 18:05:56\u001b[0m | \u001b[33m\u001b[1mWARNING \u001b[0m | \u001b[36msrc.regime_strategies.models.regime_forecaster\u001b[0m:\u001b[36m_prepare_prediction_features\u001b[0m:\u001b[36m481\u001b[0m - \u001b[33m\u001b[1mFeature mismatch detected. Training: 14, Prediction: 9\u001b[0m\n",
      "\u001b[32m2025-09-12 18:05:56\u001b[0m | \u001b[1mINFO    \u001b[0m | \u001b[36msrc.regime_strategies.optimization.portfolio_optimizer\u001b[0m:\u001b[36moptimize\u001b[0m:\u001b[36m640\u001b[0m - \u001b[1mOptimizing portfolio using max_sharpe method\u001b[0m\n",
      "\u001b[32m2025-09-12 18:05:56\u001b[0m | \u001b[33m\u001b[1mWARNING \u001b[0m | \u001b[36msrc.regime_strategies.optimization.portfolio_optimizer\u001b[0m:\u001b[36m_optimize_cvxpy\u001b[0m:\u001b[36m149\u001b[0m - \u001b[33m\u001b[1mAll CVXPY solvers failed, falling back to scipy\u001b[0m\n",
      "\u001b[32m2025-09-12 18:05:56\u001b[0m | \u001b[1mINFO    \u001b[0m | \u001b[36msrc.regime_strategies.optimization.portfolio_optimizer\u001b[0m:\u001b[36m_log_optimization_results\u001b[0m:\u001b[36m744\u001b[0m - \u001b[1mOptimization completed: max_sharpe_scipy | Status: optimal | Return: -0.2287 | Vol: 0.1046 | Sharpe: -2.3784\u001b[0m\n",
      "\u001b[32m2025-09-12 18:05:56\u001b[0m | \u001b[1mINFO    \u001b[0m | \u001b[36msrc.regime_strategies.models.regime_forecaster\u001b[0m:\u001b[36mforecast_regime\u001b[0m:\u001b[36m368\u001b[0m - \u001b[1mForecasting regime for 2022-05-31 00:00:00 (horizon: 1)\u001b[0m\n",
      "\u001b[32m2025-09-12 18:05:56\u001b[0m | \u001b[33m\u001b[1mWARNING \u001b[0m | \u001b[36msrc.regime_strategies.models.regime_forecaster\u001b[0m:\u001b[36m_prepare_prediction_features\u001b[0m:\u001b[36m481\u001b[0m - \u001b[33m\u001b[1mFeature mismatch detected. Training: 14, Prediction: 9\u001b[0m\n",
      "\u001b[32m2025-09-12 18:05:56\u001b[0m | \u001b[33m\u001b[1mWARNING \u001b[0m | \u001b[36msrc.regime_strategies.models.regime_forecaster\u001b[0m:\u001b[36m_prepare_prediction_features\u001b[0m:\u001b[36m481\u001b[0m - \u001b[33m\u001b[1mFeature mismatch detected. Training: 14, Prediction: 9\u001b[0m\n",
      "\u001b[32m2025-09-12 18:05:56\u001b[0m | \u001b[1mINFO    \u001b[0m | \u001b[36msrc.regime_strategies.optimization.portfolio_optimizer\u001b[0m:\u001b[36moptimize\u001b[0m:\u001b[36m640\u001b[0m - \u001b[1mOptimizing portfolio using max_sharpe method\u001b[0m\n",
      "\u001b[32m2025-09-12 18:05:56\u001b[0m | \u001b[33m\u001b[1mWARNING \u001b[0m | \u001b[36msrc.regime_strategies.optimization.portfolio_optimizer\u001b[0m:\u001b[36m_optimize_cvxpy\u001b[0m:\u001b[36m149\u001b[0m - \u001b[33m\u001b[1mAll CVXPY solvers failed, falling back to scipy\u001b[0m\n",
      "\u001b[32m2025-09-12 18:05:56\u001b[0m | \u001b[1mINFO    \u001b[0m | \u001b[36msrc.regime_strategies.optimization.portfolio_optimizer\u001b[0m:\u001b[36m_log_optimization_results\u001b[0m:\u001b[36m744\u001b[0m - \u001b[1mOptimization completed: max_sharpe_scipy | Status: optimal | Return: -0.2287 | Vol: 0.1046 | Sharpe: -2.3784\u001b[0m\n",
      "\u001b[32m2025-09-12 18:05:56\u001b[0m | \u001b[1mINFO    \u001b[0m | \u001b[36msrc.regime_strategies.models.regime_forecaster\u001b[0m:\u001b[36mforecast_regime\u001b[0m:\u001b[36m368\u001b[0m - \u001b[1mForecasting regime for 2022-06-30 00:00:00 (horizon: 1)\u001b[0m\n",
      "\u001b[32m2025-09-12 18:05:56\u001b[0m | \u001b[33m\u001b[1mWARNING \u001b[0m | \u001b[36msrc.regime_strategies.models.regime_forecaster\u001b[0m:\u001b[36m_prepare_prediction_features\u001b[0m:\u001b[36m481\u001b[0m - \u001b[33m\u001b[1mFeature mismatch detected. Training: 14, Prediction: 9\u001b[0m\n",
      "\u001b[32m2025-09-12 18:05:56\u001b[0m | \u001b[33m\u001b[1mWARNING \u001b[0m | \u001b[36msrc.regime_strategies.models.regime_forecaster\u001b[0m:\u001b[36m_prepare_prediction_features\u001b[0m:\u001b[36m481\u001b[0m - \u001b[33m\u001b[1mFeature mismatch detected. Training: 14, Prediction: 9\u001b[0m\n",
      "\u001b[32m2025-09-12 18:05:56\u001b[0m | \u001b[1mINFO    \u001b[0m | \u001b[36msrc.regime_strategies.optimization.portfolio_optimizer\u001b[0m:\u001b[36moptimize\u001b[0m:\u001b[36m640\u001b[0m - \u001b[1mOptimizing portfolio using max_sharpe method\u001b[0m\n",
      "\u001b[32m2025-09-12 18:05:56\u001b[0m | \u001b[33m\u001b[1mWARNING \u001b[0m | \u001b[36msrc.regime_strategies.optimization.portfolio_optimizer\u001b[0m:\u001b[36m_optimize_cvxpy\u001b[0m:\u001b[36m149\u001b[0m - \u001b[33m\u001b[1mAll CVXPY solvers failed, falling back to scipy\u001b[0m\n",
      "\u001b[32m2025-09-12 18:05:56\u001b[0m | \u001b[1mINFO    \u001b[0m | \u001b[36msrc.regime_strategies.optimization.portfolio_optimizer\u001b[0m:\u001b[36m_log_optimization_results\u001b[0m:\u001b[36m744\u001b[0m - \u001b[1mOptimization completed: max_sharpe_scipy | Status: optimal | Return: -0.2287 | Vol: 0.1046 | Sharpe: -2.3784\u001b[0m\n",
      "\u001b[32m2025-09-12 18:05:56\u001b[0m | \u001b[1mINFO    \u001b[0m | \u001b[36msrc.regime_strategies.models.regime_forecaster\u001b[0m:\u001b[36mforecast_regime\u001b[0m:\u001b[36m368\u001b[0m - \u001b[1mForecasting regime for 2022-07-31 00:00:00 (horizon: 1)\u001b[0m\n",
      "\u001b[32m2025-09-12 18:05:56\u001b[0m | \u001b[33m\u001b[1mWARNING \u001b[0m | \u001b[36msrc.regime_strategies.models.regime_forecaster\u001b[0m:\u001b[36m_prepare_prediction_features\u001b[0m:\u001b[36m481\u001b[0m - \u001b[33m\u001b[1mFeature mismatch detected. Training: 14, Prediction: 9\u001b[0m\n",
      "\u001b[32m2025-09-12 18:05:56\u001b[0m | \u001b[33m\u001b[1mWARNING \u001b[0m | \u001b[36msrc.regime_strategies.models.regime_forecaster\u001b[0m:\u001b[36m_prepare_prediction_features\u001b[0m:\u001b[36m481\u001b[0m - \u001b[33m\u001b[1mFeature mismatch detected. Training: 14, Prediction: 9\u001b[0m\n",
      "\u001b[32m2025-09-12 18:05:56\u001b[0m | \u001b[1mINFO    \u001b[0m | \u001b[36msrc.regime_strategies.optimization.portfolio_optimizer\u001b[0m:\u001b[36moptimize\u001b[0m:\u001b[36m640\u001b[0m - \u001b[1mOptimizing portfolio using max_sharpe method\u001b[0m\n",
      "\u001b[32m2025-09-12 18:05:56\u001b[0m | \u001b[33m\u001b[1mWARNING \u001b[0m | \u001b[36msrc.regime_strategies.optimization.portfolio_optimizer\u001b[0m:\u001b[36m_optimize_cvxpy\u001b[0m:\u001b[36m149\u001b[0m - \u001b[33m\u001b[1mAll CVXPY solvers failed, falling back to scipy\u001b[0m\n",
      "\u001b[32m2025-09-12 18:05:56\u001b[0m | \u001b[1mINFO    \u001b[0m | \u001b[36msrc.regime_strategies.optimization.portfolio_optimizer\u001b[0m:\u001b[36m_log_optimization_results\u001b[0m:\u001b[36m744\u001b[0m - \u001b[1mOptimization completed: max_sharpe_scipy | Status: optimal | Return: -0.2287 | Vol: 0.1046 | Sharpe: -2.3784\u001b[0m\n",
      "\u001b[32m2025-09-12 18:05:56\u001b[0m | \u001b[1mINFO    \u001b[0m | \u001b[36msrc.regime_strategies.models.regime_forecaster\u001b[0m:\u001b[36mforecast_regime\u001b[0m:\u001b[36m368\u001b[0m - \u001b[1mForecasting regime for 2022-08-31 00:00:00 (horizon: 1)\u001b[0m\n",
      "\u001b[32m2025-09-12 18:05:56\u001b[0m | \u001b[33m\u001b[1mWARNING \u001b[0m | \u001b[36msrc.regime_strategies.models.regime_forecaster\u001b[0m:\u001b[36m_prepare_prediction_features\u001b[0m:\u001b[36m481\u001b[0m - \u001b[33m\u001b[1mFeature mismatch detected. Training: 14, Prediction: 9\u001b[0m\n",
      "\u001b[32m2025-09-12 18:05:56\u001b[0m | \u001b[33m\u001b[1mWARNING \u001b[0m | \u001b[36msrc.regime_strategies.models.regime_forecaster\u001b[0m:\u001b[36m_prepare_prediction_features\u001b[0m:\u001b[36m481\u001b[0m - \u001b[33m\u001b[1mFeature mismatch detected. Training: 14, Prediction: 9\u001b[0m\n",
      "\u001b[32m2025-09-12 18:05:56\u001b[0m | \u001b[1mINFO    \u001b[0m | \u001b[36msrc.regime_strategies.optimization.portfolio_optimizer\u001b[0m:\u001b[36moptimize\u001b[0m:\u001b[36m640\u001b[0m - \u001b[1mOptimizing portfolio using max_sharpe method\u001b[0m\n",
      "\u001b[32m2025-09-12 18:05:56\u001b[0m | \u001b[33m\u001b[1mWARNING \u001b[0m | \u001b[36msrc.regime_strategies.optimization.portfolio_optimizer\u001b[0m:\u001b[36m_optimize_cvxpy\u001b[0m:\u001b[36m149\u001b[0m - \u001b[33m\u001b[1mAll CVXPY solvers failed, falling back to scipy\u001b[0m\n",
      "\u001b[32m2025-09-12 18:05:56\u001b[0m | \u001b[1mINFO    \u001b[0m | \u001b[36msrc.regime_strategies.optimization.portfolio_optimizer\u001b[0m:\u001b[36m_log_optimization_results\u001b[0m:\u001b[36m744\u001b[0m - \u001b[1mOptimization completed: max_sharpe_scipy | Status: optimal | Return: -0.2287 | Vol: 0.1046 | Sharpe: -2.3784\u001b[0m\n",
      "\u001b[32m2025-09-12 18:05:56\u001b[0m | \u001b[1mINFO    \u001b[0m | \u001b[36msrc.regime_strategies.models.regime_forecaster\u001b[0m:\u001b[36mforecast_regime\u001b[0m:\u001b[36m368\u001b[0m - \u001b[1mForecasting regime for 2022-09-30 00:00:00 (horizon: 1)\u001b[0m\n",
      "\u001b[32m2025-09-12 18:05:56\u001b[0m | \u001b[33m\u001b[1mWARNING \u001b[0m | \u001b[36msrc.regime_strategies.models.regime_forecaster\u001b[0m:\u001b[36m_prepare_prediction_features\u001b[0m:\u001b[36m481\u001b[0m - \u001b[33m\u001b[1mFeature mismatch detected. Training: 14, Prediction: 9\u001b[0m\n",
      "\u001b[32m2025-09-12 18:05:56\u001b[0m | \u001b[33m\u001b[1mWARNING \u001b[0m | \u001b[36msrc.regime_strategies.models.regime_forecaster\u001b[0m:\u001b[36m_prepare_prediction_features\u001b[0m:\u001b[36m481\u001b[0m - \u001b[33m\u001b[1mFeature mismatch detected. Training: 14, Prediction: 9\u001b[0m\n",
      "\u001b[32m2025-09-12 18:05:56\u001b[0m | \u001b[1mINFO    \u001b[0m | \u001b[36msrc.regime_strategies.optimization.portfolio_optimizer\u001b[0m:\u001b[36moptimize\u001b[0m:\u001b[36m640\u001b[0m - \u001b[1mOptimizing portfolio using max_sharpe method\u001b[0m\n",
      "\u001b[32m2025-09-12 18:05:56\u001b[0m | \u001b[33m\u001b[1mWARNING \u001b[0m | \u001b[36msrc.regime_strategies.optimization.portfolio_optimizer\u001b[0m:\u001b[36m_optimize_cvxpy\u001b[0m:\u001b[36m149\u001b[0m - \u001b[33m\u001b[1mAll CVXPY solvers failed, falling back to scipy\u001b[0m\n",
      "\u001b[32m2025-09-12 18:05:56\u001b[0m | \u001b[1mINFO    \u001b[0m | \u001b[36msrc.regime_strategies.optimization.portfolio_optimizer\u001b[0m:\u001b[36m_log_optimization_results\u001b[0m:\u001b[36m744\u001b[0m - \u001b[1mOptimization completed: max_sharpe_scipy | Status: optimal | Return: -0.2287 | Vol: 0.1046 | Sharpe: -2.3784\u001b[0m\n",
      "\u001b[32m2025-09-12 18:05:56\u001b[0m | \u001b[1mINFO    \u001b[0m | \u001b[36msrc.regime_strategies.models.regime_forecaster\u001b[0m:\u001b[36mforecast_regime\u001b[0m:\u001b[36m368\u001b[0m - \u001b[1mForecasting regime for 2022-10-31 00:00:00 (horizon: 1)\u001b[0m\n",
      "\u001b[32m2025-09-12 18:05:56\u001b[0m | \u001b[33m\u001b[1mWARNING \u001b[0m | \u001b[36msrc.regime_strategies.models.regime_forecaster\u001b[0m:\u001b[36m_prepare_prediction_features\u001b[0m:\u001b[36m481\u001b[0m - \u001b[33m\u001b[1mFeature mismatch detected. Training: 14, Prediction: 9\u001b[0m\n",
      "\u001b[32m2025-09-12 18:05:56\u001b[0m | \u001b[33m\u001b[1mWARNING \u001b[0m | \u001b[36msrc.regime_strategies.models.regime_forecaster\u001b[0m:\u001b[36m_prepare_prediction_features\u001b[0m:\u001b[36m481\u001b[0m - \u001b[33m\u001b[1mFeature mismatch detected. Training: 14, Prediction: 9\u001b[0m\n",
      "\u001b[32m2025-09-12 18:05:56\u001b[0m | \u001b[1mINFO    \u001b[0m | \u001b[36msrc.regime_strategies.optimization.portfolio_optimizer\u001b[0m:\u001b[36moptimize\u001b[0m:\u001b[36m640\u001b[0m - \u001b[1mOptimizing portfolio using max_sharpe method\u001b[0m\n",
      "\u001b[32m2025-09-12 18:05:56\u001b[0m | \u001b[33m\u001b[1mWARNING \u001b[0m | \u001b[36msrc.regime_strategies.optimization.portfolio_optimizer\u001b[0m:\u001b[36m_optimize_cvxpy\u001b[0m:\u001b[36m149\u001b[0m - \u001b[33m\u001b[1mAll CVXPY solvers failed, falling back to scipy\u001b[0m\n",
      "\u001b[32m2025-09-12 18:05:56\u001b[0m | \u001b[1mINFO    \u001b[0m | \u001b[36msrc.regime_strategies.optimization.portfolio_optimizer\u001b[0m:\u001b[36m_log_optimization_results\u001b[0m:\u001b[36m744\u001b[0m - \u001b[1mOptimization completed: max_sharpe_scipy | Status: optimal | Return: -0.2287 | Vol: 0.1046 | Sharpe: -2.3784\u001b[0m\n",
      "\u001b[32m2025-09-12 18:05:56\u001b[0m | \u001b[1mINFO    \u001b[0m | \u001b[36msrc.regime_strategies.models.regime_forecaster\u001b[0m:\u001b[36mforecast_regime\u001b[0m:\u001b[36m368\u001b[0m - \u001b[1mForecasting regime for 2022-11-30 00:00:00 (horizon: 1)\u001b[0m\n",
      "\u001b[32m2025-09-12 18:05:56\u001b[0m | \u001b[33m\u001b[1mWARNING \u001b[0m | \u001b[36msrc.regime_strategies.models.regime_forecaster\u001b[0m:\u001b[36m_prepare_prediction_features\u001b[0m:\u001b[36m481\u001b[0m - \u001b[33m\u001b[1mFeature mismatch detected. Training: 14, Prediction: 9\u001b[0m\n",
      "\u001b[32m2025-09-12 18:05:56\u001b[0m | \u001b[33m\u001b[1mWARNING \u001b[0m | \u001b[36msrc.regime_strategies.models.regime_forecaster\u001b[0m:\u001b[36m_prepare_prediction_features\u001b[0m:\u001b[36m481\u001b[0m - \u001b[33m\u001b[1mFeature mismatch detected. Training: 14, Prediction: 9\u001b[0m\n",
      "\u001b[32m2025-09-12 18:05:56\u001b[0m | \u001b[1mINFO    \u001b[0m | \u001b[36msrc.regime_strategies.optimization.portfolio_optimizer\u001b[0m:\u001b[36moptimize\u001b[0m:\u001b[36m640\u001b[0m - \u001b[1mOptimizing portfolio using max_sharpe method\u001b[0m\n",
      "\u001b[32m2025-09-12 18:05:56\u001b[0m | \u001b[33m\u001b[1mWARNING \u001b[0m | \u001b[36msrc.regime_strategies.optimization.portfolio_optimizer\u001b[0m:\u001b[36m_optimize_cvxpy\u001b[0m:\u001b[36m149\u001b[0m - \u001b[33m\u001b[1mAll CVXPY solvers failed, falling back to scipy\u001b[0m\n",
      "\u001b[32m2025-09-12 18:05:56\u001b[0m | \u001b[1mINFO    \u001b[0m | \u001b[36msrc.regime_strategies.optimization.portfolio_optimizer\u001b[0m:\u001b[36m_log_optimization_results\u001b[0m:\u001b[36m744\u001b[0m - \u001b[1mOptimization completed: max_sharpe_scipy | Status: optimal | Return: -0.2287 | Vol: 0.1046 | Sharpe: -2.3784\u001b[0m\n",
      "\u001b[32m2025-09-12 18:05:56\u001b[0m | \u001b[1mINFO    \u001b[0m | \u001b[36msrc.regime_strategies.models.regime_forecaster\u001b[0m:\u001b[36mforecast_regime\u001b[0m:\u001b[36m368\u001b[0m - \u001b[1mForecasting regime for 2022-12-31 00:00:00 (horizon: 1)\u001b[0m\n",
      "\u001b[32m2025-09-12 18:05:56\u001b[0m | \u001b[33m\u001b[1mWARNING \u001b[0m | \u001b[36msrc.regime_strategies.models.regime_forecaster\u001b[0m:\u001b[36m_prepare_prediction_features\u001b[0m:\u001b[36m481\u001b[0m - \u001b[33m\u001b[1mFeature mismatch detected. Training: 14, Prediction: 9\u001b[0m\n",
      "\u001b[32m2025-09-12 18:05:56\u001b[0m | \u001b[33m\u001b[1mWARNING \u001b[0m | \u001b[36msrc.regime_strategies.models.regime_forecaster\u001b[0m:\u001b[36m_prepare_prediction_features\u001b[0m:\u001b[36m481\u001b[0m - \u001b[33m\u001b[1mFeature mismatch detected. Training: 14, Prediction: 9\u001b[0m\n",
      "\u001b[32m2025-09-12 18:05:56\u001b[0m | \u001b[1mINFO    \u001b[0m | \u001b[36msrc.regime_strategies.optimization.portfolio_optimizer\u001b[0m:\u001b[36moptimize\u001b[0m:\u001b[36m640\u001b[0m - \u001b[1mOptimizing portfolio using max_sharpe method\u001b[0m\n",
      "\u001b[32m2025-09-12 18:05:56\u001b[0m | \u001b[33m\u001b[1mWARNING \u001b[0m | \u001b[36msrc.regime_strategies.optimization.portfolio_optimizer\u001b[0m:\u001b[36m_optimize_cvxpy\u001b[0m:\u001b[36m149\u001b[0m - \u001b[33m\u001b[1mAll CVXPY solvers failed, falling back to scipy\u001b[0m\n",
      "\u001b[32m2025-09-12 18:05:56\u001b[0m | \u001b[1mINFO    \u001b[0m | \u001b[36msrc.regime_strategies.optimization.portfolio_optimizer\u001b[0m:\u001b[36m_log_optimization_results\u001b[0m:\u001b[36m744\u001b[0m - \u001b[1mOptimization completed: max_sharpe_scipy | Status: optimal | Return: -0.2287 | Vol: 0.1046 | Sharpe: -2.3784\u001b[0m\n",
      "\u001b[32m2025-09-12 18:05:56\u001b[0m | \u001b[1mINFO    \u001b[0m | \u001b[36msrc.regime_strategies.backtesting.backtest_engine\u001b[0m:\u001b[36m_run_simulation_loop\u001b[0m:\u001b[36m359\u001b[0m - \u001b[1mSimulation completed: 12 rebalancing periods\u001b[0m\n",
      "\u001b[32m2025-09-12 18:05:56\u001b[0m | \u001b[1mINFO    \u001b[0m | \u001b[36msrc.regime_strategies.backtesting.backtest_engine\u001b[0m:\u001b[36m_calculate_final_metrics\u001b[0m:\u001b[36m584\u001b[0m - \u001b[1mCalculating final performance metrics\u001b[0m\n",
      "\u001b[32m2025-09-12 18:05:56\u001b[0m | \u001b[1mINFO    \u001b[0m | \u001b[36msrc.regime_strategies.utils.metrics\u001b[0m:\u001b[36mcalculate_metrics\u001b[0m:\u001b[36m302\u001b[0m - \u001b[1mCalculated 17 performance metrics\u001b[0m\n",
      "\u001b[32m2025-09-12 18:05:56\u001b[0m | \u001b[1mINFO    \u001b[0m | \u001b[36msrc.regime_strategies.utils.metrics\u001b[0m:\u001b[36mcalculate_metrics\u001b[0m:\u001b[36m302\u001b[0m - \u001b[1mCalculated 13 performance metrics\u001b[0m\n",
      "\u001b[32m2025-09-12 18:05:56\u001b[0m | \u001b[1mINFO    \u001b[0m | \u001b[36msrc.regime_strategies.utils.metrics\u001b[0m:\u001b[36mcalculate_metrics\u001b[0m:\u001b[36m302\u001b[0m - \u001b[1mCalculated 13 performance metrics\u001b[0m\n",
      "\u001b[32m2025-09-12 18:05:56\u001b[0m | \u001b[1mINFO    \u001b[0m | \u001b[36msrc.regime_strategies.backtesting.backtest_engine\u001b[0m:\u001b[36m_calculate_final_metrics\u001b[0m:\u001b[36m602\u001b[0m - \u001b[1mPerformance metrics calculated: Total return: -14.52%, Sharpe ratio: -5.635, Regime accuracy: 83.33%\u001b[0m\n",
      "\u001b[32m2025-09-12 18:05:56\u001b[0m | \u001b[1mINFO    \u001b[0m | \u001b[36msrc.regime_strategies.backtesting.backtest_engine\u001b[0m:\u001b[36mrun_backtest\u001b[0m:\u001b[36m137\u001b[0m - \u001b[1mBacktest completed successfully\u001b[0m\n",
      "\u001b[32m2025-09-12 18:05:56\u001b[0m | \u001b[1mINFO    \u001b[0m | \u001b[36msrc.regime_strategies.backtesting.performance_evaluator\u001b[0m:\u001b[36mevaluate_strategy\u001b[0m:\u001b[36m48\u001b[0m - \u001b[1mStarting comprehensive strategy evaluation\u001b[0m\n",
      "\u001b[32m2025-09-12 18:05:56\u001b[0m | \u001b[1mINFO    \u001b[0m | \u001b[36msrc.regime_strategies.utils.metrics\u001b[0m:\u001b[36mcalculate_metrics\u001b[0m:\u001b[36m302\u001b[0m - \u001b[1mCalculated 17 performance metrics\u001b[0m\n",
      "\u001b[32m2025-09-12 18:05:56\u001b[0m | \u001b[1mINFO    \u001b[0m | \u001b[36msrc.regime_strategies.utils.metrics\u001b[0m:\u001b[36mcalculate_metrics\u001b[0m:\u001b[36m302\u001b[0m - \u001b[1mCalculated 13 performance metrics\u001b[0m\n",
      "\u001b[32m2025-09-12 18:05:56\u001b[0m | \u001b[1mINFO    \u001b[0m | \u001b[36msrc.regime_strategies.utils.metrics\u001b[0m:\u001b[36mcalculate_metrics\u001b[0m:\u001b[36m302\u001b[0m - \u001b[1mCalculated 13 performance metrics\u001b[0m\n",
      "\u001b[32m2025-09-12 18:05:56\u001b[0m | \u001b[1mINFO    \u001b[0m | \u001b[36msrc.regime_strategies.utils.metrics\u001b[0m:\u001b[36mcalculate_metrics\u001b[0m:\u001b[36m302\u001b[0m - \u001b[1mCalculated 13 performance metrics\u001b[0m\n",
      "\u001b[32m2025-09-12 18:05:56\u001b[0m | \u001b[1mINFO    \u001b[0m | \u001b[36msrc.regime_strategies.utils.metrics\u001b[0m:\u001b[36mcalculate_metrics\u001b[0m:\u001b[36m302\u001b[0m - \u001b[1mCalculated 13 performance metrics\u001b[0m\n",
      "\u001b[32m2025-09-12 18:05:56\u001b[0m | \u001b[1mINFO    \u001b[0m | \u001b[36msrc.regime_strategies.utils.metrics\u001b[0m:\u001b[36mcalculate_metrics\u001b[0m:\u001b[36m302\u001b[0m - \u001b[1mCalculated 13 performance metrics\u001b[0m\n",
      "\u001b[32m2025-09-12 18:05:56\u001b[0m | \u001b[1mINFO    \u001b[0m | \u001b[36msrc.regime_strategies.utils.metrics\u001b[0m:\u001b[36mcalculate_metrics\u001b[0m:\u001b[36m302\u001b[0m - \u001b[1mCalculated 13 performance metrics\u001b[0m\n",
      "\u001b[32m2025-09-12 18:05:56\u001b[0m | \u001b[1mINFO    \u001b[0m | \u001b[36msrc.regime_strategies.utils.metrics\u001b[0m:\u001b[36mcalculate_metrics\u001b[0m:\u001b[36m302\u001b[0m - \u001b[1mCalculated 13 performance metrics\u001b[0m\n",
      "\u001b[32m2025-09-12 18:05:56\u001b[0m | \u001b[1mINFO    \u001b[0m | \u001b[36msrc.regime_strategies.backtesting.performance_evaluator\u001b[0m:\u001b[36mevaluate_strategy\u001b[0m:\u001b[36m72\u001b[0m - \u001b[1mStrategy evaluation completed\u001b[0m\n",
      "\u001b[32m2025-09-12 18:05:56\u001b[0m | \u001b[1mINFO    \u001b[0m | \u001b[36msrc.regime_strategies.backtesting.visualization\u001b[0m:\u001b[36mcreate_performance_dashboard\u001b[0m:\u001b[36m81\u001b[0m - \u001b[1mCreating performance dashboard\u001b[0m\n",
      "\u001b[32m2025-09-12 18:05:56\u001b[0m | \u001b[1mINFO    \u001b[0m | \u001b[36msrc.regime_strategies.main\u001b[0m:\u001b[36mrun_backtest\u001b[0m:\u001b[36m147\u001b[0m - \u001b[1mBacktest completed successfully: {'strategy_name': 'max_sharpe_comparison', 'backtest_period': '2022-01-01 to 2022-12-31', 'total_return': np.float64(-0.1451677375753293), 'annualized_return': np.float64(-3.128713088628833), 'annualized_volatility': np.float64(0.5588137634741669), 'sharpe_ratio': np.float64(-5.634637681529462), 'maximum_drawdown': np.float64(-0.19740541166346565), 'regime_prediction_accuracy': np.float64(0.8333333333333334), 'overall_rating': 'Poor', 'static_mpt_outperformance': np.float64(0.5), 'regime_advantage_return': np.float64(-0.031109666323177465), 'regime_advantage_sharpe': np.float64(-1.6223130178984952)}\u001b[0m\n",
      "\u001b[32m2025-09-12 18:05:56\u001b[0m | \u001b[1mINFO    \u001b[0m | \u001b[36msrc.regime_strategies.main\u001b[0m:\u001b[36mrun_backtest\u001b[0m:\u001b[36m82\u001b[0m - \u001b[1mStarting backtest: 2022-01-01 to 2022-12-31\u001b[0m\n",
      "\u001b[32m2025-09-12 18:05:56\u001b[0m | \u001b[1mINFO    \u001b[0m | \u001b[36msrc.regime_strategies.backtesting.backtest_engine\u001b[0m:\u001b[36mrun_backtest\u001b[0m:\u001b[36m116\u001b[0m - \u001b[1mStarting backtest: 2022-01-01 00:00:00 to 2022-12-31 00:00:00\u001b[0m\n",
      "\u001b[32m2025-09-12 18:05:56\u001b[0m | \u001b[1mINFO    \u001b[0m | \u001b[36msrc.regime_strategies.backtesting.backtest_engine\u001b[0m:\u001b[36m_load_backtest_data\u001b[0m:\u001b[36m147\u001b[0m - \u001b[1mLoading backtest data\u001b[0m\n",
      "\u001b[32m2025-09-12 18:05:57\u001b[0m | \u001b[1mINFO    \u001b[0m | \u001b[36msrc.regime_strategies.utils.data_utils\u001b[0m:\u001b[36mclean_returns\u001b[0m:\u001b[36m138\u001b[0m - \u001b[1mWinsorized 16 extreme values\u001b[0m\n",
      "\u001b[32m2025-09-12 18:05:57\u001b[0m | \u001b[1mINFO    \u001b[0m | \u001b[36msrc.regime_strategies.data.market_data\u001b[0m:\u001b[36mcalculate_returns\u001b[0m:\u001b[36m136\u001b[0m - \u001b[1mCalculated simple returns. Shape: (755, 1)\u001b[0m\n",
      "\u001b[32m2025-09-12 18:05:57\u001b[0m | \u001b[1mINFO    \u001b[0m | \u001b[36msrc.regime_strategies.optimization.portfolio_optimizer\u001b[0m:\u001b[36moptimize\u001b[0m:\u001b[36m640\u001b[0m - \u001b[1mOptimizing portfolio using risk_parity method\u001b[0m\n",
      "\u001b[32m2025-09-12 18:05:57\u001b[0m | \u001b[1mINFO    \u001b[0m | \u001b[36msrc.regime_strategies.optimization.portfolio_optimizer\u001b[0m:\u001b[36m_log_optimization_results\u001b[0m:\u001b[36m744\u001b[0m - \u001b[1mOptimization completed: risk_parity | Status: optimal | Return: 0.0266 | Vol: 0.1092 | Sharpe: 0.2434\u001b[0m\n",
      "\u001b[32m2025-09-12 18:05:57\u001b[0m | \u001b[1mINFO    \u001b[0m | \u001b[36msrc.regime_strategies.backtesting.backtest_engine\u001b[0m:\u001b[36m_calculate_static_mpt_weights\u001b[0m:\u001b[36m541\u001b[0m - \u001b[1mStatic MPT benchmark weights calculated: Return=0.027, Vol=0.109, Sharpe=0.243\u001b[0m\n",
      "\u001b[32m2025-09-12 18:05:57\u001b[0m | \u001b[1mINFO    \u001b[0m | \u001b[36msrc.regime_strategies.backtesting.backtest_engine\u001b[0m:\u001b[36m_load_backtest_data\u001b[0m:\u001b[36m184\u001b[0m - \u001b[1mLoaded data: 755 market observations, 36 economic observations\u001b[0m\n",
      "\u001b[32m2025-09-12 18:05:57\u001b[0m | \u001b[1mINFO    \u001b[0m | \u001b[36msrc.regime_strategies.backtesting.backtest_engine\u001b[0m:\u001b[36m_fit_regime_models\u001b[0m:\u001b[36m189\u001b[0m - \u001b[1mFitting regime models\u001b[0m\n",
      "\u001b[32m2025-09-12 18:05:57\u001b[0m | \u001b[1mINFO    \u001b[0m | \u001b[36msrc.regime_strategies.models.regime_identifier\u001b[0m:\u001b[36mfit\u001b[0m:\u001b[36m353\u001b[0m - \u001b[1mFitting regime identifier using investment_clock method\u001b[0m\n",
      "\u001b[32m2025-09-12 18:05:57\u001b[0m | \u001b[1mINFO    \u001b[0m | \u001b[36msrc.regime_strategies.models.regime_identifier\u001b[0m:\u001b[36midentify_regimes\u001b[0m:\u001b[36m62\u001b[0m - \u001b[1mIdentifying regimes using Investment Clock methodology\u001b[0m\n",
      "\u001b[32m2025-09-12 18:05:57\u001b[0m | \u001b[1mINFO    \u001b[0m | \u001b[36msrc.regime_strategies.models.regime_identifier\u001b[0m:\u001b[36midentify_regimes\u001b[0m:\u001b[36m98\u001b[0m - \u001b[1mSlowing: 26 periods (72.2%)\u001b[0m\n",
      "\u001b[32m2025-09-12 18:05:57\u001b[0m | \u001b[1mINFO    \u001b[0m | \u001b[36msrc.regime_strategies.models.regime_identifier\u001b[0m:\u001b[36midentify_regimes\u001b[0m:\u001b[36m98\u001b[0m - \u001b[1mGrowing: 10 periods (27.8%)\u001b[0m\n",
      "\u001b[32m2025-09-12 18:05:57\u001b[0m | \u001b[1mINFO    \u001b[0m | \u001b[36msrc.regime_strategies.models.regime_identifier\u001b[0m:\u001b[36mfit\u001b[0m:\u001b[36m378\u001b[0m - \u001b[1mRegime identification completed. Total regimes identified: 36\u001b[0m\n",
      "\u001b[32m2025-09-12 18:05:57\u001b[0m | \u001b[1mINFO    \u001b[0m | \u001b[36msrc.regime_strategies.models.cma_calculator\u001b[0m:\u001b[36mfit\u001b[0m:\u001b[36m67\u001b[0m - \u001b[1mFitting regime-conditional CMAs\u001b[0m\n",
      "\u001b[32m2025-09-12 18:05:57\u001b[0m | \u001b[1mINFO    \u001b[0m | \u001b[36msrc.regime_strategies.utils.data_utils\u001b[0m:\u001b[36mclean_returns\u001b[0m:\u001b[36m138\u001b[0m - \u001b[1mWinsorized 2 extreme values\u001b[0m\n",
      "\u001b[32m2025-09-12 18:05:57\u001b[0m | \u001b[1mINFO    \u001b[0m | \u001b[36msrc.regime_strategies.utils.data_utils\u001b[0m:\u001b[36mclean_returns\u001b[0m:\u001b[36m138\u001b[0m - \u001b[1mWinsorized 2 extreme values\u001b[0m\n",
      "\u001b[32m2025-09-12 18:05:57\u001b[0m | \u001b[1mINFO    \u001b[0m | \u001b[36msrc.regime_strategies.utils.data_utils\u001b[0m:\u001b[36mclean_returns\u001b[0m:\u001b[36m138\u001b[0m - \u001b[1mWinsorized 2 extreme values\u001b[0m\n",
      "\u001b[32m2025-09-12 18:05:57\u001b[0m | \u001b[33m\u001b[1mWARNING \u001b[0m | \u001b[36msrc.regime_strategies.models.cma_calculator\u001b[0m:\u001b[36mfit\u001b[0m:\u001b[36m92\u001b[0m - \u001b[33m\u001b[1mInsufficient observations for regime 0.0: 18 < 30. Using unconditional CMA.\u001b[0m\n",
      "\u001b[32m2025-09-12 18:05:57\u001b[0m | \u001b[33m\u001b[1mWARNING \u001b[0m | \u001b[36msrc.regime_strategies.models.cma_calculator\u001b[0m:\u001b[36mfit\u001b[0m:\u001b[36m92\u001b[0m - \u001b[33m\u001b[1mInsufficient observations for regime 2.0: 7 < 30. Using unconditional CMA.\u001b[0m\n",
      "\u001b[32m2025-09-12 18:05:57\u001b[0m | \u001b[33m\u001b[1mWARNING \u001b[0m | \u001b[36msrc.regime_strategies.models.cma_calculator\u001b[0m:\u001b[36m_validate_cmas\u001b[0m:\u001b[36m394\u001b[0m - \u001b[33m\u001b[1mRegime 0.0: Unrealistic expected returns\u001b[0m\n",
      "\u001b[32m2025-09-12 18:05:57\u001b[0m | \u001b[33m\u001b[1mWARNING \u001b[0m | \u001b[36msrc.regime_strategies.models.cma_calculator\u001b[0m:\u001b[36m_validate_cmas\u001b[0m:\u001b[36m394\u001b[0m - \u001b[33m\u001b[1mRegime 2.0: Unrealistic expected returns\u001b[0m\n",
      "\u001b[32m2025-09-12 18:05:57\u001b[0m | \u001b[1mINFO    \u001b[0m | \u001b[36msrc.regime_strategies.models.cma_calculator\u001b[0m:\u001b[36m_log_cma_summary\u001b[0m:\u001b[36m400\u001b[0m - \u001b[1mCalculated CMAs for 2 regimes\u001b[0m\n",
      "\u001b[32m2025-09-12 18:05:57\u001b[0m | \u001b[1mINFO    \u001b[0m | \u001b[36msrc.regime_strategies.models.cma_calculator\u001b[0m:\u001b[36m_log_cma_summary\u001b[0m:\u001b[36m410\u001b[0m - \u001b[1mRegime 0.0: Avg return -30.79%, Avg volatility 16.14%, Observations: 18\u001b[0m\n",
      "\u001b[32m2025-09-12 18:05:57\u001b[0m | \u001b[1mINFO    \u001b[0m | \u001b[36msrc.regime_strategies.models.cma_calculator\u001b[0m:\u001b[36m_log_cma_summary\u001b[0m:\u001b[36m410\u001b[0m - \u001b[1mRegime 2.0: Avg return -30.79%, Avg volatility 16.14%, Observations: 7\u001b[0m\n",
      "\u001b[32m2025-09-12 18:05:57\u001b[0m | \u001b[1mINFO    \u001b[0m | \u001b[36msrc.regime_strategies.models.regime_forecaster\u001b[0m:\u001b[36mfit\u001b[0m:\u001b[36m196\u001b[0m - \u001b[1mFitting regime forecasting models\u001b[0m\n",
      "\u001b[32m2025-09-12 18:05:57\u001b[0m | \u001b[1mINFO    \u001b[0m | \u001b[36msrc.regime_strategies.models.regime_forecaster\u001b[0m:\u001b[36m_prepare_training_data\u001b[0m:\u001b[36m456\u001b[0m - \u001b[1mPrepared training data: 23 samples, 14 features\u001b[0m\n",
      "\u001b[32m2025-09-12 18:05:57\u001b[0m | \u001b[1mINFO    \u001b[0m | \u001b[36msrc.regime_strategies.models.regime_forecaster\u001b[0m:\u001b[36mfit\u001b[0m:\u001b[36m220\u001b[0m - \u001b[1mFitting random_forest model\u001b[0m\n",
      "\u001b[32m2025-09-12 18:05:57\u001b[0m | \u001b[1mINFO    \u001b[0m | \u001b[36msrc.regime_strategies.models.regime_forecaster\u001b[0m:\u001b[36mfit\u001b[0m:\u001b[36m236\u001b[0m - \u001b[1mrandom_forest validation accuracy: 0.800\u001b[0m\n",
      "\u001b[32m2025-09-12 18:05:57\u001b[0m | \u001b[1mINFO    \u001b[0m | \u001b[36msrc.regime_strategies.models.regime_forecaster\u001b[0m:\u001b[36mfit\u001b[0m:\u001b[36m220\u001b[0m - \u001b[1mFitting logistic_regression model\u001b[0m\n",
      "\u001b[32m2025-09-12 18:05:57\u001b[0m | \u001b[1mINFO    \u001b[0m | \u001b[36msrc.regime_strategies.models.regime_forecaster\u001b[0m:\u001b[36mfit\u001b[0m:\u001b[36m236\u001b[0m - \u001b[1mlogistic_regression validation accuracy: 0.800\u001b[0m\n",
      "\u001b[32m2025-09-12 18:05:57\u001b[0m | \u001b[1mINFO    \u001b[0m | \u001b[36msrc.regime_strategies.models.regime_forecaster\u001b[0m:\u001b[36mfit\u001b[0m:\u001b[36m65\u001b[0m - \u001b[1mNaive predictor fitted\u001b[0m\n",
      "\u001b[32m2025-09-12 18:05:57\u001b[0m | \u001b[1mINFO    \u001b[0m | \u001b[36msrc.regime_strategies.models.regime_forecaster\u001b[0m:\u001b[36mfit\u001b[0m:\u001b[36m248\u001b[0m - \u001b[1mNaive predictor validation accuracy: 0.800\u001b[0m\n",
      "\u001b[32m2025-09-12 18:05:57\u001b[0m | \u001b[1mINFO    \u001b[0m | \u001b[36msrc.regime_strategies.models.regime_forecaster\u001b[0m:\u001b[36m_create_ensemble_model\u001b[0m:\u001b[36m525\u001b[0m - \u001b[1mCreated ensemble model using voting method\u001b[0m\n",
      "\u001b[32m2025-09-12 18:05:57\u001b[0m | \u001b[1mINFO    \u001b[0m | \u001b[36msrc.regime_strategies.models.regime_forecaster\u001b[0m:\u001b[36mfit\u001b[0m:\u001b[36m259\u001b[0m - \u001b[1mEnsemble validation accuracy: 0.800\u001b[0m\n"
     ]
    },
    {
     "name": "stdout",
     "output_type": "stream",
     "text": [
      "\n",
      "Running Risk Parity strategy...\n"
     ]
    },
    {
     "name": "stderr",
     "output_type": "stream",
     "text": [
      "\u001b[32m2025-09-12 18:05:57\u001b[0m | \u001b[1mINFO    \u001b[0m | \u001b[36msrc.regime_strategies.models.regime_forecaster\u001b[0m:\u001b[36m_perform_cross_validation\u001b[0m:\u001b[36m558\u001b[0m - \u001b[1mrandom_forest CV accuracy: 0.667 (+/- 0.596)\u001b[0m\n",
      "\u001b[32m2025-09-12 18:05:57\u001b[0m | \u001b[1mINFO    \u001b[0m | \u001b[36msrc.regime_strategies.models.regime_forecaster\u001b[0m:\u001b[36m_perform_cross_validation\u001b[0m:\u001b[36m558\u001b[0m - \u001b[1mlogistic_regression CV accuracy: 0.800 (+/- 0.533)\u001b[0m\n",
      "\u001b[32m2025-09-12 18:05:57\u001b[0m | \u001b[1mINFO    \u001b[0m | \u001b[36msrc.regime_strategies.models.regime_forecaster\u001b[0m:\u001b[36mfit\u001b[0m:\u001b[36m264\u001b[0m - \u001b[1mRegime forecasting models fitted successfully\u001b[0m\n",
      "\u001b[32m2025-09-12 18:05:57\u001b[0m | \u001b[1mINFO    \u001b[0m | \u001b[36msrc.regime_strategies.backtesting.backtest_engine\u001b[0m:\u001b[36m_fit_regime_models\u001b[0m:\u001b[36m216\u001b[0m - \u001b[1mRegime models fitted successfully\u001b[0m\n",
      "\u001b[32m2025-09-12 18:05:57\u001b[0m | \u001b[1mINFO    \u001b[0m | \u001b[36msrc.regime_strategies.backtesting.backtest_engine\u001b[0m:\u001b[36m_run_simulation_loop\u001b[0m:\u001b[36m224\u001b[0m - \u001b[1mStarting simulation loop\u001b[0m\n",
      "\u001b[32m2025-09-12 18:05:57\u001b[0m | \u001b[1mINFO    \u001b[0m | \u001b[36msrc.regime_strategies.models.regime_forecaster\u001b[0m:\u001b[36mforecast_regime\u001b[0m:\u001b[36m368\u001b[0m - \u001b[1mForecasting regime for 2022-01-31 00:00:00 (horizon: 1)\u001b[0m\n",
      "\u001b[32m2025-09-12 18:05:57\u001b[0m | \u001b[33m\u001b[1mWARNING \u001b[0m | \u001b[36msrc.regime_strategies.models.regime_forecaster\u001b[0m:\u001b[36m_prepare_prediction_features\u001b[0m:\u001b[36m481\u001b[0m - \u001b[33m\u001b[1mFeature mismatch detected. Training: 14, Prediction: 9\u001b[0m\n",
      "\u001b[32m2025-09-12 18:05:57\u001b[0m | \u001b[33m\u001b[1mWARNING \u001b[0m | \u001b[36msrc.regime_strategies.models.regime_forecaster\u001b[0m:\u001b[36m_prepare_prediction_features\u001b[0m:\u001b[36m481\u001b[0m - \u001b[33m\u001b[1mFeature mismatch detected. Training: 14, Prediction: 9\u001b[0m\n",
      "\u001b[32m2025-09-12 18:05:57\u001b[0m | \u001b[1mINFO    \u001b[0m | \u001b[36msrc.regime_strategies.optimization.portfolio_optimizer\u001b[0m:\u001b[36moptimize\u001b[0m:\u001b[36m640\u001b[0m - \u001b[1mOptimizing portfolio using risk_parity method\u001b[0m\n",
      "\u001b[32m2025-09-12 18:05:57\u001b[0m | \u001b[1mINFO    \u001b[0m | \u001b[36msrc.regime_strategies.optimization.portfolio_optimizer\u001b[0m:\u001b[36m_log_optimization_results\u001b[0m:\u001b[36m744\u001b[0m - \u001b[1mOptimization completed: risk_parity | Status: optimal | Return: -0.3084 | Vol: 0.1018 | Sharpe: -3.0310\u001b[0m\n",
      "\u001b[32m2025-09-12 18:05:57\u001b[0m | \u001b[1mINFO    \u001b[0m | \u001b[36msrc.regime_strategies.models.regime_forecaster\u001b[0m:\u001b[36mforecast_regime\u001b[0m:\u001b[36m368\u001b[0m - \u001b[1mForecasting regime for 2022-02-28 00:00:00 (horizon: 1)\u001b[0m\n",
      "\u001b[32m2025-09-12 18:05:57\u001b[0m | \u001b[33m\u001b[1mWARNING \u001b[0m | \u001b[36msrc.regime_strategies.models.regime_forecaster\u001b[0m:\u001b[36m_prepare_prediction_features\u001b[0m:\u001b[36m481\u001b[0m - \u001b[33m\u001b[1mFeature mismatch detected. Training: 14, Prediction: 9\u001b[0m\n",
      "\u001b[32m2025-09-12 18:05:57\u001b[0m | \u001b[33m\u001b[1mWARNING \u001b[0m | \u001b[36msrc.regime_strategies.models.regime_forecaster\u001b[0m:\u001b[36m_prepare_prediction_features\u001b[0m:\u001b[36m481\u001b[0m - \u001b[33m\u001b[1mFeature mismatch detected. Training: 14, Prediction: 9\u001b[0m\n",
      "\u001b[32m2025-09-12 18:05:57\u001b[0m | \u001b[1mINFO    \u001b[0m | \u001b[36msrc.regime_strategies.optimization.portfolio_optimizer\u001b[0m:\u001b[36moptimize\u001b[0m:\u001b[36m640\u001b[0m - \u001b[1mOptimizing portfolio using risk_parity method\u001b[0m\n",
      "\u001b[32m2025-09-12 18:05:57\u001b[0m | \u001b[1mINFO    \u001b[0m | \u001b[36msrc.regime_strategies.optimization.portfolio_optimizer\u001b[0m:\u001b[36m_log_optimization_results\u001b[0m:\u001b[36m744\u001b[0m - \u001b[1mOptimization completed: risk_parity | Status: optimal | Return: -0.3084 | Vol: 0.1018 | Sharpe: -3.0310\u001b[0m\n",
      "\u001b[32m2025-09-12 18:05:57\u001b[0m | \u001b[1mINFO    \u001b[0m | \u001b[36msrc.regime_strategies.models.regime_forecaster\u001b[0m:\u001b[36mforecast_regime\u001b[0m:\u001b[36m368\u001b[0m - \u001b[1mForecasting regime for 2022-03-31 00:00:00 (horizon: 1)\u001b[0m\n",
      "\u001b[32m2025-09-12 18:05:57\u001b[0m | \u001b[33m\u001b[1mWARNING \u001b[0m | \u001b[36msrc.regime_strategies.models.regime_forecaster\u001b[0m:\u001b[36m_prepare_prediction_features\u001b[0m:\u001b[36m481\u001b[0m - \u001b[33m\u001b[1mFeature mismatch detected. Training: 14, Prediction: 9\u001b[0m\n",
      "\u001b[32m2025-09-12 18:05:57\u001b[0m | \u001b[33m\u001b[1mWARNING \u001b[0m | \u001b[36msrc.regime_strategies.models.regime_forecaster\u001b[0m:\u001b[36m_prepare_prediction_features\u001b[0m:\u001b[36m481\u001b[0m - \u001b[33m\u001b[1mFeature mismatch detected. Training: 14, Prediction: 9\u001b[0m\n",
      "\u001b[32m2025-09-12 18:05:57\u001b[0m | \u001b[1mINFO    \u001b[0m | \u001b[36msrc.regime_strategies.optimization.portfolio_optimizer\u001b[0m:\u001b[36moptimize\u001b[0m:\u001b[36m640\u001b[0m - \u001b[1mOptimizing portfolio using risk_parity method\u001b[0m\n",
      "\u001b[32m2025-09-12 18:05:57\u001b[0m | \u001b[1mINFO    \u001b[0m | \u001b[36msrc.regime_strategies.optimization.portfolio_optimizer\u001b[0m:\u001b[36m_log_optimization_results\u001b[0m:\u001b[36m744\u001b[0m - \u001b[1mOptimization completed: risk_parity | Status: optimal | Return: -0.3084 | Vol: 0.1018 | Sharpe: -3.0310\u001b[0m\n",
      "\u001b[32m2025-09-12 18:05:57\u001b[0m | \u001b[1mINFO    \u001b[0m | \u001b[36msrc.regime_strategies.models.regime_forecaster\u001b[0m:\u001b[36mforecast_regime\u001b[0m:\u001b[36m368\u001b[0m - \u001b[1mForecasting regime for 2022-04-30 00:00:00 (horizon: 1)\u001b[0m\n",
      "\u001b[32m2025-09-12 18:05:57\u001b[0m | \u001b[33m\u001b[1mWARNING \u001b[0m | \u001b[36msrc.regime_strategies.models.regime_forecaster\u001b[0m:\u001b[36m_prepare_prediction_features\u001b[0m:\u001b[36m481\u001b[0m - \u001b[33m\u001b[1mFeature mismatch detected. Training: 14, Prediction: 9\u001b[0m\n",
      "\u001b[32m2025-09-12 18:05:57\u001b[0m | \u001b[33m\u001b[1mWARNING \u001b[0m | \u001b[36msrc.regime_strategies.models.regime_forecaster\u001b[0m:\u001b[36m_prepare_prediction_features\u001b[0m:\u001b[36m481\u001b[0m - \u001b[33m\u001b[1mFeature mismatch detected. Training: 14, Prediction: 9\u001b[0m\n",
      "\u001b[32m2025-09-12 18:05:57\u001b[0m | \u001b[1mINFO    \u001b[0m | \u001b[36msrc.regime_strategies.optimization.portfolio_optimizer\u001b[0m:\u001b[36moptimize\u001b[0m:\u001b[36m640\u001b[0m - \u001b[1mOptimizing portfolio using risk_parity method\u001b[0m\n",
      "\u001b[32m2025-09-12 18:05:57\u001b[0m | \u001b[1mINFO    \u001b[0m | \u001b[36msrc.regime_strategies.optimization.portfolio_optimizer\u001b[0m:\u001b[36m_log_optimization_results\u001b[0m:\u001b[36m744\u001b[0m - \u001b[1mOptimization completed: risk_parity | Status: optimal | Return: -0.3084 | Vol: 0.1018 | Sharpe: -3.0310\u001b[0m\n",
      "\u001b[32m2025-09-12 18:05:57\u001b[0m | \u001b[1mINFO    \u001b[0m | \u001b[36msrc.regime_strategies.models.regime_forecaster\u001b[0m:\u001b[36mforecast_regime\u001b[0m:\u001b[36m368\u001b[0m - \u001b[1mForecasting regime for 2022-05-31 00:00:00 (horizon: 1)\u001b[0m\n",
      "\u001b[32m2025-09-12 18:05:57\u001b[0m | \u001b[33m\u001b[1mWARNING \u001b[0m | \u001b[36msrc.regime_strategies.models.regime_forecaster\u001b[0m:\u001b[36m_prepare_prediction_features\u001b[0m:\u001b[36m481\u001b[0m - \u001b[33m\u001b[1mFeature mismatch detected. Training: 14, Prediction: 9\u001b[0m\n",
      "\u001b[32m2025-09-12 18:05:57\u001b[0m | \u001b[33m\u001b[1mWARNING \u001b[0m | \u001b[36msrc.regime_strategies.models.regime_forecaster\u001b[0m:\u001b[36m_prepare_prediction_features\u001b[0m:\u001b[36m481\u001b[0m - \u001b[33m\u001b[1mFeature mismatch detected. Training: 14, Prediction: 9\u001b[0m\n",
      "\u001b[32m2025-09-12 18:05:57\u001b[0m | \u001b[1mINFO    \u001b[0m | \u001b[36msrc.regime_strategies.optimization.portfolio_optimizer\u001b[0m:\u001b[36moptimize\u001b[0m:\u001b[36m640\u001b[0m - \u001b[1mOptimizing portfolio using risk_parity method\u001b[0m\n",
      "\u001b[32m2025-09-12 18:05:57\u001b[0m | \u001b[1mINFO    \u001b[0m | \u001b[36msrc.regime_strategies.optimization.portfolio_optimizer\u001b[0m:\u001b[36m_log_optimization_results\u001b[0m:\u001b[36m744\u001b[0m - \u001b[1mOptimization completed: risk_parity | Status: optimal | Return: -0.3084 | Vol: 0.1018 | Sharpe: -3.0310\u001b[0m\n",
      "\u001b[32m2025-09-12 18:05:57\u001b[0m | \u001b[1mINFO    \u001b[0m | \u001b[36msrc.regime_strategies.models.regime_forecaster\u001b[0m:\u001b[36mforecast_regime\u001b[0m:\u001b[36m368\u001b[0m - \u001b[1mForecasting regime for 2022-06-30 00:00:00 (horizon: 1)\u001b[0m\n",
      "\u001b[32m2025-09-12 18:05:57\u001b[0m | \u001b[33m\u001b[1mWARNING \u001b[0m | \u001b[36msrc.regime_strategies.models.regime_forecaster\u001b[0m:\u001b[36m_prepare_prediction_features\u001b[0m:\u001b[36m481\u001b[0m - \u001b[33m\u001b[1mFeature mismatch detected. Training: 14, Prediction: 9\u001b[0m\n",
      "\u001b[32m2025-09-12 18:05:57\u001b[0m | \u001b[33m\u001b[1mWARNING \u001b[0m | \u001b[36msrc.regime_strategies.models.regime_forecaster\u001b[0m:\u001b[36m_prepare_prediction_features\u001b[0m:\u001b[36m481\u001b[0m - \u001b[33m\u001b[1mFeature mismatch detected. Training: 14, Prediction: 9\u001b[0m\n",
      "\u001b[32m2025-09-12 18:05:57\u001b[0m | \u001b[1mINFO    \u001b[0m | \u001b[36msrc.regime_strategies.optimization.portfolio_optimizer\u001b[0m:\u001b[36moptimize\u001b[0m:\u001b[36m640\u001b[0m - \u001b[1mOptimizing portfolio using risk_parity method\u001b[0m\n",
      "\u001b[32m2025-09-12 18:05:57\u001b[0m | \u001b[1mINFO    \u001b[0m | \u001b[36msrc.regime_strategies.optimization.portfolio_optimizer\u001b[0m:\u001b[36m_log_optimization_results\u001b[0m:\u001b[36m744\u001b[0m - \u001b[1mOptimization completed: risk_parity | Status: optimal | Return: -0.3084 | Vol: 0.1018 | Sharpe: -3.0310\u001b[0m\n",
      "\u001b[32m2025-09-12 18:05:57\u001b[0m | \u001b[1mINFO    \u001b[0m | \u001b[36msrc.regime_strategies.models.regime_forecaster\u001b[0m:\u001b[36mforecast_regime\u001b[0m:\u001b[36m368\u001b[0m - \u001b[1mForecasting regime for 2022-07-31 00:00:00 (horizon: 1)\u001b[0m\n",
      "\u001b[32m2025-09-12 18:05:57\u001b[0m | \u001b[33m\u001b[1mWARNING \u001b[0m | \u001b[36msrc.regime_strategies.models.regime_forecaster\u001b[0m:\u001b[36m_prepare_prediction_features\u001b[0m:\u001b[36m481\u001b[0m - \u001b[33m\u001b[1mFeature mismatch detected. Training: 14, Prediction: 9\u001b[0m\n",
      "\u001b[32m2025-09-12 18:05:57\u001b[0m | \u001b[33m\u001b[1mWARNING \u001b[0m | \u001b[36msrc.regime_strategies.models.regime_forecaster\u001b[0m:\u001b[36m_prepare_prediction_features\u001b[0m:\u001b[36m481\u001b[0m - \u001b[33m\u001b[1mFeature mismatch detected. Training: 14, Prediction: 9\u001b[0m\n",
      "\u001b[32m2025-09-12 18:05:57\u001b[0m | \u001b[1mINFO    \u001b[0m | \u001b[36msrc.regime_strategies.optimization.portfolio_optimizer\u001b[0m:\u001b[36moptimize\u001b[0m:\u001b[36m640\u001b[0m - \u001b[1mOptimizing portfolio using risk_parity method\u001b[0m\n",
      "\u001b[32m2025-09-12 18:05:57\u001b[0m | \u001b[1mINFO    \u001b[0m | \u001b[36msrc.regime_strategies.optimization.portfolio_optimizer\u001b[0m:\u001b[36m_log_optimization_results\u001b[0m:\u001b[36m744\u001b[0m - \u001b[1mOptimization completed: risk_parity | Status: optimal | Return: -0.3084 | Vol: 0.1018 | Sharpe: -3.0310\u001b[0m\n",
      "\u001b[32m2025-09-12 18:05:57\u001b[0m | \u001b[1mINFO    \u001b[0m | \u001b[36msrc.regime_strategies.models.regime_forecaster\u001b[0m:\u001b[36mforecast_regime\u001b[0m:\u001b[36m368\u001b[0m - \u001b[1mForecasting regime for 2022-08-31 00:00:00 (horizon: 1)\u001b[0m\n",
      "\u001b[32m2025-09-12 18:05:57\u001b[0m | \u001b[33m\u001b[1mWARNING \u001b[0m | \u001b[36msrc.regime_strategies.models.regime_forecaster\u001b[0m:\u001b[36m_prepare_prediction_features\u001b[0m:\u001b[36m481\u001b[0m - \u001b[33m\u001b[1mFeature mismatch detected. Training: 14, Prediction: 9\u001b[0m\n",
      "\u001b[32m2025-09-12 18:05:57\u001b[0m | \u001b[33m\u001b[1mWARNING \u001b[0m | \u001b[36msrc.regime_strategies.models.regime_forecaster\u001b[0m:\u001b[36m_prepare_prediction_features\u001b[0m:\u001b[36m481\u001b[0m - \u001b[33m\u001b[1mFeature mismatch detected. Training: 14, Prediction: 9\u001b[0m\n",
      "\u001b[32m2025-09-12 18:05:57\u001b[0m | \u001b[1mINFO    \u001b[0m | \u001b[36msrc.regime_strategies.optimization.portfolio_optimizer\u001b[0m:\u001b[36moptimize\u001b[0m:\u001b[36m640\u001b[0m - \u001b[1mOptimizing portfolio using risk_parity method\u001b[0m\n",
      "\u001b[32m2025-09-12 18:05:57\u001b[0m | \u001b[1mINFO    \u001b[0m | \u001b[36msrc.regime_strategies.optimization.portfolio_optimizer\u001b[0m:\u001b[36m_log_optimization_results\u001b[0m:\u001b[36m744\u001b[0m - \u001b[1mOptimization completed: risk_parity | Status: optimal | Return: -0.3084 | Vol: 0.1018 | Sharpe: -3.0310\u001b[0m\n",
      "\u001b[32m2025-09-12 18:05:57\u001b[0m | \u001b[1mINFO    \u001b[0m | \u001b[36msrc.regime_strategies.models.regime_forecaster\u001b[0m:\u001b[36mforecast_regime\u001b[0m:\u001b[36m368\u001b[0m - \u001b[1mForecasting regime for 2022-09-30 00:00:00 (horizon: 1)\u001b[0m\n",
      "\u001b[32m2025-09-12 18:05:57\u001b[0m | \u001b[33m\u001b[1mWARNING \u001b[0m | \u001b[36msrc.regime_strategies.models.regime_forecaster\u001b[0m:\u001b[36m_prepare_prediction_features\u001b[0m:\u001b[36m481\u001b[0m - \u001b[33m\u001b[1mFeature mismatch detected. Training: 14, Prediction: 9\u001b[0m\n",
      "\u001b[32m2025-09-12 18:05:57\u001b[0m | \u001b[33m\u001b[1mWARNING \u001b[0m | \u001b[36msrc.regime_strategies.models.regime_forecaster\u001b[0m:\u001b[36m_prepare_prediction_features\u001b[0m:\u001b[36m481\u001b[0m - \u001b[33m\u001b[1mFeature mismatch detected. Training: 14, Prediction: 9\u001b[0m\n",
      "\u001b[32m2025-09-12 18:05:57\u001b[0m | \u001b[1mINFO    \u001b[0m | \u001b[36msrc.regime_strategies.optimization.portfolio_optimizer\u001b[0m:\u001b[36moptimize\u001b[0m:\u001b[36m640\u001b[0m - \u001b[1mOptimizing portfolio using risk_parity method\u001b[0m\n",
      "\u001b[32m2025-09-12 18:05:57\u001b[0m | \u001b[1mINFO    \u001b[0m | \u001b[36msrc.regime_strategies.optimization.portfolio_optimizer\u001b[0m:\u001b[36m_log_optimization_results\u001b[0m:\u001b[36m744\u001b[0m - \u001b[1mOptimization completed: risk_parity | Status: optimal | Return: -0.3084 | Vol: 0.1018 | Sharpe: -3.0310\u001b[0m\n",
      "\u001b[32m2025-09-12 18:05:57\u001b[0m | \u001b[1mINFO    \u001b[0m | \u001b[36msrc.regime_strategies.models.regime_forecaster\u001b[0m:\u001b[36mforecast_regime\u001b[0m:\u001b[36m368\u001b[0m - \u001b[1mForecasting regime for 2022-10-31 00:00:00 (horizon: 1)\u001b[0m\n",
      "\u001b[32m2025-09-12 18:05:57\u001b[0m | \u001b[33m\u001b[1mWARNING \u001b[0m | \u001b[36msrc.regime_strategies.models.regime_forecaster\u001b[0m:\u001b[36m_prepare_prediction_features\u001b[0m:\u001b[36m481\u001b[0m - \u001b[33m\u001b[1mFeature mismatch detected. Training: 14, Prediction: 9\u001b[0m\n",
      "\u001b[32m2025-09-12 18:05:57\u001b[0m | \u001b[33m\u001b[1mWARNING \u001b[0m | \u001b[36msrc.regime_strategies.models.regime_forecaster\u001b[0m:\u001b[36m_prepare_prediction_features\u001b[0m:\u001b[36m481\u001b[0m - \u001b[33m\u001b[1mFeature mismatch detected. Training: 14, Prediction: 9\u001b[0m\n",
      "\u001b[32m2025-09-12 18:05:57\u001b[0m | \u001b[1mINFO    \u001b[0m | \u001b[36msrc.regime_strategies.optimization.portfolio_optimizer\u001b[0m:\u001b[36moptimize\u001b[0m:\u001b[36m640\u001b[0m - \u001b[1mOptimizing portfolio using risk_parity method\u001b[0m\n",
      "\u001b[32m2025-09-12 18:05:57\u001b[0m | \u001b[1mINFO    \u001b[0m | \u001b[36msrc.regime_strategies.optimization.portfolio_optimizer\u001b[0m:\u001b[36m_log_optimization_results\u001b[0m:\u001b[36m744\u001b[0m - \u001b[1mOptimization completed: risk_parity | Status: optimal | Return: -0.3084 | Vol: 0.1018 | Sharpe: -3.0310\u001b[0m\n",
      "\u001b[32m2025-09-12 18:05:57\u001b[0m | \u001b[1mINFO    \u001b[0m | \u001b[36msrc.regime_strategies.models.regime_forecaster\u001b[0m:\u001b[36mforecast_regime\u001b[0m:\u001b[36m368\u001b[0m - \u001b[1mForecasting regime for 2022-11-30 00:00:00 (horizon: 1)\u001b[0m\n",
      "\u001b[32m2025-09-12 18:05:57\u001b[0m | \u001b[33m\u001b[1mWARNING \u001b[0m | \u001b[36msrc.regime_strategies.models.regime_forecaster\u001b[0m:\u001b[36m_prepare_prediction_features\u001b[0m:\u001b[36m481\u001b[0m - \u001b[33m\u001b[1mFeature mismatch detected. Training: 14, Prediction: 9\u001b[0m\n",
      "\u001b[32m2025-09-12 18:05:57\u001b[0m | \u001b[33m\u001b[1mWARNING \u001b[0m | \u001b[36msrc.regime_strategies.models.regime_forecaster\u001b[0m:\u001b[36m_prepare_prediction_features\u001b[0m:\u001b[36m481\u001b[0m - \u001b[33m\u001b[1mFeature mismatch detected. Training: 14, Prediction: 9\u001b[0m\n",
      "\u001b[32m2025-09-12 18:05:57\u001b[0m | \u001b[1mINFO    \u001b[0m | \u001b[36msrc.regime_strategies.optimization.portfolio_optimizer\u001b[0m:\u001b[36moptimize\u001b[0m:\u001b[36m640\u001b[0m - \u001b[1mOptimizing portfolio using risk_parity method\u001b[0m\n",
      "\u001b[32m2025-09-12 18:05:57\u001b[0m | \u001b[1mINFO    \u001b[0m | \u001b[36msrc.regime_strategies.optimization.portfolio_optimizer\u001b[0m:\u001b[36m_log_optimization_results\u001b[0m:\u001b[36m744\u001b[0m - \u001b[1mOptimization completed: risk_parity | Status: optimal | Return: -0.3084 | Vol: 0.1018 | Sharpe: -3.0310\u001b[0m\n",
      "\u001b[32m2025-09-12 18:05:57\u001b[0m | \u001b[1mINFO    \u001b[0m | \u001b[36msrc.regime_strategies.models.regime_forecaster\u001b[0m:\u001b[36mforecast_regime\u001b[0m:\u001b[36m368\u001b[0m - \u001b[1mForecasting regime for 2022-12-31 00:00:00 (horizon: 1)\u001b[0m\n",
      "\u001b[32m2025-09-12 18:05:57\u001b[0m | \u001b[33m\u001b[1mWARNING \u001b[0m | \u001b[36msrc.regime_strategies.models.regime_forecaster\u001b[0m:\u001b[36m_prepare_prediction_features\u001b[0m:\u001b[36m481\u001b[0m - \u001b[33m\u001b[1mFeature mismatch detected. Training: 14, Prediction: 9\u001b[0m\n",
      "\u001b[32m2025-09-12 18:05:57\u001b[0m | \u001b[33m\u001b[1mWARNING \u001b[0m | \u001b[36msrc.regime_strategies.models.regime_forecaster\u001b[0m:\u001b[36m_prepare_prediction_features\u001b[0m:\u001b[36m481\u001b[0m - \u001b[33m\u001b[1mFeature mismatch detected. Training: 14, Prediction: 9\u001b[0m\n",
      "\u001b[32m2025-09-12 18:05:57\u001b[0m | \u001b[1mINFO    \u001b[0m | \u001b[36msrc.regime_strategies.optimization.portfolio_optimizer\u001b[0m:\u001b[36moptimize\u001b[0m:\u001b[36m640\u001b[0m - \u001b[1mOptimizing portfolio using risk_parity method\u001b[0m\n",
      "\u001b[32m2025-09-12 18:05:57\u001b[0m | \u001b[1mINFO    \u001b[0m | \u001b[36msrc.regime_strategies.optimization.portfolio_optimizer\u001b[0m:\u001b[36m_log_optimization_results\u001b[0m:\u001b[36m744\u001b[0m - \u001b[1mOptimization completed: risk_parity | Status: optimal | Return: -0.3084 | Vol: 0.1018 | Sharpe: -3.0310\u001b[0m\n",
      "\u001b[32m2025-09-12 18:05:57\u001b[0m | \u001b[1mINFO    \u001b[0m | \u001b[36msrc.regime_strategies.backtesting.backtest_engine\u001b[0m:\u001b[36m_run_simulation_loop\u001b[0m:\u001b[36m359\u001b[0m - \u001b[1mSimulation completed: 12 rebalancing periods\u001b[0m\n",
      "\u001b[32m2025-09-12 18:05:57\u001b[0m | \u001b[1mINFO    \u001b[0m | \u001b[36msrc.regime_strategies.backtesting.backtest_engine\u001b[0m:\u001b[36m_calculate_final_metrics\u001b[0m:\u001b[36m584\u001b[0m - \u001b[1mCalculating final performance metrics\u001b[0m\n",
      "\u001b[32m2025-09-12 18:05:57\u001b[0m | \u001b[1mINFO    \u001b[0m | \u001b[36msrc.regime_strategies.utils.metrics\u001b[0m:\u001b[36mcalculate_metrics\u001b[0m:\u001b[36m302\u001b[0m - \u001b[1mCalculated 17 performance metrics\u001b[0m\n",
      "\u001b[32m2025-09-12 18:05:57\u001b[0m | \u001b[1mINFO    \u001b[0m | \u001b[36msrc.regime_strategies.utils.metrics\u001b[0m:\u001b[36mcalculate_metrics\u001b[0m:\u001b[36m302\u001b[0m - \u001b[1mCalculated 13 performance metrics\u001b[0m\n",
      "\u001b[32m2025-09-12 18:05:57\u001b[0m | \u001b[1mINFO    \u001b[0m | \u001b[36msrc.regime_strategies.utils.metrics\u001b[0m:\u001b[36mcalculate_metrics\u001b[0m:\u001b[36m302\u001b[0m - \u001b[1mCalculated 13 performance metrics\u001b[0m\n",
      "\u001b[32m2025-09-12 18:05:57\u001b[0m | \u001b[1mINFO    \u001b[0m | \u001b[36msrc.regime_strategies.backtesting.backtest_engine\u001b[0m:\u001b[36m_calculate_final_metrics\u001b[0m:\u001b[36m602\u001b[0m - \u001b[1mPerformance metrics calculated: Total return: -14.92%, Sharpe ratio: -5.423, Regime accuracy: 83.33%\u001b[0m\n",
      "\u001b[32m2025-09-12 18:05:57\u001b[0m | \u001b[1mINFO    \u001b[0m | \u001b[36msrc.regime_strategies.backtesting.backtest_engine\u001b[0m:\u001b[36mrun_backtest\u001b[0m:\u001b[36m137\u001b[0m - \u001b[1mBacktest completed successfully\u001b[0m\n",
      "\u001b[32m2025-09-12 18:05:57\u001b[0m | \u001b[1mINFO    \u001b[0m | \u001b[36msrc.regime_strategies.backtesting.performance_evaluator\u001b[0m:\u001b[36mevaluate_strategy\u001b[0m:\u001b[36m48\u001b[0m - \u001b[1mStarting comprehensive strategy evaluation\u001b[0m\n",
      "\u001b[32m2025-09-12 18:05:57\u001b[0m | \u001b[1mINFO    \u001b[0m | \u001b[36msrc.regime_strategies.utils.metrics\u001b[0m:\u001b[36mcalculate_metrics\u001b[0m:\u001b[36m302\u001b[0m - \u001b[1mCalculated 17 performance metrics\u001b[0m\n",
      "\u001b[32m2025-09-12 18:05:57\u001b[0m | \u001b[1mINFO    \u001b[0m | \u001b[36msrc.regime_strategies.utils.metrics\u001b[0m:\u001b[36mcalculate_metrics\u001b[0m:\u001b[36m302\u001b[0m - \u001b[1mCalculated 13 performance metrics\u001b[0m\n",
      "\u001b[32m2025-09-12 18:05:57\u001b[0m | \u001b[1mINFO    \u001b[0m | \u001b[36msrc.regime_strategies.utils.metrics\u001b[0m:\u001b[36mcalculate_metrics\u001b[0m:\u001b[36m302\u001b[0m - \u001b[1mCalculated 13 performance metrics\u001b[0m\n",
      "\u001b[32m2025-09-12 18:05:57\u001b[0m | \u001b[1mINFO    \u001b[0m | \u001b[36msrc.regime_strategies.utils.metrics\u001b[0m:\u001b[36mcalculate_metrics\u001b[0m:\u001b[36m302\u001b[0m - \u001b[1mCalculated 13 performance metrics\u001b[0m\n",
      "\u001b[32m2025-09-12 18:05:57\u001b[0m | \u001b[1mINFO    \u001b[0m | \u001b[36msrc.regime_strategies.utils.metrics\u001b[0m:\u001b[36mcalculate_metrics\u001b[0m:\u001b[36m302\u001b[0m - \u001b[1mCalculated 13 performance metrics\u001b[0m\n",
      "\u001b[32m2025-09-12 18:05:57\u001b[0m | \u001b[1mINFO    \u001b[0m | \u001b[36msrc.regime_strategies.utils.metrics\u001b[0m:\u001b[36mcalculate_metrics\u001b[0m:\u001b[36m302\u001b[0m - \u001b[1mCalculated 13 performance metrics\u001b[0m\n",
      "\u001b[32m2025-09-12 18:05:57\u001b[0m | \u001b[1mINFO    \u001b[0m | \u001b[36msrc.regime_strategies.utils.metrics\u001b[0m:\u001b[36mcalculate_metrics\u001b[0m:\u001b[36m302\u001b[0m - \u001b[1mCalculated 13 performance metrics\u001b[0m\n",
      "\u001b[32m2025-09-12 18:05:57\u001b[0m | \u001b[1mINFO    \u001b[0m | \u001b[36msrc.regime_strategies.utils.metrics\u001b[0m:\u001b[36mcalculate_metrics\u001b[0m:\u001b[36m302\u001b[0m - \u001b[1mCalculated 13 performance metrics\u001b[0m\n",
      "\u001b[32m2025-09-12 18:05:57\u001b[0m | \u001b[1mINFO    \u001b[0m | \u001b[36msrc.regime_strategies.backtesting.performance_evaluator\u001b[0m:\u001b[36mevaluate_strategy\u001b[0m:\u001b[36m72\u001b[0m - \u001b[1mStrategy evaluation completed\u001b[0m\n",
      "\u001b[32m2025-09-12 18:05:57\u001b[0m | \u001b[1mINFO    \u001b[0m | \u001b[36msrc.regime_strategies.backtesting.visualization\u001b[0m:\u001b[36mcreate_performance_dashboard\u001b[0m:\u001b[36m81\u001b[0m - \u001b[1mCreating performance dashboard\u001b[0m\n",
      "\u001b[32m2025-09-12 18:05:58\u001b[0m | \u001b[1mINFO    \u001b[0m | \u001b[36msrc.regime_strategies.main\u001b[0m:\u001b[36mrun_backtest\u001b[0m:\u001b[36m147\u001b[0m - \u001b[1mBacktest completed successfully: {'strategy_name': 'risk_parity_comparison', 'backtest_period': '2022-01-01 to 2022-12-31', 'total_return': np.float64(-0.14918912275858442), 'annualized_return': np.float64(-3.2062761831565894), 'annualized_volatility': np.float64(0.5949596311714644), 'sharpe_ratio': np.float64(-5.422680824250398), 'maximum_drawdown': np.float64(-0.18511336597054384), 'regime_prediction_accuracy': np.float64(0.8333333333333334), 'overall_rating': 'Poor', 'static_mpt_outperformance': np.float64(0.5), 'regime_advantage_return': np.float64(-0.0012796996420005868), 'regime_advantage_sharpe': np.float64(0.057000058773189366)}\u001b[0m\n"
     ]
    },
    {
     "name": "stdout",
     "output_type": "stream",
     "text": [
      "\n",
      "============================================================\n",
      "OPTIMIZATION METHOD COMPARISON\n",
      "============================================================\n",
      "                 Max Sharpe Risk Parity\n",
      "Total Return        -14.52%     -14.92%\n",
      "Sharpe Ratio         -5.635      -5.423\n",
      "Max Drawdown        -19.74%     -18.51%\n",
      "Regime Advantage     -3.11%      -0.13%\n",
      "\n",
      "🏆 Winner: Max Sharpe (+0.40% return advantage)\n"
     ]
    }
   ],
   "source": [
    "# Test different optimization methods\n",
    "optimization_methods = ['max_sharpe', 'risk_parity']\n",
    "comparison_results = {}\n",
    "\n",
    "for method in optimization_methods:\n",
    "    print(f\"\\nRunning {method.replace('_', ' ').title()} strategy...\")\n",
    "    \n",
    "    # Update configuration\n",
    "    app.config.optimization.default_method = method\n",
    "    \n",
    "    # Run backtest\n",
    "    result = app.run_backtest(\n",
    "        start_date='2022-01-01',\n",
    "        end_date='2022-12-31',\n",
    "        assets=['SPY', 'TLT', 'GLD'],\n",
    "        strategy_name=f'{method}_comparison',\n",
    "        save_results=False\n",
    "    )\n",
    "    \n",
    "    comparison_results[method] = result\n",
    "\n",
    "# Create comparison table\n",
    "comparison_df = pd.DataFrame({\n",
    "    'Max Sharpe': {\n",
    "        'Total Return': f\"{comparison_results['max_sharpe']['total_return']:.2%}\",\n",
    "        'Sharpe Ratio': f\"{comparison_results['max_sharpe']['sharpe_ratio']:.3f}\",\n",
    "        'Max Drawdown': f\"{comparison_results['max_sharpe']['maximum_drawdown']:.2%}\",\n",
    "        'Regime Advantage': f\"{comparison_results['max_sharpe'].get('regime_advantage_return', 0):+.2%}\"\n",
    "    },\n",
    "    'Risk Parity': {\n",
    "        'Total Return': f\"{comparison_results['risk_parity']['total_return']:.2%}\",\n",
    "        'Sharpe Ratio': f\"{comparison_results['risk_parity']['sharpe_ratio']:.3f}\",\n",
    "        'Max Drawdown': f\"{comparison_results['risk_parity']['maximum_drawdown']:.2%}\",\n",
    "        'Regime Advantage': f\"{comparison_results['risk_parity'].get('regime_advantage_return', 0):+.2%}\"\n",
    "    }\n",
    "})\n",
    "\n",
    "print(\"\\n\" + \"=\"*60)\n",
    "print(\"OPTIMIZATION METHOD COMPARISON\")\n",
    "print(\"=\"*60)\n",
    "print(comparison_df.to_string())\n",
    "\n",
    "# Determine winner\n",
    "max_sharpe_return = comparison_results['max_sharpe']['total_return']\n",
    "risk_parity_return = comparison_results['risk_parity']['total_return']\n",
    "\n",
    "if risk_parity_return > max_sharpe_return:\n",
    "    winner = \"Risk Parity\"\n",
    "    advantage = risk_parity_return - max_sharpe_return\n",
    "else:\n",
    "    winner = \"Max Sharpe\"\n",
    "    advantage = max_sharpe_return - risk_parity_return\n",
    "\n",
    "print(f\"\\n🏆 Winner: {winner} (+{advantage:.2%} return advantage)\")"
   ]
  },
  {
   "cell_type": "markdown",
   "metadata": {},
   "source": [
    "## 6. Multi-Horizon Analysis\n",
    "\n",
    "Let's test the strategy's robustness across multiple time horizons using our multi-horizon analysis framework:"
   ]
  },
  {
   "cell_type": "code",
   "execution_count": 7,
   "metadata": {},
   "outputs": [
    {
     "name": "stderr",
     "output_type": "stream",
     "text": [
      "\u001b[32m2025-09-12 18:05:58\u001b[0m | \u001b[1mINFO    \u001b[0m | \u001b[36msrc.regime_strategies.main\u001b[0m:\u001b[36mrun_backtest\u001b[0m:\u001b[36m82\u001b[0m - \u001b[1mStarting backtest: 2022-01-01 to 2023-01-01\u001b[0m\n",
      "\u001b[32m2025-09-12 18:05:58\u001b[0m | \u001b[1mINFO    \u001b[0m | \u001b[36msrc.regime_strategies.backtesting.backtest_engine\u001b[0m:\u001b[36mrun_backtest\u001b[0m:\u001b[36m116\u001b[0m - \u001b[1mStarting backtest: 2022-01-01 00:00:00 to 2023-01-01 00:00:00\u001b[0m\n",
      "\u001b[32m2025-09-12 18:05:58\u001b[0m | \u001b[1mINFO    \u001b[0m | \u001b[36msrc.regime_strategies.backtesting.backtest_engine\u001b[0m:\u001b[36m_load_backtest_data\u001b[0m:\u001b[36m147\u001b[0m - \u001b[1mLoading backtest data\u001b[0m\n",
      "\u001b[32m2025-09-12 18:05:58\u001b[0m | \u001b[1mINFO    \u001b[0m | \u001b[36msrc.regime_strategies.data.data_loader\u001b[0m:\u001b[36mload_market_data\u001b[0m:\u001b[36m139\u001b[0m - \u001b[1mLoading market data for 3 assets from 2020-01-02 to 2023-01-01\u001b[0m\n",
      "\u001b[32m2025-09-12 18:05:58\u001b[0m | \u001b[1mINFO    \u001b[0m | \u001b[36msrc.regime_strategies.data.market_data\u001b[0m:\u001b[36mget_price_data\u001b[0m:\u001b[36m72\u001b[0m - \u001b[1mLoading price data for 3 symbols from 2020-01-02 to 2023-01-01\u001b[0m\n"
     ]
    },
    {
     "name": "stdout",
     "output_type": "stream",
     "text": [
      "Running multi-horizon analysis (limited for demo)...\n",
      "Multi-Horizon Backtest Analysis\n",
      "==================================================\n",
      "Analysis Period: 2022-01-01 to 2023-06-30\n",
      "Maximum Combinations: 6\n",
      "\n",
      "Testing 1 period combinations...\n",
      "\n",
      "[1/1] Testing: 2022-01-01 to 2023-01-01\n"
     ]
    },
    {
     "name": "stderr",
     "output_type": "stream",
     "text": [
      "[*********************100%***********************]  3 of 3 completed\n",
      "\u001b[32m2025-09-12 18:05:58\u001b[0m | \u001b[1mINFO    \u001b[0m | \u001b[36msrc.regime_strategies.data.market_data\u001b[0m:\u001b[36mget_price_data\u001b[0m:\u001b[36m80\u001b[0m - \u001b[1mLoaded price data from Yahoo Finance. Shape: (756, 3)\u001b[0m\n",
      "\u001b[32m2025-09-12 18:05:58\u001b[0m | \u001b[1mINFO    \u001b[0m | \u001b[36msrc.regime_strategies.utils.data_utils\u001b[0m:\u001b[36mclean_returns\u001b[0m:\u001b[36m138\u001b[0m - \u001b[1mWinsorized 16 extreme values\u001b[0m\n",
      "\u001b[32m2025-09-12 18:05:58\u001b[0m | \u001b[1mINFO    \u001b[0m | \u001b[36msrc.regime_strategies.utils.data_utils\u001b[0m:\u001b[36mclean_returns\u001b[0m:\u001b[36m138\u001b[0m - \u001b[1mWinsorized 16 extreme values\u001b[0m\n",
      "\u001b[32m2025-09-12 18:05:58\u001b[0m | \u001b[1mINFO    \u001b[0m | \u001b[36msrc.regime_strategies.utils.data_utils\u001b[0m:\u001b[36mclean_returns\u001b[0m:\u001b[36m138\u001b[0m - \u001b[1mWinsorized 16 extreme values\u001b[0m\n",
      "\u001b[32m2025-09-12 18:05:58\u001b[0m | \u001b[1mINFO    \u001b[0m | \u001b[36msrc.regime_strategies.data.market_data\u001b[0m:\u001b[36mcalculate_returns\u001b[0m:\u001b[36m136\u001b[0m - \u001b[1mCalculated simple returns. Shape: (755, 3)\u001b[0m\n",
      "\u001b[32m2025-09-12 18:05:58\u001b[0m | \u001b[1mINFO    \u001b[0m | \u001b[36msrc.regime_strategies.data.market_data\u001b[0m:\u001b[36mget_vix_data\u001b[0m:\u001b[36m170\u001b[0m - \u001b[1mLoading VIX data from 2020-01-02 to 2023-01-01\u001b[0m\n",
      "\u001b[32m2025-09-12 18:05:58\u001b[0m | \u001b[1mINFO    \u001b[0m | \u001b[36msrc.regime_strategies.data.market_data\u001b[0m:\u001b[36mget_vix_data\u001b[0m:\u001b[36m186\u001b[0m - \u001b[1mLoaded VIX data from Yahoo Finance. Shape: (756, 1)\u001b[0m\n",
      "\u001b[32m2025-09-12 18:05:58\u001b[0m | \u001b[1mINFO    \u001b[0m | \u001b[36msrc.regime_strategies.utils.data_utils\u001b[0m:\u001b[36mvalidate_data\u001b[0m:\u001b[36m50\u001b[0m - \u001b[1mData validation completed. Shape: (755, 4)\u001b[0m\n",
      "\u001b[32m2025-09-12 18:05:58\u001b[0m | \u001b[1mINFO    \u001b[0m | \u001b[36msrc.regime_strategies.data.data_loader\u001b[0m:\u001b[36mload_market_data\u001b[0m:\u001b[36m163\u001b[0m - \u001b[1mLoaded market data. Shape: (755, 4)\u001b[0m\n",
      "\u001b[32m2025-09-12 18:05:58\u001b[0m | \u001b[1mINFO    \u001b[0m | \u001b[36msrc.regime_strategies.data.data_loader\u001b[0m:\u001b[36mload_economic_indicators\u001b[0m:\u001b[36m73\u001b[0m - \u001b[1mLoading economic indicators from 2020-01-02 to 2023-01-01\u001b[0m\n",
      "\u001b[32m2025-09-12 18:05:58\u001b[0m | \u001b[1mINFO    \u001b[0m | \u001b[36msrc.regime_strategies.data.economic_data\u001b[0m:\u001b[36mget_cpi_data\u001b[0m:\u001b[36m79\u001b[0m - \u001b[1mLoading CPI data from 2020-01-02 to 2023-01-01\u001b[0m\n",
      "\u001b[32m2025-09-12 18:05:58\u001b[0m | \u001b[33m\u001b[1mWARNING \u001b[0m | \u001b[36msrc.regime_strategies.data.economic_data\u001b[0m:\u001b[36m_generate_synthetic_cpi_data\u001b[0m:\u001b[36m265\u001b[0m - \u001b[33m\u001b[1mGenerating synthetic CPI data - for testing only!\u001b[0m\n",
      "\u001b[32m2025-09-12 18:05:58\u001b[0m | \u001b[1mINFO    \u001b[0m | \u001b[36msrc.regime_strategies.data.economic_data\u001b[0m:\u001b[36mget_cli_data\u001b[0m:\u001b[36m140\u001b[0m - \u001b[1mLoading CLI data from 2020-01-02 to 2023-01-01\u001b[0m\n",
      "\u001b[32m2025-09-12 18:05:58\u001b[0m | \u001b[33m\u001b[1mWARNING \u001b[0m | \u001b[36msrc.regime_strategies.data.economic_data\u001b[0m:\u001b[36m_generate_synthetic_cli_data\u001b[0m:\u001b[36m288\u001b[0m - \u001b[33m\u001b[1mGenerating synthetic CLI data - for testing only!\u001b[0m\n",
      "\u001b[32m2025-09-12 18:05:58\u001b[0m | \u001b[1mINFO    \u001b[0m | \u001b[36msrc.regime_strategies.utils.data_utils\u001b[0m:\u001b[36malign_data\u001b[0m:\u001b[36m93\u001b[0m - \u001b[1mAligned 2 dataframes using inner join. Result shape: (36, 1)\u001b[0m\n",
      "\u001b[32m2025-09-12 18:05:58\u001b[0m | \u001b[33m\u001b[1mWARNING \u001b[0m | \u001b[36msrc.regime_strategies.utils.data_utils\u001b[0m:\u001b[36mvalidate_data\u001b[0m:\u001b[36m40\u001b[0m - \u001b[33m\u001b[1mData contains NaN values\u001b[0m\n",
      "\u001b[32m2025-09-12 18:05:58\u001b[0m | \u001b[33m\u001b[1mWARNING \u001b[0m | \u001b[36msrc.regime_strategies.utils.data_utils\u001b[0m:\u001b[36mvalidate_data\u001b[0m:\u001b[36m43\u001b[0m - \u001b[33m\u001b[1mNaN counts by column: {'CPI_quarterly': 3, 'CPI_ma36': 35, 'CPI_signal': 36, 'CLI_change3m': 3, 'CLI_signal': 3}\u001b[0m\n",
      "\u001b[32m2025-09-12 18:05:58\u001b[0m | \u001b[1mINFO    \u001b[0m | \u001b[36msrc.regime_strategies.utils.data_utils\u001b[0m:\u001b[36mvalidate_data\u001b[0m:\u001b[36m50\u001b[0m - \u001b[1mData validation completed. Shape: (36, 7)\u001b[0m\n",
      "\u001b[32m2025-09-12 18:05:58\u001b[0m | \u001b[1mINFO    \u001b[0m | \u001b[36msrc.regime_strategies.data.data_loader\u001b[0m:\u001b[36mload_economic_indicators\u001b[0m:\u001b[36m101\u001b[0m - \u001b[1mLoaded economic indicators. Shape: (36, 7)\u001b[0m\n",
      "\u001b[32m2025-09-12 18:05:58\u001b[0m | \u001b[1mINFO    \u001b[0m | \u001b[36msrc.regime_strategies.data.market_data\u001b[0m:\u001b[36mget_price_data\u001b[0m:\u001b[36m72\u001b[0m - \u001b[1mLoading price data for 1 symbols from 2020-01-02 to 2023-01-01\u001b[0m\n",
      "[*********************100%***********************]  1 of 1 completed\n",
      "\u001b[32m2025-09-12 18:05:58\u001b[0m | \u001b[1mINFO    \u001b[0m | \u001b[36msrc.regime_strategies.data.market_data\u001b[0m:\u001b[36mget_price_data\u001b[0m:\u001b[36m80\u001b[0m - \u001b[1mLoaded price data from Yahoo Finance. Shape: (756, 1)\u001b[0m\n",
      "\u001b[32m2025-09-12 18:05:58\u001b[0m | \u001b[1mINFO    \u001b[0m | \u001b[36msrc.regime_strategies.utils.data_utils\u001b[0m:\u001b[36mclean_returns\u001b[0m:\u001b[36m138\u001b[0m - \u001b[1mWinsorized 16 extreme values\u001b[0m\n",
      "\u001b[32m2025-09-12 18:05:58\u001b[0m | \u001b[1mINFO    \u001b[0m | \u001b[36msrc.regime_strategies.data.market_data\u001b[0m:\u001b[36mcalculate_returns\u001b[0m:\u001b[36m136\u001b[0m - \u001b[1mCalculated simple returns. Shape: (755, 1)\u001b[0m\n",
      "\u001b[32m2025-09-12 18:05:58\u001b[0m | \u001b[1mINFO    \u001b[0m | \u001b[36msrc.regime_strategies.optimization.portfolio_optimizer\u001b[0m:\u001b[36moptimize\u001b[0m:\u001b[36m640\u001b[0m - \u001b[1mOptimizing portfolio using risk_parity method\u001b[0m\n",
      "\u001b[32m2025-09-12 18:05:58\u001b[0m | \u001b[1mINFO    \u001b[0m | \u001b[36msrc.regime_strategies.optimization.portfolio_optimizer\u001b[0m:\u001b[36m_log_optimization_results\u001b[0m:\u001b[36m744\u001b[0m - \u001b[1mOptimization completed: risk_parity | Status: optimal | Return: 0.0266 | Vol: 0.1092 | Sharpe: 0.2434\u001b[0m\n",
      "\u001b[32m2025-09-12 18:05:58\u001b[0m | \u001b[1mINFO    \u001b[0m | \u001b[36msrc.regime_strategies.backtesting.backtest_engine\u001b[0m:\u001b[36m_calculate_static_mpt_weights\u001b[0m:\u001b[36m541\u001b[0m - \u001b[1mStatic MPT benchmark weights calculated: Return=0.027, Vol=0.109, Sharpe=0.243\u001b[0m\n",
      "\u001b[32m2025-09-12 18:05:58\u001b[0m | \u001b[1mINFO    \u001b[0m | \u001b[36msrc.regime_strategies.backtesting.backtest_engine\u001b[0m:\u001b[36m_load_backtest_data\u001b[0m:\u001b[36m184\u001b[0m - \u001b[1mLoaded data: 755 market observations, 36 economic observations\u001b[0m\n",
      "\u001b[32m2025-09-12 18:05:58\u001b[0m | \u001b[1mINFO    \u001b[0m | \u001b[36msrc.regime_strategies.backtesting.backtest_engine\u001b[0m:\u001b[36m_fit_regime_models\u001b[0m:\u001b[36m189\u001b[0m - \u001b[1mFitting regime models\u001b[0m\n",
      "\u001b[32m2025-09-12 18:05:58\u001b[0m | \u001b[1mINFO    \u001b[0m | \u001b[36msrc.regime_strategies.models.regime_identifier\u001b[0m:\u001b[36mfit\u001b[0m:\u001b[36m353\u001b[0m - \u001b[1mFitting regime identifier using investment_clock method\u001b[0m\n",
      "\u001b[32m2025-09-12 18:05:58\u001b[0m | \u001b[1mINFO    \u001b[0m | \u001b[36msrc.regime_strategies.models.regime_identifier\u001b[0m:\u001b[36midentify_regimes\u001b[0m:\u001b[36m62\u001b[0m - \u001b[1mIdentifying regimes using Investment Clock methodology\u001b[0m\n",
      "\u001b[32m2025-09-12 18:05:58\u001b[0m | \u001b[1mINFO    \u001b[0m | \u001b[36msrc.regime_strategies.models.regime_identifier\u001b[0m:\u001b[36midentify_regimes\u001b[0m:\u001b[36m98\u001b[0m - \u001b[1mSlowing: 26 periods (72.2%)\u001b[0m\n",
      "\u001b[32m2025-09-12 18:05:58\u001b[0m | \u001b[1mINFO    \u001b[0m | \u001b[36msrc.regime_strategies.models.regime_identifier\u001b[0m:\u001b[36midentify_regimes\u001b[0m:\u001b[36m98\u001b[0m - \u001b[1mGrowing: 10 periods (27.8%)\u001b[0m\n",
      "\u001b[32m2025-09-12 18:05:58\u001b[0m | \u001b[1mINFO    \u001b[0m | \u001b[36msrc.regime_strategies.models.regime_identifier\u001b[0m:\u001b[36mfit\u001b[0m:\u001b[36m378\u001b[0m - \u001b[1mRegime identification completed. Total regimes identified: 36\u001b[0m\n",
      "\u001b[32m2025-09-12 18:05:58\u001b[0m | \u001b[1mINFO    \u001b[0m | \u001b[36msrc.regime_strategies.models.cma_calculator\u001b[0m:\u001b[36mfit\u001b[0m:\u001b[36m67\u001b[0m - \u001b[1mFitting regime-conditional CMAs\u001b[0m\n",
      "\u001b[32m2025-09-12 18:05:58\u001b[0m | \u001b[1mINFO    \u001b[0m | \u001b[36msrc.regime_strategies.utils.data_utils\u001b[0m:\u001b[36mclean_returns\u001b[0m:\u001b[36m138\u001b[0m - \u001b[1mWinsorized 2 extreme values\u001b[0m\n",
      "\u001b[32m2025-09-12 18:05:58\u001b[0m | \u001b[1mINFO    \u001b[0m | \u001b[36msrc.regime_strategies.utils.data_utils\u001b[0m:\u001b[36mclean_returns\u001b[0m:\u001b[36m138\u001b[0m - \u001b[1mWinsorized 2 extreme values\u001b[0m\n",
      "\u001b[32m2025-09-12 18:05:58\u001b[0m | \u001b[1mINFO    \u001b[0m | \u001b[36msrc.regime_strategies.utils.data_utils\u001b[0m:\u001b[36mclean_returns\u001b[0m:\u001b[36m138\u001b[0m - \u001b[1mWinsorized 2 extreme values\u001b[0m\n",
      "\u001b[32m2025-09-12 18:05:58\u001b[0m | \u001b[33m\u001b[1mWARNING \u001b[0m | \u001b[36msrc.regime_strategies.models.cma_calculator\u001b[0m:\u001b[36mfit\u001b[0m:\u001b[36m92\u001b[0m - \u001b[33m\u001b[1mInsufficient observations for regime 0.0: 18 < 30. Using unconditional CMA.\u001b[0m\n",
      "\u001b[32m2025-09-12 18:05:58\u001b[0m | \u001b[33m\u001b[1mWARNING \u001b[0m | \u001b[36msrc.regime_strategies.models.cma_calculator\u001b[0m:\u001b[36mfit\u001b[0m:\u001b[36m92\u001b[0m - \u001b[33m\u001b[1mInsufficient observations for regime 2.0: 7 < 30. Using unconditional CMA.\u001b[0m\n",
      "\u001b[32m2025-09-12 18:05:58\u001b[0m | \u001b[33m\u001b[1mWARNING \u001b[0m | \u001b[36msrc.regime_strategies.models.cma_calculator\u001b[0m:\u001b[36m_validate_cmas\u001b[0m:\u001b[36m394\u001b[0m - \u001b[33m\u001b[1mRegime 0.0: Unrealistic expected returns\u001b[0m\n",
      "\u001b[32m2025-09-12 18:05:58\u001b[0m | \u001b[33m\u001b[1mWARNING \u001b[0m | \u001b[36msrc.regime_strategies.models.cma_calculator\u001b[0m:\u001b[36m_validate_cmas\u001b[0m:\u001b[36m394\u001b[0m - \u001b[33m\u001b[1mRegime 2.0: Unrealistic expected returns\u001b[0m\n",
      "\u001b[32m2025-09-12 18:05:59\u001b[0m | \u001b[1mINFO    \u001b[0m | \u001b[36msrc.regime_strategies.models.cma_calculator\u001b[0m:\u001b[36m_log_cma_summary\u001b[0m:\u001b[36m400\u001b[0m - \u001b[1mCalculated CMAs for 2 regimes\u001b[0m\n",
      "\u001b[32m2025-09-12 18:05:59\u001b[0m | \u001b[1mINFO    \u001b[0m | \u001b[36msrc.regime_strategies.models.cma_calculator\u001b[0m:\u001b[36m_log_cma_summary\u001b[0m:\u001b[36m410\u001b[0m - \u001b[1mRegime 0.0: Avg return -30.79%, Avg volatility 16.14%, Observations: 18\u001b[0m\n",
      "\u001b[32m2025-09-12 18:05:59\u001b[0m | \u001b[1mINFO    \u001b[0m | \u001b[36msrc.regime_strategies.models.cma_calculator\u001b[0m:\u001b[36m_log_cma_summary\u001b[0m:\u001b[36m410\u001b[0m - \u001b[1mRegime 2.0: Avg return -30.79%, Avg volatility 16.14%, Observations: 7\u001b[0m\n",
      "\u001b[32m2025-09-12 18:05:59\u001b[0m | \u001b[1mINFO    \u001b[0m | \u001b[36msrc.regime_strategies.models.regime_forecaster\u001b[0m:\u001b[36mfit\u001b[0m:\u001b[36m196\u001b[0m - \u001b[1mFitting regime forecasting models\u001b[0m\n",
      "\u001b[32m2025-09-12 18:05:59\u001b[0m | \u001b[1mINFO    \u001b[0m | \u001b[36msrc.regime_strategies.models.regime_forecaster\u001b[0m:\u001b[36m_prepare_training_data\u001b[0m:\u001b[36m456\u001b[0m - \u001b[1mPrepared training data: 23 samples, 14 features\u001b[0m\n",
      "\u001b[32m2025-09-12 18:05:59\u001b[0m | \u001b[1mINFO    \u001b[0m | \u001b[36msrc.regime_strategies.models.regime_forecaster\u001b[0m:\u001b[36mfit\u001b[0m:\u001b[36m220\u001b[0m - \u001b[1mFitting random_forest model\u001b[0m\n",
      "\u001b[32m2025-09-12 18:05:59\u001b[0m | \u001b[1mINFO    \u001b[0m | \u001b[36msrc.regime_strategies.models.regime_forecaster\u001b[0m:\u001b[36mfit\u001b[0m:\u001b[36m236\u001b[0m - \u001b[1mrandom_forest validation accuracy: 0.800\u001b[0m\n",
      "\u001b[32m2025-09-12 18:05:59\u001b[0m | \u001b[1mINFO    \u001b[0m | \u001b[36msrc.regime_strategies.models.regime_forecaster\u001b[0m:\u001b[36mfit\u001b[0m:\u001b[36m220\u001b[0m - \u001b[1mFitting logistic_regression model\u001b[0m\n",
      "\u001b[32m2025-09-12 18:05:59\u001b[0m | \u001b[1mINFO    \u001b[0m | \u001b[36msrc.regime_strategies.models.regime_forecaster\u001b[0m:\u001b[36mfit\u001b[0m:\u001b[36m236\u001b[0m - \u001b[1mlogistic_regression validation accuracy: 0.800\u001b[0m\n",
      "\u001b[32m2025-09-12 18:05:59\u001b[0m | \u001b[1mINFO    \u001b[0m | \u001b[36msrc.regime_strategies.models.regime_forecaster\u001b[0m:\u001b[36mfit\u001b[0m:\u001b[36m65\u001b[0m - \u001b[1mNaive predictor fitted\u001b[0m\n",
      "\u001b[32m2025-09-12 18:05:59\u001b[0m | \u001b[1mINFO    \u001b[0m | \u001b[36msrc.regime_strategies.models.regime_forecaster\u001b[0m:\u001b[36mfit\u001b[0m:\u001b[36m248\u001b[0m - \u001b[1mNaive predictor validation accuracy: 0.800\u001b[0m\n",
      "\u001b[32m2025-09-12 18:05:59\u001b[0m | \u001b[1mINFO    \u001b[0m | \u001b[36msrc.regime_strategies.models.regime_forecaster\u001b[0m:\u001b[36m_create_ensemble_model\u001b[0m:\u001b[36m525\u001b[0m - \u001b[1mCreated ensemble model using voting method\u001b[0m\n",
      "\u001b[32m2025-09-12 18:05:59\u001b[0m | \u001b[1mINFO    \u001b[0m | \u001b[36msrc.regime_strategies.models.regime_forecaster\u001b[0m:\u001b[36mfit\u001b[0m:\u001b[36m259\u001b[0m - \u001b[1mEnsemble validation accuracy: 0.800\u001b[0m\n",
      "\u001b[32m2025-09-12 18:05:59\u001b[0m | \u001b[1mINFO    \u001b[0m | \u001b[36msrc.regime_strategies.models.regime_forecaster\u001b[0m:\u001b[36m_perform_cross_validation\u001b[0m:\u001b[36m558\u001b[0m - \u001b[1mrandom_forest CV accuracy: 0.667 (+/- 0.596)\u001b[0m\n",
      "\u001b[32m2025-09-12 18:05:59\u001b[0m | \u001b[1mINFO    \u001b[0m | \u001b[36msrc.regime_strategies.models.regime_forecaster\u001b[0m:\u001b[36m_perform_cross_validation\u001b[0m:\u001b[36m558\u001b[0m - \u001b[1mlogistic_regression CV accuracy: 0.800 (+/- 0.533)\u001b[0m\n",
      "\u001b[32m2025-09-12 18:05:59\u001b[0m | \u001b[1mINFO    \u001b[0m | \u001b[36msrc.regime_strategies.models.regime_forecaster\u001b[0m:\u001b[36mfit\u001b[0m:\u001b[36m264\u001b[0m - \u001b[1mRegime forecasting models fitted successfully\u001b[0m\n",
      "\u001b[32m2025-09-12 18:05:59\u001b[0m | \u001b[1mINFO    \u001b[0m | \u001b[36msrc.regime_strategies.backtesting.backtest_engine\u001b[0m:\u001b[36m_fit_regime_models\u001b[0m:\u001b[36m216\u001b[0m - \u001b[1mRegime models fitted successfully\u001b[0m\n",
      "\u001b[32m2025-09-12 18:05:59\u001b[0m | \u001b[1mINFO    \u001b[0m | \u001b[36msrc.regime_strategies.backtesting.backtest_engine\u001b[0m:\u001b[36m_run_simulation_loop\u001b[0m:\u001b[36m224\u001b[0m - \u001b[1mStarting simulation loop\u001b[0m\n",
      "\u001b[32m2025-09-12 18:05:59\u001b[0m | \u001b[1mINFO    \u001b[0m | \u001b[36msrc.regime_strategies.models.regime_forecaster\u001b[0m:\u001b[36mforecast_regime\u001b[0m:\u001b[36m368\u001b[0m - \u001b[1mForecasting regime for 2022-01-31 00:00:00 (horizon: 1)\u001b[0m\n",
      "\u001b[32m2025-09-12 18:05:59\u001b[0m | \u001b[33m\u001b[1mWARNING \u001b[0m | \u001b[36msrc.regime_strategies.models.regime_forecaster\u001b[0m:\u001b[36m_prepare_prediction_features\u001b[0m:\u001b[36m481\u001b[0m - \u001b[33m\u001b[1mFeature mismatch detected. Training: 14, Prediction: 9\u001b[0m\n",
      "\u001b[32m2025-09-12 18:05:59\u001b[0m | \u001b[33m\u001b[1mWARNING \u001b[0m | \u001b[36msrc.regime_strategies.models.regime_forecaster\u001b[0m:\u001b[36m_prepare_prediction_features\u001b[0m:\u001b[36m481\u001b[0m - \u001b[33m\u001b[1mFeature mismatch detected. Training: 14, Prediction: 9\u001b[0m\n",
      "\u001b[32m2025-09-12 18:05:59\u001b[0m | \u001b[1mINFO    \u001b[0m | \u001b[36msrc.regime_strategies.optimization.portfolio_optimizer\u001b[0m:\u001b[36moptimize\u001b[0m:\u001b[36m640\u001b[0m - \u001b[1mOptimizing portfolio using risk_parity method\u001b[0m\n",
      "\u001b[32m2025-09-12 18:05:59\u001b[0m | \u001b[1mINFO    \u001b[0m | \u001b[36msrc.regime_strategies.optimization.portfolio_optimizer\u001b[0m:\u001b[36m_log_optimization_results\u001b[0m:\u001b[36m744\u001b[0m - \u001b[1mOptimization completed: risk_parity | Status: optimal | Return: -0.3085 | Vol: 0.1018 | Sharpe: -3.0311\u001b[0m\n",
      "\u001b[32m2025-09-12 18:05:59\u001b[0m | \u001b[1mINFO    \u001b[0m | \u001b[36msrc.regime_strategies.models.regime_forecaster\u001b[0m:\u001b[36mforecast_regime\u001b[0m:\u001b[36m368\u001b[0m - \u001b[1mForecasting regime for 2022-02-28 00:00:00 (horizon: 1)\u001b[0m\n",
      "\u001b[32m2025-09-12 18:05:59\u001b[0m | \u001b[33m\u001b[1mWARNING \u001b[0m | \u001b[36msrc.regime_strategies.models.regime_forecaster\u001b[0m:\u001b[36m_prepare_prediction_features\u001b[0m:\u001b[36m481\u001b[0m - \u001b[33m\u001b[1mFeature mismatch detected. Training: 14, Prediction: 9\u001b[0m\n",
      "\u001b[32m2025-09-12 18:05:59\u001b[0m | \u001b[33m\u001b[1mWARNING \u001b[0m | \u001b[36msrc.regime_strategies.models.regime_forecaster\u001b[0m:\u001b[36m_prepare_prediction_features\u001b[0m:\u001b[36m481\u001b[0m - \u001b[33m\u001b[1mFeature mismatch detected. Training: 14, Prediction: 9\u001b[0m\n",
      "\u001b[32m2025-09-12 18:05:59\u001b[0m | \u001b[1mINFO    \u001b[0m | \u001b[36msrc.regime_strategies.optimization.portfolio_optimizer\u001b[0m:\u001b[36moptimize\u001b[0m:\u001b[36m640\u001b[0m - \u001b[1mOptimizing portfolio using risk_parity method\u001b[0m\n",
      "\u001b[32m2025-09-12 18:05:59\u001b[0m | \u001b[1mINFO    \u001b[0m | \u001b[36msrc.regime_strategies.optimization.portfolio_optimizer\u001b[0m:\u001b[36m_log_optimization_results\u001b[0m:\u001b[36m744\u001b[0m - \u001b[1mOptimization completed: risk_parity | Status: optimal | Return: -0.3085 | Vol: 0.1018 | Sharpe: -3.0311\u001b[0m\n",
      "\u001b[32m2025-09-12 18:05:59\u001b[0m | \u001b[1mINFO    \u001b[0m | \u001b[36msrc.regime_strategies.models.regime_forecaster\u001b[0m:\u001b[36mforecast_regime\u001b[0m:\u001b[36m368\u001b[0m - \u001b[1mForecasting regime for 2022-03-31 00:00:00 (horizon: 1)\u001b[0m\n",
      "\u001b[32m2025-09-12 18:05:59\u001b[0m | \u001b[33m\u001b[1mWARNING \u001b[0m | \u001b[36msrc.regime_strategies.models.regime_forecaster\u001b[0m:\u001b[36m_prepare_prediction_features\u001b[0m:\u001b[36m481\u001b[0m - \u001b[33m\u001b[1mFeature mismatch detected. Training: 14, Prediction: 9\u001b[0m\n",
      "\u001b[32m2025-09-12 18:05:59\u001b[0m | \u001b[33m\u001b[1mWARNING \u001b[0m | \u001b[36msrc.regime_strategies.models.regime_forecaster\u001b[0m:\u001b[36m_prepare_prediction_features\u001b[0m:\u001b[36m481\u001b[0m - \u001b[33m\u001b[1mFeature mismatch detected. Training: 14, Prediction: 9\u001b[0m\n",
      "\u001b[32m2025-09-12 18:05:59\u001b[0m | \u001b[1mINFO    \u001b[0m | \u001b[36msrc.regime_strategies.optimization.portfolio_optimizer\u001b[0m:\u001b[36moptimize\u001b[0m:\u001b[36m640\u001b[0m - \u001b[1mOptimizing portfolio using risk_parity method\u001b[0m\n",
      "\u001b[32m2025-09-12 18:05:59\u001b[0m | \u001b[1mINFO    \u001b[0m | \u001b[36msrc.regime_strategies.optimization.portfolio_optimizer\u001b[0m:\u001b[36m_log_optimization_results\u001b[0m:\u001b[36m744\u001b[0m - \u001b[1mOptimization completed: risk_parity | Status: optimal | Return: -0.3085 | Vol: 0.1018 | Sharpe: -3.0311\u001b[0m\n",
      "\u001b[32m2025-09-12 18:05:59\u001b[0m | \u001b[1mINFO    \u001b[0m | \u001b[36msrc.regime_strategies.models.regime_forecaster\u001b[0m:\u001b[36mforecast_regime\u001b[0m:\u001b[36m368\u001b[0m - \u001b[1mForecasting regime for 2022-04-30 00:00:00 (horizon: 1)\u001b[0m\n",
      "\u001b[32m2025-09-12 18:05:59\u001b[0m | \u001b[33m\u001b[1mWARNING \u001b[0m | \u001b[36msrc.regime_strategies.models.regime_forecaster\u001b[0m:\u001b[36m_prepare_prediction_features\u001b[0m:\u001b[36m481\u001b[0m - \u001b[33m\u001b[1mFeature mismatch detected. Training: 14, Prediction: 9\u001b[0m\n",
      "\u001b[32m2025-09-12 18:05:59\u001b[0m | \u001b[33m\u001b[1mWARNING \u001b[0m | \u001b[36msrc.regime_strategies.models.regime_forecaster\u001b[0m:\u001b[36m_prepare_prediction_features\u001b[0m:\u001b[36m481\u001b[0m - \u001b[33m\u001b[1mFeature mismatch detected. Training: 14, Prediction: 9\u001b[0m\n",
      "\u001b[32m2025-09-12 18:05:59\u001b[0m | \u001b[1mINFO    \u001b[0m | \u001b[36msrc.regime_strategies.optimization.portfolio_optimizer\u001b[0m:\u001b[36moptimize\u001b[0m:\u001b[36m640\u001b[0m - \u001b[1mOptimizing portfolio using risk_parity method\u001b[0m\n",
      "\u001b[32m2025-09-12 18:05:59\u001b[0m | \u001b[1mINFO    \u001b[0m | \u001b[36msrc.regime_strategies.optimization.portfolio_optimizer\u001b[0m:\u001b[36m_log_optimization_results\u001b[0m:\u001b[36m744\u001b[0m - \u001b[1mOptimization completed: risk_parity | Status: optimal | Return: -0.3085 | Vol: 0.1018 | Sharpe: -3.0311\u001b[0m\n",
      "\u001b[32m2025-09-12 18:05:59\u001b[0m | \u001b[1mINFO    \u001b[0m | \u001b[36msrc.regime_strategies.models.regime_forecaster\u001b[0m:\u001b[36mforecast_regime\u001b[0m:\u001b[36m368\u001b[0m - \u001b[1mForecasting regime for 2022-05-31 00:00:00 (horizon: 1)\u001b[0m\n",
      "\u001b[32m2025-09-12 18:05:59\u001b[0m | \u001b[33m\u001b[1mWARNING \u001b[0m | \u001b[36msrc.regime_strategies.models.regime_forecaster\u001b[0m:\u001b[36m_prepare_prediction_features\u001b[0m:\u001b[36m481\u001b[0m - \u001b[33m\u001b[1mFeature mismatch detected. Training: 14, Prediction: 9\u001b[0m\n",
      "\u001b[32m2025-09-12 18:05:59\u001b[0m | \u001b[33m\u001b[1mWARNING \u001b[0m | \u001b[36msrc.regime_strategies.models.regime_forecaster\u001b[0m:\u001b[36m_prepare_prediction_features\u001b[0m:\u001b[36m481\u001b[0m - \u001b[33m\u001b[1mFeature mismatch detected. Training: 14, Prediction: 9\u001b[0m\n",
      "\u001b[32m2025-09-12 18:05:59\u001b[0m | \u001b[1mINFO    \u001b[0m | \u001b[36msrc.regime_strategies.optimization.portfolio_optimizer\u001b[0m:\u001b[36moptimize\u001b[0m:\u001b[36m640\u001b[0m - \u001b[1mOptimizing portfolio using risk_parity method\u001b[0m\n",
      "\u001b[32m2025-09-12 18:05:59\u001b[0m | \u001b[1mINFO    \u001b[0m | \u001b[36msrc.regime_strategies.optimization.portfolio_optimizer\u001b[0m:\u001b[36m_log_optimization_results\u001b[0m:\u001b[36m744\u001b[0m - \u001b[1mOptimization completed: risk_parity | Status: optimal | Return: -0.3085 | Vol: 0.1018 | Sharpe: -3.0311\u001b[0m\n",
      "\u001b[32m2025-09-12 18:05:59\u001b[0m | \u001b[1mINFO    \u001b[0m | \u001b[36msrc.regime_strategies.models.regime_forecaster\u001b[0m:\u001b[36mforecast_regime\u001b[0m:\u001b[36m368\u001b[0m - \u001b[1mForecasting regime for 2022-06-30 00:00:00 (horizon: 1)\u001b[0m\n",
      "\u001b[32m2025-09-12 18:05:59\u001b[0m | \u001b[33m\u001b[1mWARNING \u001b[0m | \u001b[36msrc.regime_strategies.models.regime_forecaster\u001b[0m:\u001b[36m_prepare_prediction_features\u001b[0m:\u001b[36m481\u001b[0m - \u001b[33m\u001b[1mFeature mismatch detected. Training: 14, Prediction: 9\u001b[0m\n",
      "\u001b[32m2025-09-12 18:05:59\u001b[0m | \u001b[33m\u001b[1mWARNING \u001b[0m | \u001b[36msrc.regime_strategies.models.regime_forecaster\u001b[0m:\u001b[36m_prepare_prediction_features\u001b[0m:\u001b[36m481\u001b[0m - \u001b[33m\u001b[1mFeature mismatch detected. Training: 14, Prediction: 9\u001b[0m\n",
      "\u001b[32m2025-09-12 18:05:59\u001b[0m | \u001b[1mINFO    \u001b[0m | \u001b[36msrc.regime_strategies.optimization.portfolio_optimizer\u001b[0m:\u001b[36moptimize\u001b[0m:\u001b[36m640\u001b[0m - \u001b[1mOptimizing portfolio using risk_parity method\u001b[0m\n",
      "\u001b[32m2025-09-12 18:05:59\u001b[0m | \u001b[1mINFO    \u001b[0m | \u001b[36msrc.regime_strategies.optimization.portfolio_optimizer\u001b[0m:\u001b[36m_log_optimization_results\u001b[0m:\u001b[36m744\u001b[0m - \u001b[1mOptimization completed: risk_parity | Status: optimal | Return: -0.3085 | Vol: 0.1018 | Sharpe: -3.0311\u001b[0m\n",
      "\u001b[32m2025-09-12 18:05:59\u001b[0m | \u001b[1mINFO    \u001b[0m | \u001b[36msrc.regime_strategies.models.regime_forecaster\u001b[0m:\u001b[36mforecast_regime\u001b[0m:\u001b[36m368\u001b[0m - \u001b[1mForecasting regime for 2022-07-31 00:00:00 (horizon: 1)\u001b[0m\n",
      "\u001b[32m2025-09-12 18:05:59\u001b[0m | \u001b[33m\u001b[1mWARNING \u001b[0m | \u001b[36msrc.regime_strategies.models.regime_forecaster\u001b[0m:\u001b[36m_prepare_prediction_features\u001b[0m:\u001b[36m481\u001b[0m - \u001b[33m\u001b[1mFeature mismatch detected. Training: 14, Prediction: 9\u001b[0m\n",
      "\u001b[32m2025-09-12 18:05:59\u001b[0m | \u001b[33m\u001b[1mWARNING \u001b[0m | \u001b[36msrc.regime_strategies.models.regime_forecaster\u001b[0m:\u001b[36m_prepare_prediction_features\u001b[0m:\u001b[36m481\u001b[0m - \u001b[33m\u001b[1mFeature mismatch detected. Training: 14, Prediction: 9\u001b[0m\n",
      "\u001b[32m2025-09-12 18:05:59\u001b[0m | \u001b[1mINFO    \u001b[0m | \u001b[36msrc.regime_strategies.optimization.portfolio_optimizer\u001b[0m:\u001b[36moptimize\u001b[0m:\u001b[36m640\u001b[0m - \u001b[1mOptimizing portfolio using risk_parity method\u001b[0m\n",
      "\u001b[32m2025-09-12 18:05:59\u001b[0m | \u001b[1mINFO    \u001b[0m | \u001b[36msrc.regime_strategies.optimization.portfolio_optimizer\u001b[0m:\u001b[36m_log_optimization_results\u001b[0m:\u001b[36m744\u001b[0m - \u001b[1mOptimization completed: risk_parity | Status: optimal | Return: -0.3085 | Vol: 0.1018 | Sharpe: -3.0311\u001b[0m\n",
      "\u001b[32m2025-09-12 18:05:59\u001b[0m | \u001b[1mINFO    \u001b[0m | \u001b[36msrc.regime_strategies.models.regime_forecaster\u001b[0m:\u001b[36mforecast_regime\u001b[0m:\u001b[36m368\u001b[0m - \u001b[1mForecasting regime for 2022-08-31 00:00:00 (horizon: 1)\u001b[0m\n",
      "\u001b[32m2025-09-12 18:05:59\u001b[0m | \u001b[33m\u001b[1mWARNING \u001b[0m | \u001b[36msrc.regime_strategies.models.regime_forecaster\u001b[0m:\u001b[36m_prepare_prediction_features\u001b[0m:\u001b[36m481\u001b[0m - \u001b[33m\u001b[1mFeature mismatch detected. Training: 14, Prediction: 9\u001b[0m\n",
      "\u001b[32m2025-09-12 18:05:59\u001b[0m | \u001b[33m\u001b[1mWARNING \u001b[0m | \u001b[36msrc.regime_strategies.models.regime_forecaster\u001b[0m:\u001b[36m_prepare_prediction_features\u001b[0m:\u001b[36m481\u001b[0m - \u001b[33m\u001b[1mFeature mismatch detected. Training: 14, Prediction: 9\u001b[0m\n",
      "\u001b[32m2025-09-12 18:05:59\u001b[0m | \u001b[1mINFO    \u001b[0m | \u001b[36msrc.regime_strategies.optimization.portfolio_optimizer\u001b[0m:\u001b[36moptimize\u001b[0m:\u001b[36m640\u001b[0m - \u001b[1mOptimizing portfolio using risk_parity method\u001b[0m\n",
      "\u001b[32m2025-09-12 18:05:59\u001b[0m | \u001b[1mINFO    \u001b[0m | \u001b[36msrc.regime_strategies.optimization.portfolio_optimizer\u001b[0m:\u001b[36m_log_optimization_results\u001b[0m:\u001b[36m744\u001b[0m - \u001b[1mOptimization completed: risk_parity | Status: optimal | Return: -0.3085 | Vol: 0.1018 | Sharpe: -3.0311\u001b[0m\n",
      "\u001b[32m2025-09-12 18:05:59\u001b[0m | \u001b[1mINFO    \u001b[0m | \u001b[36msrc.regime_strategies.models.regime_forecaster\u001b[0m:\u001b[36mforecast_regime\u001b[0m:\u001b[36m368\u001b[0m - \u001b[1mForecasting regime for 2022-09-30 00:00:00 (horizon: 1)\u001b[0m\n",
      "\u001b[32m2025-09-12 18:05:59\u001b[0m | \u001b[33m\u001b[1mWARNING \u001b[0m | \u001b[36msrc.regime_strategies.models.regime_forecaster\u001b[0m:\u001b[36m_prepare_prediction_features\u001b[0m:\u001b[36m481\u001b[0m - \u001b[33m\u001b[1mFeature mismatch detected. Training: 14, Prediction: 9\u001b[0m\n",
      "\u001b[32m2025-09-12 18:05:59\u001b[0m | \u001b[33m\u001b[1mWARNING \u001b[0m | \u001b[36msrc.regime_strategies.models.regime_forecaster\u001b[0m:\u001b[36m_prepare_prediction_features\u001b[0m:\u001b[36m481\u001b[0m - \u001b[33m\u001b[1mFeature mismatch detected. Training: 14, Prediction: 9\u001b[0m\n",
      "\u001b[32m2025-09-12 18:05:59\u001b[0m | \u001b[1mINFO    \u001b[0m | \u001b[36msrc.regime_strategies.optimization.portfolio_optimizer\u001b[0m:\u001b[36moptimize\u001b[0m:\u001b[36m640\u001b[0m - \u001b[1mOptimizing portfolio using risk_parity method\u001b[0m\n",
      "\u001b[32m2025-09-12 18:05:59\u001b[0m | \u001b[1mINFO    \u001b[0m | \u001b[36msrc.regime_strategies.optimization.portfolio_optimizer\u001b[0m:\u001b[36m_log_optimization_results\u001b[0m:\u001b[36m744\u001b[0m - \u001b[1mOptimization completed: risk_parity | Status: optimal | Return: -0.3085 | Vol: 0.1018 | Sharpe: -3.0311\u001b[0m\n",
      "\u001b[32m2025-09-12 18:05:59\u001b[0m | \u001b[1mINFO    \u001b[0m | \u001b[36msrc.regime_strategies.models.regime_forecaster\u001b[0m:\u001b[36mforecast_regime\u001b[0m:\u001b[36m368\u001b[0m - \u001b[1mForecasting regime for 2022-10-31 00:00:00 (horizon: 1)\u001b[0m\n",
      "\u001b[32m2025-09-12 18:05:59\u001b[0m | \u001b[33m\u001b[1mWARNING \u001b[0m | \u001b[36msrc.regime_strategies.models.regime_forecaster\u001b[0m:\u001b[36m_prepare_prediction_features\u001b[0m:\u001b[36m481\u001b[0m - \u001b[33m\u001b[1mFeature mismatch detected. Training: 14, Prediction: 9\u001b[0m\n",
      "\u001b[32m2025-09-12 18:05:59\u001b[0m | \u001b[33m\u001b[1mWARNING \u001b[0m | \u001b[36msrc.regime_strategies.models.regime_forecaster\u001b[0m:\u001b[36m_prepare_prediction_features\u001b[0m:\u001b[36m481\u001b[0m - \u001b[33m\u001b[1mFeature mismatch detected. Training: 14, Prediction: 9\u001b[0m\n",
      "\u001b[32m2025-09-12 18:05:59\u001b[0m | \u001b[1mINFO    \u001b[0m | \u001b[36msrc.regime_strategies.optimization.portfolio_optimizer\u001b[0m:\u001b[36moptimize\u001b[0m:\u001b[36m640\u001b[0m - \u001b[1mOptimizing portfolio using risk_parity method\u001b[0m\n",
      "\u001b[32m2025-09-12 18:05:59\u001b[0m | \u001b[1mINFO    \u001b[0m | \u001b[36msrc.regime_strategies.optimization.portfolio_optimizer\u001b[0m:\u001b[36m_log_optimization_results\u001b[0m:\u001b[36m744\u001b[0m - \u001b[1mOptimization completed: risk_parity | Status: optimal | Return: -0.3085 | Vol: 0.1018 | Sharpe: -3.0311\u001b[0m\n",
      "\u001b[32m2025-09-12 18:05:59\u001b[0m | \u001b[1mINFO    \u001b[0m | \u001b[36msrc.regime_strategies.models.regime_forecaster\u001b[0m:\u001b[36mforecast_regime\u001b[0m:\u001b[36m368\u001b[0m - \u001b[1mForecasting regime for 2022-11-30 00:00:00 (horizon: 1)\u001b[0m\n",
      "\u001b[32m2025-09-12 18:05:59\u001b[0m | \u001b[33m\u001b[1mWARNING \u001b[0m | \u001b[36msrc.regime_strategies.models.regime_forecaster\u001b[0m:\u001b[36m_prepare_prediction_features\u001b[0m:\u001b[36m481\u001b[0m - \u001b[33m\u001b[1mFeature mismatch detected. Training: 14, Prediction: 9\u001b[0m\n",
      "\u001b[32m2025-09-12 18:05:59\u001b[0m | \u001b[33m\u001b[1mWARNING \u001b[0m | \u001b[36msrc.regime_strategies.models.regime_forecaster\u001b[0m:\u001b[36m_prepare_prediction_features\u001b[0m:\u001b[36m481\u001b[0m - \u001b[33m\u001b[1mFeature mismatch detected. Training: 14, Prediction: 9\u001b[0m\n",
      "\u001b[32m2025-09-12 18:05:59\u001b[0m | \u001b[1mINFO    \u001b[0m | \u001b[36msrc.regime_strategies.optimization.portfolio_optimizer\u001b[0m:\u001b[36moptimize\u001b[0m:\u001b[36m640\u001b[0m - \u001b[1mOptimizing portfolio using risk_parity method\u001b[0m\n",
      "\u001b[32m2025-09-12 18:05:59\u001b[0m | \u001b[1mINFO    \u001b[0m | \u001b[36msrc.regime_strategies.optimization.portfolio_optimizer\u001b[0m:\u001b[36m_log_optimization_results\u001b[0m:\u001b[36m744\u001b[0m - \u001b[1mOptimization completed: risk_parity | Status: optimal | Return: -0.3085 | Vol: 0.1018 | Sharpe: -3.0311\u001b[0m\n",
      "\u001b[32m2025-09-12 18:05:59\u001b[0m | \u001b[1mINFO    \u001b[0m | \u001b[36msrc.regime_strategies.models.regime_forecaster\u001b[0m:\u001b[36mforecast_regime\u001b[0m:\u001b[36m368\u001b[0m - \u001b[1mForecasting regime for 2022-12-31 00:00:00 (horizon: 1)\u001b[0m\n",
      "\u001b[32m2025-09-12 18:05:59\u001b[0m | \u001b[33m\u001b[1mWARNING \u001b[0m | \u001b[36msrc.regime_strategies.models.regime_forecaster\u001b[0m:\u001b[36m_prepare_prediction_features\u001b[0m:\u001b[36m481\u001b[0m - \u001b[33m\u001b[1mFeature mismatch detected. Training: 14, Prediction: 9\u001b[0m\n",
      "\u001b[32m2025-09-12 18:05:59\u001b[0m | \u001b[33m\u001b[1mWARNING \u001b[0m | \u001b[36msrc.regime_strategies.models.regime_forecaster\u001b[0m:\u001b[36m_prepare_prediction_features\u001b[0m:\u001b[36m481\u001b[0m - \u001b[33m\u001b[1mFeature mismatch detected. Training: 14, Prediction: 9\u001b[0m\n",
      "\u001b[32m2025-09-12 18:05:59\u001b[0m | \u001b[1mINFO    \u001b[0m | \u001b[36msrc.regime_strategies.optimization.portfolio_optimizer\u001b[0m:\u001b[36moptimize\u001b[0m:\u001b[36m640\u001b[0m - \u001b[1mOptimizing portfolio using risk_parity method\u001b[0m\n",
      "\u001b[32m2025-09-12 18:05:59\u001b[0m | \u001b[1mINFO    \u001b[0m | \u001b[36msrc.regime_strategies.optimization.portfolio_optimizer\u001b[0m:\u001b[36m_log_optimization_results\u001b[0m:\u001b[36m744\u001b[0m - \u001b[1mOptimization completed: risk_parity | Status: optimal | Return: -0.3085 | Vol: 0.1018 | Sharpe: -3.0311\u001b[0m\n",
      "\u001b[32m2025-09-12 18:05:59\u001b[0m | \u001b[1mINFO    \u001b[0m | \u001b[36msrc.regime_strategies.backtesting.backtest_engine\u001b[0m:\u001b[36m_run_simulation_loop\u001b[0m:\u001b[36m359\u001b[0m - \u001b[1mSimulation completed: 12 rebalancing periods\u001b[0m\n",
      "\u001b[32m2025-09-12 18:05:59\u001b[0m | \u001b[1mINFO    \u001b[0m | \u001b[36msrc.regime_strategies.backtesting.backtest_engine\u001b[0m:\u001b[36m_calculate_final_metrics\u001b[0m:\u001b[36m584\u001b[0m - \u001b[1mCalculating final performance metrics\u001b[0m\n",
      "\u001b[32m2025-09-12 18:05:59\u001b[0m | \u001b[1mINFO    \u001b[0m | \u001b[36msrc.regime_strategies.utils.metrics\u001b[0m:\u001b[36mcalculate_metrics\u001b[0m:\u001b[36m302\u001b[0m - \u001b[1mCalculated 17 performance metrics\u001b[0m\n",
      "\u001b[32m2025-09-12 18:05:59\u001b[0m | \u001b[1mINFO    \u001b[0m | \u001b[36msrc.regime_strategies.utils.metrics\u001b[0m:\u001b[36mcalculate_metrics\u001b[0m:\u001b[36m302\u001b[0m - \u001b[1mCalculated 13 performance metrics\u001b[0m\n",
      "\u001b[32m2025-09-12 18:05:59\u001b[0m | \u001b[1mINFO    \u001b[0m | \u001b[36msrc.regime_strategies.utils.metrics\u001b[0m:\u001b[36mcalculate_metrics\u001b[0m:\u001b[36m302\u001b[0m - \u001b[1mCalculated 13 performance metrics\u001b[0m\n",
      "\u001b[32m2025-09-12 18:05:59\u001b[0m | \u001b[1mINFO    \u001b[0m | \u001b[36msrc.regime_strategies.backtesting.backtest_engine\u001b[0m:\u001b[36m_calculate_final_metrics\u001b[0m:\u001b[36m602\u001b[0m - \u001b[1mPerformance metrics calculated: Total return: -14.92%, Sharpe ratio: -5.423, Regime accuracy: 83.33%\u001b[0m\n",
      "\u001b[32m2025-09-12 18:05:59\u001b[0m | \u001b[1mINFO    \u001b[0m | \u001b[36msrc.regime_strategies.backtesting.backtest_engine\u001b[0m:\u001b[36mrun_backtest\u001b[0m:\u001b[36m137\u001b[0m - \u001b[1mBacktest completed successfully\u001b[0m\n",
      "\u001b[32m2025-09-12 18:05:59\u001b[0m | \u001b[1mINFO    \u001b[0m | \u001b[36msrc.regime_strategies.backtesting.performance_evaluator\u001b[0m:\u001b[36mevaluate_strategy\u001b[0m:\u001b[36m48\u001b[0m - \u001b[1mStarting comprehensive strategy evaluation\u001b[0m\n",
      "\u001b[32m2025-09-12 18:05:59\u001b[0m | \u001b[1mINFO    \u001b[0m | \u001b[36msrc.regime_strategies.utils.metrics\u001b[0m:\u001b[36mcalculate_metrics\u001b[0m:\u001b[36m302\u001b[0m - \u001b[1mCalculated 17 performance metrics\u001b[0m\n",
      "\u001b[32m2025-09-12 18:05:59\u001b[0m | \u001b[1mINFO    \u001b[0m | \u001b[36msrc.regime_strategies.utils.metrics\u001b[0m:\u001b[36mcalculate_metrics\u001b[0m:\u001b[36m302\u001b[0m - \u001b[1mCalculated 13 performance metrics\u001b[0m\n",
      "\u001b[32m2025-09-12 18:05:59\u001b[0m | \u001b[1mINFO    \u001b[0m | \u001b[36msrc.regime_strategies.utils.metrics\u001b[0m:\u001b[36mcalculate_metrics\u001b[0m:\u001b[36m302\u001b[0m - \u001b[1mCalculated 13 performance metrics\u001b[0m\n",
      "\u001b[32m2025-09-12 18:05:59\u001b[0m | \u001b[1mINFO    \u001b[0m | \u001b[36msrc.regime_strategies.utils.metrics\u001b[0m:\u001b[36mcalculate_metrics\u001b[0m:\u001b[36m302\u001b[0m - \u001b[1mCalculated 13 performance metrics\u001b[0m\n",
      "\u001b[32m2025-09-12 18:05:59\u001b[0m | \u001b[1mINFO    \u001b[0m | \u001b[36msrc.regime_strategies.utils.metrics\u001b[0m:\u001b[36mcalculate_metrics\u001b[0m:\u001b[36m302\u001b[0m - \u001b[1mCalculated 13 performance metrics\u001b[0m\n",
      "\u001b[32m2025-09-12 18:05:59\u001b[0m | \u001b[1mINFO    \u001b[0m | \u001b[36msrc.regime_strategies.utils.metrics\u001b[0m:\u001b[36mcalculate_metrics\u001b[0m:\u001b[36m302\u001b[0m - \u001b[1mCalculated 13 performance metrics\u001b[0m\n",
      "\u001b[32m2025-09-12 18:05:59\u001b[0m | \u001b[1mINFO    \u001b[0m | \u001b[36msrc.regime_strategies.utils.metrics\u001b[0m:\u001b[36mcalculate_metrics\u001b[0m:\u001b[36m302\u001b[0m - \u001b[1mCalculated 13 performance metrics\u001b[0m\n",
      "\u001b[32m2025-09-12 18:05:59\u001b[0m | \u001b[1mINFO    \u001b[0m | \u001b[36msrc.regime_strategies.utils.metrics\u001b[0m:\u001b[36mcalculate_metrics\u001b[0m:\u001b[36m302\u001b[0m - \u001b[1mCalculated 13 performance metrics\u001b[0m\n",
      "\u001b[32m2025-09-12 18:05:59\u001b[0m | \u001b[1mINFO    \u001b[0m | \u001b[36msrc.regime_strategies.backtesting.performance_evaluator\u001b[0m:\u001b[36mevaluate_strategy\u001b[0m:\u001b[36m72\u001b[0m - \u001b[1mStrategy evaluation completed\u001b[0m\n",
      "\u001b[32m2025-09-12 18:05:59\u001b[0m | \u001b[1mINFO    \u001b[0m | \u001b[36msrc.regime_strategies.backtesting.visualization\u001b[0m:\u001b[36mcreate_performance_dashboard\u001b[0m:\u001b[36m81\u001b[0m - \u001b[1mCreating performance dashboard\u001b[0m\n",
      "\u001b[32m2025-09-12 18:05:59\u001b[0m | \u001b[1mINFO    \u001b[0m | \u001b[36msrc.regime_strategies.main\u001b[0m:\u001b[36mrun_backtest\u001b[0m:\u001b[36m147\u001b[0m - \u001b[1mBacktest completed successfully: {'strategy_name': 'regime_2022-01-01_2023-01-01', 'backtest_period': '2022-01-01 to 2023-01-01', 'total_return': np.float64(-0.14918886625393057), 'annualized_return': np.float64(-3.2062704363313506), 'annualized_volatility': np.float64(0.594958694372955), 'sharpe_ratio': np.float64(-5.422679703389519), 'maximum_drawdown': np.float64(-0.1851134136650296), 'regime_prediction_accuracy': np.float64(0.8333333333333334), 'overall_rating': 'Poor', 'static_mpt_outperformance': np.float64(0.5), 'regime_advantage_return': np.float64(-0.0012796097871474732), 'regime_advantage_sharpe': np.float64(0.05700118363746309)}\u001b[0m\n"
     ]
    },
    {
     "name": "stdout",
     "output_type": "stream",
     "text": [
      "  Result: UND | Return Advantage: -0.13%\n",
      "\n",
      "==================================================\n",
      "MULTI-HORIZON ANALYSIS RESULTS\n",
      "==================================================\n",
      "Successful Backtests: 1/1\n",
      "Outperformance Rate: 0.0%\n",
      "Average Return Advantage: -0.13%\n",
      "Average Sharpe Advantage: +0.057\n",
      "\n",
      "Best Period:\n",
      "  2022-01-01 to 2023-01-01\n",
      "  Return Advantage: -0.13%\n",
      "  Sharpe Advantage: +0.057\n",
      "\n",
      "Worst Period:\n",
      "  2022-01-01 to 2023-01-01\n",
      "  Return Advantage: -0.13%\n",
      "  Sharpe Advantage: +0.057\n",
      "\n",
      "Multi-Horizon Results Summary:\n",
      "Successful Backtests: 1/1\n",
      "Outperformance Rate: 0.0%\n",
      "Average Return Advantage: -0.13%\n",
      "\n",
      "Detailed Results:\n",
      "Start Date   End Date Return Advantage Outperformed\n",
      "2022-01-01 2023-01-01           -0.13%            ✗\n"
     ]
    }
   ],
   "source": [
    "# Import multi-horizon analyzer\n",
    "import sys\n",
    "import os\n",
    "sys.path.append(os.getcwd())\n",
    "\n",
    "try:\n",
    "    from multi_horizon_analysis import MultiHorizonAnalyzer\n",
    "    \n",
    "    # Initialize analyzer\n",
    "    analyzer = MultiHorizonAnalyzer(app)\n",
    "    \n",
    "    print(\"Running multi-horizon analysis (limited for demo)...\")\n",
    "    \n",
    "    # Run analysis with limited scope for notebook demo\n",
    "    results_df = analyzer.run_multi_horizon_analysis(\n",
    "        overall_start='2022-01-01',\n",
    "        overall_end='2023-06-30',\n",
    "        max_combinations=6  # Limited for notebook\n",
    "    )\n",
    "    \n",
    "    # Display results summary\n",
    "    successful_results = results_df[results_df['success'] == True]\n",
    "    \n",
    "    if len(successful_results) > 0:\n",
    "        print(\"\\nMulti-Horizon Results Summary:\")\n",
    "        print(f\"Successful Backtests: {len(successful_results)}/{len(results_df)}\")\n",
    "        print(f\"Outperformance Rate: {successful_results['outperformed_static'].mean():.1%}\")\n",
    "        print(f\"Average Return Advantage: {successful_results['regime_return_advantage'].mean():+.2%}\")\n",
    "        \n",
    "        # Show detailed results\n",
    "        display_cols = ['start_date', 'end_date', 'regime_return_advantage', 'outperformed_static']\n",
    "        display_df = successful_results[display_cols].copy()\n",
    "        display_df['regime_return_advantage'] = display_df['regime_return_advantage'].apply(lambda x: f\"{x:+.2%}\")\n",
    "        display_df['outperformed_static'] = display_df['outperformed_static'].apply(lambda x: \"✓\" if x else \"✗\")\n",
    "        display_df.columns = ['Start Date', 'End Date', 'Return Advantage', 'Outperformed']\n",
    "        \n",
    "        print(\"\\nDetailed Results:\")\n",
    "        print(display_df.to_string(index=False))\n",
    "        \n",
    "except ImportError as e:\n",
    "    print(f\"Multi-horizon analyzer not available: {e}\")\n",
    "    print(\"You can run the multi_horizon_analysis.py script separately for full analysis\")"
   ]
  },
  {
   "cell_type": "markdown",
   "metadata": {},
   "source": [
    "## 7. FRED API Integration for Real Economic Data\n",
    "\n",
    "Our system can integrate with the Federal Reserve Economic Data (FRED) API for real economic indicators. Let's check the setup status:"
   ]
  },
  {
   "cell_type": "code",
   "execution_count": 8,
   "metadata": {},
   "outputs": [
    {
     "name": "stdout",
     "output_type": "stream",
     "text": [
      "FRED API Setup Status:\n",
      "==============================\n",
      "fredapi library: [OK] Available\n",
      "FRED API Key: [OK] Configured\n"
     ]
    },
    {
     "name": "stderr",
     "output_type": "stream",
     "text": [
      "\u001b[32m2025-09-12 18:06:00\u001b[0m | \u001b[1mINFO    \u001b[0m | \u001b[36msrc.regime_strategies.utils.logger\u001b[0m:\u001b[36msetup_logger\u001b[0m:\u001b[36m60\u001b[0m - \u001b[1mLogger initialized with level: INFO\u001b[0m\n",
      "\u001b[32m2025-09-12 18:06:00\u001b[0m | \u001b[1mINFO    \u001b[0m | \u001b[36msrc.regime_strategies.main\u001b[0m:\u001b[36m__init__\u001b[0m:\u001b[36m45\u001b[0m - \u001b[1mInitialized Regime Strategy App - development mode\u001b[0m\n",
      "\u001b[32m2025-09-12 18:06:00\u001b[0m | \u001b[1mINFO    \u001b[0m | \u001b[36msrc.regime_strategies.models.regime_forecaster\u001b[0m:\u001b[36m_initialize_models\u001b[0m:\u001b[36m173\u001b[0m - \u001b[1mInitialized 2 forecasting models\u001b[0m\n",
      "\u001b[32m2025-09-12 18:06:00\u001b[0m | \u001b[1mINFO    \u001b[0m | \u001b[36msrc.regime_strategies.data.data_loader\u001b[0m:\u001b[36mload_economic_indicators\u001b[0m:\u001b[36m73\u001b[0m - \u001b[1mLoading economic indicators from 2020-01-01 to 2023-12-31\u001b[0m\n",
      "\u001b[32m2025-09-12 18:06:00\u001b[0m | \u001b[1mINFO    \u001b[0m | \u001b[36msrc.regime_strategies.data.economic_data\u001b[0m:\u001b[36mget_cpi_data\u001b[0m:\u001b[36m79\u001b[0m - \u001b[1mLoading CPI data from 2020-01-01 to 2023-12-31\u001b[0m\n",
      "\u001b[32m2025-09-12 18:06:00\u001b[0m | \u001b[33m\u001b[1mWARNING \u001b[0m | \u001b[36msrc.regime_strategies.data.economic_data\u001b[0m:\u001b[36m_generate_synthetic_cpi_data\u001b[0m:\u001b[36m265\u001b[0m - \u001b[33m\u001b[1mGenerating synthetic CPI data - for testing only!\u001b[0m\n",
      "\u001b[32m2025-09-12 18:06:00\u001b[0m | \u001b[1mINFO    \u001b[0m | \u001b[36msrc.regime_strategies.data.economic_data\u001b[0m:\u001b[36mget_cli_data\u001b[0m:\u001b[36m140\u001b[0m - \u001b[1mLoading CLI data from 2020-01-01 to 2023-12-31\u001b[0m\n",
      "\u001b[32m2025-09-12 18:06:00\u001b[0m | \u001b[33m\u001b[1mWARNING \u001b[0m | \u001b[36msrc.regime_strategies.data.economic_data\u001b[0m:\u001b[36m_generate_synthetic_cli_data\u001b[0m:\u001b[36m288\u001b[0m - \u001b[33m\u001b[1mGenerating synthetic CLI data - for testing only!\u001b[0m\n",
      "\u001b[32m2025-09-12 18:06:00\u001b[0m | \u001b[1mINFO    \u001b[0m | \u001b[36msrc.regime_strategies.utils.data_utils\u001b[0m:\u001b[36malign_data\u001b[0m:\u001b[36m93\u001b[0m - \u001b[1mAligned 2 dataframes using inner join. Result shape: (48, 1)\u001b[0m\n",
      "\u001b[32m2025-09-12 18:06:00\u001b[0m | \u001b[33m\u001b[1mWARNING \u001b[0m | \u001b[36msrc.regime_strategies.utils.data_utils\u001b[0m:\u001b[36mvalidate_data\u001b[0m:\u001b[36m40\u001b[0m - \u001b[33m\u001b[1mData contains NaN values\u001b[0m\n",
      "\u001b[32m2025-09-12 18:06:00\u001b[0m | \u001b[33m\u001b[1mWARNING \u001b[0m | \u001b[36msrc.regime_strategies.utils.data_utils\u001b[0m:\u001b[36mvalidate_data\u001b[0m:\u001b[36m43\u001b[0m - \u001b[33m\u001b[1mNaN counts by column: {'CPI_quarterly': 3, 'CPI_ma36': 35, 'CPI_signal': 38, 'CLI_change3m': 3, 'CLI_signal': 3}\u001b[0m\n",
      "\u001b[32m2025-09-12 18:06:00\u001b[0m | \u001b[1mINFO    \u001b[0m | \u001b[36msrc.regime_strategies.utils.data_utils\u001b[0m:\u001b[36mvalidate_data\u001b[0m:\u001b[36m50\u001b[0m - \u001b[1mData validation completed. Shape: (48, 7)\u001b[0m\n",
      "\u001b[32m2025-09-12 18:06:00\u001b[0m | \u001b[1mINFO    \u001b[0m | \u001b[36msrc.regime_strategies.data.data_loader\u001b[0m:\u001b[36mload_economic_indicators\u001b[0m:\u001b[36m101\u001b[0m - \u001b[1mLoaded economic indicators. Shape: (48, 7)\u001b[0m\n"
     ]
    },
    {
     "name": "stdout",
     "output_type": "stream",
     "text": [
      "API Connection: [OK] Working\n",
      "\n",
      "[SUCCESS] FRED API ready - using real economic data!\n",
      "The system will automatically use real CPI and CLI data from FRED.\n",
      "\n",
      "[OK] Economic data loaded: (48, 7)\n",
      "Available indicators: ['CPI', 'CLI', 'CPI_quarterly', 'CPI_ma36', 'CPI_signal', 'CLI_change3m', 'CLI_signal']\n",
      "Date range: 2020-01-31 to 2023-12-31\n"
     ]
    }
   ],
   "source": [
    "import os\n",
    "\n",
    "# Load environment variables first\n",
    "try:\n",
    "    from dotenv import load_dotenv\n",
    "    load_dotenv()\n",
    "except ImportError:\n",
    "    pass\n",
    "\n",
    "# Check FRED API setup\n",
    "def check_fred_setup():\n",
    "    try:\n",
    "        from fredapi import Fred\n",
    "        fredapi_available = True\n",
    "    except ImportError:\n",
    "        fredapi_available = False\n",
    "    \n",
    "    fred_api_key = os.getenv('FRED_API_KEY')\n",
    "    \n",
    "    print(\"FRED API Setup Status:\")\n",
    "    print(\"=\" * 30)\n",
    "    print(f\"fredapi library: {'[OK] Available' if fredapi_available else '[ERROR] Missing (pip install fredapi)'}\")\n",
    "    print(f\"FRED API Key: {'[OK] Configured' if fred_api_key else '[ERROR] Not configured'}\")\n",
    "    \n",
    "    if fred_api_key and fredapi_available:\n",
    "        try:\n",
    "            fred = Fred(api_key=fred_api_key)\n",
    "            test_data = fred.get_series('GDP', limit=1)\n",
    "            print(f\"API Connection: [OK] Working\")\n",
    "            return True\n",
    "        except Exception as e:\n",
    "            print(f\"API Connection: [ERROR] Failed ({e})\")\n",
    "            return False\n",
    "    \n",
    "    return False\n",
    "\n",
    "fred_ready = check_fred_setup()\n",
    "\n",
    "if not fred_ready:\n",
    "    print(\"\\n[INFO] FRED API Setup Instructions:\")\n",
    "    print(\"1. Get free API key: https://fred.stlouisfed.org/\")\n",
    "    print(\"2. Install library: pip install fredapi\")\n",
    "    print(\"3. Set environment variable: FRED_API_KEY=your_key_here\")\n",
    "    print(\"\\n[WARNING] Currently using synthetic data for regime identification\")\n",
    "else:\n",
    "    print(\"\\n[SUCCESS] FRED API ready - using real economic data!\")\n",
    "    print(\"The system will automatically use real CPI and CLI data from FRED.\")\n",
    "    \n",
    "    # Test actual data retrieval\n",
    "    try:\n",
    "        from src.regime_strategies.main import RegimeStrategyApp\n",
    "        test_app = RegimeStrategyApp()\n",
    "        econ_data = test_app.backtest_engine.data_loader.load_economic_indicators(\n",
    "            start_date=pd.to_datetime('2020-01-01').date(),\n",
    "            end_date=pd.to_datetime('2023-12-31').date()\n",
    "        )\n",
    "        print(f\"\\n[OK] Economic data loaded: {econ_data.shape}\")\n",
    "        print(f\"Available indicators: {list(econ_data.columns)}\")\n",
    "        print(f\"Date range: {econ_data.index[0].strftime('%Y-%m-%d')} to {econ_data.index[-1].strftime('%Y-%m-%d')}\")\n",
    "    except Exception as e:\n",
    "        print(f\"\\n[WARNING] Could not test data loading: {e}\")"
   ]
  },
  {
   "cell_type": "markdown",
   "metadata": {},
   "source": [
    "## 8. Interactive Dashboard Creation\n",
    "\n",
    "Let's create a comprehensive interactive dashboard showing all key metrics:"
   ]
  },
  {
   "cell_type": "code",
   "execution_count": 9,
   "metadata": {},
   "outputs": [
    {
     "name": "stdout",
     "output_type": "stream",
     "text": [
      "Creating interactive dashboard...\n"
     ]
    },
    {
     "data": {
      "application/vnd.plotly.v1+json": {
       "config": {
        "plotlyServerURL": "https://plot.ly"
       },
       "data": [
        {
         "line": {
          "color": "blue",
          "width": 2
         },
         "mode": "lines",
         "name": "Regime Strategy",
         "type": "scatter",
         "x": [
          "2022-01-31T00:00:00.000000000",
          "2022-02-28T00:00:00.000000000",
          "2022-03-31T00:00:00.000000000",
          "2022-04-30T00:00:00.000000000",
          "2022-05-31T00:00:00.000000000",
          "2022-06-30T00:00:00.000000000",
          "2022-07-31T00:00:00.000000000",
          "2022-08-31T00:00:00.000000000",
          "2022-09-30T00:00:00.000000000",
          "2022-10-31T00:00:00.000000000",
          "2022-11-30T00:00:00.000000000",
          "2022-12-31T00:00:00.000000000"
         ],
         "xaxis": "x",
         "y": {
          "bdata": "NNtvnqsP8D++a3TD5w7wPw8b9cpB6O0/VE3XDNtu7T+nxNzYz27sPxk+TTKPSu0/gZNtjxor7D9pZK1frjbqP+omKxAXLeo/y8ZToArD6z+3YlBF2DnrP7diUEXYOes/",
          "dtype": "f8"
         },
         "yaxis": "y"
        },
        {
         "line": {
          "color": "#1f77b4"
         },
         "mode": "lines",
         "name": "SPY Weight",
         "stackgroup": "weights",
         "type": "scatter",
         "x": [
          "2022-01-31T00:00:00.000000000",
          "2022-02-28T00:00:00.000000000",
          "2022-03-31T00:00:00.000000000",
          "2022-04-30T00:00:00.000000000",
          "2022-05-31T00:00:00.000000000",
          "2022-06-30T00:00:00.000000000",
          "2022-07-31T00:00:00.000000000",
          "2022-08-31T00:00:00.000000000",
          "2022-09-30T00:00:00.000000000",
          "2022-10-31T00:00:00.000000000",
          "2022-11-30T00:00:00.000000000",
          "2022-12-31T00:00:00.000000000"
         ],
         "xaxis": "x2",
         "y": {
          "bdata": "cKlJYMHV1D9wqUlgwdXUP3CpSWDB1dQ/cKlJYMHV1D9wqUlgwdXUP3CpSWDB1dQ/cKlJYMHV1D9wqUlgwdXUP3CpSWDB1dQ/cKlJYMHV1D9wqUlgwdXUP3CpSWDB1dQ/",
          "dtype": "f8"
         },
         "yaxis": "y2"
        },
        {
         "line": {
          "color": "#ff7f0e"
         },
         "mode": "lines",
         "name": "TLT Weight",
         "stackgroup": "weights",
         "type": "scatter",
         "x": [
          "2022-01-31T00:00:00.000000000",
          "2022-02-28T00:00:00.000000000",
          "2022-03-31T00:00:00.000000000",
          "2022-04-30T00:00:00.000000000",
          "2022-05-31T00:00:00.000000000",
          "2022-06-30T00:00:00.000000000",
          "2022-07-31T00:00:00.000000000",
          "2022-08-31T00:00:00.000000000",
          "2022-09-30T00:00:00.000000000",
          "2022-10-31T00:00:00.000000000",
          "2022-11-30T00:00:00.000000000",
          "2022-12-31T00:00:00.000000000"
         ],
         "xaxis": "x2",
         "y": {
          "bdata": "50dbqlAA1z/nR1uqUADXP+dHW6pQANc/50dbqlAA1z/nR1uqUADXP+dHW6pQANc/50dbqlAA1z/nR1uqUADXP+dHW6pQANc/50dbqlAA1z/nR1uqUADXP+dHW6pQANc/",
          "dtype": "f8"
         },
         "yaxis": "y2"
        },
        {
         "line": {
          "color": "#2ca02c"
         },
         "mode": "lines",
         "name": "GLD Weight",
         "stackgroup": "weights",
         "type": "scatter",
         "x": [
          "2022-01-31T00:00:00.000000000",
          "2022-02-28T00:00:00.000000000",
          "2022-03-31T00:00:00.000000000",
          "2022-04-30T00:00:00.000000000",
          "2022-05-31T00:00:00.000000000",
          "2022-06-30T00:00:00.000000000",
          "2022-07-31T00:00:00.000000000",
          "2022-08-31T00:00:00.000000000",
          "2022-09-30T00:00:00.000000000",
          "2022-10-31T00:00:00.000000000",
          "2022-11-30T00:00:00.000000000",
          "2022-12-31T00:00:00.000000000"
         ],
         "xaxis": "x2",
         "y": {
          "bdata": "qA5b9e0p1D+oDlv17SnUP6gOW/XtKdQ/qA5b9e0p1D+oDlv17SnUP6gOW/XtKdQ/qA5b9e0p1D+oDlv17SnUP6gOW/XtKdQ/qA5b9e0p1D+oDlv17SnUP6gOW/XtKdQ/",
          "dtype": "f8"
         },
         "yaxis": "y2"
        },
        {
         "marker": {
          "color": "red",
          "size": 8
         },
         "mode": "markers+lines",
         "name": "Predicted Regimes",
         "type": "scatter",
         "x": [
          "2022-01-31T00:00:00.000000000",
          "2022-02-28T00:00:00.000000000",
          "2022-03-31T00:00:00.000000000",
          "2022-04-30T00:00:00.000000000",
          "2022-05-31T00:00:00.000000000",
          "2022-06-30T00:00:00.000000000",
          "2022-07-31T00:00:00.000000000",
          "2022-08-31T00:00:00.000000000",
          "2022-09-30T00:00:00.000000000",
          "2022-10-31T00:00:00.000000000",
          "2022-11-30T00:00:00.000000000",
          "2022-12-31T00:00:00.000000000"
         ],
         "xaxis": "x3",
         "y": {
          "bdata": "AAAAAAAAAAAAAAAA",
          "dtype": "i1"
         },
         "yaxis": "y3"
        },
        {
         "marker": {
          "color": [
           "green",
           "blue",
           "red"
          ]
         },
         "name": "Performance Metrics",
         "type": "bar",
         "x": [
          "Total Return",
          "Sharpe Ratio",
          "Max Drawdown"
         ],
         "xaxis": "x4",
         "y": [
          -14.918912275858442,
          -5.422680824250398,
          -18.511336597054385
         ],
         "yaxis": "y4"
        },
        {
         "fill": "tonexty",
         "line": {
          "color": "red"
         },
         "mode": "lines",
         "name": "Drawdown",
         "type": "scatter",
         "x": [
          "2022-01-31T00:00:00.000000000",
          "2022-02-28T00:00:00.000000000",
          "2022-03-31T00:00:00.000000000",
          "2022-04-30T00:00:00.000000000",
          "2022-05-31T00:00:00.000000000",
          "2022-06-30T00:00:00.000000000",
          "2022-07-31T00:00:00.000000000",
          "2022-08-31T00:00:00.000000000",
          "2022-09-30T00:00:00.000000000",
          "2022-10-31T00:00:00.000000000",
          "2022-11-30T00:00:00.000000000",
          "2022-12-31T00:00:00.000000000"
         ],
         "xaxis": "x5",
         "y": {
          "bdata": "AAAAAAAAAACAfc1QuQ2Tv2R1MAGIlRvATo1H2aG+IMBqNNmIzvgmwL5yNpqeoCHA3oflsl6eKMDPkTqqC2UywN44jkTngjLAJZk2uUcmK8BC5eTUfXwuwELl5NR9fC7A",
          "dtype": "f8"
         },
         "yaxis": "y5"
        },
        {
         "marker": {
          "color": "lightblue"
         },
         "name": "Daily Returns",
         "nbinsx": 30,
         "type": "histogram",
         "x": {
          "bdata": "b4HGjid82D/Aas1QuQ2Tv6WCAs7JgxvAJMWoJ9Fe+b+XpgXMWy8LwI3WRWPqJghANKrpa/aqDsDxkoWVKcIbwJpU4slGS8K/SKr27WE7GED6FkEbDuP+vwAAAAAAAAAA",
          "dtype": "f8"
         },
         "xaxis": "x6",
         "yaxis": "y6"
        }
       ],
       "layout": {
        "annotations": [
         {
          "font": {
           "size": 16
          },
          "showarrow": false,
          "text": "Cumulative Returns",
          "x": 0.225,
          "xanchor": "center",
          "xref": "paper",
          "y": 1,
          "yanchor": "bottom",
          "yref": "paper"
         },
         {
          "font": {
           "size": 16
          },
          "showarrow": false,
          "text": "Portfolio Weights Over Time",
          "x": 0.775,
          "xanchor": "center",
          "xref": "paper",
          "y": 1,
          "yanchor": "bottom",
          "yref": "paper"
         },
         {
          "font": {
           "size": 16
          },
          "showarrow": false,
          "text": "Regime Transitions",
          "x": 0.225,
          "xanchor": "center",
          "xref": "paper",
          "y": 0.6266666666666667,
          "yanchor": "bottom",
          "yref": "paper"
         },
         {
          "font": {
           "size": 16
          },
          "showarrow": false,
          "text": "Performance Metrics",
          "x": 0.775,
          "xanchor": "center",
          "xref": "paper",
          "y": 0.6266666666666667,
          "yanchor": "bottom",
          "yref": "paper"
         },
         {
          "font": {
           "size": 16
          },
          "showarrow": false,
          "text": "Risk Analysis",
          "x": 0.225,
          "xanchor": "center",
          "xref": "paper",
          "y": 0.25333333333333335,
          "yanchor": "bottom",
          "yref": "paper"
         },
         {
          "font": {
           "size": 16
          },
          "showarrow": false,
          "text": "Return Distribution",
          "x": 0.775,
          "xanchor": "center",
          "xref": "paper",
          "y": 0.25333333333333335,
          "yanchor": "bottom",
          "yref": "paper"
         }
        ],
        "height": 1000,
        "showlegend": true,
        "template": {
         "data": {
          "bar": [
           {
            "error_x": {
             "color": "#2a3f5f"
            },
            "error_y": {
             "color": "#2a3f5f"
            },
            "marker": {
             "line": {
              "color": "#E5ECF6",
              "width": 0.5
             },
             "pattern": {
              "fillmode": "overlay",
              "size": 10,
              "solidity": 0.2
             }
            },
            "type": "bar"
           }
          ],
          "barpolar": [
           {
            "marker": {
             "line": {
              "color": "#E5ECF6",
              "width": 0.5
             },
             "pattern": {
              "fillmode": "overlay",
              "size": 10,
              "solidity": 0.2
             }
            },
            "type": "barpolar"
           }
          ],
          "carpet": [
           {
            "aaxis": {
             "endlinecolor": "#2a3f5f",
             "gridcolor": "white",
             "linecolor": "white",
             "minorgridcolor": "white",
             "startlinecolor": "#2a3f5f"
            },
            "baxis": {
             "endlinecolor": "#2a3f5f",
             "gridcolor": "white",
             "linecolor": "white",
             "minorgridcolor": "white",
             "startlinecolor": "#2a3f5f"
            },
            "type": "carpet"
           }
          ],
          "choropleth": [
           {
            "colorbar": {
             "outlinewidth": 0,
             "ticks": ""
            },
            "type": "choropleth"
           }
          ],
          "contour": [
           {
            "colorbar": {
             "outlinewidth": 0,
             "ticks": ""
            },
            "colorscale": [
             [
              0,
              "#0d0887"
             ],
             [
              0.1111111111111111,
              "#46039f"
             ],
             [
              0.2222222222222222,
              "#7201a8"
             ],
             [
              0.3333333333333333,
              "#9c179e"
             ],
             [
              0.4444444444444444,
              "#bd3786"
             ],
             [
              0.5555555555555556,
              "#d8576b"
             ],
             [
              0.6666666666666666,
              "#ed7953"
             ],
             [
              0.7777777777777778,
              "#fb9f3a"
             ],
             [
              0.8888888888888888,
              "#fdca26"
             ],
             [
              1,
              "#f0f921"
             ]
            ],
            "type": "contour"
           }
          ],
          "contourcarpet": [
           {
            "colorbar": {
             "outlinewidth": 0,
             "ticks": ""
            },
            "type": "contourcarpet"
           }
          ],
          "heatmap": [
           {
            "colorbar": {
             "outlinewidth": 0,
             "ticks": ""
            },
            "colorscale": [
             [
              0,
              "#0d0887"
             ],
             [
              0.1111111111111111,
              "#46039f"
             ],
             [
              0.2222222222222222,
              "#7201a8"
             ],
             [
              0.3333333333333333,
              "#9c179e"
             ],
             [
              0.4444444444444444,
              "#bd3786"
             ],
             [
              0.5555555555555556,
              "#d8576b"
             ],
             [
              0.6666666666666666,
              "#ed7953"
             ],
             [
              0.7777777777777778,
              "#fb9f3a"
             ],
             [
              0.8888888888888888,
              "#fdca26"
             ],
             [
              1,
              "#f0f921"
             ]
            ],
            "type": "heatmap"
           }
          ],
          "histogram": [
           {
            "marker": {
             "pattern": {
              "fillmode": "overlay",
              "size": 10,
              "solidity": 0.2
             }
            },
            "type": "histogram"
           }
          ],
          "histogram2d": [
           {
            "colorbar": {
             "outlinewidth": 0,
             "ticks": ""
            },
            "colorscale": [
             [
              0,
              "#0d0887"
             ],
             [
              0.1111111111111111,
              "#46039f"
             ],
             [
              0.2222222222222222,
              "#7201a8"
             ],
             [
              0.3333333333333333,
              "#9c179e"
             ],
             [
              0.4444444444444444,
              "#bd3786"
             ],
             [
              0.5555555555555556,
              "#d8576b"
             ],
             [
              0.6666666666666666,
              "#ed7953"
             ],
             [
              0.7777777777777778,
              "#fb9f3a"
             ],
             [
              0.8888888888888888,
              "#fdca26"
             ],
             [
              1,
              "#f0f921"
             ]
            ],
            "type": "histogram2d"
           }
          ],
          "histogram2dcontour": [
           {
            "colorbar": {
             "outlinewidth": 0,
             "ticks": ""
            },
            "colorscale": [
             [
              0,
              "#0d0887"
             ],
             [
              0.1111111111111111,
              "#46039f"
             ],
             [
              0.2222222222222222,
              "#7201a8"
             ],
             [
              0.3333333333333333,
              "#9c179e"
             ],
             [
              0.4444444444444444,
              "#bd3786"
             ],
             [
              0.5555555555555556,
              "#d8576b"
             ],
             [
              0.6666666666666666,
              "#ed7953"
             ],
             [
              0.7777777777777778,
              "#fb9f3a"
             ],
             [
              0.8888888888888888,
              "#fdca26"
             ],
             [
              1,
              "#f0f921"
             ]
            ],
            "type": "histogram2dcontour"
           }
          ],
          "mesh3d": [
           {
            "colorbar": {
             "outlinewidth": 0,
             "ticks": ""
            },
            "type": "mesh3d"
           }
          ],
          "parcoords": [
           {
            "line": {
             "colorbar": {
              "outlinewidth": 0,
              "ticks": ""
             }
            },
            "type": "parcoords"
           }
          ],
          "pie": [
           {
            "automargin": true,
            "type": "pie"
           }
          ],
          "scatter": [
           {
            "fillpattern": {
             "fillmode": "overlay",
             "size": 10,
             "solidity": 0.2
            },
            "type": "scatter"
           }
          ],
          "scatter3d": [
           {
            "line": {
             "colorbar": {
              "outlinewidth": 0,
              "ticks": ""
             }
            },
            "marker": {
             "colorbar": {
              "outlinewidth": 0,
              "ticks": ""
             }
            },
            "type": "scatter3d"
           }
          ],
          "scattercarpet": [
           {
            "marker": {
             "colorbar": {
              "outlinewidth": 0,
              "ticks": ""
             }
            },
            "type": "scattercarpet"
           }
          ],
          "scattergeo": [
           {
            "marker": {
             "colorbar": {
              "outlinewidth": 0,
              "ticks": ""
             }
            },
            "type": "scattergeo"
           }
          ],
          "scattergl": [
           {
            "marker": {
             "colorbar": {
              "outlinewidth": 0,
              "ticks": ""
             }
            },
            "type": "scattergl"
           }
          ],
          "scattermap": [
           {
            "marker": {
             "colorbar": {
              "outlinewidth": 0,
              "ticks": ""
             }
            },
            "type": "scattermap"
           }
          ],
          "scattermapbox": [
           {
            "marker": {
             "colorbar": {
              "outlinewidth": 0,
              "ticks": ""
             }
            },
            "type": "scattermapbox"
           }
          ],
          "scatterpolar": [
           {
            "marker": {
             "colorbar": {
              "outlinewidth": 0,
              "ticks": ""
             }
            },
            "type": "scatterpolar"
           }
          ],
          "scatterpolargl": [
           {
            "marker": {
             "colorbar": {
              "outlinewidth": 0,
              "ticks": ""
             }
            },
            "type": "scatterpolargl"
           }
          ],
          "scatterternary": [
           {
            "marker": {
             "colorbar": {
              "outlinewidth": 0,
              "ticks": ""
             }
            },
            "type": "scatterternary"
           }
          ],
          "surface": [
           {
            "colorbar": {
             "outlinewidth": 0,
             "ticks": ""
            },
            "colorscale": [
             [
              0,
              "#0d0887"
             ],
             [
              0.1111111111111111,
              "#46039f"
             ],
             [
              0.2222222222222222,
              "#7201a8"
             ],
             [
              0.3333333333333333,
              "#9c179e"
             ],
             [
              0.4444444444444444,
              "#bd3786"
             ],
             [
              0.5555555555555556,
              "#d8576b"
             ],
             [
              0.6666666666666666,
              "#ed7953"
             ],
             [
              0.7777777777777778,
              "#fb9f3a"
             ],
             [
              0.8888888888888888,
              "#fdca26"
             ],
             [
              1,
              "#f0f921"
             ]
            ],
            "type": "surface"
           }
          ],
          "table": [
           {
            "cells": {
             "fill": {
              "color": "#EBF0F8"
             },
             "line": {
              "color": "white"
             }
            },
            "header": {
             "fill": {
              "color": "#C8D4E3"
             },
             "line": {
              "color": "white"
             }
            },
            "type": "table"
           }
          ]
         },
         "layout": {
          "annotationdefaults": {
           "arrowcolor": "#2a3f5f",
           "arrowhead": 0,
           "arrowwidth": 1
          },
          "autotypenumbers": "strict",
          "coloraxis": {
           "colorbar": {
            "outlinewidth": 0,
            "ticks": ""
           }
          },
          "colorscale": {
           "diverging": [
            [
             0,
             "#8e0152"
            ],
            [
             0.1,
             "#c51b7d"
            ],
            [
             0.2,
             "#de77ae"
            ],
            [
             0.3,
             "#f1b6da"
            ],
            [
             0.4,
             "#fde0ef"
            ],
            [
             0.5,
             "#f7f7f7"
            ],
            [
             0.6,
             "#e6f5d0"
            ],
            [
             0.7,
             "#b8e186"
            ],
            [
             0.8,
             "#7fbc41"
            ],
            [
             0.9,
             "#4d9221"
            ],
            [
             1,
             "#276419"
            ]
           ],
           "sequential": [
            [
             0,
             "#0d0887"
            ],
            [
             0.1111111111111111,
             "#46039f"
            ],
            [
             0.2222222222222222,
             "#7201a8"
            ],
            [
             0.3333333333333333,
             "#9c179e"
            ],
            [
             0.4444444444444444,
             "#bd3786"
            ],
            [
             0.5555555555555556,
             "#d8576b"
            ],
            [
             0.6666666666666666,
             "#ed7953"
            ],
            [
             0.7777777777777778,
             "#fb9f3a"
            ],
            [
             0.8888888888888888,
             "#fdca26"
            ],
            [
             1,
             "#f0f921"
            ]
           ],
           "sequentialminus": [
            [
             0,
             "#0d0887"
            ],
            [
             0.1111111111111111,
             "#46039f"
            ],
            [
             0.2222222222222222,
             "#7201a8"
            ],
            [
             0.3333333333333333,
             "#9c179e"
            ],
            [
             0.4444444444444444,
             "#bd3786"
            ],
            [
             0.5555555555555556,
             "#d8576b"
            ],
            [
             0.6666666666666666,
             "#ed7953"
            ],
            [
             0.7777777777777778,
             "#fb9f3a"
            ],
            [
             0.8888888888888888,
             "#fdca26"
            ],
            [
             1,
             "#f0f921"
            ]
           ]
          },
          "colorway": [
           "#636efa",
           "#EF553B",
           "#00cc96",
           "#ab63fa",
           "#FFA15A",
           "#19d3f3",
           "#FF6692",
           "#B6E880",
           "#FF97FF",
           "#FECB52"
          ],
          "font": {
           "color": "#2a3f5f"
          },
          "geo": {
           "bgcolor": "white",
           "lakecolor": "white",
           "landcolor": "#E5ECF6",
           "showlakes": true,
           "showland": true,
           "subunitcolor": "white"
          },
          "hoverlabel": {
           "align": "left"
          },
          "hovermode": "closest",
          "mapbox": {
           "style": "light"
          },
          "paper_bgcolor": "white",
          "plot_bgcolor": "#E5ECF6",
          "polar": {
           "angularaxis": {
            "gridcolor": "white",
            "linecolor": "white",
            "ticks": ""
           },
           "bgcolor": "#E5ECF6",
           "radialaxis": {
            "gridcolor": "white",
            "linecolor": "white",
            "ticks": ""
           }
          },
          "scene": {
           "xaxis": {
            "backgroundcolor": "#E5ECF6",
            "gridcolor": "white",
            "gridwidth": 2,
            "linecolor": "white",
            "showbackground": true,
            "ticks": "",
            "zerolinecolor": "white"
           },
           "yaxis": {
            "backgroundcolor": "#E5ECF6",
            "gridcolor": "white",
            "gridwidth": 2,
            "linecolor": "white",
            "showbackground": true,
            "ticks": "",
            "zerolinecolor": "white"
           },
           "zaxis": {
            "backgroundcolor": "#E5ECF6",
            "gridcolor": "white",
            "gridwidth": 2,
            "linecolor": "white",
            "showbackground": true,
            "ticks": "",
            "zerolinecolor": "white"
           }
          },
          "shapedefaults": {
           "line": {
            "color": "#2a3f5f"
           }
          },
          "ternary": {
           "aaxis": {
            "gridcolor": "white",
            "linecolor": "white",
            "ticks": ""
           },
           "baxis": {
            "gridcolor": "white",
            "linecolor": "white",
            "ticks": ""
           },
           "bgcolor": "#E5ECF6",
           "caxis": {
            "gridcolor": "white",
            "linecolor": "white",
            "ticks": ""
           }
          },
          "title": {
           "x": 0.05
          },
          "xaxis": {
           "automargin": true,
           "gridcolor": "white",
           "linecolor": "white",
           "ticks": "",
           "title": {
            "standoff": 15
           },
           "zerolinecolor": "white",
           "zerolinewidth": 2
          },
          "yaxis": {
           "automargin": true,
           "gridcolor": "white",
           "linecolor": "white",
           "ticks": "",
           "title": {
            "standoff": 15
           },
           "zerolinecolor": "white",
           "zerolinewidth": 2
          }
         }
        },
        "title": {
         "text": "Dynamic Investment Strategy Dashboard"
        },
        "xaxis": {
         "anchor": "y",
         "domain": [
          0,
          0.45
         ]
        },
        "xaxis2": {
         "anchor": "y2",
         "domain": [
          0.55,
          1
         ]
        },
        "xaxis3": {
         "anchor": "y3",
         "domain": [
          0,
          0.45
         ]
        },
        "xaxis4": {
         "anchor": "y4",
         "domain": [
          0.55,
          1
         ]
        },
        "xaxis5": {
         "anchor": "y5",
         "domain": [
          0,
          0.45
         ]
        },
        "xaxis6": {
         "anchor": "y6",
         "domain": [
          0.55,
          1
         ],
         "title": {
          "text": "Returns (%)"
         }
        },
        "yaxis": {
         "anchor": "x",
         "domain": [
          0.7466666666666667,
          1
         ],
         "title": {
          "text": "Cumulative Return"
         }
        },
        "yaxis2": {
         "anchor": "x2",
         "domain": [
          0.7466666666666667,
          1
         ],
         "title": {
          "text": "Weight"
         }
        },
        "yaxis3": {
         "anchor": "x3",
         "domain": [
          0.37333333333333335,
          0.6266666666666667
         ],
         "title": {
          "text": "Regime"
         }
        },
        "yaxis4": {
         "anchor": "x4",
         "domain": [
          0.37333333333333335,
          0.6266666666666667
         ],
         "title": {
          "text": "Value"
         }
        },
        "yaxis5": {
         "anchor": "x5",
         "domain": [
          0,
          0.25333333333333335
         ],
         "title": {
          "text": "Drawdown (%)"
         }
        },
        "yaxis6": {
         "anchor": "x6",
         "domain": [
          0,
          0.25333333333333335
         ],
         "title": {
          "text": "Frequency"
         }
        }
       }
      }
     },
     "metadata": {},
     "output_type": "display_data"
    },
    {
     "name": "stdout",
     "output_type": "stream",
     "text": [
      "✓ Dashboard created successfully!\n"
     ]
    }
   ],
   "source": [
    "# Create comprehensive dashboard\n",
    "def create_strategy_dashboard(regime_result, static_result=None):\n",
    "    \"\"\"Create comprehensive strategy dashboard\"\"\"\n",
    "    \n",
    "    fig = make_subplots(\n",
    "        rows=3, cols=2,\n",
    "        subplot_titles=[\n",
    "            'Cumulative Returns', 'Portfolio Weights Over Time',\n",
    "            'Regime Transitions', 'Performance Metrics',\n",
    "            'Risk Analysis', 'Return Distribution'\n",
    "        ],\n",
    "        specs=[\n",
    "            [{\"secondary_y\": False}, {\"secondary_y\": False}],\n",
    "            [{\"secondary_y\": False}, {\"secondary_y\": False}],\n",
    "            [{\"secondary_y\": False}, {\"secondary_y\": False}]\n",
    "        ],\n",
    "        vertical_spacing=0.12,\n",
    "        horizontal_spacing=0.1\n",
    "    )\n",
    "    \n",
    "    # Get backtest results\n",
    "    backtest_result = app.backtest_engine.results\n",
    "    \n",
    "    if hasattr(backtest_result, 'portfolio_returns'):\n",
    "        returns = backtest_result.portfolio_returns\n",
    "        cum_returns = (1 + returns).cumprod()\n",
    "        \n",
    "        # 1. Cumulative Returns\n",
    "        fig.add_trace(\n",
    "            go.Scatter(\n",
    "                x=cum_returns.index,\n",
    "                y=cum_returns.values,\n",
    "                mode='lines',\n",
    "                name='Regime Strategy',\n",
    "                line=dict(color='blue', width=2)\n",
    "            ),\n",
    "            row=1, col=1\n",
    "        )\n",
    "        \n",
    "        # 2. Portfolio Weights\n",
    "        if hasattr(backtest_result, 'portfolio_weights'):\n",
    "            weights = backtest_result.portfolio_weights\n",
    "            colors = ['#1f77b4', '#ff7f0e', '#2ca02c']\n",
    "            \n",
    "            for i, asset in enumerate(weights.columns):\n",
    "                fig.add_trace(\n",
    "                    go.Scatter(\n",
    "                        x=weights.index,\n",
    "                        y=weights[asset],\n",
    "                        mode='lines',\n",
    "                        stackgroup='weights',\n",
    "                        name=f'{asset} Weight',\n",
    "                        line=dict(color=colors[i % len(colors)])\n",
    "                    ),\n",
    "                    row=1, col=2\n",
    "                )\n",
    "        \n",
    "        # 3. Regime Transitions\n",
    "        if hasattr(backtest_result, 'predicted_regimes'):\n",
    "            regimes = backtest_result.predicted_regimes\n",
    "            \n",
    "            fig.add_trace(\n",
    "                go.Scatter(\n",
    "                    x=regimes.index,\n",
    "                    y=regimes,\n",
    "                    mode='markers+lines',\n",
    "                    name='Predicted Regimes',\n",
    "                    marker=dict(size=8, color='red')\n",
    "                ),\n",
    "                row=2, col=1\n",
    "            )\n",
    "        \n",
    "        # 4. Performance Metrics (Bar Chart)\n",
    "        metrics = {\n",
    "            'Total Return': regime_result['total_return'] * 100,\n",
    "            'Sharpe Ratio': regime_result['sharpe_ratio'],\n",
    "            'Max Drawdown': regime_result['maximum_drawdown'] * 100\n",
    "        }\n",
    "        \n",
    "        fig.add_trace(\n",
    "            go.Bar(\n",
    "                x=list(metrics.keys()),\n",
    "                y=list(metrics.values()),\n",
    "                name='Performance Metrics',\n",
    "                marker_color=['green', 'blue', 'red']\n",
    "            ),\n",
    "            row=2, col=2\n",
    "        )\n",
    "        \n",
    "        # 5. Risk Analysis - Drawdown\n",
    "        drawdown = (cum_returns / cum_returns.expanding().max()) - 1\n",
    "        \n",
    "        fig.add_trace(\n",
    "            go.Scatter(\n",
    "                x=drawdown.index,\n",
    "                y=drawdown * 100,\n",
    "                mode='lines',\n",
    "                name='Drawdown',\n",
    "                fill='tonexty',\n",
    "                line=dict(color='red')\n",
    "            ),\n",
    "            row=3, col=1\n",
    "        )\n",
    "        \n",
    "        # 6. Return Distribution\n",
    "        fig.add_trace(\n",
    "            go.Histogram(\n",
    "                x=returns * 100,  # Convert to percentage\n",
    "                nbinsx=30,\n",
    "                name='Daily Returns',\n",
    "                marker_color='lightblue'\n",
    "            ),\n",
    "            row=3, col=2\n",
    "        )\n",
    "    \n",
    "    # Update layout\n",
    "    fig.update_layout(\n",
    "        title=\"Dynamic Investment Strategy Dashboard\",\n",
    "        height=1000,\n",
    "        showlegend=True\n",
    "    )\n",
    "    \n",
    "    # Update axes labels\n",
    "    fig.update_yaxes(title_text=\"Cumulative Return\", row=1, col=1)\n",
    "    fig.update_yaxes(title_text=\"Weight\", row=1, col=2)\n",
    "    fig.update_yaxes(title_text=\"Regime\", row=2, col=1)\n",
    "    fig.update_yaxes(title_text=\"Value\", row=2, col=2)\n",
    "    fig.update_yaxes(title_text=\"Drawdown (%)\", row=3, col=1)\n",
    "    fig.update_yaxes(title_text=\"Frequency\", row=3, col=2)\n",
    "    fig.update_xaxes(title_text=\"Returns (%)\", row=3, col=2)\n",
    "    \n",
    "    return fig\n",
    "\n",
    "# Create and display dashboard\n",
    "print(\"Creating interactive dashboard...\")\n",
    "dashboard = create_strategy_dashboard(result)\n",
    "dashboard.show()\n",
    "print(\"✓ Dashboard created successfully!\")"
   ]
  },
  {
   "cell_type": "markdown",
   "metadata": {},
   "source": [
    "## 9. Advanced Example: Custom Regime Definition\n",
    "\n",
    "Let's demonstrate how to customize the regime identification logic for specific market conditions:"
   ]
  },
  {
   "cell_type": "code",
   "execution_count": 10,
   "metadata": {},
   "outputs": [
    {
     "name": "stderr",
     "output_type": "stream",
     "text": [
      "\u001b[32m2025-09-12 18:06:00\u001b[0m | \u001b[1mINFO    \u001b[0m | \u001b[36msrc.regime_strategies.data.data_loader\u001b[0m:\u001b[36mload_economic_indicators\u001b[0m:\u001b[36m73\u001b[0m - \u001b[1mLoading economic indicators from 2020-01-01 to 2023-12-31\u001b[0m\n",
      "\u001b[32m2025-09-12 18:06:00\u001b[0m | \u001b[1mINFO    \u001b[0m | \u001b[36msrc.regime_strategies.data.economic_data\u001b[0m:\u001b[36mget_cpi_data\u001b[0m:\u001b[36m79\u001b[0m - \u001b[1mLoading CPI data from 2020-01-01 to 2023-12-31\u001b[0m\n",
      "\u001b[32m2025-09-12 18:06:00\u001b[0m | \u001b[33m\u001b[1mWARNING \u001b[0m | \u001b[36msrc.regime_strategies.data.economic_data\u001b[0m:\u001b[36m_generate_synthetic_cpi_data\u001b[0m:\u001b[36m265\u001b[0m - \u001b[33m\u001b[1mGenerating synthetic CPI data - for testing only!\u001b[0m\n",
      "\u001b[32m2025-09-12 18:06:00\u001b[0m | \u001b[1mINFO    \u001b[0m | \u001b[36msrc.regime_strategies.data.economic_data\u001b[0m:\u001b[36mget_cli_data\u001b[0m:\u001b[36m140\u001b[0m - \u001b[1mLoading CLI data from 2020-01-01 to 2023-12-31\u001b[0m\n",
      "\u001b[32m2025-09-12 18:06:00\u001b[0m | \u001b[33m\u001b[1mWARNING \u001b[0m | \u001b[36msrc.regime_strategies.data.economic_data\u001b[0m:\u001b[36m_generate_synthetic_cli_data\u001b[0m:\u001b[36m288\u001b[0m - \u001b[33m\u001b[1mGenerating synthetic CLI data - for testing only!\u001b[0m\n",
      "\u001b[32m2025-09-12 18:06:00\u001b[0m | \u001b[1mINFO    \u001b[0m | \u001b[36msrc.regime_strategies.utils.data_utils\u001b[0m:\u001b[36malign_data\u001b[0m:\u001b[36m93\u001b[0m - \u001b[1mAligned 2 dataframes using inner join. Result shape: (48, 1)\u001b[0m\n",
      "\u001b[32m2025-09-12 18:06:00\u001b[0m | \u001b[33m\u001b[1mWARNING \u001b[0m | \u001b[36msrc.regime_strategies.utils.data_utils\u001b[0m:\u001b[36mvalidate_data\u001b[0m:\u001b[36m40\u001b[0m - \u001b[33m\u001b[1mData contains NaN values\u001b[0m\n",
      "\u001b[32m2025-09-12 18:06:00\u001b[0m | \u001b[33m\u001b[1mWARNING \u001b[0m | \u001b[36msrc.regime_strategies.utils.data_utils\u001b[0m:\u001b[36mvalidate_data\u001b[0m:\u001b[36m43\u001b[0m - \u001b[33m\u001b[1mNaN counts by column: {'CPI_quarterly': 3, 'CPI_ma36': 35, 'CPI_signal': 38, 'CLI_change3m': 3, 'CLI_signal': 3}\u001b[0m\n",
      "\u001b[32m2025-09-12 18:06:00\u001b[0m | \u001b[1mINFO    \u001b[0m | \u001b[36msrc.regime_strategies.utils.data_utils\u001b[0m:\u001b[36mvalidate_data\u001b[0m:\u001b[36m50\u001b[0m - \u001b[1mData validation completed. Shape: (48, 7)\u001b[0m\n",
      "\u001b[32m2025-09-12 18:06:00\u001b[0m | \u001b[1mINFO    \u001b[0m | \u001b[36msrc.regime_strategies.data.data_loader\u001b[0m:\u001b[36mload_economic_indicators\u001b[0m:\u001b[36m101\u001b[0m - \u001b[1mLoaded economic indicators. Shape: (48, 7)\u001b[0m\n"
     ]
    },
    {
     "name": "stdout",
     "output_type": "stream",
     "text": [
      "Analyzing regime characteristics...\n",
      "Economic Indicators Analysis:\n",
      "========================================\n",
      "Data Shape: (48, 7)\n",
      "Date Range: 2020-01-31 00:00:00 to 2023-12-31 00:00:00\n",
      "Available Indicators: ['CPI', 'CLI', 'CPI_quarterly', 'CPI_ma36', 'CPI_signal', 'CLI_change3m', 'CLI_signal']\n",
      "\n",
      "Regime Distribution:\n",
      "  Unknown: 38 periods (79.2%)\n",
      "  Slowing: 4 periods (8.3%)\n",
      "  Heating: 3 periods (6.2%)\n",
      "  Stagflation: 2 periods (4.2%)\n",
      "  Growing: 1 periods (2.1%)\n"
     ]
    },
    {
     "data": {
      "application/vnd.plotly.v1+json": {
       "config": {
        "plotlyServerURL": "https://plot.ly"
       },
       "data": [
        {
         "marker": {
          "color": {
           "bdata": "//////////////////////////////////////////////////8AAQMCAwIAAAAC",
           "dtype": "i1"
          },
          "colorscale": [
           [
            0,
            "#440154"
           ],
           [
            0.1111111111111111,
            "#482878"
           ],
           [
            0.2222222222222222,
            "#3e4989"
           ],
           [
            0.3333333333333333,
            "#31688e"
           ],
           [
            0.4444444444444444,
            "#26828e"
           ],
           [
            0.5555555555555556,
            "#1f9e89"
           ],
           [
            0.6666666666666666,
            "#35b779"
           ],
           [
            0.7777777777777778,
            "#6ece58"
           ],
           [
            0.8888888888888888,
            "#b5de2b"
           ],
           [
            1,
            "#fde725"
           ]
          ],
          "size": 8
         },
         "mode": "markers+lines",
         "name": "Market Regimes",
         "type": "scatter",
         "x": [
          "2020-01-31T00:00:00.000000000",
          "2020-02-29T00:00:00.000000000",
          "2020-03-31T00:00:00.000000000",
          "2020-04-30T00:00:00.000000000",
          "2020-05-31T00:00:00.000000000",
          "2020-06-30T00:00:00.000000000",
          "2020-07-31T00:00:00.000000000",
          "2020-08-31T00:00:00.000000000",
          "2020-09-30T00:00:00.000000000",
          "2020-10-31T00:00:00.000000000",
          "2020-11-30T00:00:00.000000000",
          "2020-12-31T00:00:00.000000000",
          "2021-01-31T00:00:00.000000000",
          "2021-02-28T00:00:00.000000000",
          "2021-03-31T00:00:00.000000000",
          "2021-04-30T00:00:00.000000000",
          "2021-05-31T00:00:00.000000000",
          "2021-06-30T00:00:00.000000000",
          "2021-07-31T00:00:00.000000000",
          "2021-08-31T00:00:00.000000000",
          "2021-09-30T00:00:00.000000000",
          "2021-10-31T00:00:00.000000000",
          "2021-11-30T00:00:00.000000000",
          "2021-12-31T00:00:00.000000000",
          "2022-01-31T00:00:00.000000000",
          "2022-02-28T00:00:00.000000000",
          "2022-03-31T00:00:00.000000000",
          "2022-04-30T00:00:00.000000000",
          "2022-05-31T00:00:00.000000000",
          "2022-06-30T00:00:00.000000000",
          "2022-07-31T00:00:00.000000000",
          "2022-08-31T00:00:00.000000000",
          "2022-09-30T00:00:00.000000000",
          "2022-10-31T00:00:00.000000000",
          "2022-11-30T00:00:00.000000000",
          "2022-12-31T00:00:00.000000000",
          "2023-01-31T00:00:00.000000000",
          "2023-02-28T00:00:00.000000000",
          "2023-03-31T00:00:00.000000000",
          "2023-04-30T00:00:00.000000000",
          "2023-05-31T00:00:00.000000000",
          "2023-06-30T00:00:00.000000000",
          "2023-07-31T00:00:00.000000000",
          "2023-08-31T00:00:00.000000000",
          "2023-09-30T00:00:00.000000000",
          "2023-10-31T00:00:00.000000000",
          "2023-11-30T00:00:00.000000000",
          "2023-12-31T00:00:00.000000000"
         ],
         "y": {
          "bdata": "//////////////////////////////////////////////////8AAQMCAwIAAAAC",
          "dtype": "i1"
         }
        }
       ],
       "layout": {
        "template": {
         "data": {
          "bar": [
           {
            "error_x": {
             "color": "#2a3f5f"
            },
            "error_y": {
             "color": "#2a3f5f"
            },
            "marker": {
             "line": {
              "color": "#E5ECF6",
              "width": 0.5
             },
             "pattern": {
              "fillmode": "overlay",
              "size": 10,
              "solidity": 0.2
             }
            },
            "type": "bar"
           }
          ],
          "barpolar": [
           {
            "marker": {
             "line": {
              "color": "#E5ECF6",
              "width": 0.5
             },
             "pattern": {
              "fillmode": "overlay",
              "size": 10,
              "solidity": 0.2
             }
            },
            "type": "barpolar"
           }
          ],
          "carpet": [
           {
            "aaxis": {
             "endlinecolor": "#2a3f5f",
             "gridcolor": "white",
             "linecolor": "white",
             "minorgridcolor": "white",
             "startlinecolor": "#2a3f5f"
            },
            "baxis": {
             "endlinecolor": "#2a3f5f",
             "gridcolor": "white",
             "linecolor": "white",
             "minorgridcolor": "white",
             "startlinecolor": "#2a3f5f"
            },
            "type": "carpet"
           }
          ],
          "choropleth": [
           {
            "colorbar": {
             "outlinewidth": 0,
             "ticks": ""
            },
            "type": "choropleth"
           }
          ],
          "contour": [
           {
            "colorbar": {
             "outlinewidth": 0,
             "ticks": ""
            },
            "colorscale": [
             [
              0,
              "#0d0887"
             ],
             [
              0.1111111111111111,
              "#46039f"
             ],
             [
              0.2222222222222222,
              "#7201a8"
             ],
             [
              0.3333333333333333,
              "#9c179e"
             ],
             [
              0.4444444444444444,
              "#bd3786"
             ],
             [
              0.5555555555555556,
              "#d8576b"
             ],
             [
              0.6666666666666666,
              "#ed7953"
             ],
             [
              0.7777777777777778,
              "#fb9f3a"
             ],
             [
              0.8888888888888888,
              "#fdca26"
             ],
             [
              1,
              "#f0f921"
             ]
            ],
            "type": "contour"
           }
          ],
          "contourcarpet": [
           {
            "colorbar": {
             "outlinewidth": 0,
             "ticks": ""
            },
            "type": "contourcarpet"
           }
          ],
          "heatmap": [
           {
            "colorbar": {
             "outlinewidth": 0,
             "ticks": ""
            },
            "colorscale": [
             [
              0,
              "#0d0887"
             ],
             [
              0.1111111111111111,
              "#46039f"
             ],
             [
              0.2222222222222222,
              "#7201a8"
             ],
             [
              0.3333333333333333,
              "#9c179e"
             ],
             [
              0.4444444444444444,
              "#bd3786"
             ],
             [
              0.5555555555555556,
              "#d8576b"
             ],
             [
              0.6666666666666666,
              "#ed7953"
             ],
             [
              0.7777777777777778,
              "#fb9f3a"
             ],
             [
              0.8888888888888888,
              "#fdca26"
             ],
             [
              1,
              "#f0f921"
             ]
            ],
            "type": "heatmap"
           }
          ],
          "histogram": [
           {
            "marker": {
             "pattern": {
              "fillmode": "overlay",
              "size": 10,
              "solidity": 0.2
             }
            },
            "type": "histogram"
           }
          ],
          "histogram2d": [
           {
            "colorbar": {
             "outlinewidth": 0,
             "ticks": ""
            },
            "colorscale": [
             [
              0,
              "#0d0887"
             ],
             [
              0.1111111111111111,
              "#46039f"
             ],
             [
              0.2222222222222222,
              "#7201a8"
             ],
             [
              0.3333333333333333,
              "#9c179e"
             ],
             [
              0.4444444444444444,
              "#bd3786"
             ],
             [
              0.5555555555555556,
              "#d8576b"
             ],
             [
              0.6666666666666666,
              "#ed7953"
             ],
             [
              0.7777777777777778,
              "#fb9f3a"
             ],
             [
              0.8888888888888888,
              "#fdca26"
             ],
             [
              1,
              "#f0f921"
             ]
            ],
            "type": "histogram2d"
           }
          ],
          "histogram2dcontour": [
           {
            "colorbar": {
             "outlinewidth": 0,
             "ticks": ""
            },
            "colorscale": [
             [
              0,
              "#0d0887"
             ],
             [
              0.1111111111111111,
              "#46039f"
             ],
             [
              0.2222222222222222,
              "#7201a8"
             ],
             [
              0.3333333333333333,
              "#9c179e"
             ],
             [
              0.4444444444444444,
              "#bd3786"
             ],
             [
              0.5555555555555556,
              "#d8576b"
             ],
             [
              0.6666666666666666,
              "#ed7953"
             ],
             [
              0.7777777777777778,
              "#fb9f3a"
             ],
             [
              0.8888888888888888,
              "#fdca26"
             ],
             [
              1,
              "#f0f921"
             ]
            ],
            "type": "histogram2dcontour"
           }
          ],
          "mesh3d": [
           {
            "colorbar": {
             "outlinewidth": 0,
             "ticks": ""
            },
            "type": "mesh3d"
           }
          ],
          "parcoords": [
           {
            "line": {
             "colorbar": {
              "outlinewidth": 0,
              "ticks": ""
             }
            },
            "type": "parcoords"
           }
          ],
          "pie": [
           {
            "automargin": true,
            "type": "pie"
           }
          ],
          "scatter": [
           {
            "fillpattern": {
             "fillmode": "overlay",
             "size": 10,
             "solidity": 0.2
            },
            "type": "scatter"
           }
          ],
          "scatter3d": [
           {
            "line": {
             "colorbar": {
              "outlinewidth": 0,
              "ticks": ""
             }
            },
            "marker": {
             "colorbar": {
              "outlinewidth": 0,
              "ticks": ""
             }
            },
            "type": "scatter3d"
           }
          ],
          "scattercarpet": [
           {
            "marker": {
             "colorbar": {
              "outlinewidth": 0,
              "ticks": ""
             }
            },
            "type": "scattercarpet"
           }
          ],
          "scattergeo": [
           {
            "marker": {
             "colorbar": {
              "outlinewidth": 0,
              "ticks": ""
             }
            },
            "type": "scattergeo"
           }
          ],
          "scattergl": [
           {
            "marker": {
             "colorbar": {
              "outlinewidth": 0,
              "ticks": ""
             }
            },
            "type": "scattergl"
           }
          ],
          "scattermap": [
           {
            "marker": {
             "colorbar": {
              "outlinewidth": 0,
              "ticks": ""
             }
            },
            "type": "scattermap"
           }
          ],
          "scattermapbox": [
           {
            "marker": {
             "colorbar": {
              "outlinewidth": 0,
              "ticks": ""
             }
            },
            "type": "scattermapbox"
           }
          ],
          "scatterpolar": [
           {
            "marker": {
             "colorbar": {
              "outlinewidth": 0,
              "ticks": ""
             }
            },
            "type": "scatterpolar"
           }
          ],
          "scatterpolargl": [
           {
            "marker": {
             "colorbar": {
              "outlinewidth": 0,
              "ticks": ""
             }
            },
            "type": "scatterpolargl"
           }
          ],
          "scatterternary": [
           {
            "marker": {
             "colorbar": {
              "outlinewidth": 0,
              "ticks": ""
             }
            },
            "type": "scatterternary"
           }
          ],
          "surface": [
           {
            "colorbar": {
             "outlinewidth": 0,
             "ticks": ""
            },
            "colorscale": [
             [
              0,
              "#0d0887"
             ],
             [
              0.1111111111111111,
              "#46039f"
             ],
             [
              0.2222222222222222,
              "#7201a8"
             ],
             [
              0.3333333333333333,
              "#9c179e"
             ],
             [
              0.4444444444444444,
              "#bd3786"
             ],
             [
              0.5555555555555556,
              "#d8576b"
             ],
             [
              0.6666666666666666,
              "#ed7953"
             ],
             [
              0.7777777777777778,
              "#fb9f3a"
             ],
             [
              0.8888888888888888,
              "#fdca26"
             ],
             [
              1,
              "#f0f921"
             ]
            ],
            "type": "surface"
           }
          ],
          "table": [
           {
            "cells": {
             "fill": {
              "color": "#EBF0F8"
             },
             "line": {
              "color": "white"
             }
            },
            "header": {
             "fill": {
              "color": "#C8D4E3"
             },
             "line": {
              "color": "white"
             }
            },
            "type": "table"
           }
          ]
         },
         "layout": {
          "annotationdefaults": {
           "arrowcolor": "#2a3f5f",
           "arrowhead": 0,
           "arrowwidth": 1
          },
          "autotypenumbers": "strict",
          "coloraxis": {
           "colorbar": {
            "outlinewidth": 0,
            "ticks": ""
           }
          },
          "colorscale": {
           "diverging": [
            [
             0,
             "#8e0152"
            ],
            [
             0.1,
             "#c51b7d"
            ],
            [
             0.2,
             "#de77ae"
            ],
            [
             0.3,
             "#f1b6da"
            ],
            [
             0.4,
             "#fde0ef"
            ],
            [
             0.5,
             "#f7f7f7"
            ],
            [
             0.6,
             "#e6f5d0"
            ],
            [
             0.7,
             "#b8e186"
            ],
            [
             0.8,
             "#7fbc41"
            ],
            [
             0.9,
             "#4d9221"
            ],
            [
             1,
             "#276419"
            ]
           ],
           "sequential": [
            [
             0,
             "#0d0887"
            ],
            [
             0.1111111111111111,
             "#46039f"
            ],
            [
             0.2222222222222222,
             "#7201a8"
            ],
            [
             0.3333333333333333,
             "#9c179e"
            ],
            [
             0.4444444444444444,
             "#bd3786"
            ],
            [
             0.5555555555555556,
             "#d8576b"
            ],
            [
             0.6666666666666666,
             "#ed7953"
            ],
            [
             0.7777777777777778,
             "#fb9f3a"
            ],
            [
             0.8888888888888888,
             "#fdca26"
            ],
            [
             1,
             "#f0f921"
            ]
           ],
           "sequentialminus": [
            [
             0,
             "#0d0887"
            ],
            [
             0.1111111111111111,
             "#46039f"
            ],
            [
             0.2222222222222222,
             "#7201a8"
            ],
            [
             0.3333333333333333,
             "#9c179e"
            ],
            [
             0.4444444444444444,
             "#bd3786"
            ],
            [
             0.5555555555555556,
             "#d8576b"
            ],
            [
             0.6666666666666666,
             "#ed7953"
            ],
            [
             0.7777777777777778,
             "#fb9f3a"
            ],
            [
             0.8888888888888888,
             "#fdca26"
            ],
            [
             1,
             "#f0f921"
            ]
           ]
          },
          "colorway": [
           "#636efa",
           "#EF553B",
           "#00cc96",
           "#ab63fa",
           "#FFA15A",
           "#19d3f3",
           "#FF6692",
           "#B6E880",
           "#FF97FF",
           "#FECB52"
          ],
          "font": {
           "color": "#2a3f5f"
          },
          "geo": {
           "bgcolor": "white",
           "lakecolor": "white",
           "landcolor": "#E5ECF6",
           "showlakes": true,
           "showland": true,
           "subunitcolor": "white"
          },
          "hoverlabel": {
           "align": "left"
          },
          "hovermode": "closest",
          "mapbox": {
           "style": "light"
          },
          "paper_bgcolor": "white",
          "plot_bgcolor": "#E5ECF6",
          "polar": {
           "angularaxis": {
            "gridcolor": "white",
            "linecolor": "white",
            "ticks": ""
           },
           "bgcolor": "#E5ECF6",
           "radialaxis": {
            "gridcolor": "white",
            "linecolor": "white",
            "ticks": ""
           }
          },
          "scene": {
           "xaxis": {
            "backgroundcolor": "#E5ECF6",
            "gridcolor": "white",
            "gridwidth": 2,
            "linecolor": "white",
            "showbackground": true,
            "ticks": "",
            "zerolinecolor": "white"
           },
           "yaxis": {
            "backgroundcolor": "#E5ECF6",
            "gridcolor": "white",
            "gridwidth": 2,
            "linecolor": "white",
            "showbackground": true,
            "ticks": "",
            "zerolinecolor": "white"
           },
           "zaxis": {
            "backgroundcolor": "#E5ECF6",
            "gridcolor": "white",
            "gridwidth": 2,
            "linecolor": "white",
            "showbackground": true,
            "ticks": "",
            "zerolinecolor": "white"
           }
          },
          "shapedefaults": {
           "line": {
            "color": "#2a3f5f"
           }
          },
          "ternary": {
           "aaxis": {
            "gridcolor": "white",
            "linecolor": "white",
            "ticks": ""
           },
           "baxis": {
            "gridcolor": "white",
            "linecolor": "white",
            "ticks": ""
           },
           "bgcolor": "#E5ECF6",
           "caxis": {
            "gridcolor": "white",
            "linecolor": "white",
            "ticks": ""
           }
          },
          "title": {
           "x": 0.05
          },
          "xaxis": {
           "automargin": true,
           "gridcolor": "white",
           "linecolor": "white",
           "ticks": "",
           "title": {
            "standoff": 15
           },
           "zerolinecolor": "white",
           "zerolinewidth": 2
          },
          "yaxis": {
           "automargin": true,
           "gridcolor": "white",
           "linecolor": "white",
           "ticks": "",
           "title": {
            "standoff": 15
           },
           "zerolinecolor": "white",
           "zerolinewidth": 2
          }
         }
        },
        "title": {
         "text": "Market Regime Evolution (Investment Clock)"
        },
        "xaxis": {
         "title": {
          "text": "Date"
         }
        },
        "yaxis": {
         "tickmode": "array",
         "ticktext": [
          "Slowing",
          "Growing",
          "Heating",
          "Stagflation"
         ],
         "tickvals": [
          0,
          1,
          2,
          3
         ],
         "title": {
          "text": "Regime"
         }
        }
       }
      }
     },
     "metadata": {},
     "output_type": "display_data"
    }
   ],
   "source": [
    "# Example: Custom regime analysis\n",
    "def analyze_regime_characteristics(app_instance):\n",
    "    \"\"\"Analyze the characteristics of identified regimes\"\"\"\n",
    "    \n",
    "    # Load economic data - access through backtest_engine\n",
    "    try:\n",
    "        econ_data = app_instance.backtest_engine.data_loader.load_economic_indicators(\n",
    "            start_date=pd.to_datetime('2020-01-01').date(),\n",
    "            end_date=pd.to_datetime('2023-12-31').date()\n",
    "        )\n",
    "        \n",
    "        print(\"Economic Indicators Analysis:\")\n",
    "        print(\"=\" * 40)\n",
    "        print(f\"Data Shape: {econ_data.shape}\")\n",
    "        print(f\"Date Range: {econ_data.index[0]} to {econ_data.index[-1]}\")\n",
    "        print(f\"Available Indicators: {list(econ_data.columns)}\")\n",
    "        \n",
    "        # Show regime distribution\n",
    "        if 'CPI_signal' in econ_data.columns and 'CLI_signal' in econ_data.columns:\n",
    "            # Create regime labels based on Investment Clock\n",
    "            regimes = []\n",
    "            for idx, row in econ_data.iterrows():\n",
    "                if pd.notna(row['CPI_signal']) and pd.notna(row['CLI_signal']):\n",
    "                    if row['CLI_signal'] > 0 and row['CPI_signal'] > 0:\n",
    "                        regimes.append('Heating')\n",
    "                    elif row['CLI_signal'] > 0 and row['CPI_signal'] <= 0:\n",
    "                        regimes.append('Growing')\n",
    "                    elif row['CLI_signal'] <= 0 and row['CPI_signal'] > 0:\n",
    "                        regimes.append('Stagflation')\n",
    "                    else:\n",
    "                        regimes.append('Slowing')\n",
    "                else:\n",
    "                    regimes.append('Unknown')\n",
    "            \n",
    "            regime_counts = pd.Series(regimes).value_counts()\n",
    "            print(\"\\nRegime Distribution:\")\n",
    "            for regime, count in regime_counts.items():\n",
    "                print(f\"  {regime}: {count} periods ({count/len(regimes)*100:.1f}%)\")\n",
    "                \n",
    "            # Visualize regime evolution\n",
    "            fig = go.Figure()\n",
    "            \n",
    "            regime_numeric = pd.Series(regimes).map({\n",
    "                'Slowing': 0, 'Growing': 1, 'Heating': 2, 'Stagflation': 3, 'Unknown': -1\n",
    "            })\n",
    "            \n",
    "            fig.add_trace(go.Scatter(\n",
    "                x=econ_data.index[:len(regime_numeric)],\n",
    "                y=regime_numeric,\n",
    "                mode='markers+lines',\n",
    "                name='Market Regimes',\n",
    "                marker=dict(size=8, color=regime_numeric, colorscale='Viridis')\n",
    "            ))\n",
    "            \n",
    "            fig.update_layout(\n",
    "                title=\"Market Regime Evolution (Investment Clock)\",\n",
    "                yaxis_title=\"Regime\",\n",
    "                xaxis_title=\"Date\",\n",
    "                yaxis=dict(\n",
    "                    tickmode='array',\n",
    "                    tickvals=[0, 1, 2, 3],\n",
    "                    ticktext=['Slowing', 'Growing', 'Heating', 'Stagflation']\n",
    "                )\n",
    "            )\n",
    "            \n",
    "            fig.show()\n",
    "            \n",
    "    except Exception as e:\n",
    "        print(f\"Error loading economic data: {e}\")\n",
    "        print(\"Using synthetic data - consider setting up FRED API for real data\")\n",
    "\n",
    "# Run regime analysis\n",
    "print(\"Analyzing regime characteristics...\")\n",
    "analyze_regime_characteristics(app)"
   ]
  },
  {
   "cell_type": "markdown",
   "metadata": {},
   "source": [
    "## 10. Export Results and Next Steps\n",
    "\n",
    "Let's save our analysis results and provide guidance for further exploration:"
   ]
  },
  {
   "cell_type": "code",
   "execution_count": 11,
   "metadata": {},
   "outputs": [
    {
     "name": "stdout",
     "output_type": "stream",
     "text": [
      "\n",
      "================================================================================\n",
      "COMPREHENSIVE ANALYSIS SUMMARY\n",
      "================================================================================\n",
      "      Analysis Total Return Sharpe Ratio Max Drawdown\n",
      "Basic Strategy      -14.92%       -5.423      -18.51%\n",
      "    Max Sharpe      -14.52%       -5.635      -19.74%\n",
      "   Risk Parity      -14.92%       -5.423      -18.51%\n",
      "\n",
      "💾 Results saved to: regime_strategy_analysis_20250912_180600.csv\n",
      "\n",
      "================================================================================\n",
      "NEXT STEPS & RECOMMENDATIONS\n",
      "================================================================================\n",
      "\n",
      "🔬 FURTHER ANALYSIS:\n",
      "• Run multi_horizon_analysis.py for comprehensive robustness testing\n",
      "• Experiment with fred_integration_example.py for real economic data\n",
      "• Try different asset combinations and time periods\n",
      "• Test alternative regime identification methods\n",
      "\n",
      "📈 OPTIMIZATION OPPORTUNITIES:\n",
      "• Implement transaction costs and rebalancing constraints  \n",
      "• Add risk budgeting and portfolio constraints\n",
      "• Explore alternative regime forecasting models (XGBoost, Neural Networks)\n",
      "• Test sector-specific regime strategies\n",
      "\n",
      "🔧 TECHNICAL ENHANCEMENTS:\n",
      "• Set up FRED API for real economic data (see fred_integration_example.py)\n",
      "• Implement real-time regime monitoring\n",
      "• Add performance attribution analysis\n",
      "• Create automated reporting dashboard\n",
      "\n",
      "📊 VISUALIZATION OPTIONS:\n",
      "• Run visualization_demo.py for advanced interactive charts\n",
      "• Create custom regime transition analysis\n",
      "• Build rolling performance attribution plots\n",
      "• Generate regime-specific risk decomposition charts\n",
      "\n",
      "⚠️  IMPORTANT CONSIDERATIONS:\n",
      "• Current analysis uses synthetic economic data for demonstration\n",
      "• Consider transaction costs in real-world implementation  \n",
      "• Validate regime identification with domain expertise\n",
      "• Test extensively before live deployment\n",
      "\n",
      "\n",
      "✅ Analysis complete! Thank you for exploring Dynamic Investment Strategies.\n"
     ]
    }
   ],
   "source": [
    "# Create summary of all results\n",
    "summary_data = {\n",
    "    'Analysis': ['Basic Strategy', 'Max Sharpe', 'Risk Parity'],\n",
    "    'Total Return': [\n",
    "        f\"{result['total_return']:.2%}\",\n",
    "        f\"{comparison_results['max_sharpe']['total_return']:.2%}\",\n",
    "        f\"{comparison_results['risk_parity']['total_return']:.2%}\"\n",
    "    ],\n",
    "    'Sharpe Ratio': [\n",
    "        f\"{result['sharpe_ratio']:.3f}\",\n",
    "        f\"{comparison_results['max_sharpe']['sharpe_ratio']:.3f}\",\n",
    "        f\"{comparison_results['risk_parity']['sharpe_ratio']:.3f}\"\n",
    "    ],\n",
    "    'Max Drawdown': [\n",
    "        f\"{result['maximum_drawdown']:.2%}\",\n",
    "        f\"{comparison_results['max_sharpe']['maximum_drawdown']:.2%}\",\n",
    "        f\"{comparison_results['risk_parity']['maximum_drawdown']:.2%}\"\n",
    "    ]\n",
    "}\n",
    "\n",
    "summary_df = pd.DataFrame(summary_data)\n",
    "\n",
    "print(\"\\n\" + \"=\"*80)\n",
    "print(\"COMPREHENSIVE ANALYSIS SUMMARY\")\n",
    "print(\"=\"*80)\n",
    "print(summary_df.to_string(index=False))\n",
    "\n",
    "# Save results to CSV\n",
    "timestamp = datetime.now().strftime(\"%Y%m%d_%H%M%S\")\n",
    "filename = f\"regime_strategy_analysis_{timestamp}.csv\"\n",
    "summary_df.to_csv(filename, index=False)\n",
    "print(f\"\\n💾 Results saved to: {filename}\")\n",
    "\n",
    "print(\"\\n\" + \"=\"*80)\n",
    "print(\"NEXT STEPS & RECOMMENDATIONS\")\n",
    "print(\"=\"*80)\n",
    "print(\"\"\"\n",
    "🔬 FURTHER ANALYSIS:\n",
    "• Run multi_horizon_analysis.py for comprehensive robustness testing\n",
    "• Experiment with fred_integration_example.py for real economic data\n",
    "• Try different asset combinations and time periods\n",
    "• Test alternative regime identification methods\n",
    "\n",
    "📈 OPTIMIZATION OPPORTUNITIES:\n",
    "• Implement transaction costs and rebalancing constraints  \n",
    "• Add risk budgeting and portfolio constraints\n",
    "• Explore alternative regime forecasting models (XGBoost, Neural Networks)\n",
    "• Test sector-specific regime strategies\n",
    "\n",
    "🔧 TECHNICAL ENHANCEMENTS:\n",
    "• Set up FRED API for real economic data (see fred_integration_example.py)\n",
    "• Implement real-time regime monitoring\n",
    "• Add performance attribution analysis\n",
    "• Create automated reporting dashboard\n",
    "\n",
    "📊 VISUALIZATION OPTIONS:\n",
    "• Run visualization_demo.py for advanced interactive charts\n",
    "• Create custom regime transition analysis\n",
    "• Build rolling performance attribution plots\n",
    "• Generate regime-specific risk decomposition charts\n",
    "\n",
    "⚠️  IMPORTANT CONSIDERATIONS:\n",
    "• Current analysis uses synthetic economic data for demonstration\n",
    "• Consider transaction costs in real-world implementation  \n",
    "• Validate regime identification with domain expertise\n",
    "• Test extensively before live deployment\n",
    "\"\"\")\n",
    "\n",
    "print(\"\\n✅ Analysis complete! Thank you for exploring Dynamic Investment Strategies.\")"
   ]
  },
  {
   "cell_type": "markdown",
   "metadata": {},
   "source": [
    "## Conclusion\n",
    "\n",
    "This notebook has demonstrated the complete **Dynamic Investment Strategies with Market Regimes** system, showcasing:\n",
    "\n",
    "### ✅ Key Achievements\n",
    "\n",
    "1. **Regime-Aware Portfolio Optimization**: Dynamic allocation based on predicted market regimes\n",
    "2. **Machine Learning Integration**: Ensemble models for regime forecasting\n",
    "3. **Multiple Optimization Methods**: Max Sharpe and Risk Parity strategies\n",
    "4. **Comprehensive Backtesting**: Full simulation with proper data handling\n",
    "5. **Interactive Visualizations**: Rich charts for analysis and interpretation\n",
    "6. **Multi-Horizon Analysis**: Robustness testing across different time periods\n",
    "7. **Real Data Integration**: FRED API support for authentic economic indicators\n",
    "\n",
    "### 🎯 Core Value Proposition\n",
    "\n",
    "The system addresses key limitations of traditional Modern Portfolio Theory by:\n",
    "- **Dynamic Adaptation**: Portfolios adjust to changing market conditions\n",
    "- **Regime Awareness**: Explicit modeling of different economic environments  \n",
    "- **Forecasting Integration**: Predictive models guide allocation decisions\n",
    "- **Comprehensive Testing**: Rigorous validation across multiple scenarios\n",
    "\n",
    "### 🔬 Methodology Highlights\n",
    "\n",
    "- **Investment Clock Framework**: Economic theory-based regime identification\n",
    "- **Ensemble Machine Learning**: Robust regime forecasting with multiple models\n",
    "- **Point-in-Time Data**: Proper handling to avoid look-ahead bias\n",
    "- **Benchmark Comparisons**: Quantified outperformance vs static strategies\n",
    "\n",
    "### 📈 Performance Insights\n",
    "\n",
    "The analysis reveals the conditions where regime-aware strategies excel and provides tools to:\n",
    "- Identify optimal regime forecasting accuracy thresholds\n",
    "- Compare different optimization approaches\n",
    "- Understand regime transition impacts on performance\n",
    "- Evaluate strategy robustness across market cycles\n",
    "\n",
    "---\n",
    "\n",
    "**Ready to implement regime-aware investment strategies? Start with the example files and gradually customize for your specific use case!**"
   ]
  },
  {
   "cell_type": "code",
   "execution_count": null,
   "metadata": {},
   "outputs": [],
   "source": []
  }
 ],
 "metadata": {
  "kernelspec": {
   "display_name": "Python 3 (ipykernel)",
   "language": "python",
   "name": "python3"
  },
  "language_info": {
   "codemirror_mode": {
    "name": "ipython",
    "version": 3
   },
   "file_extension": ".py",
   "mimetype": "text/x-python",
   "name": "python",
   "nbconvert_exporter": "python",
   "pygments_lexer": "ipython3",
   "version": "3.13.5"
  }
 },
 "nbformat": 4,
 "nbformat_minor": 4
}
